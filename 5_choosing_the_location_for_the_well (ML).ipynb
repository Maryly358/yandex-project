{
 "cells": [
  {
   "cell_type": "markdown",
   "metadata": {},
   "source": [
    "# Выбор локации для скважины"
   ]
  },
  {
   "cell_type": "markdown",
   "metadata": {},
   "source": [
    "Допустим, вы работаете в добывающей компании «ГлавРосГосНефть». Нужно решить, где бурить новую скважину.\n",
    "\n",
    "Вам предоставлены пробы нефти в трёх регионах: в каждом 10 000 месторождений, где измерили качество нефти и объём её запасов. Постройте модель машинного обучения, которая поможет определить регион, где добыча принесёт наибольшую прибыль. Проанализируйте возможную прибыль и риски техникой *Bootstrap.*\n",
    "\n",
    "Шаги для выбора локации:\n",
    "\n",
    "- В избранном регионе ищут месторождения, для каждого определяют значения признаков;\n",
    "- Строят модель и оценивают объём запасов;\n",
    "- Выбирают месторождения с самым высокими оценками значений. Количество месторождений зависит от бюджета компании и стоимости разработки одной скважины;\n",
    "- Прибыль равна суммарной прибыли отобранных месторождений."
   ]
  },
  {
   "cell_type": "markdown",
   "metadata": {},
   "source": [
    "Вам предоставлены пробы нефти в трёх регионах. Характеристики для каждой скважины в регионе уже известны. "
   ]
  },
  {
   "cell_type": "markdown",
   "metadata": {},
   "source": [
    "* id — уникальный идентификатор скважины;\n",
    "\n",
    "* f0, f1, f2 — три признака точек (неважно, что они означают, но сами признаки значимы);\n",
    "* product — объём запасов в скважине (тыс. баррелей)."
   ]
  },
  {
   "cell_type": "markdown",
   "metadata": {},
   "source": [
    "## Загрузка и подготовка данных"
   ]
  },
  {
   "cell_type": "code",
   "execution_count": 1,
   "metadata": {},
   "outputs": [],
   "source": [
    "import pandas as pd\n",
    "import numpy as np"
   ]
  },
  {
   "cell_type": "code",
   "execution_count": 2,
   "metadata": {},
   "outputs": [],
   "source": [
    "from sklearn.model_selection import train_test_split\n",
    "from sklearn.linear_model import LinearRegression\n",
    "from sklearn.preprocessing import StandardScaler\n",
    "from sklearn.metrics import mean_squared_error\n",
    "from scipy import stats as st"
   ]
  },
  {
   "cell_type": "code",
   "execution_count": 3,
   "metadata": {},
   "outputs": [],
   "source": [
    "df_0 = pd.read_csv('/datasets/geo_data_0.csv')\n",
    "df_1 = pd.read_csv('/datasets/geo_data_1.csv')\n",
    "df_2 = pd.read_csv('/datasets/geo_data_2.csv')"
   ]
  },
  {
   "cell_type": "code",
   "execution_count": 4,
   "metadata": {
    "scrolled": true
   },
   "outputs": [
    {
     "name": "stdout",
     "output_type": "stream",
     "text": [
      "<class 'pandas.core.frame.DataFrame'>\n",
      "RangeIndex: 100000 entries, 0 to 99999\n",
      "Data columns (total 5 columns):\n",
      " #   Column   Non-Null Count   Dtype  \n",
      "---  ------   --------------   -----  \n",
      " 0   id       100000 non-null  object \n",
      " 1   f0       100000 non-null  float64\n",
      " 2   f1       100000 non-null  float64\n",
      " 3   f2       100000 non-null  float64\n",
      " 4   product  100000 non-null  float64\n",
      "dtypes: float64(4), object(1)\n",
      "memory usage: 3.8+ MB\n"
     ]
    }
   ],
   "source": [
    "df_0.info()"
   ]
  },
  {
   "cell_type": "code",
   "execution_count": 5,
   "metadata": {},
   "outputs": [
    {
     "data": {
      "text/html": [
       "<div>\n",
       "<style scoped>\n",
       "    .dataframe tbody tr th:only-of-type {\n",
       "        vertical-align: middle;\n",
       "    }\n",
       "\n",
       "    .dataframe tbody tr th {\n",
       "        vertical-align: top;\n",
       "    }\n",
       "\n",
       "    .dataframe thead th {\n",
       "        text-align: right;\n",
       "    }\n",
       "</style>\n",
       "<table border=\"1\" class=\"dataframe\">\n",
       "  <thead>\n",
       "    <tr style=\"text-align: right;\">\n",
       "      <th></th>\n",
       "      <th>id</th>\n",
       "      <th>f0</th>\n",
       "      <th>f1</th>\n",
       "      <th>f2</th>\n",
       "      <th>product</th>\n",
       "    </tr>\n",
       "  </thead>\n",
       "  <tbody>\n",
       "    <tr>\n",
       "      <th>0</th>\n",
       "      <td>txEyH</td>\n",
       "      <td>0.705745</td>\n",
       "      <td>-0.497823</td>\n",
       "      <td>1.221170</td>\n",
       "      <td>105.280062</td>\n",
       "    </tr>\n",
       "    <tr>\n",
       "      <th>1</th>\n",
       "      <td>2acmU</td>\n",
       "      <td>1.334711</td>\n",
       "      <td>-0.340164</td>\n",
       "      <td>4.365080</td>\n",
       "      <td>73.037750</td>\n",
       "    </tr>\n",
       "    <tr>\n",
       "      <th>2</th>\n",
       "      <td>409Wp</td>\n",
       "      <td>1.022732</td>\n",
       "      <td>0.151990</td>\n",
       "      <td>1.419926</td>\n",
       "      <td>85.265647</td>\n",
       "    </tr>\n",
       "    <tr>\n",
       "      <th>3</th>\n",
       "      <td>iJLyR</td>\n",
       "      <td>-0.032172</td>\n",
       "      <td>0.139033</td>\n",
       "      <td>2.978566</td>\n",
       "      <td>168.620776</td>\n",
       "    </tr>\n",
       "    <tr>\n",
       "      <th>4</th>\n",
       "      <td>Xdl7t</td>\n",
       "      <td>1.988431</td>\n",
       "      <td>0.155413</td>\n",
       "      <td>4.751769</td>\n",
       "      <td>154.036647</td>\n",
       "    </tr>\n",
       "  </tbody>\n",
       "</table>\n",
       "</div>"
      ],
      "text/plain": [
       "      id        f0        f1        f2     product\n",
       "0  txEyH  0.705745 -0.497823  1.221170  105.280062\n",
       "1  2acmU  1.334711 -0.340164  4.365080   73.037750\n",
       "2  409Wp  1.022732  0.151990  1.419926   85.265647\n",
       "3  iJLyR -0.032172  0.139033  2.978566  168.620776\n",
       "4  Xdl7t  1.988431  0.155413  4.751769  154.036647"
      ]
     },
     "execution_count": 5,
     "metadata": {},
     "output_type": "execute_result"
    }
   ],
   "source": [
    "df_0.head()"
   ]
  },
  {
   "cell_type": "code",
   "execution_count": 6,
   "metadata": {},
   "outputs": [
    {
     "data": {
      "text/html": [
       "<div>\n",
       "<style scoped>\n",
       "    .dataframe tbody tr th:only-of-type {\n",
       "        vertical-align: middle;\n",
       "    }\n",
       "\n",
       "    .dataframe tbody tr th {\n",
       "        vertical-align: top;\n",
       "    }\n",
       "\n",
       "    .dataframe thead th {\n",
       "        text-align: right;\n",
       "    }\n",
       "</style>\n",
       "<table border=\"1\" class=\"dataframe\">\n",
       "  <thead>\n",
       "    <tr style=\"text-align: right;\">\n",
       "      <th></th>\n",
       "      <th>id</th>\n",
       "      <th>f0</th>\n",
       "      <th>f1</th>\n",
       "      <th>f2</th>\n",
       "      <th>product</th>\n",
       "    </tr>\n",
       "  </thead>\n",
       "  <tbody>\n",
       "    <tr>\n",
       "      <th>0</th>\n",
       "      <td>txEyH</td>\n",
       "      <td>0.705745</td>\n",
       "      <td>-0.497823</td>\n",
       "      <td>1.221170</td>\n",
       "      <td>105.280062</td>\n",
       "    </tr>\n",
       "    <tr>\n",
       "      <th>1</th>\n",
       "      <td>2acmU</td>\n",
       "      <td>1.334711</td>\n",
       "      <td>-0.340164</td>\n",
       "      <td>4.365080</td>\n",
       "      <td>73.037750</td>\n",
       "    </tr>\n",
       "    <tr>\n",
       "      <th>2</th>\n",
       "      <td>409Wp</td>\n",
       "      <td>1.022732</td>\n",
       "      <td>0.151990</td>\n",
       "      <td>1.419926</td>\n",
       "      <td>85.265647</td>\n",
       "    </tr>\n",
       "    <tr>\n",
       "      <th>3</th>\n",
       "      <td>iJLyR</td>\n",
       "      <td>-0.032172</td>\n",
       "      <td>0.139033</td>\n",
       "      <td>2.978566</td>\n",
       "      <td>168.620776</td>\n",
       "    </tr>\n",
       "    <tr>\n",
       "      <th>4</th>\n",
       "      <td>Xdl7t</td>\n",
       "      <td>1.988431</td>\n",
       "      <td>0.155413</td>\n",
       "      <td>4.751769</td>\n",
       "      <td>154.036647</td>\n",
       "    </tr>\n",
       "    <tr>\n",
       "      <th>...</th>\n",
       "      <td>...</td>\n",
       "      <td>...</td>\n",
       "      <td>...</td>\n",
       "      <td>...</td>\n",
       "      <td>...</td>\n",
       "    </tr>\n",
       "    <tr>\n",
       "      <th>99995</th>\n",
       "      <td>DLsed</td>\n",
       "      <td>0.971957</td>\n",
       "      <td>0.370953</td>\n",
       "      <td>6.075346</td>\n",
       "      <td>110.744026</td>\n",
       "    </tr>\n",
       "    <tr>\n",
       "      <th>99996</th>\n",
       "      <td>QKivN</td>\n",
       "      <td>1.392429</td>\n",
       "      <td>-0.382606</td>\n",
       "      <td>1.273912</td>\n",
       "      <td>122.346843</td>\n",
       "    </tr>\n",
       "    <tr>\n",
       "      <th>99997</th>\n",
       "      <td>3rnvd</td>\n",
       "      <td>1.029585</td>\n",
       "      <td>0.018787</td>\n",
       "      <td>-1.348308</td>\n",
       "      <td>64.375443</td>\n",
       "    </tr>\n",
       "    <tr>\n",
       "      <th>99998</th>\n",
       "      <td>7kl59</td>\n",
       "      <td>0.998163</td>\n",
       "      <td>-0.528582</td>\n",
       "      <td>1.583869</td>\n",
       "      <td>74.040764</td>\n",
       "    </tr>\n",
       "    <tr>\n",
       "      <th>99999</th>\n",
       "      <td>1CWhH</td>\n",
       "      <td>1.764754</td>\n",
       "      <td>-0.266417</td>\n",
       "      <td>5.722849</td>\n",
       "      <td>149.633246</td>\n",
       "    </tr>\n",
       "  </tbody>\n",
       "</table>\n",
       "<p>100000 rows × 5 columns</p>\n",
       "</div>"
      ],
      "text/plain": [
       "          id        f0        f1        f2     product\n",
       "0      txEyH  0.705745 -0.497823  1.221170  105.280062\n",
       "1      2acmU  1.334711 -0.340164  4.365080   73.037750\n",
       "2      409Wp  1.022732  0.151990  1.419926   85.265647\n",
       "3      iJLyR -0.032172  0.139033  2.978566  168.620776\n",
       "4      Xdl7t  1.988431  0.155413  4.751769  154.036647\n",
       "...      ...       ...       ...       ...         ...\n",
       "99995  DLsed  0.971957  0.370953  6.075346  110.744026\n",
       "99996  QKivN  1.392429 -0.382606  1.273912  122.346843\n",
       "99997  3rnvd  1.029585  0.018787 -1.348308   64.375443\n",
       "99998  7kl59  0.998163 -0.528582  1.583869   74.040764\n",
       "99999  1CWhH  1.764754 -0.266417  5.722849  149.633246\n",
       "\n",
       "[100000 rows x 5 columns]"
      ]
     },
     "execution_count": 6,
     "metadata": {},
     "output_type": "execute_result"
    }
   ],
   "source": [
    "df_0"
   ]
  },
  {
   "cell_type": "code",
   "execution_count": 7,
   "metadata": {},
   "outputs": [
    {
     "name": "stdout",
     "output_type": "stream",
     "text": [
      "<class 'pandas.core.frame.DataFrame'>\n",
      "RangeIndex: 100000 entries, 0 to 99999\n",
      "Data columns (total 5 columns):\n",
      " #   Column   Non-Null Count   Dtype  \n",
      "---  ------   --------------   -----  \n",
      " 0   id       100000 non-null  object \n",
      " 1   f0       100000 non-null  float64\n",
      " 2   f1       100000 non-null  float64\n",
      " 3   f2       100000 non-null  float64\n",
      " 4   product  100000 non-null  float64\n",
      "dtypes: float64(4), object(1)\n",
      "memory usage: 3.8+ MB\n"
     ]
    }
   ],
   "source": [
    "df_1.info()"
   ]
  },
  {
   "cell_type": "code",
   "execution_count": 8,
   "metadata": {},
   "outputs": [
    {
     "data": {
      "text/html": [
       "<div>\n",
       "<style scoped>\n",
       "    .dataframe tbody tr th:only-of-type {\n",
       "        vertical-align: middle;\n",
       "    }\n",
       "\n",
       "    .dataframe tbody tr th {\n",
       "        vertical-align: top;\n",
       "    }\n",
       "\n",
       "    .dataframe thead th {\n",
       "        text-align: right;\n",
       "    }\n",
       "</style>\n",
       "<table border=\"1\" class=\"dataframe\">\n",
       "  <thead>\n",
       "    <tr style=\"text-align: right;\">\n",
       "      <th></th>\n",
       "      <th>id</th>\n",
       "      <th>f0</th>\n",
       "      <th>f1</th>\n",
       "      <th>f2</th>\n",
       "      <th>product</th>\n",
       "    </tr>\n",
       "  </thead>\n",
       "  <tbody>\n",
       "    <tr>\n",
       "      <th>0</th>\n",
       "      <td>kBEdx</td>\n",
       "      <td>-15.001348</td>\n",
       "      <td>-8.276000</td>\n",
       "      <td>-0.005876</td>\n",
       "      <td>3.179103</td>\n",
       "    </tr>\n",
       "    <tr>\n",
       "      <th>1</th>\n",
       "      <td>62mP7</td>\n",
       "      <td>14.272088</td>\n",
       "      <td>-3.475083</td>\n",
       "      <td>0.999183</td>\n",
       "      <td>26.953261</td>\n",
       "    </tr>\n",
       "    <tr>\n",
       "      <th>2</th>\n",
       "      <td>vyE1P</td>\n",
       "      <td>6.263187</td>\n",
       "      <td>-5.948386</td>\n",
       "      <td>5.001160</td>\n",
       "      <td>134.766305</td>\n",
       "    </tr>\n",
       "    <tr>\n",
       "      <th>3</th>\n",
       "      <td>KcrkZ</td>\n",
       "      <td>-13.081196</td>\n",
       "      <td>-11.506057</td>\n",
       "      <td>4.999415</td>\n",
       "      <td>137.945408</td>\n",
       "    </tr>\n",
       "    <tr>\n",
       "      <th>4</th>\n",
       "      <td>AHL4O</td>\n",
       "      <td>12.702195</td>\n",
       "      <td>-8.147433</td>\n",
       "      <td>5.004363</td>\n",
       "      <td>134.766305</td>\n",
       "    </tr>\n",
       "  </tbody>\n",
       "</table>\n",
       "</div>"
      ],
      "text/plain": [
       "      id         f0         f1        f2     product\n",
       "0  kBEdx -15.001348  -8.276000 -0.005876    3.179103\n",
       "1  62mP7  14.272088  -3.475083  0.999183   26.953261\n",
       "2  vyE1P   6.263187  -5.948386  5.001160  134.766305\n",
       "3  KcrkZ -13.081196 -11.506057  4.999415  137.945408\n",
       "4  AHL4O  12.702195  -8.147433  5.004363  134.766305"
      ]
     },
     "execution_count": 8,
     "metadata": {},
     "output_type": "execute_result"
    }
   ],
   "source": [
    "df_1.head()"
   ]
  },
  {
   "cell_type": "code",
   "execution_count": 9,
   "metadata": {
    "scrolled": true
   },
   "outputs": [
    {
     "name": "stdout",
     "output_type": "stream",
     "text": [
      "<class 'pandas.core.frame.DataFrame'>\n",
      "RangeIndex: 100000 entries, 0 to 99999\n",
      "Data columns (total 5 columns):\n",
      " #   Column   Non-Null Count   Dtype  \n",
      "---  ------   --------------   -----  \n",
      " 0   id       100000 non-null  object \n",
      " 1   f0       100000 non-null  float64\n",
      " 2   f1       100000 non-null  float64\n",
      " 3   f2       100000 non-null  float64\n",
      " 4   product  100000 non-null  float64\n",
      "dtypes: float64(4), object(1)\n",
      "memory usage: 3.8+ MB\n"
     ]
    }
   ],
   "source": [
    "df_2.info()"
   ]
  },
  {
   "cell_type": "code",
   "execution_count": 10,
   "metadata": {
    "scrolled": true
   },
   "outputs": [
    {
     "data": {
      "text/html": [
       "<div>\n",
       "<style scoped>\n",
       "    .dataframe tbody tr th:only-of-type {\n",
       "        vertical-align: middle;\n",
       "    }\n",
       "\n",
       "    .dataframe tbody tr th {\n",
       "        vertical-align: top;\n",
       "    }\n",
       "\n",
       "    .dataframe thead th {\n",
       "        text-align: right;\n",
       "    }\n",
       "</style>\n",
       "<table border=\"1\" class=\"dataframe\">\n",
       "  <thead>\n",
       "    <tr style=\"text-align: right;\">\n",
       "      <th></th>\n",
       "      <th>id</th>\n",
       "      <th>f0</th>\n",
       "      <th>f1</th>\n",
       "      <th>f2</th>\n",
       "      <th>product</th>\n",
       "    </tr>\n",
       "  </thead>\n",
       "  <tbody>\n",
       "    <tr>\n",
       "      <th>0</th>\n",
       "      <td>fwXo0</td>\n",
       "      <td>-1.146987</td>\n",
       "      <td>0.963328</td>\n",
       "      <td>-0.828965</td>\n",
       "      <td>27.758673</td>\n",
       "    </tr>\n",
       "    <tr>\n",
       "      <th>1</th>\n",
       "      <td>WJtFt</td>\n",
       "      <td>0.262778</td>\n",
       "      <td>0.269839</td>\n",
       "      <td>-2.530187</td>\n",
       "      <td>56.069697</td>\n",
       "    </tr>\n",
       "    <tr>\n",
       "      <th>2</th>\n",
       "      <td>ovLUW</td>\n",
       "      <td>0.194587</td>\n",
       "      <td>0.289035</td>\n",
       "      <td>-5.586433</td>\n",
       "      <td>62.871910</td>\n",
       "    </tr>\n",
       "    <tr>\n",
       "      <th>3</th>\n",
       "      <td>q6cA6</td>\n",
       "      <td>2.236060</td>\n",
       "      <td>-0.553760</td>\n",
       "      <td>0.930038</td>\n",
       "      <td>114.572842</td>\n",
       "    </tr>\n",
       "    <tr>\n",
       "      <th>4</th>\n",
       "      <td>WPMUX</td>\n",
       "      <td>-0.515993</td>\n",
       "      <td>1.716266</td>\n",
       "      <td>5.899011</td>\n",
       "      <td>149.600746</td>\n",
       "    </tr>\n",
       "  </tbody>\n",
       "</table>\n",
       "</div>"
      ],
      "text/plain": [
       "      id        f0        f1        f2     product\n",
       "0  fwXo0 -1.146987  0.963328 -0.828965   27.758673\n",
       "1  WJtFt  0.262778  0.269839 -2.530187   56.069697\n",
       "2  ovLUW  0.194587  0.289035 -5.586433   62.871910\n",
       "3  q6cA6  2.236060 -0.553760  0.930038  114.572842\n",
       "4  WPMUX -0.515993  1.716266  5.899011  149.600746"
      ]
     },
     "execution_count": 10,
     "metadata": {},
     "output_type": "execute_result"
    }
   ],
   "source": [
    "df_2.head()"
   ]
  },
  {
   "cell_type": "code",
   "execution_count": 11,
   "metadata": {
    "scrolled": false
   },
   "outputs": [
    {
     "data": {
      "image/png": "[encoded data removed]",
      "text/plain": [
       "<Figure size 432x288 with 4 Axes>"
      ]
     },
     "metadata": {
      "needs_background": "light"
     },
     "output_type": "display_data"
    }
   ],
   "source": [
    "df_0.hist();"
   ]
  },
  {
   "cell_type": "markdown",
   "metadata": {},
   "source": [
    "Признак f2 распределен чуть-чуть иначе, чем f0 и f1, но не критично"
   ]
  },
  {
   "cell_type": "code",
   "execution_count": 12,
   "metadata": {},
   "outputs": [
    {
     "data": {
      "image/png": "[encoded data removed]",
      "text/plain": [
       "<Figure size 432x288 with 4 Axes>"
      ]
     },
     "metadata": {
      "needs_background": "light"
     },
     "output_type": "display_data"
    }
   ],
   "source": [
    "df_1.hist();"
   ]
  },
  {
   "cell_type": "markdown",
   "metadata": {},
   "source": [
    "Здесь уже f2 и product распредлены по-другому, в отличие от остльных"
   ]
  },
  {
   "cell_type": "code",
   "execution_count": 13,
   "metadata": {},
   "outputs": [
    {
     "data": {
      "image/png": "[encoded data removed]",
      "text/plain": [
       "<Figure size 432x288 with 4 Axes>"
      ]
     },
     "metadata": {
      "needs_background": "light"
     },
     "output_type": "display_data"
    }
   ],
   "source": [
    "df_2.hist();"
   ]
  },
  {
   "cell_type": "markdown",
   "metadata": {},
   "source": [
    "Пропусков в стобцах нет - ничего заполнять не нужно."
   ]
  },
  {
   "cell_type": "markdown",
   "metadata": {},
   "source": [
    "В нашем случае столбец ID не несет нам какой-либо важной информации, поэтому удалим его во всех 3 датасетах."
   ]
  },
  {
   "cell_type": "code",
   "execution_count": 14,
   "metadata": {},
   "outputs": [],
   "source": [
    "df_0 = df_0.drop(['id'], axis=1)\n",
    "df_1 = df_1.drop(['id'], axis=1)\n",
    "df_2 = df_2.drop(['id'], axis=1)"
   ]
  },
  {
   "cell_type": "markdown",
   "metadata": {},
   "source": [
    "Рассмотрим наличие или отсутвуие мультиколлинеарности между признаками"
   ]
  },
  {
   "cell_type": "code",
   "execution_count": 15,
   "metadata": {
    "scrolled": true
   },
   "outputs": [
    {
     "data": {
      "text/html": [
       "<div>\n",
       "<style scoped>\n",
       "    .dataframe tbody tr th:only-of-type {\n",
       "        vertical-align: middle;\n",
       "    }\n",
       "\n",
       "    .dataframe tbody tr th {\n",
       "        vertical-align: top;\n",
       "    }\n",
       "\n",
       "    .dataframe thead th {\n",
       "        text-align: right;\n",
       "    }\n",
       "</style>\n",
       "<table border=\"1\" class=\"dataframe\">\n",
       "  <thead>\n",
       "    <tr style=\"text-align: right;\">\n",
       "      <th></th>\n",
       "      <th>f0</th>\n",
       "      <th>f1</th>\n",
       "      <th>f2</th>\n",
       "      <th>product</th>\n",
       "    </tr>\n",
       "  </thead>\n",
       "  <tbody>\n",
       "    <tr>\n",
       "      <th>f0</th>\n",
       "      <td>1.000000</td>\n",
       "      <td>-0.471395</td>\n",
       "      <td>-0.002685</td>\n",
       "      <td>0.128417</td>\n",
       "    </tr>\n",
       "    <tr>\n",
       "      <th>f1</th>\n",
       "      <td>-0.471395</td>\n",
       "      <td>1.000000</td>\n",
       "      <td>0.001413</td>\n",
       "      <td>-0.181143</td>\n",
       "    </tr>\n",
       "    <tr>\n",
       "      <th>f2</th>\n",
       "      <td>-0.002685</td>\n",
       "      <td>0.001413</td>\n",
       "      <td>1.000000</td>\n",
       "      <td>0.486394</td>\n",
       "    </tr>\n",
       "    <tr>\n",
       "      <th>product</th>\n",
       "      <td>0.128417</td>\n",
       "      <td>-0.181143</td>\n",
       "      <td>0.486394</td>\n",
       "      <td>1.000000</td>\n",
       "    </tr>\n",
       "  </tbody>\n",
       "</table>\n",
       "</div>"
      ],
      "text/plain": [
       "               f0        f1        f2   product\n",
       "f0       1.000000 -0.471395 -0.002685  0.128417\n",
       "f1      -0.471395  1.000000  0.001413 -0.181143\n",
       "f2      -0.002685  0.001413  1.000000  0.486394\n",
       "product  0.128417 -0.181143  0.486394  1.000000"
      ]
     },
     "execution_count": 15,
     "metadata": {},
     "output_type": "execute_result"
    }
   ],
   "source": [
    "df_0.corr(method='spearman')"
   ]
  },
  {
   "cell_type": "markdown",
   "metadata": {},
   "source": [
    "Как таковой сильной мультиколлинеарности в первом регионе не вижу."
   ]
  },
  {
   "cell_type": "code",
   "execution_count": 16,
   "metadata": {},
   "outputs": [
    {
     "data": {
      "text/html": [
       "<div>\n",
       "<style scoped>\n",
       "    .dataframe tbody tr th:only-of-type {\n",
       "        vertical-align: middle;\n",
       "    }\n",
       "\n",
       "    .dataframe tbody tr th {\n",
       "        vertical-align: top;\n",
       "    }\n",
       "\n",
       "    .dataframe thead th {\n",
       "        text-align: right;\n",
       "    }\n",
       "</style>\n",
       "<table border=\"1\" class=\"dataframe\">\n",
       "  <thead>\n",
       "    <tr style=\"text-align: right;\">\n",
       "      <th></th>\n",
       "      <th>f0</th>\n",
       "      <th>f1</th>\n",
       "      <th>f2</th>\n",
       "      <th>product</th>\n",
       "    </tr>\n",
       "  </thead>\n",
       "  <tbody>\n",
       "    <tr>\n",
       "      <th>f0</th>\n",
       "      <td>1.000000</td>\n",
       "      <td>0.182248</td>\n",
       "      <td>-0.002000</td>\n",
       "      <td>-0.122869</td>\n",
       "    </tr>\n",
       "    <tr>\n",
       "      <th>f1</th>\n",
       "      <td>0.182248</td>\n",
       "      <td>1.000000</td>\n",
       "      <td>-0.003678</td>\n",
       "      <td>-0.033908</td>\n",
       "    </tr>\n",
       "    <tr>\n",
       "      <th>f2</th>\n",
       "      <td>-0.002000</td>\n",
       "      <td>-0.003678</td>\n",
       "      <td>1.000000</td>\n",
       "      <td>0.975605</td>\n",
       "    </tr>\n",
       "    <tr>\n",
       "      <th>product</th>\n",
       "      <td>-0.122869</td>\n",
       "      <td>-0.033908</td>\n",
       "      <td>0.975605</td>\n",
       "      <td>1.000000</td>\n",
       "    </tr>\n",
       "  </tbody>\n",
       "</table>\n",
       "</div>"
      ],
      "text/plain": [
       "               f0        f1        f2   product\n",
       "f0       1.000000  0.182248 -0.002000 -0.122869\n",
       "f1       0.182248  1.000000 -0.003678 -0.033908\n",
       "f2      -0.002000 -0.003678  1.000000  0.975605\n",
       "product -0.122869 -0.033908  0.975605  1.000000"
      ]
     },
     "execution_count": 16,
     "metadata": {},
     "output_type": "execute_result"
    }
   ],
   "source": [
    "df_1.corr(method='spearman')"
   ]
  },
  {
   "cell_type": "markdown",
   "metadata": {},
   "source": [
    "А вот во втором коэффициент мультиколлинеарности между f2 и product сильный... Возможно, из-за этого их распредление на гистограммах отличается от остальных."
   ]
  },
  {
   "cell_type": "code",
   "execution_count": 17,
   "metadata": {},
   "outputs": [
    {
     "data": {
      "text/html": [
       "<div>\n",
       "<style scoped>\n",
       "    .dataframe tbody tr th:only-of-type {\n",
       "        vertical-align: middle;\n",
       "    }\n",
       "\n",
       "    .dataframe tbody tr th {\n",
       "        vertical-align: top;\n",
       "    }\n",
       "\n",
       "    .dataframe thead th {\n",
       "        text-align: right;\n",
       "    }\n",
       "</style>\n",
       "<table border=\"1\" class=\"dataframe\">\n",
       "  <thead>\n",
       "    <tr style=\"text-align: right;\">\n",
       "      <th></th>\n",
       "      <th>f0</th>\n",
       "      <th>f1</th>\n",
       "      <th>f2</th>\n",
       "      <th>product</th>\n",
       "    </tr>\n",
       "  </thead>\n",
       "  <tbody>\n",
       "    <tr>\n",
       "      <th>f0</th>\n",
       "      <td>1.000000</td>\n",
       "      <td>0.002493</td>\n",
       "      <td>0.000053</td>\n",
       "      <td>-0.002464</td>\n",
       "    </tr>\n",
       "    <tr>\n",
       "      <th>f1</th>\n",
       "      <td>0.002493</td>\n",
       "      <td>1.000000</td>\n",
       "      <td>0.000378</td>\n",
       "      <td>-0.001463</td>\n",
       "    </tr>\n",
       "    <tr>\n",
       "      <th>f2</th>\n",
       "      <td>0.000053</td>\n",
       "      <td>0.000378</td>\n",
       "      <td>1.000000</td>\n",
       "      <td>0.448463</td>\n",
       "    </tr>\n",
       "    <tr>\n",
       "      <th>product</th>\n",
       "      <td>-0.002464</td>\n",
       "      <td>-0.001463</td>\n",
       "      <td>0.448463</td>\n",
       "      <td>1.000000</td>\n",
       "    </tr>\n",
       "  </tbody>\n",
       "</table>\n",
       "</div>"
      ],
      "text/plain": [
       "               f0        f1        f2   product\n",
       "f0       1.000000  0.002493  0.000053 -0.002464\n",
       "f1       0.002493  1.000000  0.000378 -0.001463\n",
       "f2       0.000053  0.000378  1.000000  0.448463\n",
       "product -0.002464 -0.001463  0.448463  1.000000"
      ]
     },
     "execution_count": 17,
     "metadata": {},
     "output_type": "execute_result"
    }
   ],
   "source": [
    "df_2.corr(method='spearman')"
   ]
  },
  {
   "cell_type": "markdown",
   "metadata": {},
   "source": [
    "Здесь все более-менее в порядке"
   ]
  },
  {
   "cell_type": "markdown",
   "metadata": {},
   "source": [
    "<b>Вывод: </b>данные сильной доработки не требовали - пропусков не было, проблем с типом данных тоже. В df_0 и df_1 признак f2 отличается от дугих на гистограмме. Также был удален столбец с id, т.к. он не несет важной нам информации.\n",
    "\n",
    "Была рассмотрена мультиколлинеарность признаков. F2 и product во всех трех случаях имеют более сильную связь, чем оставшиеся признаки. Но во втором регионе этот коэффицент особенно высокий (0,97)."
   ]
  },
  {
   "cell_type": "markdown",
   "metadata": {},
   "source": [
    "## Обучение и проверка модели"
   ]
  },
  {
   "cell_type": "markdown",
   "metadata": {},
   "source": [
    "Разобьем данные на обучающую и валидационную выборки в соотношении 75:25"
   ]
  },
  {
   "cell_type": "code",
   "execution_count": 18,
   "metadata": {},
   "outputs": [],
   "source": [
    "target_0 = df_0['product']\n",
    "features_0 = df_0.drop(['product'],axis=1)\n",
    "\n",
    "target_1 = df_1['product']\n",
    "features_1 = df_1.drop(['product'],axis=1)\n",
    "\n",
    "target_2 = df_2['product']\n",
    "features_2 = df_2.drop(['product'],axis=1)"
   ]
  },
  {
   "cell_type": "code",
   "execution_count": 19,
   "metadata": {},
   "outputs": [],
   "source": [
    "features_train_0, features_valid_0, target_train_0, target_valid_0 = train_test_split(features_0, target_0,\n",
    "                                                                                          test_size=0.25,\n",
    "                                                                                          random_state=12345)\n",
    "features_train_1, features_valid_1, target_train_1, target_valid_1 = train_test_split(features_1, target_1,\n",
    "                                                                                          test_size=0.25,\n",
    "                                                                                          random_state=12345)\n",
    "features_train_2, features_valid_2, target_train_2, target_valid_2 = train_test_split(features_2, target_2,\n",
    "                                                                                          test_size=0.25,\n",
    "                                                                                          random_state=12345)"
   ]
  },
  {
   "cell_type": "code",
   "execution_count": 20,
   "metadata": {},
   "outputs": [
    {
     "name": "stdout",
     "output_type": "stream",
     "text": [
      "(75000, 3)\n",
      "(25000, 3)\n",
      "(75000,)\n",
      "(25000,)\n"
     ]
    }
   ],
   "source": [
    "print(features_train_0.shape)\n",
    "print(features_valid_0.shape)\n",
    "print(target_train_0.shape)\n",
    "print(target_valid_0.shape)"
   ]
  },
  {
   "cell_type": "code",
   "execution_count": 21,
   "metadata": {},
   "outputs": [
    {
     "name": "stdout",
     "output_type": "stream",
     "text": [
      "(75000, 3)\n",
      "(25000, 3)\n",
      "(75000,)\n",
      "(25000,)\n"
     ]
    }
   ],
   "source": [
    "print(features_train_1.shape)\n",
    "print(features_valid_1.shape)\n",
    "print(target_train_1.shape)\n",
    "print(target_valid_1.shape)"
   ]
  },
  {
   "cell_type": "code",
   "execution_count": 22,
   "metadata": {
    "scrolled": true
   },
   "outputs": [
    {
     "name": "stdout",
     "output_type": "stream",
     "text": [
      "(75000, 3)\n",
      "(25000, 3)\n",
      "(75000,)\n",
      "(25000,)\n"
     ]
    }
   ],
   "source": [
    "print(features_train_2.shape)\n",
    "print(features_valid_2.shape)\n",
    "print(target_train_2.shape)\n",
    "print(target_valid_2.shape)"
   ]
  },
  {
   "cell_type": "markdown",
   "metadata": {},
   "source": [
    "Чтобы избежать разного масштаба признаков - стандартизируем их с помощью scaler."
   ]
  },
  {
   "cell_type": "code",
   "execution_count": 23,
   "metadata": {},
   "outputs": [],
   "source": [
    "pd.options.mode.chained_assignment = None #чтоб предупреждение не выскакивало"
   ]
  },
  {
   "cell_type": "code",
   "execution_count": 24,
   "metadata": {},
   "outputs": [],
   "source": [
    "scaler = StandardScaler()\n",
    "scaler.fit(features_train_0)\n",
    "features_train_0 = scaler.transform(features_train_0)\n",
    "features_valid_0 = scaler.transform(features_valid_0)\n",
    "\n",
    "scaler.fit(features_train_1)\n",
    "features_train_1 = scaler.transform(features_train_1)\n",
    "features_valid_1 = scaler.transform(features_valid_1)\n",
    "\n",
    "scaler.fit(features_train_2)\n",
    "features_train_2 = scaler.transform(features_train_2)\n",
    "features_valid_2 = scaler.transform(features_valid_2)"
   ]
  },
  {
   "cell_type": "markdown",
   "metadata": {},
   "source": [
    "Будем использовать линейную регрессию"
   ]
  },
  {
   "cell_type": "code",
   "execution_count": 25,
   "metadata": {},
   "outputs": [],
   "source": [
    "def lin_regr(features_train, features_valid, target_train, target_valid):\n",
    "    model = LinearRegression()\n",
    "    model.fit(features_train, target_train)\n",
    "    prediction_valid = model.predict(features_valid)\n",
    "    \n",
    "    rmse = mean_squared_error(prediction_valid, target_valid) ** 0.5\n",
    "    mean = prediction_valid.mean()\n",
    "    return prediction_valid, rmse, mean"
   ]
  },
  {
   "cell_type": "code",
   "execution_count": 26,
   "metadata": {},
   "outputs": [
    {
     "name": "stdout",
     "output_type": "stream",
     "text": [
      "Для региона 1 средний запас предсказанного сырья = 92.5926 , RMSE = 37.5794\n",
      "\n",
      "Для региона 2 средний запас предсказанного сырья = 68.7285 , RMSE = 0.8931\n",
      "\n",
      "Для региона 3 средний запас предсказанного сырья = 94.965 , RMSE = 40.0297\n"
     ]
    }
   ],
   "source": [
    "pred_0, rmse_0, mean_0 = lin_regr(features_train_0, features_valid_0, target_train_0, target_valid_0)\n",
    "print('Для региона 1 средний запас предсказанного сырья =', round(mean_0, 4), ', RMSE =', round(rmse_0, 4))\n",
    "print()\n",
    "\n",
    "pred_1, rmse_1, mean_1 = lin_regr(features_train_1, features_valid_1, target_train_1, target_valid_1)\n",
    "print('Для региона 2 средний запас предсказанного сырья =', round(mean_1, 4), ', RMSE =', round(rmse_1, 4))\n",
    "print()\n",
    "\n",
    "pred_2, rmse_2, mean_2 = lin_regr(features_train_2, features_valid_2, target_train_2, target_valid_2)\n",
    "print('Для региона 3 средний запас предсказанного сырья =', round(mean_2, 4), ', RMSE =', round(rmse_2, 4))"
   ]
  },
  {
   "cell_type": "markdown",
   "metadata": {},
   "source": [
    "<b>Вывод: </b>наибольший средний запас предсказанного сырья у региона 3 - 94,96. Его RMSE = 40,02 - самое большое значение данной метрики из всех регионов. В идеале она должна быть минимальной, поэтому в данном случае выделяется второй регион."
   ]
  },
  {
   "cell_type": "markdown",
   "metadata": {},
   "source": [
    "## Подготовка к расчёту прибыли"
   ]
  },
  {
   "cell_type": "markdown",
   "metadata": {},
   "source": [
    "### Подготовка к расчету"
   ]
  },
  {
   "cell_type": "code",
   "execution_count": 27,
   "metadata": {},
   "outputs": [],
   "source": [
    "points = 500\n",
    "best_points = 200\n",
    "budget = 10000000000\n",
    "pries_barrel = 450000\n",
    "lesion = 2.5"
   ]
  },
  {
   "cell_type": "code",
   "execution_count": 28,
   "metadata": {},
   "outputs": [
    {
     "name": "stdout",
     "output_type": "stream",
     "text": [
      "Минимальное кол-во сырья региона для разработки = 111.11 тыс.баррелей\n"
     ]
    }
   ],
   "source": [
    "material_min = round(budget / best_points / pries_barrel, 2)\n",
    "print('Минимальное кол-во сырья региона для разработки =', material_min, 'тыс.баррелей')"
   ]
  },
  {
   "cell_type": "markdown",
   "metadata": {},
   "source": [
    "### Расчет прибыли"
   ]
  },
  {
   "cell_type": "markdown",
   "metadata": {},
   "source": [
    "Напишем функцию для расчета прибыли по 200 лучшим точкам"
   ]
  },
  {
   "cell_type": "code",
   "execution_count": 29,
   "metadata": {},
   "outputs": [],
   "source": [
    "def profit_best_points(target_valid, predictions_valid, best_points):\n",
    "    \n",
    "    target = target_valid.reset_index(drop = True)\n",
    "    predictions = pd.Series(predictions_valid, index = target.index)\n",
    "    best_result = target[predictions.sort_values(ascending = False).index][:best_points]\n",
    "    \n",
    "    return (best_result.sum() * pries_barrel - budget) / 1000000000"
   ]
  },
  {
   "cell_type": "code",
   "execution_count": 30,
   "metadata": {},
   "outputs": [],
   "source": [
    "revenue_0 = profit_best_points(target_valid_0, pred_0, best_points)\n",
    "revenue_1 = profit_best_points(target_valid_1, pred_1, best_points)\n",
    "revenue_2 = profit_best_points(target_valid_2, pred_2, best_points)"
   ]
  },
  {
   "cell_type": "code",
   "execution_count": 31,
   "metadata": {},
   "outputs": [
    {
     "name": "stdout",
     "output_type": "stream",
     "text": [
      "Регион 1: прибыль для полученного объема сырья = 3.3208 млрд.руб.\n",
      "\n",
      "Регион 2: прибыль для полученного объема сырья = 2.4151 млрд.руб.\n",
      "\n",
      "Регион 3: прибыль для полученного объема сырья = 2.7103 млрд.руб.\n"
     ]
    }
   ],
   "source": [
    "print('Регион 1: прибыль для полученного объема сырья =', round(revenue_0, 4), 'млрд.руб.')\n",
    "print()\n",
    "print('Регион 2: прибыль для полученного объема сырья =', round(revenue_1, 4), 'млрд.руб.')\n",
    "print()\n",
    "print('Регион 3: прибыль для полученного объема сырья =', round(revenue_2, 4), 'млрд.руб.')"
   ]
  },
  {
   "cell_type": "markdown",
   "metadata": {},
   "source": [
    "## Расчёт прибыли и рисков "
   ]
  },
  {
   "cell_type": "markdown",
   "metadata": {},
   "source": [
    "Применим технику Bootstrap для поиска распредления прибыли. напишем функцию, чтобы сократить код"
   ]
  },
  {
   "cell_type": "code",
   "execution_count": 32,
   "metadata": {},
   "outputs": [],
   "source": [
    "def bootstrap(target, prediction, best_points):\n",
    "    state = np.random.RandomState(12345)\n",
    "    values_bootstrap = []\n",
    "    \n",
    "    for i in range(1000):        \n",
    "        target_subsample = target.reset_index(drop=True).sample(n=points, replace=True, random_state=state)\n",
    "        probs_subsample = prediction[target_subsample.index]\n",
    "        values_bootstrap.append(profit_best_points(target_subsample, probs_subsample, best_points))\n",
    "        \n",
    "    values_bootstrap = pd.Series(values_bootstrap)\n",
    "    mean = values_bootstrap.mean()\n",
    "    \n",
    "    #95%-й доверительный интервал\n",
    "    lower = values_bootstrap.quantile(0.025) \n",
    "    upper = values_bootstrap.quantile(0.975)\n",
    "    \n",
    "    risk =(len(values_bootstrap[values_bootstrap < 0]) / len(values_bootstrap)) * 100  \n",
    "    \n",
    "    return mean, lower, upper, risk"
   ]
  },
  {
   "cell_type": "code",
   "execution_count": 33,
   "metadata": {},
   "outputs": [],
   "source": [
    "mean_0, lower_0, upper_0, risk_0 = bootstrap(target_valid_0, pred_0, best_points)\n",
    "mean_1, lower_1, upper_1, risk_1 = bootstrap(target_valid_1, pred_1, best_points)\n",
    "mean_2, lower_2, upper_2, risk_2 = bootstrap(target_valid_2, pred_2, best_points)"
   ]
  },
  {
   "cell_type": "code",
   "execution_count": 34,
   "metadata": {},
   "outputs": [
    {
     "name": "stdout",
     "output_type": "stream",
     "text": [
      "Регион 1: среднее значение прибыли = 0.3962\n",
      "Регион 1: доверительный интервал находится в промежутке от -0.1112 до 0.9098\n",
      "регион 1: уровень риска = 6.9\n"
     ]
    }
   ],
   "source": [
    "print('Регион 1: среднее значение прибыли =', round(mean_0, 4))\n",
    "print('Регион 1: доверительный интервал находится в промежутке от', round(lower_0, 4), 'до' ,round(upper_0, 4))\n",
    "print('регион 1: уровень риска =', risk_0)"
   ]
  },
  {
   "cell_type": "code",
   "execution_count": 35,
   "metadata": {},
   "outputs": [
    {
     "name": "stdout",
     "output_type": "stream",
     "text": [
      "Регион 2: среднее значение прибыли = 0.456\n",
      "Регион 2: доверительный интервал находится в промежутке от 0.0338 до 0.8523\n",
      "регион 2: уровень риска = 1.5\n"
     ]
    }
   ],
   "source": [
    "print('Регион 2: среднее значение прибыли =', round(mean_1, 4))\n",
    "print('Регион 2: доверительный интервал находится в промежутке от', round(lower_1, 4), 'до' ,round(upper_1, 4))\n",
    "print('регион 2: уровень риска =', risk_1)"
   ]
  },
  {
   "cell_type": "code",
   "execution_count": 36,
   "metadata": {},
   "outputs": [
    {
     "name": "stdout",
     "output_type": "stream",
     "text": [
      "Регион 3: среднее значение прибыли = 0.4044\n",
      "Регион 3: доверительный интервал находится в промежутке от -0.1634 до 0.9504\n",
      "регион 3: уровень риска = 7.6\n"
     ]
    }
   ],
   "source": [
    "print('Регион 3: среднее значение прибыли =', round(mean_2, 4))\n",
    "print('Регион 3: доверительный интервал находится в промежутке от', round(lower_2, 4), 'до' ,round(upper_2, 4))\n",
    "print('регион 3: уровень риска =', risk_2)"
   ]
  },
  {
   "cell_type": "markdown",
   "metadata": {},
   "source": [
    "<b>Вывод: </b>наибольшее среднее значение имеет регион 2. Также этот же регион имеет наименьший уровень риска. Думаю, можно сделать вывод, что наиболее подходящий регион для добывания нефти - регион 2."
   ]
  },
  {
   "cell_type": "markdown",
   "metadata": {},
   "source": [
    "## Вывод"
   ]
  },
  {
   "cell_type": "markdown",
   "metadata": {},
   "source": [
    "Изначальные данные не требовали сильной дороботки. В процессе изучения данных (а именно по построению гистограмм) было замечено, что во втором регионе f2 и product распредлены иным образом, чем f1 и f3. Позже, когда была посчитана мультиколлинеарность, выяснилось, что между этими двумя признаками (все в том же втором регионе) весьма сильная мультиколлинеарность = _0,97_.\n",
    "\n",
    "Далее данные были разбиты на обучающую и валидационную выборки в соотношении 75 к 25. С помощью scaler была произведена стандартизация, чтобы избежать дисбаланса классов.\n",
    "\n",
    "В качестве модели использовалась линейная регрессия, т.к. она наиболее предсказуема. Были предсказны следующие значения: \n",
    "\n",
    "    Для региона 1 средний запас предсказанного сырья = 92.59 , RMSE = 37.57\n",
    "\n",
    "    Для региона 2 средний запас предсказанного сырья = 68.72 , RMSE = 0.89\n",
    "\n",
    "    Для региона 3 средний запас предсказанного сырья = 94.96 , RMSE = 40.02\n",
    "RMSE - метрика, которая показывает среднюю ошибку при прогнозировании. Чем она меньше - тем лучше. Таким образом, мы видим, что максимальное среднее у третьего региона, но при этом же у него самое большое RMSE. А вот у второго региона RMSE = _0.89_. на это стоить обратить внимание.\n",
    "\n",
    "Далее были рассчитаны среднее значение прибыли, доверительный интвервал (то, в каком промежутке может варьироваться наше значение) и риски. Наилучший показатель показал второй регион:\n",
    "\n",
    "    Регион 2: среднее значение прибыли = 0.456\n",
    "    Регион 2: доверительный интервал находится в промежутке от 0.0338 до 0.8523\n",
    "    регион 2: уровень риска = 1.5\n",
    "У него наибольшее среднее значение прибыли и наименьший показатель риска.\n",
    "\n",
    "В связи со всеми вышеописанными выводами, можно сказать, что наилучшим регионом для разработки скважин является <b>регион 2</b>"
   ]
  }
 ],
 "metadata": {
  "ExecuteTimeLog": [
   {
    "duration": 50,
    "start_time": "2023-02-10T06:34:42.535Z"
   },
   {
    "duration": 412,
    "start_time": "2023-02-10T06:34:59.355Z"
   },
   {
    "duration": 3,
    "start_time": "2023-02-10T06:35:04.639Z"
   },
   {
    "duration": 1038,
    "start_time": "2023-02-10T06:35:05.335Z"
   },
   {
    "duration": 25,
    "start_time": "2023-02-10T06:37:03.489Z"
   },
   {
    "duration": 28,
    "start_time": "2023-02-10T06:37:18.594Z"
   },
   {
    "duration": 14,
    "start_time": "2023-02-10T06:37:20.367Z"
   },
   {
    "duration": 14,
    "start_time": "2023-02-10T06:37:56.076Z"
   },
   {
    "duration": 9,
    "start_time": "2023-02-10T06:38:06.763Z"
   },
   {
    "duration": 9,
    "start_time": "2023-02-10T06:38:15.409Z"
   },
   {
    "duration": 10,
    "start_time": "2023-02-10T06:40:19.764Z"
   },
   {
    "duration": 10,
    "start_time": "2023-02-10T06:40:29.230Z"
   },
   {
    "duration": 402,
    "start_time": "2023-02-10T06:55:28.301Z"
   },
   {
    "duration": 344,
    "start_time": "2023-02-10T06:59:35.341Z"
   },
   {
    "duration": 360,
    "start_time": "2023-02-10T06:59:38.908Z"
   },
   {
    "duration": 334,
    "start_time": "2023-02-10T06:59:58.452Z"
   },
   {
    "duration": 337,
    "start_time": "2023-02-10T06:59:59.816Z"
   },
   {
    "duration": 10,
    "start_time": "2023-02-10T07:06:36.061Z"
   },
   {
    "duration": 35,
    "start_time": "2023-02-10T07:07:19.721Z"
   },
   {
    "duration": 540,
    "start_time": "2023-02-10T07:08:14.970Z"
   },
   {
    "duration": 254,
    "start_time": "2023-02-10T07:08:16.011Z"
   },
   {
    "duration": 32,
    "start_time": "2023-02-10T07:08:20.850Z"
   },
   {
    "duration": 4,
    "start_time": "2023-02-10T07:09:24.980Z"
   },
   {
    "duration": 5,
    "start_time": "2023-02-10T07:09:39.593Z"
   },
   {
    "duration": 5,
    "start_time": "2023-02-10T07:09:49.700Z"
   },
   {
    "duration": 3,
    "start_time": "2023-02-10T07:12:44.920Z"
   },
   {
    "duration": 26,
    "start_time": "2023-02-10T07:12:46.131Z"
   },
   {
    "duration": 3,
    "start_time": "2023-02-10T07:16:48.080Z"
   },
   {
    "duration": 10,
    "start_time": "2023-02-10T07:16:48.085Z"
   },
   {
    "duration": 370,
    "start_time": "2023-02-10T07:16:48.104Z"
   },
   {
    "duration": 21,
    "start_time": "2023-02-10T07:16:48.476Z"
   },
   {
    "duration": 8,
    "start_time": "2023-02-10T07:16:48.499Z"
   },
   {
    "duration": 19,
    "start_time": "2023-02-10T07:16:48.509Z"
   },
   {
    "duration": 16,
    "start_time": "2023-02-10T07:16:48.529Z"
   },
   {
    "duration": 9,
    "start_time": "2023-02-10T07:16:48.547Z"
   },
   {
    "duration": 37,
    "start_time": "2023-02-10T07:16:48.557Z"
   },
   {
    "duration": 9,
    "start_time": "2023-02-10T07:16:48.596Z"
   },
   {
    "duration": 346,
    "start_time": "2023-02-10T07:16:48.606Z"
   },
   {
    "duration": 346,
    "start_time": "2023-02-10T07:16:48.955Z"
   },
   {
    "duration": 351,
    "start_time": "2023-02-10T07:16:49.303Z"
   },
   {
    "duration": 10,
    "start_time": "2023-02-10T07:16:49.656Z"
   },
   {
    "duration": 13,
    "start_time": "2023-02-10T07:16:49.667Z"
   },
   {
    "duration": 30,
    "start_time": "2023-02-10T07:16:49.693Z"
   },
   {
    "duration": 10,
    "start_time": "2023-02-10T07:16:49.725Z"
   },
   {
    "duration": 14,
    "start_time": "2023-02-10T07:16:49.737Z"
   },
   {
    "duration": 6,
    "start_time": "2023-02-10T07:16:49.752Z"
   },
   {
    "duration": 5,
    "start_time": "2023-02-10T07:16:49.759Z"
   },
   {
    "duration": 56,
    "start_time": "2023-02-10T07:16:49.765Z"
   },
   {
    "duration": 27,
    "start_time": "2023-02-10T07:17:08.449Z"
   },
   {
    "duration": 29,
    "start_time": "2023-02-10T09:20:34.696Z"
   },
   {
    "duration": 16,
    "start_time": "2023-02-10T09:25:55.672Z"
   },
   {
    "duration": 7,
    "start_time": "2023-02-10T09:27:09.010Z"
   },
   {
    "duration": 10,
    "start_time": "2023-02-10T09:54:19.556Z"
   },
   {
    "duration": 157,
    "start_time": "2023-02-10T09:54:34.671Z"
   },
   {
    "duration": 190,
    "start_time": "2023-02-10T09:54:56.226Z"
   },
   {
    "duration": 10,
    "start_time": "2023-02-10T16:20:33.963Z"
   },
   {
    "duration": 1424,
    "start_time": "2023-02-10T16:20:36.792Z"
   },
   {
    "duration": 316,
    "start_time": "2023-02-10T16:20:38.218Z"
   },
   {
    "duration": 997,
    "start_time": "2023-02-10T16:20:38.536Z"
   },
   {
    "duration": 21,
    "start_time": "2023-02-10T16:20:39.535Z"
   },
   {
    "duration": 13,
    "start_time": "2023-02-10T16:20:39.557Z"
   },
   {
    "duration": 13,
    "start_time": "2023-02-10T16:20:39.571Z"
   },
   {
    "duration": 14,
    "start_time": "2023-02-10T16:20:39.586Z"
   },
   {
    "duration": 43,
    "start_time": "2023-02-10T16:20:39.601Z"
   },
   {
    "duration": 24,
    "start_time": "2023-02-10T16:20:39.647Z"
   },
   {
    "duration": 9,
    "start_time": "2023-02-10T16:20:39.675Z"
   },
   {
    "duration": 392,
    "start_time": "2023-02-10T16:20:39.686Z"
   },
   {
    "duration": 388,
    "start_time": "2023-02-10T16:20:40.080Z"
   },
   {
    "duration": 493,
    "start_time": "2023-02-10T16:20:40.470Z"
   },
   {
    "duration": 11,
    "start_time": "2023-02-10T16:20:40.964Z"
   },
   {
    "duration": 19,
    "start_time": "2023-02-10T16:20:40.977Z"
   },
   {
    "duration": 50,
    "start_time": "2023-02-10T16:20:40.998Z"
   },
   {
    "duration": 7,
    "start_time": "2023-02-10T16:20:41.051Z"
   },
   {
    "duration": 7,
    "start_time": "2023-02-10T16:20:41.059Z"
   },
   {
    "duration": 6,
    "start_time": "2023-02-10T16:20:41.067Z"
   },
   {
    "duration": 4,
    "start_time": "2023-02-10T16:20:41.074Z"
   },
   {
    "duration": 33,
    "start_time": "2023-02-10T16:20:41.080Z"
   },
   {
    "duration": 5,
    "start_time": "2023-02-10T16:20:41.142Z"
   },
   {
    "duration": 191,
    "start_time": "2023-02-10T16:20:41.154Z"
   },
   {
    "duration": 4,
    "start_time": "2023-02-10T16:20:41.347Z"
   },
   {
    "duration": 115,
    "start_time": "2023-02-10T16:25:59.156Z"
   },
   {
    "duration": 9,
    "start_time": "2023-02-10T16:25:59.321Z"
   },
   {
    "duration": 4,
    "start_time": "2023-02-10T16:26:47.979Z"
   },
   {
    "duration": 10,
    "start_time": "2023-02-10T16:27:01.913Z"
   },
   {
    "duration": 11,
    "start_time": "2023-02-10T16:27:06.878Z"
   },
   {
    "duration": 4,
    "start_time": "2023-02-10T16:27:39.353Z"
   },
   {
    "duration": 4,
    "start_time": "2023-02-10T16:27:50.200Z"
   },
   {
    "duration": 3,
    "start_time": "2023-02-10T16:31:44.435Z"
   },
   {
    "duration": 4,
    "start_time": "2023-02-10T16:32:14.567Z"
   },
   {
    "duration": 214,
    "start_time": "2023-02-10T16:34:50.431Z"
   },
   {
    "duration": 172,
    "start_time": "2023-02-10T16:35:45.068Z"
   },
   {
    "duration": 4,
    "start_time": "2023-02-10T16:35:59.325Z"
   },
   {
    "duration": 3,
    "start_time": "2023-02-10T16:36:23.134Z"
   },
   {
    "duration": 3,
    "start_time": "2023-02-10T16:42:22.149Z"
   },
   {
    "duration": 3,
    "start_time": "2023-02-10T16:45:47.130Z"
   },
   {
    "duration": 10,
    "start_time": "2023-02-10T16:45:47.753Z"
   },
   {
    "duration": 10,
    "start_time": "2023-02-10T16:45:59.590Z"
   },
   {
    "duration": 17,
    "start_time": "2023-02-10T16:46:07.082Z"
   },
   {
    "duration": 5,
    "start_time": "2023-02-10T16:46:16.925Z"
   },
   {
    "duration": 18,
    "start_time": "2023-02-10T16:46:17.365Z"
   },
   {
    "duration": 4,
    "start_time": "2023-02-10T16:46:29.183Z"
   },
   {
    "duration": 19,
    "start_time": "2023-02-10T16:46:29.804Z"
   },
   {
    "duration": 4,
    "start_time": "2023-02-10T16:46:40.439Z"
   },
   {
    "duration": 18,
    "start_time": "2023-02-10T16:46:41.200Z"
   },
   {
    "duration": 4,
    "start_time": "2023-02-10T16:46:42.986Z"
   },
   {
    "duration": 6,
    "start_time": "2023-02-10T16:47:18.175Z"
   },
   {
    "duration": 18,
    "start_time": "2023-02-10T16:47:50.280Z"
   },
   {
    "duration": 5,
    "start_time": "2023-02-10T16:47:50.655Z"
   },
   {
    "duration": 3,
    "start_time": "2023-02-10T16:59:53.209Z"
   },
   {
    "duration": 74,
    "start_time": "2023-02-10T17:03:34.259Z"
   },
   {
    "duration": 5,
    "start_time": "2023-02-10T17:03:40.774Z"
   },
   {
    "duration": 5,
    "start_time": "2023-02-10T17:04:19.982Z"
   },
   {
    "duration": 6,
    "start_time": "2023-02-10T17:04:22.653Z"
   },
   {
    "duration": 1073,
    "start_time": "2023-02-10T17:04:23.204Z"
   },
   {
    "duration": 5,
    "start_time": "2023-02-10T17:04:59.960Z"
   },
   {
    "duration": 3079,
    "start_time": "2023-02-10T17:05:00.474Z"
   },
   {
    "duration": 3128,
    "start_time": "2023-02-10T17:05:18.233Z"
   },
   {
    "duration": 4,
    "start_time": "2023-02-10T17:06:23.669Z"
   },
   {
    "duration": 1050,
    "start_time": "2023-02-10T17:06:43.461Z"
   },
   {
    "duration": 5,
    "start_time": "2023-02-10T17:06:55.343Z"
   },
   {
    "duration": 4,
    "start_time": "2023-02-10T17:07:07.606Z"
   },
   {
    "duration": 4,
    "start_time": "2023-02-10T17:07:22.149Z"
   },
   {
    "duration": 4,
    "start_time": "2023-02-10T17:07:25.382Z"
   },
   {
    "duration": 5,
    "start_time": "2023-02-10T17:07:49.727Z"
   },
   {
    "duration": 5,
    "start_time": "2023-02-10T17:08:18.435Z"
   },
   {
    "duration": 5,
    "start_time": "2023-02-10T17:08:50.878Z"
   },
   {
    "duration": 5,
    "start_time": "2023-02-10T17:08:51.262Z"
   },
   {
    "duration": 3331,
    "start_time": "2023-02-10T17:10:37.346Z"
   },
   {
    "duration": 142,
    "start_time": "2023-02-10T17:10:58.702Z"
   },
   {
    "duration": 73,
    "start_time": "2023-02-10T17:12:50.326Z"
   },
   {
    "duration": 70,
    "start_time": "2023-02-10T17:12:59.376Z"
   },
   {
    "duration": 72,
    "start_time": "2023-02-10T17:12:59.772Z"
   },
   {
    "duration": 4,
    "start_time": "2023-02-10T17:31:00.056Z"
   },
   {
    "duration": 69,
    "start_time": "2023-02-10T17:31:15.402Z"
   },
   {
    "duration": 6,
    "start_time": "2023-02-10T17:31:19.184Z"
   },
   {
    "duration": 70,
    "start_time": "2023-02-10T17:32:08.273Z"
   },
   {
    "duration": 4,
    "start_time": "2023-02-10T17:32:22.964Z"
   },
   {
    "duration": 6,
    "start_time": "2023-02-10T17:32:22.970Z"
   },
   {
    "duration": 383,
    "start_time": "2023-02-10T17:32:22.978Z"
   },
   {
    "duration": 16,
    "start_time": "2023-02-10T17:32:23.363Z"
   },
   {
    "duration": 10,
    "start_time": "2023-02-10T17:32:23.381Z"
   },
   {
    "duration": 16,
    "start_time": "2023-02-10T17:32:23.393Z"
   },
   {
    "duration": 48,
    "start_time": "2023-02-10T17:32:23.410Z"
   },
   {
    "duration": 10,
    "start_time": "2023-02-10T17:32:23.460Z"
   },
   {
    "duration": 58,
    "start_time": "2023-02-10T17:32:23.473Z"
   },
   {
    "duration": 16,
    "start_time": "2023-02-10T17:32:23.533Z"
   },
   {
    "duration": 417,
    "start_time": "2023-02-10T17:32:23.550Z"
   },
   {
    "duration": 359,
    "start_time": "2023-02-10T17:32:23.969Z"
   },
   {
    "duration": 355,
    "start_time": "2023-02-10T17:32:24.330Z"
   },
   {
    "duration": 10,
    "start_time": "2023-02-10T17:32:24.687Z"
   },
   {
    "duration": 85,
    "start_time": "2023-02-10T17:32:24.699Z"
   },
   {
    "duration": 74,
    "start_time": "2023-02-10T17:32:24.785Z"
   },
   {
    "duration": 68,
    "start_time": "2023-02-10T17:32:24.860Z"
   },
   {
    "duration": 8,
    "start_time": "2023-02-10T17:32:24.940Z"
   },
   {
    "duration": 31,
    "start_time": "2023-02-10T17:32:24.950Z"
   },
   {
    "duration": 4,
    "start_time": "2023-02-10T17:32:24.982Z"
   },
   {
    "duration": 8,
    "start_time": "2023-02-10T17:32:24.987Z"
   },
   {
    "duration": 5,
    "start_time": "2023-02-10T17:32:24.997Z"
   },
   {
    "duration": 36,
    "start_time": "2023-02-10T17:32:25.004Z"
   },
   {
    "duration": 30,
    "start_time": "2023-02-10T17:32:25.043Z"
   },
   {
    "duration": 4,
    "start_time": "2023-02-10T17:32:25.075Z"
   },
   {
    "duration": 259,
    "start_time": "2023-02-10T17:32:25.081Z"
   },
   {
    "duration": 97,
    "start_time": "2023-02-10T17:32:25.343Z"
   },
   {
    "duration": 4,
    "start_time": "2023-02-10T17:32:25.442Z"
   },
   {
    "duration": 5,
    "start_time": "2023-02-10T17:32:25.447Z"
   },
   {
    "duration": 21,
    "start_time": "2023-02-10T17:32:25.454Z"
   },
   {
    "duration": 6,
    "start_time": "2023-02-10T17:32:25.477Z"
   },
   {
    "duration": 7,
    "start_time": "2023-02-10T17:32:25.485Z"
   },
   {
    "duration": 3133,
    "start_time": "2023-02-10T17:32:25.494Z"
   },
   {
    "duration": 11,
    "start_time": "2023-02-10T17:32:28.628Z"
   },
   {
    "duration": 7,
    "start_time": "2023-02-10T17:32:28.641Z"
   },
   {
    "duration": 8,
    "start_time": "2023-02-10T17:32:28.649Z"
   },
   {
    "duration": 2,
    "start_time": "2023-02-10T17:33:44.985Z"
   },
   {
    "duration": 75,
    "start_time": "2023-02-10T17:33:44.990Z"
   },
   {
    "duration": 432,
    "start_time": "2023-02-10T17:33:45.067Z"
   },
   {
    "duration": 16,
    "start_time": "2023-02-10T17:33:45.500Z"
   },
   {
    "duration": 27,
    "start_time": "2023-02-10T17:33:45.518Z"
   },
   {
    "duration": 16,
    "start_time": "2023-02-10T17:33:45.546Z"
   },
   {
    "duration": 17,
    "start_time": "2023-02-10T17:33:45.564Z"
   },
   {
    "duration": 10,
    "start_time": "2023-02-10T17:33:45.582Z"
   },
   {
    "duration": 52,
    "start_time": "2023-02-10T17:33:45.593Z"
   },
   {
    "duration": 10,
    "start_time": "2023-02-10T17:33:45.646Z"
   },
   {
    "duration": 362,
    "start_time": "2023-02-10T17:33:45.658Z"
   },
   {
    "duration": 512,
    "start_time": "2023-02-10T17:33:46.021Z"
   },
   {
    "duration": 383,
    "start_time": "2023-02-10T17:33:46.535Z"
   },
   {
    "duration": 12,
    "start_time": "2023-02-10T17:33:46.920Z"
   },
   {
    "duration": 78,
    "start_time": "2023-02-10T17:33:46.940Z"
   },
   {
    "duration": 76,
    "start_time": "2023-02-10T17:33:47.020Z"
   },
   {
    "duration": 88,
    "start_time": "2023-02-10T17:33:47.098Z"
   },
   {
    "duration": 7,
    "start_time": "2023-02-10T17:33:47.188Z"
   },
   {
    "duration": 27,
    "start_time": "2023-02-10T17:33:47.197Z"
   },
   {
    "duration": 16,
    "start_time": "2023-02-10T17:33:47.226Z"
   },
   {
    "duration": 7,
    "start_time": "2023-02-10T17:33:47.243Z"
   },
   {
    "duration": 7,
    "start_time": "2023-02-10T17:33:47.251Z"
   },
   {
    "duration": 5,
    "start_time": "2023-02-10T17:33:47.260Z"
   },
   {
    "duration": 30,
    "start_time": "2023-02-10T17:33:47.266Z"
   },
   {
    "duration": 3,
    "start_time": "2023-02-10T17:33:47.298Z"
   },
   {
    "duration": 241,
    "start_time": "2023-02-10T17:33:47.303Z"
   },
   {
    "duration": 94,
    "start_time": "2023-02-10T17:33:47.546Z"
   },
   {
    "duration": 7,
    "start_time": "2023-02-10T17:33:47.643Z"
   },
   {
    "duration": 13,
    "start_time": "2023-02-10T17:33:47.656Z"
   },
   {
    "duration": 95,
    "start_time": "2023-02-10T17:33:47.671Z"
   },
   {
    "duration": 6,
    "start_time": "2023-02-10T17:33:47.767Z"
   },
   {
    "duration": 7,
    "start_time": "2023-02-10T17:33:47.774Z"
   },
   {
    "duration": 3363,
    "start_time": "2023-02-10T17:33:47.783Z"
   },
   {
    "duration": 5,
    "start_time": "2023-02-10T17:33:51.148Z"
   },
   {
    "duration": 13,
    "start_time": "2023-02-10T17:33:51.155Z"
   },
   {
    "duration": 7,
    "start_time": "2023-02-10T17:33:51.170Z"
   },
   {
    "duration": 410,
    "start_time": "2023-02-10T21:21:09.569Z"
   },
   {
    "duration": 2441,
    "start_time": "2023-02-10T21:21:09.981Z"
   },
   {
    "duration": 423,
    "start_time": "2023-02-10T21:21:12.424Z"
   },
   {
    "duration": 17,
    "start_time": "2023-02-10T21:21:12.849Z"
   },
   {
    "duration": 16,
    "start_time": "2023-02-10T21:21:12.868Z"
   },
   {
    "duration": 13,
    "start_time": "2023-02-10T21:21:12.886Z"
   },
   {
    "duration": 47,
    "start_time": "2023-02-10T21:21:12.901Z"
   },
   {
    "duration": 10,
    "start_time": "2023-02-10T21:21:12.950Z"
   },
   {
    "duration": 23,
    "start_time": "2023-02-10T21:21:12.962Z"
   },
   {
    "duration": 9,
    "start_time": "2023-02-10T21:21:12.988Z"
   },
   {
    "duration": 645,
    "start_time": "2023-02-10T21:21:12.998Z"
   },
   {
    "duration": 397,
    "start_time": "2023-02-10T21:21:13.645Z"
   },
   {
    "duration": 374,
    "start_time": "2023-02-10T21:21:14.044Z"
   },
   {
    "duration": 20,
    "start_time": "2023-02-10T21:21:14.420Z"
   },
   {
    "duration": 84,
    "start_time": "2023-02-10T21:21:14.442Z"
   },
   {
    "duration": 75,
    "start_time": "2023-02-10T21:21:14.528Z"
   },
   {
    "duration": 85,
    "start_time": "2023-02-10T21:21:14.605Z"
   },
   {
    "duration": 13,
    "start_time": "2023-02-10T21:21:14.692Z"
   },
   {
    "duration": 155,
    "start_time": "2023-02-10T21:21:14.707Z"
   },
   {
    "duration": 5,
    "start_time": "2023-02-10T21:21:14.864Z"
   },
   {
    "duration": 9,
    "start_time": "2023-02-10T21:21:14.871Z"
   },
   {
    "duration": 7,
    "start_time": "2023-02-10T21:21:14.882Z"
   },
   {
    "duration": 3,
    "start_time": "2023-02-10T21:21:14.891Z"
   },
   {
    "duration": 56,
    "start_time": "2023-02-10T21:21:14.896Z"
   },
   {
    "duration": 4,
    "start_time": "2023-02-10T21:21:14.954Z"
   },
   {
    "duration": 94,
    "start_time": "2023-02-10T21:21:14.960Z"
   },
   {
    "duration": 11,
    "start_time": "2023-02-10T21:21:15.141Z"
   },
   {
    "duration": 90,
    "start_time": "2023-02-10T21:21:15.157Z"
   },
   {
    "duration": 7,
    "start_time": "2023-02-10T21:21:15.249Z"
   },
   {
    "duration": 25,
    "start_time": "2023-02-10T21:21:15.258Z"
   },
   {
    "duration": 6,
    "start_time": "2023-02-10T21:21:15.284Z"
   },
   {
    "duration": 10,
    "start_time": "2023-02-10T21:21:15.292Z"
   },
   {
    "duration": 3320,
    "start_time": "2023-02-10T21:21:15.304Z"
   },
   {
    "duration": 5,
    "start_time": "2023-02-10T21:21:18.626Z"
   },
   {
    "duration": 5,
    "start_time": "2023-02-10T21:21:18.640Z"
   },
   {
    "duration": 9,
    "start_time": "2023-02-10T21:21:18.647Z"
   }
  ],
  "kernelspec": {
   "display_name": "Python 3 (ipykernel)",
   "language": "python",
   "name": "python3"
  },
  "language_info": {
   "codemirror_mode": {
    "name": "ipython",
    "version": 3
   },
   "file_extension": ".py",
   "mimetype": "text/x-python",
   "name": "python",
   "nbconvert_exporter": "python",
   "pygments_lexer": "ipython3",
   "version": "3.10.9"
  },
  "toc": {
   "base_numbering": 1,
   "nav_menu": {},
   "number_sections": true,
   "sideBar": true,
   "skip_h1_title": true,
   "title_cell": "Table of Contents",
   "title_sidebar": "Contents",
   "toc_cell": false,
   "toc_position": {},
   "toc_section_display": true,
   "toc_window_display": false
  }
 },
 "nbformat": 4,
 "nbformat_minor": 2
}
