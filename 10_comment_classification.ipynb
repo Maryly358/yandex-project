{
 "cells": [
  {
   "cell_type": "markdown",
   "metadata": {
    "toc": true
   },
   "source": [
    "<h1>Содержание<span class=\"tocSkip\"></span></h1>\n",
    "<div class=\"toc\"><ul class=\"toc-item\"><li><span><a href=\"#Подготовка\" data-toc-modified-id=\"Подготовка-1\"><span class=\"toc-item-num\">1&nbsp;&nbsp;</span>Подготовка</a></span></li><li><span><a href=\"#Обучение\" data-toc-modified-id=\"Обучение-2\"><span class=\"toc-item-num\">2&nbsp;&nbsp;</span>Обучение</a></span></li><li><span><a href=\"#Выводы\" data-toc-modified-id=\"Выводы-3\"><span class=\"toc-item-num\">3&nbsp;&nbsp;</span>Выводы</a></span></li><li><span><a href=\"#Чек-лист-проверки\" data-toc-modified-id=\"Чек-лист-проверки-4\"><span class=\"toc-item-num\">4&nbsp;&nbsp;</span>Чек-лист проверки</a></span></li></ul></div>"
   ]
  },
  {
   "cell_type": "markdown",
   "metadata": {},
   "source": [
    "# Проект для «Викишоп»"
   ]
  },
  {
   "cell_type": "markdown",
   "metadata": {},
   "source": [
    "Интернет-магазин «Викишоп» запускает новый сервис. Теперь пользователи могут редактировать и дополнять описания товаров, как в вики-сообществах. То есть клиенты предлагают свои правки и комментируют изменения других. Магазину нужен инструмент, который будет искать токсичные комментарии и отправлять их на модерацию. \n",
    "\n",
    "Обучите модель классифицировать комментарии на позитивные и негативные. В вашем распоряжении набор данных с разметкой о токсичности правок.\n",
    "\n",
    "Постройте модель со значением метрики качества *F1* не меньше 0.75. \n",
    "\n",
    "\n",
    "**Описание данных**\n",
    "\n",
    "Данные находятся в файле `toxic_comments.csv`. Столбец *text* в нём содержит текст комментария, а *toxic* — целевой признак."
   ]
  },
  {
   "cell_type": "markdown",
   "metadata": {},
   "source": [
    "## Подготовка"
   ]
  },
  {
   "cell_type": "code",
   "execution_count": 1,
   "metadata": {},
   "outputs": [],
   "source": [
    "import nltk\n",
    "from nltk.stem import WordNetLemmatizer\n",
    "import numpy as np\n",
    "import pandas as pd\n",
    "import re \n",
    "import spacy\n",
    "from tqdm.notebook import tqdm\n",
    "import warnings"
   ]
  },
  {
   "cell_type": "code",
   "execution_count": 2,
   "metadata": {},
   "outputs": [],
   "source": [
    "from sklearn.model_selection import GridSearchCV, train_test_split\n",
    "from sklearn.feature_extraction.text import CountVectorizer, TfidfVectorizer\n",
    "from sklearn.linear_model import LogisticRegression\n",
    "from sklearn.metrics import f1_score"
   ]
  },
  {
   "cell_type": "code",
   "execution_count": 3,
   "metadata": {},
   "outputs": [],
   "source": [
    "from catboost import CatBoostClassifier\n",
    "from lightgbm import LGBMClassifier"
   ]
  },
  {
   "cell_type": "code",
   "execution_count": 4,
   "metadata": {},
   "outputs": [],
   "source": [
    "df = pd.read_csv('datasets/toxic_comments.csv', index_col=0)"
   ]
  },
  {
   "cell_type": "code",
   "execution_count": 5,
   "metadata": {},
   "outputs": [
    {
     "name": "stdout",
     "output_type": "stream",
     "text": [
      "<class 'pandas.core.frame.DataFrame'>\n",
      "Int64Index: 159292 entries, 0 to 159450\n",
      "Data columns (total 2 columns):\n",
      " #   Column  Non-Null Count   Dtype \n",
      "---  ------  --------------   ----- \n",
      " 0   text    159292 non-null  object\n",
      " 1   toxic   159292 non-null  int64 \n",
      "dtypes: int64(1), object(1)\n",
      "memory usage: 3.6+ MB\n"
     ]
    }
   ],
   "source": [
    "df.info()"
   ]
  },
  {
   "cell_type": "code",
   "execution_count": 6,
   "metadata": {},
   "outputs": [
    {
     "data": {
      "text/html": [
       "<div>\n",
       "<style scoped>\n",
       "    .dataframe tbody tr th:only-of-type {\n",
       "        vertical-align: middle;\n",
       "    }\n",
       "\n",
       "    .dataframe tbody tr th {\n",
       "        vertical-align: top;\n",
       "    }\n",
       "\n",
       "    .dataframe thead th {\n",
       "        text-align: right;\n",
       "    }\n",
       "</style>\n",
       "<table border=\"1\" class=\"dataframe\">\n",
       "  <thead>\n",
       "    <tr style=\"text-align: right;\">\n",
       "      <th></th>\n",
       "      <th>text</th>\n",
       "      <th>toxic</th>\n",
       "    </tr>\n",
       "  </thead>\n",
       "  <tbody>\n",
       "    <tr>\n",
       "      <th>0</th>\n",
       "      <td>Explanation\\nWhy the edits made under my usern...</td>\n",
       "      <td>0</td>\n",
       "    </tr>\n",
       "    <tr>\n",
       "      <th>1</th>\n",
       "      <td>D'aww! He matches this background colour I'm s...</td>\n",
       "      <td>0</td>\n",
       "    </tr>\n",
       "    <tr>\n",
       "      <th>2</th>\n",
       "      <td>Hey man, I'm really not trying to edit war. It...</td>\n",
       "      <td>0</td>\n",
       "    </tr>\n",
       "    <tr>\n",
       "      <th>3</th>\n",
       "      <td>\"\\nMore\\nI can't make any real suggestions on ...</td>\n",
       "      <td>0</td>\n",
       "    </tr>\n",
       "    <tr>\n",
       "      <th>4</th>\n",
       "      <td>You, sir, are my hero. Any chance you remember...</td>\n",
       "      <td>0</td>\n",
       "    </tr>\n",
       "  </tbody>\n",
       "</table>\n",
       "</div>"
      ],
      "text/plain": [
       "                                                text  toxic\n",
       "0  Explanation\\nWhy the edits made under my usern...      0\n",
       "1  D'aww! He matches this background colour I'm s...      0\n",
       "2  Hey man, I'm really not trying to edit war. It...      0\n",
       "3  \"\\nMore\\nI can't make any real suggestions on ...      0\n",
       "4  You, sir, are my hero. Any chance you remember...      0"
      ]
     },
     "execution_count": 6,
     "metadata": {},
     "output_type": "execute_result"
    }
   ],
   "source": [
    "df.head()"
   ]
  },
  {
   "cell_type": "code",
   "execution_count": 7,
   "metadata": {},
   "outputs": [
    {
     "data": {
      "text/html": [
       "<div>\n",
       "<style scoped>\n",
       "    .dataframe tbody tr th:only-of-type {\n",
       "        vertical-align: middle;\n",
       "    }\n",
       "\n",
       "    .dataframe tbody tr th {\n",
       "        vertical-align: top;\n",
       "    }\n",
       "\n",
       "    .dataframe thead th {\n",
       "        text-align: right;\n",
       "    }\n",
       "</style>\n",
       "<table border=\"1\" class=\"dataframe\">\n",
       "  <thead>\n",
       "    <tr style=\"text-align: right;\">\n",
       "      <th></th>\n",
       "      <th>text</th>\n",
       "      <th>toxic</th>\n",
       "    </tr>\n",
       "  </thead>\n",
       "  <tbody>\n",
       "    <tr>\n",
       "      <th>26152</th>\n",
       "      <td>Per Wikipedia:Record charts, single-vendor cha...</td>\n",
       "      <td>0</td>\n",
       "    </tr>\n",
       "    <tr>\n",
       "      <th>66985</th>\n",
       "      <td>\" all full of presumption and you are also wro...</td>\n",
       "      <td>0</td>\n",
       "    </tr>\n",
       "    <tr>\n",
       "      <th>75618</th>\n",
       "      <td>Idk who you are and wtf you think you are runn...</td>\n",
       "      <td>1</td>\n",
       "    </tr>\n",
       "    <tr>\n",
       "      <th>63281</th>\n",
       "      <td>Goal Count\\n\\nI don't understand people that d...</td>\n",
       "      <td>1</td>\n",
       "    </tr>\n",
       "    <tr>\n",
       "      <th>90977</th>\n",
       "      <td>\" 2015 (UTC)\\nDear , even though I did not rev...</td>\n",
       "      <td>0</td>\n",
       "    </tr>\n",
       "  </tbody>\n",
       "</table>\n",
       "</div>"
      ],
      "text/plain": [
       "                                                    text  toxic\n",
       "26152  Per Wikipedia:Record charts, single-vendor cha...      0\n",
       "66985  \" all full of presumption and you are also wro...      0\n",
       "75618  Idk who you are and wtf you think you are runn...      1\n",
       "63281  Goal Count\\n\\nI don't understand people that d...      1\n",
       "90977  \" 2015 (UTC)\\nDear , even though I did not rev...      0"
      ]
     },
     "execution_count": 7,
     "metadata": {},
     "output_type": "execute_result"
    }
   ],
   "source": [
    "df.sample(5)"
   ]
  },
  {
   "cell_type": "code",
   "execution_count": 8,
   "metadata": {},
   "outputs": [
    {
     "data": {
      "image/png": "[encoded data removed]",
      "text/plain": [
       "<Figure size 640x480 with 1 Axes>"
      ]
     },
     "metadata": {},
     "output_type": "display_data"
    }
   ],
   "source": [
    "df.hist();"
   ]
  },
  {
   "cell_type": "markdown",
   "metadata": {},
   "source": [
    "Интересно, не токсичных комментарии в разы больше"
   ]
  },
  {
   "cell_type": "code",
   "execution_count": 9,
   "metadata": {},
   "outputs": [
    {
     "data": {
      "text/plain": [
       "text     0\n",
       "toxic    0\n",
       "dtype: int64"
      ]
     },
     "execution_count": 9,
     "metadata": {},
     "output_type": "execute_result"
    }
   ],
   "source": [
    "df.isna().sum()"
   ]
  },
  {
   "cell_type": "markdown",
   "metadata": {},
   "source": [
    "<b>Микровывод:</b> ничего выбивающегося нет, видно, что кол-во положительных отзывов гораздо больше, чем отрицательных"
   ]
  },
  {
   "cell_type": "markdown",
   "metadata": {},
   "source": [
    "Начнем с лемматизации:"
   ]
  },
  {
   "cell_type": "code",
   "execution_count": 10,
   "metadata": {},
   "outputs": [
    {
     "data": {
      "application/vnd.jupyter.widget-view+json": {
       "model_id": "925de889175440489f729686c1c648b5",
       "version_major": 2,
       "version_minor": 0
      },
      "text/plain": [
       "  0%|          | 0/159292 [00:00<?, ?it/s]"
      ]
     },
     "metadata": {},
     "output_type": "display_data"
    }
   ],
   "source": [
    "tqdm.pandas()\n",
    "nlp = spacy.load(\"en_core_web_sm\")\n",
    "\n",
    "def clear_text(text): \n",
    "    doc = nlp(text)\n",
    "    doc = ' '.join([token.lemma_ for token in doc])\n",
    "    clean_text = re.sub(r'[^a-zA-z]', ' ', doc)\n",
    "    clean_text = ' '.join(clean_text.split())\n",
    "    return clean_text\n",
    "\n",
    "df['clean_text'] = df['text'].progress_apply(clear_text)"
   ]
  },
  {
   "cell_type": "code",
   "execution_count": 11,
   "metadata": {
    "scrolled": false
   },
   "outputs": [
    {
     "data": {
      "text/html": [
       "<div>\n",
       "<style scoped>\n",
       "    .dataframe tbody tr th:only-of-type {\n",
       "        vertical-align: middle;\n",
       "    }\n",
       "\n",
       "    .dataframe tbody tr th {\n",
       "        vertical-align: top;\n",
       "    }\n",
       "\n",
       "    .dataframe thead th {\n",
       "        text-align: right;\n",
       "    }\n",
       "</style>\n",
       "<table border=\"1\" class=\"dataframe\">\n",
       "  <thead>\n",
       "    <tr style=\"text-align: right;\">\n",
       "      <th></th>\n",
       "      <th>text</th>\n",
       "      <th>toxic</th>\n",
       "      <th>clean_text</th>\n",
       "    </tr>\n",
       "  </thead>\n",
       "  <tbody>\n",
       "    <tr>\n",
       "      <th>0</th>\n",
       "      <td>Explanation\\nWhy the edits made under my usern...</td>\n",
       "      <td>0</td>\n",
       "      <td>Explanation why the edit make under my usernam...</td>\n",
       "    </tr>\n",
       "    <tr>\n",
       "      <th>1</th>\n",
       "      <td>D'aww! He matches this background colour I'm s...</td>\n",
       "      <td>0</td>\n",
       "      <td>D aww he match this background colour I be see...</td>\n",
       "    </tr>\n",
       "    <tr>\n",
       "      <th>2</th>\n",
       "      <td>Hey man, I'm really not trying to edit war. It...</td>\n",
       "      <td>0</td>\n",
       "      <td>hey man I be really not try to edit war it be ...</td>\n",
       "    </tr>\n",
       "    <tr>\n",
       "      <th>3</th>\n",
       "      <td>\"\\nMore\\nI can't make any real suggestions on ...</td>\n",
       "      <td>0</td>\n",
       "      <td>More I can not make any real suggestion on imp...</td>\n",
       "    </tr>\n",
       "    <tr>\n",
       "      <th>4</th>\n",
       "      <td>You, sir, are my hero. Any chance you remember...</td>\n",
       "      <td>0</td>\n",
       "      <td>you sir be my hero any chance you remember wha...</td>\n",
       "    </tr>\n",
       "  </tbody>\n",
       "</table>\n",
       "</div>"
      ],
      "text/plain": [
       "                                                text  toxic  \\\n",
       "0  Explanation\\nWhy the edits made under my usern...      0   \n",
       "1  D'aww! He matches this background colour I'm s...      0   \n",
       "2  Hey man, I'm really not trying to edit war. It...      0   \n",
       "3  \"\\nMore\\nI can't make any real suggestions on ...      0   \n",
       "4  You, sir, are my hero. Any chance you remember...      0   \n",
       "\n",
       "                                          clean_text  \n",
       "0  Explanation why the edit make under my usernam...  \n",
       "1  D aww he match this background colour I be see...  \n",
       "2  hey man I be really not try to edit war it be ...  \n",
       "3  More I can not make any real suggestion on imp...  \n",
       "4  you sir be my hero any chance you remember wha...  "
      ]
     },
     "execution_count": 11,
     "metadata": {},
     "output_type": "execute_result"
    }
   ],
   "source": [
    "df.head()"
   ]
  },
  {
   "cell_type": "markdown",
   "metadata": {},
   "source": [
    "Разобьем на выборки:"
   ]
  },
  {
   "cell_type": "code",
   "execution_count": 12,
   "metadata": {},
   "outputs": [],
   "source": [
    "features = df['clean_text']\n",
    "target = df['toxic']"
   ]
  },
  {
   "cell_type": "code",
   "execution_count": 13,
   "metadata": {},
   "outputs": [
    {
     "name": "stdout",
     "output_type": "stream",
     "text": [
      "(127433,)\n",
      "(127433,)\n",
      "(31859,)\n",
      "(31859,)\n"
     ]
    }
   ],
   "source": [
    "features_train, features_test, target_train, target_test = train_test_split(features, target,\n",
    "                                                                         test_size = 0.2,\n",
    "                                                                         random_state = 12345,\n",
    "                                                                         shuffle = True)\n",
    "print(features_train.shape)\n",
    "print(target_train.shape)\n",
    "print(features_test.shape)\n",
    "print(target_test.shape)"
   ]
  },
  {
   "cell_type": "markdown",
   "metadata": {},
   "source": [
    "Учитываем стоп-слова:"
   ]
  },
  {
   "cell_type": "code",
   "execution_count": 14,
   "metadata": {},
   "outputs": [],
   "source": [
    "count_tf_idf = TfidfVectorizer(stop_words='english')"
   ]
  },
  {
   "cell_type": "code",
   "execution_count": 15,
   "metadata": {
    "scrolled": true
   },
   "outputs": [
    {
     "name": "stdout",
     "output_type": "stream",
     "text": [
      "(127433, 140463)\n",
      "(31859, 140463)\n"
     ]
    }
   ],
   "source": [
    "train_tf_idf = count_tf_idf.fit_transform(features_train)\n",
    "test_tf_idf = count_tf_idf.transform(features_test)\n",
    "\n",
    "print(train_tf_idf.shape)\n",
    "print(test_tf_idf.shape)"
   ]
  },
  {
   "cell_type": "markdown",
   "metadata": {},
   "source": [
    "## Обучение"
   ]
  },
  {
   "cell_type": "code",
   "execution_count": 16,
   "metadata": {},
   "outputs": [],
   "source": [
    "warnings.filterwarnings(\"ignore\")"
   ]
  },
  {
   "cell_type": "markdown",
   "metadata": {},
   "source": [
    "В качестве моделей возьмем: CatBoost, LightGBM и линейную регрессию."
   ]
  },
  {
   "cell_type": "markdown",
   "metadata": {},
   "source": [
    "<b>CatBoost</b>"
   ]
  },
  {
   "cell_type": "code",
   "execution_count": 17,
   "metadata": {},
   "outputs": [
    {
     "name": "stdout",
     "output_type": "stream",
     "text": [
      "Learning rate set to 0.5\n",
      "0:\tlearn: 0.3537937\ttotal: 901ms\tremaining: 1m 20s\n",
      "1:\tlearn: 0.2668686\ttotal: 1.52s\tremaining: 1m 7s\n",
      "2:\tlearn: 0.2382951\ttotal: 2.2s\tremaining: 1m 3s\n",
      "3:\tlearn: 0.2257235\ttotal: 2.82s\tremaining: 1m\n",
      "4:\tlearn: 0.2140474\ttotal: 3.46s\tremaining: 58.8s\n",
      "5:\tlearn: 0.2073772\ttotal: 4.08s\tremaining: 57.1s\n",
      "6:\tlearn: 0.2002595\ttotal: 4.69s\tremaining: 55.7s\n",
      "7:\tlearn: 0.1965785\ttotal: 5.31s\tremaining: 54.4s\n",
      "8:\tlearn: 0.1921090\ttotal: 5.93s\tremaining: 53.4s\n",
      "9:\tlearn: 0.1892577\ttotal: 6.54s\tremaining: 52.4s\n",
      "10:\tlearn: 0.1860500\ttotal: 7.23s\tremaining: 51.9s\n",
      "11:\tlearn: 0.1832370\ttotal: 7.85s\tremaining: 51s\n",
      "12:\tlearn: 0.1812149\ttotal: 8.47s\tremaining: 50.2s\n",
      "13:\tlearn: 0.1788587\ttotal: 9.08s\tremaining: 49.3s\n",
      "14:\tlearn: 0.1759884\ttotal: 9.71s\tremaining: 48.5s\n",
      "15:\tlearn: 0.1738133\ttotal: 10.3s\tremaining: 47.7s\n",
      "16:\tlearn: 0.1720679\ttotal: 10.9s\tremaining: 46.9s\n",
      "17:\tlearn: 0.1706033\ttotal: 11.5s\tremaining: 46.2s\n",
      "18:\tlearn: 0.1685213\ttotal: 12.3s\tremaining: 46s\n",
      "19:\tlearn: 0.1672770\ttotal: 13s\tremaining: 45.5s\n",
      "20:\tlearn: 0.1658773\ttotal: 13.7s\tremaining: 45s\n",
      "21:\tlearn: 0.1641268\ttotal: 14.4s\tremaining: 44.5s\n",
      "22:\tlearn: 0.1626843\ttotal: 15s\tremaining: 43.8s\n",
      "23:\tlearn: 0.1615060\ttotal: 15.7s\tremaining: 43.1s\n",
      "24:\tlearn: 0.1603367\ttotal: 16.3s\tremaining: 42.4s\n",
      "25:\tlearn: 0.1593745\ttotal: 17s\tremaining: 41.8s\n",
      "26:\tlearn: 0.1580537\ttotal: 17.6s\tremaining: 41s\n",
      "27:\tlearn: 0.1566634\ttotal: 18.2s\tremaining: 40.3s\n",
      "28:\tlearn: 0.1558513\ttotal: 18.8s\tremaining: 39.5s\n",
      "29:\tlearn: 0.1550472\ttotal: 19.4s\tremaining: 38.8s\n",
      "30:\tlearn: 0.1541776\ttotal: 20s\tremaining: 38.1s\n",
      "31:\tlearn: 0.1532515\ttotal: 20.6s\tremaining: 37.4s\n",
      "32:\tlearn: 0.1523236\ttotal: 21.2s\tremaining: 36.7s\n",
      "33:\tlearn: 0.1517063\ttotal: 21.9s\tremaining: 36.1s\n",
      "34:\tlearn: 0.1505296\ttotal: 22.5s\tremaining: 35.4s\n",
      "35:\tlearn: 0.1498052\ttotal: 23.1s\tremaining: 34.7s\n",
      "36:\tlearn: 0.1491537\ttotal: 23.7s\tremaining: 34s\n",
      "37:\tlearn: 0.1483029\ttotal: 24.4s\tremaining: 33.3s\n",
      "38:\tlearn: 0.1477652\ttotal: 25s\tremaining: 32.6s\n",
      "39:\tlearn: 0.1469964\ttotal: 25.6s\tremaining: 31.9s\n",
      "40:\tlearn: 0.1463080\ttotal: 26.2s\tremaining: 31.3s\n",
      "41:\tlearn: 0.1454522\ttotal: 26.8s\tremaining: 30.7s\n",
      "42:\tlearn: 0.1448743\ttotal: 27.5s\tremaining: 30s\n",
      "43:\tlearn: 0.1441648\ttotal: 28.1s\tremaining: 29.4s\n",
      "44:\tlearn: 0.1437812\ttotal: 28.8s\tremaining: 28.8s\n",
      "45:\tlearn: 0.1428789\ttotal: 29.5s\tremaining: 28.2s\n",
      "46:\tlearn: 0.1423182\ttotal: 30.2s\tremaining: 27.6s\n",
      "47:\tlearn: 0.1411754\ttotal: 30.9s\tremaining: 27s\n",
      "48:\tlearn: 0.1407036\ttotal: 31.5s\tremaining: 26.4s\n",
      "49:\tlearn: 0.1401243\ttotal: 32.2s\tremaining: 25.8s\n",
      "50:\tlearn: 0.1396854\ttotal: 32.8s\tremaining: 25.1s\n",
      "51:\tlearn: 0.1393119\ttotal: 33.4s\tremaining: 24.4s\n",
      "52:\tlearn: 0.1387632\ttotal: 34s\tremaining: 23.8s\n",
      "53:\tlearn: 0.1381657\ttotal: 34.6s\tremaining: 23.1s\n",
      "54:\tlearn: 0.1377546\ttotal: 35.2s\tremaining: 22.4s\n",
      "55:\tlearn: 0.1371832\ttotal: 35.9s\tremaining: 21.8s\n",
      "56:\tlearn: 0.1366886\ttotal: 36.5s\tremaining: 21.1s\n",
      "57:\tlearn: 0.1358598\ttotal: 37.1s\tremaining: 20.5s\n",
      "58:\tlearn: 0.1350862\ttotal: 37.7s\tremaining: 19.8s\n",
      "59:\tlearn: 0.1348213\ttotal: 38.3s\tremaining: 19.2s\n",
      "60:\tlearn: 0.1342582\ttotal: 39s\tremaining: 18.5s\n",
      "61:\tlearn: 0.1337453\ttotal: 39.6s\tremaining: 17.9s\n",
      "62:\tlearn: 0.1331935\ttotal: 40.2s\tremaining: 17.2s\n",
      "63:\tlearn: 0.1327526\ttotal: 40.8s\tremaining: 16.6s\n",
      "64:\tlearn: 0.1324819\ttotal: 41.4s\tremaining: 15.9s\n",
      "65:\tlearn: 0.1322171\ttotal: 42s\tremaining: 15.3s\n",
      "66:\tlearn: 0.1317819\ttotal: 42.7s\tremaining: 14.6s\n",
      "67:\tlearn: 0.1315281\ttotal: 43.3s\tremaining: 14s\n",
      "68:\tlearn: 0.1313235\ttotal: 43.9s\tremaining: 13.3s\n",
      "69:\tlearn: 0.1307168\ttotal: 44.6s\tremaining: 12.7s\n",
      "70:\tlearn: 0.1300960\ttotal: 45.2s\tremaining: 12.1s\n",
      "71:\tlearn: 0.1298739\ttotal: 45.9s\tremaining: 11.5s\n",
      "72:\tlearn: 0.1296509\ttotal: 46.6s\tremaining: 10.9s\n",
      "73:\tlearn: 0.1294468\ttotal: 47.3s\tremaining: 10.2s\n",
      "74:\tlearn: 0.1291518\ttotal: 47.9s\tremaining: 9.59s\n",
      "75:\tlearn: 0.1288193\ttotal: 48.6s\tremaining: 8.95s\n",
      "76:\tlearn: 0.1285446\ttotal: 49.2s\tremaining: 8.3s\n",
      "77:\tlearn: 0.1283217\ttotal: 49.8s\tremaining: 7.66s\n",
      "78:\tlearn: 0.1276648\ttotal: 50.4s\tremaining: 7.01s\n",
      "79:\tlearn: 0.1273881\ttotal: 51s\tremaining: 6.37s\n",
      "80:\tlearn: 0.1271405\ttotal: 51.6s\tremaining: 5.73s\n",
      "81:\tlearn: 0.1269509\ttotal: 52.2s\tremaining: 5.1s\n",
      "82:\tlearn: 0.1267526\ttotal: 52.8s\tremaining: 4.46s\n",
      "83:\tlearn: 0.1265526\ttotal: 53.4s\tremaining: 3.82s\n",
      "84:\tlearn: 0.1259727\ttotal: 54.1s\tremaining: 3.18s\n",
      "85:\tlearn: 0.1256514\ttotal: 54.7s\tremaining: 2.54s\n",
      "86:\tlearn: 0.1250939\ttotal: 55.3s\tremaining: 1.91s\n",
      "87:\tlearn: 0.1249195\ttotal: 55.9s\tremaining: 1.27s\n",
      "88:\tlearn: 0.1244481\ttotal: 56.5s\tremaining: 635ms\n",
      "89:\tlearn: 0.1242284\ttotal: 57.1s\tremaining: 0us\n",
      "Learning rate set to 0.5\n",
      "0:\tlearn: 0.3534724\ttotal: 641ms\tremaining: 57.1s\n",
      "1:\tlearn: 0.2650890\ttotal: 1.26s\tremaining: 55.5s\n",
      "2:\tlearn: 0.2380925\ttotal: 1.88s\tremaining: 54.4s\n",
      "3:\tlearn: 0.2251562\ttotal: 2.49s\tremaining: 53.6s\n",
      "4:\tlearn: 0.2141748\ttotal: 3.12s\tremaining: 53s\n",
      "5:\tlearn: 0.2077839\ttotal: 3.73s\tremaining: 52.2s\n",
      "6:\tlearn: 0.2026435\ttotal: 4.34s\tremaining: 51.5s\n",
      "7:\tlearn: 0.1982350\ttotal: 5.02s\tremaining: 51.4s\n",
      "8:\tlearn: 0.1930153\ttotal: 5.64s\tremaining: 50.8s\n",
      "9:\tlearn: 0.1885330\ttotal: 6.27s\tremaining: 50.1s\n",
      "10:\tlearn: 0.1857022\ttotal: 6.89s\tremaining: 49.5s\n",
      "11:\tlearn: 0.1829219\ttotal: 7.51s\tremaining: 48.8s\n",
      "12:\tlearn: 0.1801655\ttotal: 8.12s\tremaining: 48.1s\n",
      "13:\tlearn: 0.1781854\ttotal: 8.77s\tremaining: 47.6s\n",
      "14:\tlearn: 0.1763618\ttotal: 9.48s\tremaining: 47.4s\n",
      "15:\tlearn: 0.1747143\ttotal: 10.2s\tremaining: 47.3s\n",
      "16:\tlearn: 0.1728314\ttotal: 10.9s\tremaining: 46.8s\n",
      "17:\tlearn: 0.1713790\ttotal: 11.6s\tremaining: 46.4s\n",
      "18:\tlearn: 0.1698531\ttotal: 12.3s\tremaining: 45.8s\n",
      "19:\tlearn: 0.1683132\ttotal: 12.9s\tremaining: 45s\n",
      "20:\tlearn: 0.1668634\ttotal: 13.5s\tremaining: 44.3s\n",
      "21:\tlearn: 0.1656459\ttotal: 14.1s\tremaining: 43.5s\n",
      "22:\tlearn: 0.1646018\ttotal: 14.7s\tremaining: 42.9s\n",
      "23:\tlearn: 0.1630508\ttotal: 15.4s\tremaining: 42.2s\n",
      "24:\tlearn: 0.1614189\ttotal: 16s\tremaining: 41.5s\n",
      "25:\tlearn: 0.1598837\ttotal: 16.6s\tremaining: 40.8s\n",
      "26:\tlearn: 0.1586949\ttotal: 17.2s\tremaining: 40.1s\n",
      "27:\tlearn: 0.1576223\ttotal: 17.8s\tremaining: 39.4s\n",
      "28:\tlearn: 0.1566943\ttotal: 18.5s\tremaining: 38.8s\n",
      "29:\tlearn: 0.1555308\ttotal: 19.2s\tremaining: 38.4s\n",
      "30:\tlearn: 0.1542564\ttotal: 19.9s\tremaining: 37.9s\n",
      "31:\tlearn: 0.1534616\ttotal: 20.5s\tremaining: 37.2s\n",
      "32:\tlearn: 0.1524076\ttotal: 21.2s\tremaining: 36.7s\n",
      "33:\tlearn: 0.1516719\ttotal: 22.3s\tremaining: 36.7s\n",
      "34:\tlearn: 0.1510275\ttotal: 23.4s\tremaining: 36.8s\n",
      "35:\tlearn: 0.1502356\ttotal: 24.6s\tremaining: 36.9s\n",
      "36:\tlearn: 0.1494155\ttotal: 25.3s\tremaining: 36.2s\n",
      "37:\tlearn: 0.1485194\ttotal: 25.9s\tremaining: 35.4s\n",
      "38:\tlearn: 0.1477520\ttotal: 26.5s\tremaining: 34.6s\n",
      "39:\tlearn: 0.1466975\ttotal: 27.1s\tremaining: 33.9s\n",
      "40:\tlearn: 0.1460753\ttotal: 27.7s\tremaining: 33.2s\n",
      "41:\tlearn: 0.1456263\ttotal: 28.9s\tremaining: 33.1s\n",
      "42:\tlearn: 0.1446833\ttotal: 30.1s\tremaining: 32.9s\n",
      "43:\tlearn: 0.1440692\ttotal: 31.2s\tremaining: 32.6s\n",
      "44:\tlearn: 0.1436009\ttotal: 32.2s\tremaining: 32.2s\n",
      "45:\tlearn: 0.1429605\ttotal: 33.1s\tremaining: 31.6s\n",
      "46:\tlearn: 0.1424673\ttotal: 34.4s\tremaining: 31.5s\n",
      "47:\tlearn: 0.1417454\ttotal: 35.2s\tremaining: 30.8s\n",
      "48:\tlearn: 0.1413573\ttotal: 36s\tremaining: 30.1s\n",
      "49:\tlearn: 0.1408081\ttotal: 37s\tremaining: 29.6s\n",
      "50:\tlearn: 0.1402718\ttotal: 37.9s\tremaining: 29s\n",
      "51:\tlearn: 0.1397225\ttotal: 38.7s\tremaining: 28.3s\n",
      "52:\tlearn: 0.1389090\ttotal: 39.5s\tremaining: 27.6s\n",
      "53:\tlearn: 0.1381765\ttotal: 40.2s\tremaining: 26.8s\n",
      "54:\tlearn: 0.1376671\ttotal: 40.9s\tremaining: 26s\n",
      "55:\tlearn: 0.1368259\ttotal: 41.6s\tremaining: 25.3s\n",
      "56:\tlearn: 0.1364218\ttotal: 42.4s\tremaining: 24.6s\n",
      "57:\tlearn: 0.1360136\ttotal: 43.2s\tremaining: 23.8s\n",
      "58:\tlearn: 0.1354569\ttotal: 43.9s\tremaining: 23s\n",
      "59:\tlearn: 0.1350977\ttotal: 44.5s\tremaining: 22.2s\n",
      "60:\tlearn: 0.1345273\ttotal: 45.1s\tremaining: 21.5s\n",
      "61:\tlearn: 0.1341234\ttotal: 45.8s\tremaining: 20.7s\n",
      "62:\tlearn: 0.1336310\ttotal: 46.4s\tremaining: 19.9s\n",
      "63:\tlearn: 0.1333302\ttotal: 47.1s\tremaining: 19.1s\n",
      "64:\tlearn: 0.1329301\ttotal: 47.7s\tremaining: 18.4s\n",
      "65:\tlearn: 0.1326079\ttotal: 48.3s\tremaining: 17.6s\n",
      "66:\tlearn: 0.1318849\ttotal: 49s\tremaining: 16.8s\n",
      "67:\tlearn: 0.1315873\ttotal: 49.6s\tremaining: 16.1s\n",
      "68:\tlearn: 0.1313287\ttotal: 50.3s\tremaining: 15.3s\n",
      "69:\tlearn: 0.1310344\ttotal: 50.9s\tremaining: 14.5s\n",
      "70:\tlearn: 0.1304186\ttotal: 51.5s\tremaining: 13.8s\n",
      "71:\tlearn: 0.1300612\ttotal: 52.2s\tremaining: 13s\n",
      "72:\tlearn: 0.1295805\ttotal: 52.9s\tremaining: 12.3s\n",
      "73:\tlearn: 0.1290098\ttotal: 53.6s\tremaining: 11.6s\n",
      "74:\tlearn: 0.1287660\ttotal: 54.3s\tremaining: 10.9s\n",
      "75:\tlearn: 0.1284686\ttotal: 55s\tremaining: 10.1s\n",
      "76:\tlearn: 0.1282322\ttotal: 55.6s\tremaining: 9.39s\n",
      "77:\tlearn: 0.1279042\ttotal: 56.3s\tremaining: 8.66s\n",
      "78:\tlearn: 0.1276944\ttotal: 56.9s\tremaining: 7.93s\n",
      "79:\tlearn: 0.1273028\ttotal: 57.6s\tremaining: 7.2s\n",
      "80:\tlearn: 0.1269913\ttotal: 58.2s\tremaining: 6.46s\n",
      "81:\tlearn: 0.1266519\ttotal: 58.8s\tremaining: 5.74s\n",
      "82:\tlearn: 0.1264373\ttotal: 59.4s\tremaining: 5.01s\n",
      "83:\tlearn: 0.1260290\ttotal: 1m\tremaining: 4.29s\n",
      "84:\tlearn: 0.1255270\ttotal: 1m\tremaining: 3.56s\n",
      "85:\tlearn: 0.1253211\ttotal: 1m 1s\tremaining: 2.85s\n",
      "86:\tlearn: 0.1247053\ttotal: 1m 1s\tremaining: 2.13s\n",
      "87:\tlearn: 0.1245335\ttotal: 1m 2s\tremaining: 1.42s\n",
      "88:\tlearn: 0.1243704\ttotal: 1m 3s\tremaining: 709ms\n",
      "89:\tlearn: 0.1241729\ttotal: 1m 3s\tremaining: 0us\n",
      "Learning rate set to 0.5\n",
      "0:\tlearn: 0.3447851\ttotal: 651ms\tremaining: 57.9s\n",
      "1:\tlearn: 0.2625923\ttotal: 1.28s\tremaining: 56.2s\n",
      "2:\tlearn: 0.2337850\ttotal: 1.9s\tremaining: 55.1s\n",
      "3:\tlearn: 0.2221076\ttotal: 2.52s\tremaining: 54.1s\n",
      "4:\tlearn: 0.2149184\ttotal: 3.19s\tremaining: 54.3s\n",
      "5:\tlearn: 0.2076070\ttotal: 3.81s\tremaining: 53.4s\n",
      "6:\tlearn: 0.2028090\ttotal: 4.43s\tremaining: 52.5s\n",
      "7:\tlearn: 0.1971684\ttotal: 5.05s\tremaining: 51.8s\n",
      "8:\tlearn: 0.1929270\ttotal: 5.68s\tremaining: 51.1s\n",
      "9:\tlearn: 0.1892218\ttotal: 6.31s\tremaining: 50.5s\n",
      "10:\tlearn: 0.1862459\ttotal: 6.92s\tremaining: 49.7s\n",
      "11:\tlearn: 0.1839452\ttotal: 7.54s\tremaining: 49s\n",
      "12:\tlearn: 0.1809643\ttotal: 8.22s\tremaining: 48.7s\n",
      "13:\tlearn: 0.1789699\ttotal: 8.83s\tremaining: 48s\n",
      "14:\tlearn: 0.1768783\ttotal: 9.45s\tremaining: 47.2s\n",
      "15:\tlearn: 0.1750146\ttotal: 10.1s\tremaining: 46.5s\n",
      "16:\tlearn: 0.1728292\ttotal: 10.8s\tremaining: 46.3s\n",
      "17:\tlearn: 0.1711869\ttotal: 11.5s\tremaining: 45.8s\n",
      "18:\tlearn: 0.1697707\ttotal: 12.2s\tremaining: 45.5s\n",
      "19:\tlearn: 0.1677905\ttotal: 12.9s\tremaining: 45.2s\n",
      "20:\tlearn: 0.1662629\ttotal: 13.6s\tremaining: 44.7s\n",
      "21:\tlearn: 0.1645401\ttotal: 14.2s\tremaining: 44s\n",
      "22:\tlearn: 0.1634824\ttotal: 14.9s\tremaining: 43.3s\n",
      "23:\tlearn: 0.1624200\ttotal: 15.5s\tremaining: 42.6s\n",
      "24:\tlearn: 0.1612244\ttotal: 16.1s\tremaining: 41.9s\n",
      "25:\tlearn: 0.1594906\ttotal: 16.7s\tremaining: 41.2s\n",
      "26:\tlearn: 0.1582972\ttotal: 17.4s\tremaining: 40.5s\n",
      "27:\tlearn: 0.1571972\ttotal: 18s\tremaining: 39.9s\n",
      "28:\tlearn: 0.1562470\ttotal: 18.6s\tremaining: 39.2s\n",
      "29:\tlearn: 0.1552313\ttotal: 19.3s\tremaining: 38.5s\n",
      "30:\tlearn: 0.1544442\ttotal: 19.9s\tremaining: 37.8s\n",
      "31:\tlearn: 0.1532768\ttotal: 20.5s\tremaining: 37.1s\n",
      "32:\tlearn: 0.1524978\ttotal: 21.1s\tremaining: 36.4s\n",
      "33:\tlearn: 0.1515159\ttotal: 21.7s\tremaining: 35.7s\n",
      "34:\tlearn: 0.1504573\ttotal: 22.3s\tremaining: 35.1s\n",
      "35:\tlearn: 0.1493656\ttotal: 23s\tremaining: 34.5s\n",
      "36:\tlearn: 0.1486447\ttotal: 23.6s\tremaining: 33.8s\n",
      "37:\tlearn: 0.1480943\ttotal: 24.2s\tremaining: 33.1s\n",
      "38:\tlearn: 0.1474420\ttotal: 24.8s\tremaining: 32.5s\n",
      "39:\tlearn: 0.1461519\ttotal: 25.5s\tremaining: 31.8s\n",
      "40:\tlearn: 0.1453212\ttotal: 26.1s\tremaining: 31.2s\n",
      "41:\tlearn: 0.1447943\ttotal: 26.8s\tremaining: 30.6s\n",
      "42:\tlearn: 0.1441096\ttotal: 27.5s\tremaining: 30s\n",
      "43:\tlearn: 0.1434266\ttotal: 28.2s\tremaining: 29.5s\n",
      "44:\tlearn: 0.1425094\ttotal: 28.9s\tremaining: 28.9s\n",
      "45:\tlearn: 0.1419098\ttotal: 29.6s\tremaining: 28.3s\n",
      "46:\tlearn: 0.1414678\ttotal: 30.2s\tremaining: 27.7s\n",
      "47:\tlearn: 0.1410452\ttotal: 30.8s\tremaining: 27s\n",
      "48:\tlearn: 0.1405139\ttotal: 31.4s\tremaining: 26.3s\n",
      "49:\tlearn: 0.1399437\ttotal: 32s\tremaining: 25.6s\n",
      "50:\tlearn: 0.1395558\ttotal: 32.7s\tremaining: 25s\n",
      "51:\tlearn: 0.1390036\ttotal: 33.3s\tremaining: 24.4s\n",
      "52:\tlearn: 0.1382195\ttotal: 33.9s\tremaining: 23.7s\n",
      "53:\tlearn: 0.1378524\ttotal: 34.6s\tremaining: 23s\n",
      "54:\tlearn: 0.1373488\ttotal: 35.2s\tremaining: 22.4s\n",
      "55:\tlearn: 0.1368169\ttotal: 35.8s\tremaining: 21.7s\n",
      "56:\tlearn: 0.1364937\ttotal: 36.4s\tremaining: 21.1s\n",
      "57:\tlearn: 0.1361975\ttotal: 37s\tremaining: 20.4s\n",
      "58:\tlearn: 0.1357021\ttotal: 37.6s\tremaining: 19.8s\n",
      "59:\tlearn: 0.1354059\ttotal: 38.3s\tremaining: 19.1s\n",
      "60:\tlearn: 0.1349482\ttotal: 38.9s\tremaining: 18.5s\n",
      "61:\tlearn: 0.1343984\ttotal: 39.5s\tremaining: 17.8s\n",
      "62:\tlearn: 0.1338886\ttotal: 40.1s\tremaining: 17.2s\n",
      "63:\tlearn: 0.1334365\ttotal: 40.7s\tremaining: 16.5s\n",
      "64:\tlearn: 0.1327647\ttotal: 41.3s\tremaining: 15.9s\n",
      "65:\tlearn: 0.1325182\ttotal: 41.9s\tremaining: 15.2s\n",
      "66:\tlearn: 0.1322648\ttotal: 42.6s\tremaining: 14.6s\n",
      "67:\tlearn: 0.1316339\ttotal: 43.4s\tremaining: 14s\n",
      "68:\tlearn: 0.1313103\ttotal: 44.1s\tremaining: 13.4s\n",
      "69:\tlearn: 0.1310812\ttotal: 44.8s\tremaining: 12.8s\n",
      "70:\tlearn: 0.1305607\ttotal: 45.4s\tremaining: 12.2s\n",
      "71:\tlearn: 0.1303403\ttotal: 46.1s\tremaining: 11.5s\n",
      "72:\tlearn: 0.1298576\ttotal: 46.7s\tremaining: 10.9s\n",
      "73:\tlearn: 0.1295891\ttotal: 47.3s\tremaining: 10.2s\n",
      "74:\tlearn: 0.1291049\ttotal: 48s\tremaining: 9.59s\n",
      "75:\tlearn: 0.1285731\ttotal: 48.6s\tremaining: 8.95s\n",
      "76:\tlearn: 0.1283511\ttotal: 49.2s\tremaining: 8.3s\n",
      "77:\tlearn: 0.1280603\ttotal: 49.8s\tremaining: 7.66s\n",
      "78:\tlearn: 0.1277636\ttotal: 50.4s\tremaining: 7.02s\n",
      "79:\tlearn: 0.1273432\ttotal: 51s\tremaining: 6.38s\n",
      "80:\tlearn: 0.1271208\ttotal: 51.6s\tremaining: 5.74s\n",
      "81:\tlearn: 0.1268653\ttotal: 52.2s\tremaining: 5.1s\n",
      "82:\tlearn: 0.1266071\ttotal: 52.9s\tremaining: 4.46s\n",
      "83:\tlearn: 0.1263680\ttotal: 53.5s\tremaining: 3.82s\n",
      "84:\tlearn: 0.1261913\ttotal: 54.1s\tremaining: 3.18s\n",
      "85:\tlearn: 0.1260034\ttotal: 54.7s\tremaining: 2.54s\n",
      "86:\tlearn: 0.1258332\ttotal: 55.3s\tremaining: 1.91s\n",
      "87:\tlearn: 0.1250878\ttotal: 56s\tremaining: 1.27s\n",
      "88:\tlearn: 0.1249410\ttotal: 56.6s\tremaining: 636ms\n",
      "89:\tlearn: 0.1247367\ttotal: 57.2s\tremaining: 0us\n",
      "Learning rate set to 0.5\n",
      "0:\tlearn: 0.3504614\ttotal: 645ms\tremaining: 57.4s\n",
      "1:\tlearn: 0.2638140\ttotal: 1.32s\tremaining: 58.2s\n",
      "2:\tlearn: 0.2387314\ttotal: 1.96s\tremaining: 56.8s\n",
      "3:\tlearn: 0.2244354\ttotal: 2.6s\tremaining: 55.8s\n",
      "4:\tlearn: 0.2147029\ttotal: 3.21s\tremaining: 54.6s\n",
      "5:\tlearn: 0.2078725\ttotal: 3.83s\tremaining: 53.7s\n",
      "6:\tlearn: 0.2007098\ttotal: 4.46s\tremaining: 52.9s\n",
      "7:\tlearn: 0.1963486\ttotal: 5.08s\tremaining: 52.1s\n",
      "8:\tlearn: 0.1927338\ttotal: 5.7s\tremaining: 51.3s\n",
      "9:\tlearn: 0.1883273\ttotal: 6.39s\tremaining: 51.1s\n",
      "10:\tlearn: 0.1852559\ttotal: 7s\tremaining: 50.3s\n",
      "11:\tlearn: 0.1824934\ttotal: 7.67s\tremaining: 49.8s\n",
      "12:\tlearn: 0.1796478\ttotal: 8.38s\tremaining: 49.6s\n",
      "13:\tlearn: 0.1778902\ttotal: 9.1s\tremaining: 49.4s\n",
      "14:\tlearn: 0.1755620\ttotal: 9.79s\tremaining: 49s\n",
      "15:\tlearn: 0.1740511\ttotal: 10.4s\tremaining: 48.3s\n",
      "16:\tlearn: 0.1716074\ttotal: 11.2s\tremaining: 48s\n",
      "17:\tlearn: 0.1697758\ttotal: 11.8s\tremaining: 47.3s\n",
      "18:\tlearn: 0.1686548\ttotal: 12.4s\tremaining: 46.5s\n",
      "19:\tlearn: 0.1671896\ttotal: 13.1s\tremaining: 45.7s\n",
      "20:\tlearn: 0.1661202\ttotal: 13.7s\tremaining: 44.9s\n",
      "21:\tlearn: 0.1645910\ttotal: 14.3s\tremaining: 44.1s\n",
      "22:\tlearn: 0.1631625\ttotal: 14.9s\tremaining: 43.4s\n",
      "23:\tlearn: 0.1618272\ttotal: 15.5s\tremaining: 42.6s\n",
      "24:\tlearn: 0.1607334\ttotal: 16.2s\tremaining: 42.1s\n",
      "25:\tlearn: 0.1594847\ttotal: 16.8s\tremaining: 41.3s\n",
      "26:\tlearn: 0.1581308\ttotal: 17.4s\tremaining: 40.6s\n",
      "27:\tlearn: 0.1568112\ttotal: 18s\tremaining: 39.9s\n",
      "28:\tlearn: 0.1558049\ttotal: 18.6s\tremaining: 39.2s\n",
      "29:\tlearn: 0.1549226\ttotal: 19.2s\tremaining: 38.5s\n",
      "30:\tlearn: 0.1539516\ttotal: 19.9s\tremaining: 37.8s\n",
      "31:\tlearn: 0.1529993\ttotal: 20.5s\tremaining: 37.2s\n",
      "32:\tlearn: 0.1518230\ttotal: 21.2s\tremaining: 36.6s\n",
      "33:\tlearn: 0.1507345\ttotal: 21.8s\tremaining: 35.9s\n",
      "34:\tlearn: 0.1497771\ttotal: 22.4s\tremaining: 35.2s\n",
      "35:\tlearn: 0.1490666\ttotal: 23s\tremaining: 34.5s\n",
      "36:\tlearn: 0.1484338\ttotal: 23.7s\tremaining: 34s\n",
      "37:\tlearn: 0.1470989\ttotal: 24.4s\tremaining: 33.4s\n",
      "38:\tlearn: 0.1464321\ttotal: 25.1s\tremaining: 32.8s\n",
      "39:\tlearn: 0.1454744\ttotal: 25.7s\tremaining: 32.2s\n",
      "40:\tlearn: 0.1448435\ttotal: 26.5s\tremaining: 31.7s\n",
      "41:\tlearn: 0.1438075\ttotal: 27.2s\tremaining: 31.1s\n",
      "42:\tlearn: 0.1431901\ttotal: 27.8s\tremaining: 30.4s\n",
      "43:\tlearn: 0.1425569\ttotal: 28.4s\tremaining: 29.7s\n",
      "44:\tlearn: 0.1419359\ttotal: 29s\tremaining: 29s\n",
      "45:\tlearn: 0.1414267\ttotal: 29.6s\tremaining: 28.4s\n",
      "46:\tlearn: 0.1409407\ttotal: 30.3s\tremaining: 27.7s\n",
      "47:\tlearn: 0.1405452\ttotal: 31s\tremaining: 27.1s\n",
      "48:\tlearn: 0.1399563\ttotal: 31.6s\tremaining: 26.5s\n",
      "49:\tlearn: 0.1392596\ttotal: 32.2s\tremaining: 25.8s\n",
      "50:\tlearn: 0.1386592\ttotal: 32.8s\tremaining: 25.1s\n",
      "51:\tlearn: 0.1383299\ttotal: 33.5s\tremaining: 24.4s\n",
      "52:\tlearn: 0.1376281\ttotal: 34.1s\tremaining: 23.8s\n",
      "53:\tlearn: 0.1368000\ttotal: 34.7s\tremaining: 23.1s\n",
      "54:\tlearn: 0.1364598\ttotal: 35.3s\tremaining: 22.5s\n",
      "55:\tlearn: 0.1359915\ttotal: 35.9s\tremaining: 21.8s\n",
      "56:\tlearn: 0.1355519\ttotal: 36.6s\tremaining: 21.2s\n",
      "57:\tlearn: 0.1349365\ttotal: 37.2s\tremaining: 20.5s\n",
      "58:\tlearn: 0.1346237\ttotal: 37.8s\tremaining: 19.9s\n",
      "59:\tlearn: 0.1342657\ttotal: 38.4s\tremaining: 19.2s\n",
      "60:\tlearn: 0.1339575\ttotal: 39s\tremaining: 18.5s\n",
      "61:\tlearn: 0.1335600\ttotal: 39.7s\tremaining: 17.9s\n",
      "62:\tlearn: 0.1331088\ttotal: 40.4s\tremaining: 17.3s\n",
      "63:\tlearn: 0.1326157\ttotal: 41.1s\tremaining: 16.7s\n",
      "64:\tlearn: 0.1322539\ttotal: 41.8s\tremaining: 16.1s\n",
      "65:\tlearn: 0.1319661\ttotal: 42.4s\tremaining: 15.4s\n",
      "66:\tlearn: 0.1314490\ttotal: 43s\tremaining: 14.8s\n",
      "67:\tlearn: 0.1311950\ttotal: 43.7s\tremaining: 14.1s\n",
      "68:\tlearn: 0.1308408\ttotal: 44.4s\tremaining: 13.5s\n",
      "69:\tlearn: 0.1302698\ttotal: 45s\tremaining: 12.9s\n",
      "70:\tlearn: 0.1299547\ttotal: 45.7s\tremaining: 12.2s\n",
      "71:\tlearn: 0.1297136\ttotal: 46.4s\tremaining: 11.6s\n",
      "72:\tlearn: 0.1294886\ttotal: 47s\tremaining: 10.9s\n",
      "73:\tlearn: 0.1292829\ttotal: 47.6s\tremaining: 10.3s\n",
      "74:\tlearn: 0.1290783\ttotal: 48.2s\tremaining: 9.64s\n",
      "75:\tlearn: 0.1288507\ttotal: 48.8s\tremaining: 8.99s\n",
      "76:\tlearn: 0.1283395\ttotal: 49.4s\tremaining: 8.35s\n",
      "77:\tlearn: 0.1275086\ttotal: 50.1s\tremaining: 7.7s\n",
      "78:\tlearn: 0.1270567\ttotal: 50.7s\tremaining: 7.06s\n",
      "79:\tlearn: 0.1267886\ttotal: 51.3s\tremaining: 6.42s\n",
      "80:\tlearn: 0.1264426\ttotal: 51.9s\tremaining: 5.77s\n",
      "81:\tlearn: 0.1262124\ttotal: 52.5s\tremaining: 5.13s\n",
      "82:\tlearn: 0.1260256\ttotal: 53.1s\tremaining: 4.48s\n",
      "83:\tlearn: 0.1258309\ttotal: 53.8s\tremaining: 3.84s\n",
      "84:\tlearn: 0.1255442\ttotal: 54.4s\tremaining: 3.2s\n",
      "85:\tlearn: 0.1253158\ttotal: 55s\tremaining: 2.56s\n",
      "86:\tlearn: 0.1249681\ttotal: 55.6s\tremaining: 1.92s\n",
      "87:\tlearn: 0.1245448\ttotal: 56.4s\tremaining: 1.28s\n",
      "88:\tlearn: 0.1242947\ttotal: 57.1s\tremaining: 642ms\n",
      "89:\tlearn: 0.1240739\ttotal: 57.8s\tremaining: 0us\n",
      "Learning rate set to 0.5\n",
      "0:\tlearn: 0.3376829\ttotal: 647ms\tremaining: 57.6s\n",
      "1:\tlearn: 0.2607663\ttotal: 1.27s\tremaining: 55.9s\n",
      "2:\tlearn: 0.2338357\ttotal: 1.89s\tremaining: 54.8s\n",
      "3:\tlearn: 0.2229609\ttotal: 2.53s\tremaining: 54.4s\n",
      "4:\tlearn: 0.2124324\ttotal: 3.16s\tremaining: 53.8s\n",
      "5:\tlearn: 0.2052465\ttotal: 3.86s\tremaining: 54s\n",
      "6:\tlearn: 0.2010209\ttotal: 4.57s\tremaining: 54.2s\n",
      "7:\tlearn: 0.1951310\ttotal: 5.26s\tremaining: 54s\n",
      "8:\tlearn: 0.1916872\ttotal: 5.97s\tremaining: 53.8s\n",
      "9:\tlearn: 0.1888051\ttotal: 6.66s\tremaining: 53.3s\n",
      "10:\tlearn: 0.1853534\ttotal: 7.32s\tremaining: 52.5s\n",
      "11:\tlearn: 0.1823685\ttotal: 7.99s\tremaining: 52s\n",
      "12:\tlearn: 0.1798139\ttotal: 8.67s\tremaining: 51.3s\n",
      "13:\tlearn: 0.1779910\ttotal: 9.3s\tremaining: 50.5s\n",
      "14:\tlearn: 0.1751902\ttotal: 9.92s\tremaining: 49.6s\n",
      "15:\tlearn: 0.1732488\ttotal: 10.5s\tremaining: 48.7s\n",
      "16:\tlearn: 0.1717897\ttotal: 11.1s\tremaining: 47.8s\n",
      "17:\tlearn: 0.1703637\ttotal: 11.8s\tremaining: 47s\n",
      "18:\tlearn: 0.1691182\ttotal: 12.4s\tremaining: 46.2s\n",
      "19:\tlearn: 0.1677945\ttotal: 13s\tremaining: 45.4s\n",
      "20:\tlearn: 0.1667496\ttotal: 13.6s\tremaining: 44.8s\n",
      "21:\tlearn: 0.1652010\ttotal: 14.3s\tremaining: 44.1s\n",
      "22:\tlearn: 0.1638705\ttotal: 14.9s\tremaining: 43.3s\n",
      "23:\tlearn: 0.1625537\ttotal: 15.5s\tremaining: 42.6s\n",
      "24:\tlearn: 0.1611141\ttotal: 16.1s\tremaining: 41.8s\n",
      "25:\tlearn: 0.1601259\ttotal: 16.7s\tremaining: 41.1s\n",
      "26:\tlearn: 0.1589617\ttotal: 17.3s\tremaining: 40.4s\n",
      "27:\tlearn: 0.1572943\ttotal: 17.9s\tremaining: 39.7s\n",
      "28:\tlearn: 0.1563781\ttotal: 18.6s\tremaining: 39.1s\n",
      "29:\tlearn: 0.1552941\ttotal: 19.2s\tremaining: 38.5s\n",
      "30:\tlearn: 0.1545267\ttotal: 19.8s\tremaining: 37.8s\n",
      "31:\tlearn: 0.1534667\ttotal: 20.5s\tremaining: 37.2s\n",
      "32:\tlearn: 0.1526149\ttotal: 21.2s\tremaining: 36.7s\n",
      "33:\tlearn: 0.1520684\ttotal: 21.9s\tremaining: 36.1s\n",
      "34:\tlearn: 0.1511967\ttotal: 22.6s\tremaining: 35.5s\n",
      "35:\tlearn: 0.1503932\ttotal: 23.3s\tremaining: 34.9s\n",
      "36:\tlearn: 0.1496556\ttotal: 24s\tremaining: 34.4s\n",
      "37:\tlearn: 0.1489032\ttotal: 24.6s\tremaining: 33.7s\n",
      "38:\tlearn: 0.1480466\ttotal: 25.2s\tremaining: 33s\n",
      "39:\tlearn: 0.1475518\ttotal: 25.9s\tremaining: 32.3s\n",
      "40:\tlearn: 0.1465495\ttotal: 26.5s\tremaining: 31.6s\n",
      "41:\tlearn: 0.1459394\ttotal: 27.1s\tremaining: 30.9s\n",
      "42:\tlearn: 0.1453236\ttotal: 27.7s\tremaining: 30.3s\n",
      "43:\tlearn: 0.1446315\ttotal: 28.3s\tremaining: 29.6s\n",
      "44:\tlearn: 0.1441423\ttotal: 29s\tremaining: 29s\n",
      "45:\tlearn: 0.1433997\ttotal: 29.6s\tremaining: 28.3s\n",
      "46:\tlearn: 0.1427448\ttotal: 30.2s\tremaining: 27.6s\n",
      "47:\tlearn: 0.1420066\ttotal: 30.8s\tremaining: 26.9s\n",
      "48:\tlearn: 0.1416080\ttotal: 31.4s\tremaining: 26.3s\n",
      "49:\tlearn: 0.1411239\ttotal: 32s\tremaining: 25.6s\n",
      "50:\tlearn: 0.1406819\ttotal: 32.6s\tremaining: 24.9s\n",
      "51:\tlearn: 0.1396246\ttotal: 33.2s\tremaining: 24.3s\n",
      "52:\tlearn: 0.1391450\ttotal: 33.9s\tremaining: 23.7s\n",
      "53:\tlearn: 0.1386568\ttotal: 34.5s\tremaining: 23s\n",
      "54:\tlearn: 0.1379605\ttotal: 35.1s\tremaining: 22.3s\n",
      "55:\tlearn: 0.1376538\ttotal: 35.7s\tremaining: 21.7s\n",
      "56:\tlearn: 0.1373984\ttotal: 36.4s\tremaining: 21.1s\n",
      "57:\tlearn: 0.1366584\ttotal: 37.1s\tremaining: 20.5s\n",
      "58:\tlearn: 0.1360329\ttotal: 37.8s\tremaining: 19.9s\n",
      "59:\tlearn: 0.1354916\ttotal: 38.5s\tremaining: 19.3s\n",
      "60:\tlearn: 0.1351715\ttotal: 39.2s\tremaining: 18.6s\n",
      "61:\tlearn: 0.1345290\ttotal: 39.9s\tremaining: 18s\n",
      "62:\tlearn: 0.1340083\ttotal: 40.5s\tremaining: 17.4s\n",
      "63:\tlearn: 0.1331688\ttotal: 41.1s\tremaining: 16.7s\n",
      "64:\tlearn: 0.1328516\ttotal: 41.7s\tremaining: 16s\n",
      "65:\tlearn: 0.1324678\ttotal: 42.3s\tremaining: 15.4s\n",
      "66:\tlearn: 0.1319702\ttotal: 42.9s\tremaining: 14.7s\n",
      "67:\tlearn: 0.1317000\ttotal: 43.6s\tremaining: 14.1s\n",
      "68:\tlearn: 0.1313246\ttotal: 44.2s\tremaining: 13.5s\n",
      "69:\tlearn: 0.1309923\ttotal: 44.8s\tremaining: 12.8s\n",
      "70:\tlearn: 0.1305135\ttotal: 45.4s\tremaining: 12.2s\n",
      "71:\tlearn: 0.1298926\ttotal: 46s\tremaining: 11.5s\n",
      "72:\tlearn: 0.1296646\ttotal: 46.6s\tremaining: 10.9s\n",
      "73:\tlearn: 0.1289537\ttotal: 47.3s\tremaining: 10.2s\n",
      "74:\tlearn: 0.1285875\ttotal: 47.9s\tremaining: 9.57s\n",
      "75:\tlearn: 0.1283533\ttotal: 48.5s\tremaining: 8.93s\n",
      "76:\tlearn: 0.1281100\ttotal: 49.1s\tremaining: 8.3s\n",
      "77:\tlearn: 0.1278980\ttotal: 49.7s\tremaining: 7.65s\n",
      "78:\tlearn: 0.1276640\ttotal: 50.3s\tremaining: 7.01s\n",
      "79:\tlearn: 0.1272518\ttotal: 51s\tremaining: 6.37s\n",
      "80:\tlearn: 0.1269777\ttotal: 51.6s\tremaining: 5.73s\n",
      "81:\tlearn: 0.1267509\ttotal: 52.3s\tremaining: 5.1s\n",
      "82:\tlearn: 0.1265550\ttotal: 53s\tremaining: 4.46s\n",
      "83:\tlearn: 0.1262523\ttotal: 53.7s\tremaining: 3.84s\n",
      "84:\tlearn: 0.1260188\ttotal: 54.4s\tremaining: 3.2s\n",
      "85:\tlearn: 0.1255737\ttotal: 55.1s\tremaining: 2.56s\n",
      "86:\tlearn: 0.1250344\ttotal: 55.8s\tremaining: 1.92s\n",
      "87:\tlearn: 0.1246312\ttotal: 56.4s\tremaining: 1.28s\n",
      "88:\tlearn: 0.1242403\ttotal: 57s\tremaining: 640ms\n",
      "89:\tlearn: 0.1238984\ttotal: 57.6s\tremaining: 0us\n",
      "Learning rate set to 0.5\n",
      "0:\tlearn: 0.3372872\ttotal: 877ms\tremaining: 1m 18s\n",
      "1:\tlearn: 0.2614456\ttotal: 1.68s\tremaining: 1m 13s\n",
      "2:\tlearn: 0.2351462\ttotal: 2.47s\tremaining: 1m 11s\n",
      "3:\tlearn: 0.2202340\ttotal: 3.27s\tremaining: 1m 10s\n",
      "4:\tlearn: 0.2122623\ttotal: 4.08s\tremaining: 1m 9s\n",
      "5:\tlearn: 0.2055731\ttotal: 4.82s\tremaining: 1m 7s\n",
      "6:\tlearn: 0.1993629\ttotal: 5.56s\tremaining: 1m 5s\n",
      "7:\tlearn: 0.1954321\ttotal: 6.31s\tremaining: 1m 4s\n",
      "8:\tlearn: 0.1924030\ttotal: 7.06s\tremaining: 1m 3s\n",
      "9:\tlearn: 0.1895339\ttotal: 7.79s\tremaining: 1m 2s\n",
      "10:\tlearn: 0.1859683\ttotal: 8.6s\tremaining: 1m 1s\n",
      "11:\tlearn: 0.1825813\ttotal: 9.34s\tremaining: 1m\n",
      "12:\tlearn: 0.1798224\ttotal: 10.1s\tremaining: 59.8s\n",
      "13:\tlearn: 0.1777829\ttotal: 10.8s\tremaining: 58.8s\n",
      "14:\tlearn: 0.1760193\ttotal: 11.6s\tremaining: 57.8s\n",
      "15:\tlearn: 0.1743257\ttotal: 12.3s\tremaining: 56.9s\n",
      "16:\tlearn: 0.1728068\ttotal: 13.1s\tremaining: 56.2s\n",
      "17:\tlearn: 0.1714205\ttotal: 13.9s\tremaining: 55.8s\n",
      "18:\tlearn: 0.1692207\ttotal: 14.8s\tremaining: 55.3s\n",
      "19:\tlearn: 0.1680011\ttotal: 15.7s\tremaining: 54.9s\n",
      "20:\tlearn: 0.1667534\ttotal: 16.5s\tremaining: 54.2s\n",
      "21:\tlearn: 0.1654492\ttotal: 17.3s\tremaining: 53.4s\n",
      "22:\tlearn: 0.1637324\ttotal: 18s\tremaining: 52.5s\n",
      "23:\tlearn: 0.1626802\ttotal: 18.8s\tremaining: 51.7s\n",
      "24:\tlearn: 0.1609151\ttotal: 19.5s\tremaining: 50.8s\n",
      "25:\tlearn: 0.1599655\ttotal: 20.3s\tremaining: 49.9s\n",
      "26:\tlearn: 0.1587185\ttotal: 21s\tremaining: 49s\n",
      "27:\tlearn: 0.1577560\ttotal: 21.7s\tremaining: 48.1s\n",
      "28:\tlearn: 0.1570203\ttotal: 22.5s\tremaining: 47.3s\n",
      "29:\tlearn: 0.1561067\ttotal: 23.2s\tremaining: 46.4s\n",
      "30:\tlearn: 0.1553762\ttotal: 24s\tremaining: 45.7s\n",
      "31:\tlearn: 0.1543170\ttotal: 24.7s\tremaining: 44.8s\n",
      "32:\tlearn: 0.1534199\ttotal: 25.4s\tremaining: 44s\n",
      "33:\tlearn: 0.1524769\ttotal: 26.2s\tremaining: 43.1s\n",
      "34:\tlearn: 0.1518307\ttotal: 26.9s\tremaining: 42.3s\n",
      "35:\tlearn: 0.1508576\ttotal: 27.6s\tremaining: 41.4s\n",
      "36:\tlearn: 0.1496322\ttotal: 28.4s\tremaining: 40.7s\n",
      "37:\tlearn: 0.1489373\ttotal: 29.3s\tremaining: 40.1s\n",
      "38:\tlearn: 0.1485001\ttotal: 30.1s\tremaining: 39.3s\n",
      "39:\tlearn: 0.1478526\ttotal: 30.9s\tremaining: 38.6s\n",
      "40:\tlearn: 0.1471739\ttotal: 31.7s\tremaining: 37.9s\n",
      "41:\tlearn: 0.1458840\ttotal: 32.6s\tremaining: 37.3s\n",
      "42:\tlearn: 0.1452809\ttotal: 33.5s\tremaining: 36.6s\n",
      "43:\tlearn: 0.1447528\ttotal: 34.3s\tremaining: 35.8s\n",
      "44:\tlearn: 0.1440403\ttotal: 35s\tremaining: 35s\n",
      "45:\tlearn: 0.1435658\ttotal: 35.7s\tremaining: 34.2s\n",
      "46:\tlearn: 0.1429271\ttotal: 36.4s\tremaining: 33.3s\n",
      "47:\tlearn: 0.1423905\ttotal: 37.2s\tremaining: 32.5s\n",
      "48:\tlearn: 0.1418360\ttotal: 37.9s\tremaining: 31.7s\n",
      "49:\tlearn: 0.1412560\ttotal: 38.7s\tremaining: 31s\n",
      "50:\tlearn: 0.1408095\ttotal: 39.4s\tremaining: 30.2s\n",
      "51:\tlearn: 0.1403655\ttotal: 40.2s\tremaining: 29.3s\n",
      "52:\tlearn: 0.1397843\ttotal: 40.9s\tremaining: 28.5s\n",
      "53:\tlearn: 0.1391389\ttotal: 41.6s\tremaining: 27.7s\n",
      "54:\tlearn: 0.1386780\ttotal: 42.3s\tremaining: 26.9s\n",
      "55:\tlearn: 0.1383666\ttotal: 43.1s\tremaining: 26.1s\n",
      "56:\tlearn: 0.1376842\ttotal: 43.9s\tremaining: 25.4s\n",
      "57:\tlearn: 0.1373535\ttotal: 44.6s\tremaining: 24.6s\n",
      "58:\tlearn: 0.1370057\ttotal: 45.3s\tremaining: 23.8s\n",
      "59:\tlearn: 0.1365136\ttotal: 46.1s\tremaining: 23s\n",
      "60:\tlearn: 0.1359411\ttotal: 46.9s\tremaining: 22.3s\n",
      "61:\tlearn: 0.1356576\ttotal: 47.7s\tremaining: 21.6s\n",
      "62:\tlearn: 0.1351931\ttotal: 48.6s\tremaining: 20.8s\n",
      "63:\tlearn: 0.1347342\ttotal: 49.5s\tremaining: 20.1s\n",
      "64:\tlearn: 0.1342704\ttotal: 50.2s\tremaining: 19.3s\n",
      "65:\tlearn: 0.1338900\ttotal: 51s\tremaining: 18.5s\n",
      "66:\tlearn: 0.1332471\ttotal: 51.7s\tremaining: 17.8s\n",
      "67:\tlearn: 0.1328733\ttotal: 52.5s\tremaining: 17s\n",
      "68:\tlearn: 0.1322426\ttotal: 53.3s\tremaining: 16.2s\n",
      "69:\tlearn: 0.1320171\ttotal: 54.2s\tremaining: 15.5s\n",
      "70:\tlearn: 0.1317720\ttotal: 55s\tremaining: 14.7s\n",
      "71:\tlearn: 0.1312720\ttotal: 55.8s\tremaining: 13.9s\n",
      "72:\tlearn: 0.1308726\ttotal: 56.6s\tremaining: 13.2s\n",
      "73:\tlearn: 0.1305116\ttotal: 57.3s\tremaining: 12.4s\n",
      "74:\tlearn: 0.1300129\ttotal: 58.1s\tremaining: 11.6s\n",
      "75:\tlearn: 0.1297916\ttotal: 59s\tremaining: 10.9s\n",
      "76:\tlearn: 0.1295083\ttotal: 59.7s\tremaining: 10.1s\n",
      "77:\tlearn: 0.1293089\ttotal: 1m\tremaining: 9.31s\n",
      "78:\tlearn: 0.1287356\ttotal: 1m 1s\tremaining: 8.53s\n",
      "79:\tlearn: 0.1285459\ttotal: 1m 2s\tremaining: 7.76s\n",
      "80:\tlearn: 0.1282546\ttotal: 1m 2s\tremaining: 6.99s\n",
      "81:\tlearn: 0.1280556\ttotal: 1m 3s\tremaining: 6.23s\n",
      "82:\tlearn: 0.1277676\ttotal: 1m 4s\tremaining: 5.45s\n",
      "83:\tlearn: 0.1275865\ttotal: 1m 5s\tremaining: 4.68s\n",
      "84:\tlearn: 0.1273467\ttotal: 1m 6s\tremaining: 3.9s\n",
      "85:\tlearn: 0.1271984\ttotal: 1m 7s\tremaining: 3.12s\n",
      "86:\tlearn: 0.1268557\ttotal: 1m 7s\tremaining: 2.34s\n",
      "87:\tlearn: 0.1263062\ttotal: 1m 8s\tremaining: 1.56s\n",
      "88:\tlearn: 0.1260059\ttotal: 1m 9s\tremaining: 779ms\n",
      "89:\tlearn: 0.1257630\ttotal: 1m 10s\tremaining: 0us\n",
      "0.730863258706995\n"
     ]
    }
   ],
   "source": [
    "model_cat = CatBoostClassifier()\n",
    "parametrs = {'iterations': [90], 'depth': [5], 'random_state' : [12345]}\n",
    "grid_cat = GridSearchCV(model_cat, parametrs, scoring = 'f1')\n",
    "grid_cat.fit(train_tf_idf, target_train)\n",
    "best_cat_f1 = grid_cat.best_score_\n",
    "print(best_cat_f1)"
   ]
  },
  {
   "cell_type": "code",
   "execution_count": 18,
   "metadata": {
    "scrolled": true
   },
   "outputs": [
    {
     "name": "stdout",
     "output_type": "stream",
     "text": [
      "Показатель f1: 0.730863258706995\n"
     ]
    }
   ],
   "source": [
    "print(\"Показатель f1:\", best_cat_f1)"
   ]
  },
  {
   "cell_type": "markdown",
   "metadata": {},
   "source": [
    "<b>LGBM</b>"
   ]
  },
  {
   "cell_type": "code",
   "execution_count": 19,
   "metadata": {},
   "outputs": [
    {
     "name": "stdout",
     "output_type": "stream",
     "text": [
      "Лучший параметр f1: 0.6848686964754498\n",
      "Лучшие параметры: {'max_depth': 10, 'num_iterations': 90, 'random_state': 12345}\n"
     ]
    }
   ],
   "source": [
    "LGBM = LGBMClassifier()\n",
    "parametrs = [{'num_iterations': [90], \n",
    "    'max_depth': [4, 10], \n",
    "    'random_state' : [12345],}]\n",
    "\n",
    "grid_LGBM = GridSearchCV(LGBM, parametrs, scoring = 'f1')\n",
    "grid_LGBM.fit(train_tf_idf, target_train)\n",
    "best_LGBM_f1 = grid_LGBM.best_score_\n",
    "parametrs_LGBM = grid_LGBM.best_params_\n",
    "print('Лучший параметр f1:', best_LGBM_f1)\n",
    "print('Лучшие параметры:', parametrs_LGBM) "
   ]
  },
  {
   "cell_type": "markdown",
   "metadata": {},
   "source": [
    "<b>Логистическая регрессия</b>"
   ]
  },
  {
   "cell_type": "code",
   "execution_count": 20,
   "metadata": {},
   "outputs": [
    {
     "name": "stdout",
     "output_type": "stream",
     "text": [
      "0.7531368107547294\n"
     ]
    }
   ],
   "source": [
    "model_linear = LogisticRegression(random_state = 12345, class_weight = 'balanced') \n",
    "parametrs_lr = {'max_iter': [100]}\n",
    "grid_lr = GridSearchCV(model_linear, parametrs_lr, scoring = 'f1')\n",
    "grid_lr.fit(train_tf_idf, target_train)\n",
    "best_lr_f1 = grid_lr.best_score_\n",
    "print(best_lr_f1)"
   ]
  },
  {
   "cell_type": "markdown",
   "metadata": {},
   "source": [
    "<b>Микровывод: </b>из всех моделей наиболее хороший показатель F1 получился на логистической регрессии. Для итогового тестирования будем использовать ее."
   ]
  },
  {
   "cell_type": "code",
   "execution_count": 21,
   "metadata": {},
   "outputs": [
    {
     "data": {
      "text/plain": [
       "0.7540186410914494"
      ]
     },
     "execution_count": 21,
     "metadata": {},
     "output_type": "execute_result"
    }
   ],
   "source": [
    "predicted_lr = grid_lr.predict(test_tf_idf)\n",
    "f1_lr_f1 = f1_score(target_test, predicted_lr)\n",
    "f1_lr_f1"
   ]
  },
  {
   "cell_type": "markdown",
   "metadata": {},
   "source": [
    "## Выводы"
   ]
  },
  {
   "cell_type": "markdown",
   "metadata": {},
   "source": [
    "Данные были загружены и изучены, предобработка не понадобилась. \n",
    "\n",
    "Далее было произведено: лемматизация (процесс приведения словоформы к лемме — её нормальной (словарной) форме), разбиение данных на выборки и работа со стоп-словами (для очищения от словарного \"шума\") для английского языка.\n",
    "\n",
    "После подготовки были обучены три модели: _CatBoost_, _LightGBM_ и _LogisticRegression_. Самый большой показатель f1 (среднее значение Accuracy и Отзыва Recall) показала логистическая регрессия, он был равен _0,753_, поэтому итоговое тестирование было произведено на этой модели.\n",
    "\n",
    "Итоговый результат на модели логистической регресси = _0,754_. Данный результат нам подходит, значит дальнейшая работа не требуется."
   ]
  }
 ],
 "metadata": {
  "kernelspec": {
   "display_name": "Python 3 (ipykernel)",
   "language": "python",
   "name": "python3"
  },
  "language_info": {
   "codemirror_mode": {
    "name": "ipython",
    "version": 3
   },
   "file_extension": ".py",
   "mimetype": "text/x-python",
   "name": "python",
   "nbconvert_exporter": "python",
   "pygments_lexer": "ipython3",
   "version": "3.10.9"
  },
  "toc": {
   "base_numbering": 1,
   "nav_menu": {},
   "number_sections": true,
   "sideBar": true,
   "skip_h1_title": true,
   "title_cell": "Содержание",
   "title_sidebar": "Contents",
   "toc_cell": true,
   "toc_position": {
    "height": "calc(100% - 180px)",
    "left": "10px",
    "top": "150px",
    "width": "302.391px"
   },
   "toc_section_display": true,
   "toc_window_display": false
  }
 },
 "nbformat": 4,
 "nbformat_minor": 2
}
