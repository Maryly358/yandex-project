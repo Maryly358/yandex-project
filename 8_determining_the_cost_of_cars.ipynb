{
 "cells": [
  {
   "cell_type": "markdown",
   "metadata": {},
   "source": [
    "# Определение стоимости автомобилей"
   ]
  },
  {
   "cell_type": "markdown",
   "metadata": {},
   "source": [
    "Сервис по продаже автомобилей с пробегом «Не бит, не крашен» разрабатывает приложение для привлечения новых клиентов. В нём можно быстро узнать рыночную стоимость своего автомобиля. В вашем распоряжении исторические данные: технические характеристики, комплектации и цены автомобилей. Вам нужно построить модель для определения стоимости. \n",
    "\n",
    "Заказчику важны:\n",
    "\n",
    "- качество предсказания;\n",
    "- скорость предсказания;\n",
    "- время обучения."
   ]
  },
  {
   "cell_type": "markdown",
   "metadata": {},
   "source": [
    "Признаки:\n",
    "\n",
    "    DateCrawled — дата скачивания анкеты из базы\n",
    "    VehicleType — тип автомобильного кузова\n",
    "    RegistrationYear — год регистрации автомобиля\n",
    "    Gearbox — тип коробки передач\n",
    "    Power — мощность (л. с.)\n",
    "    Model — модель автомобиля\n",
    "    Kilometer — пробег (км)\n",
    "    RegistrationMonth — месяц регистрации автомобиля\n",
    "    FuelType — тип топлива\n",
    "    Brand — марка автомобиля\n",
    "    Repaired — была машина в ремонте или нет\n",
    "    DateCreated — дата создания анкеты\n",
    "    NumberOfPictures — количество фотографий автомобиля\n",
    "    PostalCode — почтовый индекс владельца анкеты (пользователя)\n",
    "    LastSeen — дата последней активности пользователя\n",
    "\n",
    "Целевой признак:\n",
    "\n",
    "    Price — цена (евро)"
   ]
  },
  {
   "cell_type": "markdown",
   "metadata": {},
   "source": [
    "## Подготовка данных"
   ]
  },
  {
   "cell_type": "code",
   "execution_count": 56,
   "metadata": {},
   "outputs": [],
   "source": [
    "import pandas as pd\n",
    "import numpy as np\n",
    "import matplotlib.pyplot as plt\n",
    "import time\n",
    "import warnings\n",
    "from sklearn.dummy import DummyRegressor"
   ]
  },
  {
   "cell_type": "code",
   "execution_count": 2,
   "metadata": {},
   "outputs": [
    {
     "name": "stdout",
     "output_type": "stream",
     "text": [
      "Collecting lightgbm\n",
      "  Downloading lightgbm-3.3.5-py3-none-win_amd64.whl (1.0 MB)\n",
      "Requirement already satisfied: numpy in d:\\anaconda3\\lib\\site-packages (from lightgbm) (1.21.5)\n",
      "Requirement already satisfied: scipy in d:\\anaconda3\\lib\\site-packages (from lightgbm) (1.7.3)\n",
      "Requirement already satisfied: scikit-learn!=0.22.0 in d:\\anaconda3\\lib\\site-packages (from lightgbm) (1.0.2)\n",
      "Requirement already satisfied: wheel in d:\\anaconda3\\lib\\site-packages (from lightgbm) (0.37.1)\n",
      "Requirement already satisfied: joblib>=0.11 in d:\\anaconda3\\lib\\site-packages (from scikit-learn!=0.22.0->lightgbm) (1.1.0)\n",
      "Requirement already satisfied: threadpoolctl>=2.0.0 in d:\\anaconda3\\lib\\site-packages (from scikit-learn!=0.22.0->lightgbm) (2.2.0)\n",
      "Installing collected packages: lightgbm\n",
      "Successfully installed lightgbm-3.3.5\n",
      "Note: you may need to restart the kernel to use updated packages.\n"
     ]
    }
   ],
   "source": [
    "pip install lightgbm"
   ]
  },
  {
   "cell_type": "code",
   "execution_count": 5,
   "metadata": {},
   "outputs": [],
   "source": [
    "from sklearn.model_selection import train_test_split, GridSearchCV\n",
    "from sklearn.preprocessing import OneHotEncoder, OrdinalEncoder\n",
    "from sklearn.tree import DecisionTreeRegressor\n",
    "from sklearn.ensemble import RandomForestRegressor\n",
    "from sklearn.linear_model import LinearRegression\n",
    "from lightgbm import LGBMRegressor\n",
    "from sklearn.metrics import mean_squared_error"
   ]
  },
  {
   "cell_type": "code",
   "execution_count": 7,
   "metadata": {},
   "outputs": [],
   "source": [
    "df = pd.read_csv('datasets/autos.csv')"
   ]
  },
  {
   "cell_type": "code",
   "execution_count": 8,
   "metadata": {
    "scrolled": false
   },
   "outputs": [
    {
     "name": "stdout",
     "output_type": "stream",
     "text": [
      "<class 'pandas.core.frame.DataFrame'>\n",
      "RangeIndex: 354369 entries, 0 to 354368\n",
      "Data columns (total 16 columns):\n",
      " #   Column             Non-Null Count   Dtype \n",
      "---  ------             --------------   ----- \n",
      " 0   DateCrawled        354369 non-null  object\n",
      " 1   Price              354369 non-null  int64 \n",
      " 2   VehicleType        316879 non-null  object\n",
      " 3   RegistrationYear   354369 non-null  int64 \n",
      " 4   Gearbox            334536 non-null  object\n",
      " 5   Power              354369 non-null  int64 \n",
      " 6   Model              334664 non-null  object\n",
      " 7   Kilometer          354369 non-null  int64 \n",
      " 8   RegistrationMonth  354369 non-null  int64 \n",
      " 9   FuelType           321474 non-null  object\n",
      " 10  Brand              354369 non-null  object\n",
      " 11  Repaired           283215 non-null  object\n",
      " 12  DateCreated        354369 non-null  object\n",
      " 13  NumberOfPictures   354369 non-null  int64 \n",
      " 14  PostalCode         354369 non-null  int64 \n",
      " 15  LastSeen           354369 non-null  object\n",
      "dtypes: int64(7), object(9)\n",
      "memory usage: 43.3+ MB\n"
     ]
    }
   ],
   "source": [
    "df.info()"
   ]
  },
  {
   "cell_type": "code",
   "execution_count": 9,
   "metadata": {
    "scrolled": true
   },
   "outputs": [
    {
     "data": {
      "text/html": [
       "<div>\n",
       "<style scoped>\n",
       "    .dataframe tbody tr th:only-of-type {\n",
       "        vertical-align: middle;\n",
       "    }\n",
       "\n",
       "    .dataframe tbody tr th {\n",
       "        vertical-align: top;\n",
       "    }\n",
       "\n",
       "    .dataframe thead th {\n",
       "        text-align: right;\n",
       "    }\n",
       "</style>\n",
       "<table border=\"1\" class=\"dataframe\">\n",
       "  <thead>\n",
       "    <tr style=\"text-align: right;\">\n",
       "      <th></th>\n",
       "      <th>DateCrawled</th>\n",
       "      <th>Price</th>\n",
       "      <th>VehicleType</th>\n",
       "      <th>RegistrationYear</th>\n",
       "      <th>Gearbox</th>\n",
       "      <th>Power</th>\n",
       "      <th>Model</th>\n",
       "      <th>Kilometer</th>\n",
       "      <th>RegistrationMonth</th>\n",
       "      <th>FuelType</th>\n",
       "      <th>Brand</th>\n",
       "      <th>Repaired</th>\n",
       "      <th>DateCreated</th>\n",
       "      <th>NumberOfPictures</th>\n",
       "      <th>PostalCode</th>\n",
       "      <th>LastSeen</th>\n",
       "    </tr>\n",
       "  </thead>\n",
       "  <tbody>\n",
       "    <tr>\n",
       "      <th>0</th>\n",
       "      <td>2016-03-24 11:52:17</td>\n",
       "      <td>480</td>\n",
       "      <td>NaN</td>\n",
       "      <td>1993</td>\n",
       "      <td>manual</td>\n",
       "      <td>0</td>\n",
       "      <td>golf</td>\n",
       "      <td>150000</td>\n",
       "      <td>0</td>\n",
       "      <td>petrol</td>\n",
       "      <td>volkswagen</td>\n",
       "      <td>NaN</td>\n",
       "      <td>2016-03-24 00:00:00</td>\n",
       "      <td>0</td>\n",
       "      <td>70435</td>\n",
       "      <td>2016-04-07 03:16:57</td>\n",
       "    </tr>\n",
       "    <tr>\n",
       "      <th>1</th>\n",
       "      <td>2016-03-24 10:58:45</td>\n",
       "      <td>18300</td>\n",
       "      <td>coupe</td>\n",
       "      <td>2011</td>\n",
       "      <td>manual</td>\n",
       "      <td>190</td>\n",
       "      <td>NaN</td>\n",
       "      <td>125000</td>\n",
       "      <td>5</td>\n",
       "      <td>gasoline</td>\n",
       "      <td>audi</td>\n",
       "      <td>yes</td>\n",
       "      <td>2016-03-24 00:00:00</td>\n",
       "      <td>0</td>\n",
       "      <td>66954</td>\n",
       "      <td>2016-04-07 01:46:50</td>\n",
       "    </tr>\n",
       "    <tr>\n",
       "      <th>2</th>\n",
       "      <td>2016-03-14 12:52:21</td>\n",
       "      <td>9800</td>\n",
       "      <td>suv</td>\n",
       "      <td>2004</td>\n",
       "      <td>auto</td>\n",
       "      <td>163</td>\n",
       "      <td>grand</td>\n",
       "      <td>125000</td>\n",
       "      <td>8</td>\n",
       "      <td>gasoline</td>\n",
       "      <td>jeep</td>\n",
       "      <td>NaN</td>\n",
       "      <td>2016-03-14 00:00:00</td>\n",
       "      <td>0</td>\n",
       "      <td>90480</td>\n",
       "      <td>2016-04-05 12:47:46</td>\n",
       "    </tr>\n",
       "    <tr>\n",
       "      <th>3</th>\n",
       "      <td>2016-03-17 16:54:04</td>\n",
       "      <td>1500</td>\n",
       "      <td>small</td>\n",
       "      <td>2001</td>\n",
       "      <td>manual</td>\n",
       "      <td>75</td>\n",
       "      <td>golf</td>\n",
       "      <td>150000</td>\n",
       "      <td>6</td>\n",
       "      <td>petrol</td>\n",
       "      <td>volkswagen</td>\n",
       "      <td>no</td>\n",
       "      <td>2016-03-17 00:00:00</td>\n",
       "      <td>0</td>\n",
       "      <td>91074</td>\n",
       "      <td>2016-03-17 17:40:17</td>\n",
       "    </tr>\n",
       "    <tr>\n",
       "      <th>4</th>\n",
       "      <td>2016-03-31 17:25:20</td>\n",
       "      <td>3600</td>\n",
       "      <td>small</td>\n",
       "      <td>2008</td>\n",
       "      <td>manual</td>\n",
       "      <td>69</td>\n",
       "      <td>fabia</td>\n",
       "      <td>90000</td>\n",
       "      <td>7</td>\n",
       "      <td>gasoline</td>\n",
       "      <td>skoda</td>\n",
       "      <td>no</td>\n",
       "      <td>2016-03-31 00:00:00</td>\n",
       "      <td>0</td>\n",
       "      <td>60437</td>\n",
       "      <td>2016-04-06 10:17:21</td>\n",
       "    </tr>\n",
       "    <tr>\n",
       "      <th>5</th>\n",
       "      <td>2016-04-04 17:36:23</td>\n",
       "      <td>650</td>\n",
       "      <td>sedan</td>\n",
       "      <td>1995</td>\n",
       "      <td>manual</td>\n",
       "      <td>102</td>\n",
       "      <td>3er</td>\n",
       "      <td>150000</td>\n",
       "      <td>10</td>\n",
       "      <td>petrol</td>\n",
       "      <td>bmw</td>\n",
       "      <td>yes</td>\n",
       "      <td>2016-04-04 00:00:00</td>\n",
       "      <td>0</td>\n",
       "      <td>33775</td>\n",
       "      <td>2016-04-06 19:17:07</td>\n",
       "    </tr>\n",
       "    <tr>\n",
       "      <th>6</th>\n",
       "      <td>2016-04-01 20:48:51</td>\n",
       "      <td>2200</td>\n",
       "      <td>convertible</td>\n",
       "      <td>2004</td>\n",
       "      <td>manual</td>\n",
       "      <td>109</td>\n",
       "      <td>2_reihe</td>\n",
       "      <td>150000</td>\n",
       "      <td>8</td>\n",
       "      <td>petrol</td>\n",
       "      <td>peugeot</td>\n",
       "      <td>no</td>\n",
       "      <td>2016-04-01 00:00:00</td>\n",
       "      <td>0</td>\n",
       "      <td>67112</td>\n",
       "      <td>2016-04-05 18:18:39</td>\n",
       "    </tr>\n",
       "    <tr>\n",
       "      <th>7</th>\n",
       "      <td>2016-03-21 18:54:38</td>\n",
       "      <td>0</td>\n",
       "      <td>sedan</td>\n",
       "      <td>1980</td>\n",
       "      <td>manual</td>\n",
       "      <td>50</td>\n",
       "      <td>other</td>\n",
       "      <td>40000</td>\n",
       "      <td>7</td>\n",
       "      <td>petrol</td>\n",
       "      <td>volkswagen</td>\n",
       "      <td>no</td>\n",
       "      <td>2016-03-21 00:00:00</td>\n",
       "      <td>0</td>\n",
       "      <td>19348</td>\n",
       "      <td>2016-03-25 16:47:58</td>\n",
       "    </tr>\n",
       "    <tr>\n",
       "      <th>8</th>\n",
       "      <td>2016-04-04 23:42:13</td>\n",
       "      <td>14500</td>\n",
       "      <td>bus</td>\n",
       "      <td>2014</td>\n",
       "      <td>manual</td>\n",
       "      <td>125</td>\n",
       "      <td>c_max</td>\n",
       "      <td>30000</td>\n",
       "      <td>8</td>\n",
       "      <td>petrol</td>\n",
       "      <td>ford</td>\n",
       "      <td>NaN</td>\n",
       "      <td>2016-04-04 00:00:00</td>\n",
       "      <td>0</td>\n",
       "      <td>94505</td>\n",
       "      <td>2016-04-04 23:42:13</td>\n",
       "    </tr>\n",
       "    <tr>\n",
       "      <th>9</th>\n",
       "      <td>2016-03-17 10:53:50</td>\n",
       "      <td>999</td>\n",
       "      <td>small</td>\n",
       "      <td>1998</td>\n",
       "      <td>manual</td>\n",
       "      <td>101</td>\n",
       "      <td>golf</td>\n",
       "      <td>150000</td>\n",
       "      <td>0</td>\n",
       "      <td>NaN</td>\n",
       "      <td>volkswagen</td>\n",
       "      <td>NaN</td>\n",
       "      <td>2016-03-17 00:00:00</td>\n",
       "      <td>0</td>\n",
       "      <td>27472</td>\n",
       "      <td>2016-03-31 17:17:06</td>\n",
       "    </tr>\n",
       "  </tbody>\n",
       "</table>\n",
       "</div>"
      ],
      "text/plain": [
       "           DateCrawled  Price  VehicleType  RegistrationYear Gearbox  Power  \\\n",
       "0  2016-03-24 11:52:17    480          NaN              1993  manual      0   \n",
       "1  2016-03-24 10:58:45  18300        coupe              2011  manual    190   \n",
       "2  2016-03-14 12:52:21   9800          suv              2004    auto    163   \n",
       "3  2016-03-17 16:54:04   1500        small              2001  manual     75   \n",
       "4  2016-03-31 17:25:20   3600        small              2008  manual     69   \n",
       "5  2016-04-04 17:36:23    650        sedan              1995  manual    102   \n",
       "6  2016-04-01 20:48:51   2200  convertible              2004  manual    109   \n",
       "7  2016-03-21 18:54:38      0        sedan              1980  manual     50   \n",
       "8  2016-04-04 23:42:13  14500          bus              2014  manual    125   \n",
       "9  2016-03-17 10:53:50    999        small              1998  manual    101   \n",
       "\n",
       "     Model  Kilometer  RegistrationMonth  FuelType       Brand Repaired  \\\n",
       "0     golf     150000                  0    petrol  volkswagen      NaN   \n",
       "1      NaN     125000                  5  gasoline        audi      yes   \n",
       "2    grand     125000                  8  gasoline        jeep      NaN   \n",
       "3     golf     150000                  6    petrol  volkswagen       no   \n",
       "4    fabia      90000                  7  gasoline       skoda       no   \n",
       "5      3er     150000                 10    petrol         bmw      yes   \n",
       "6  2_reihe     150000                  8    petrol     peugeot       no   \n",
       "7    other      40000                  7    petrol  volkswagen       no   \n",
       "8    c_max      30000                  8    petrol        ford      NaN   \n",
       "9     golf     150000                  0       NaN  volkswagen      NaN   \n",
       "\n",
       "           DateCreated  NumberOfPictures  PostalCode             LastSeen  \n",
       "0  2016-03-24 00:00:00                 0       70435  2016-04-07 03:16:57  \n",
       "1  2016-03-24 00:00:00                 0       66954  2016-04-07 01:46:50  \n",
       "2  2016-03-14 00:00:00                 0       90480  2016-04-05 12:47:46  \n",
       "3  2016-03-17 00:00:00                 0       91074  2016-03-17 17:40:17  \n",
       "4  2016-03-31 00:00:00                 0       60437  2016-04-06 10:17:21  \n",
       "5  2016-04-04 00:00:00                 0       33775  2016-04-06 19:17:07  \n",
       "6  2016-04-01 00:00:00                 0       67112  2016-04-05 18:18:39  \n",
       "7  2016-03-21 00:00:00                 0       19348  2016-03-25 16:47:58  \n",
       "8  2016-04-04 00:00:00                 0       94505  2016-04-04 23:42:13  \n",
       "9  2016-03-17 00:00:00                 0       27472  2016-03-31 17:17:06  "
      ]
     },
     "execution_count": 9,
     "metadata": {},
     "output_type": "execute_result"
    }
   ],
   "source": [
    "df.head(10)"
   ]
  },
  {
   "cell_type": "code",
   "execution_count": 10,
   "metadata": {
    "scrolled": false
   },
   "outputs": [
    {
     "data": {
      "text/html": [
       "<div>\n",
       "<style scoped>\n",
       "    .dataframe tbody tr th:only-of-type {\n",
       "        vertical-align: middle;\n",
       "    }\n",
       "\n",
       "    .dataframe tbody tr th {\n",
       "        vertical-align: top;\n",
       "    }\n",
       "\n",
       "    .dataframe thead th {\n",
       "        text-align: right;\n",
       "    }\n",
       "</style>\n",
       "<table border=\"1\" class=\"dataframe\">\n",
       "  <thead>\n",
       "    <tr style=\"text-align: right;\">\n",
       "      <th></th>\n",
       "      <th>Price</th>\n",
       "      <th>RegistrationYear</th>\n",
       "      <th>Power</th>\n",
       "      <th>Kilometer</th>\n",
       "      <th>RegistrationMonth</th>\n",
       "      <th>NumberOfPictures</th>\n",
       "      <th>PostalCode</th>\n",
       "    </tr>\n",
       "  </thead>\n",
       "  <tbody>\n",
       "    <tr>\n",
       "      <th>count</th>\n",
       "      <td>354369.000000</td>\n",
       "      <td>354369.000000</td>\n",
       "      <td>354369.000000</td>\n",
       "      <td>354369.000000</td>\n",
       "      <td>354369.000000</td>\n",
       "      <td>354369.0</td>\n",
       "      <td>354369.000000</td>\n",
       "    </tr>\n",
       "    <tr>\n",
       "      <th>mean</th>\n",
       "      <td>4416.656776</td>\n",
       "      <td>2004.234448</td>\n",
       "      <td>110.094337</td>\n",
       "      <td>128211.172535</td>\n",
       "      <td>5.714645</td>\n",
       "      <td>0.0</td>\n",
       "      <td>50508.689087</td>\n",
       "    </tr>\n",
       "    <tr>\n",
       "      <th>std</th>\n",
       "      <td>4514.158514</td>\n",
       "      <td>90.227958</td>\n",
       "      <td>189.850405</td>\n",
       "      <td>37905.341530</td>\n",
       "      <td>3.726421</td>\n",
       "      <td>0.0</td>\n",
       "      <td>25783.096248</td>\n",
       "    </tr>\n",
       "    <tr>\n",
       "      <th>min</th>\n",
       "      <td>0.000000</td>\n",
       "      <td>1000.000000</td>\n",
       "      <td>0.000000</td>\n",
       "      <td>5000.000000</td>\n",
       "      <td>0.000000</td>\n",
       "      <td>0.0</td>\n",
       "      <td>1067.000000</td>\n",
       "    </tr>\n",
       "    <tr>\n",
       "      <th>25%</th>\n",
       "      <td>1050.000000</td>\n",
       "      <td>1999.000000</td>\n",
       "      <td>69.000000</td>\n",
       "      <td>125000.000000</td>\n",
       "      <td>3.000000</td>\n",
       "      <td>0.0</td>\n",
       "      <td>30165.000000</td>\n",
       "    </tr>\n",
       "    <tr>\n",
       "      <th>50%</th>\n",
       "      <td>2700.000000</td>\n",
       "      <td>2003.000000</td>\n",
       "      <td>105.000000</td>\n",
       "      <td>150000.000000</td>\n",
       "      <td>6.000000</td>\n",
       "      <td>0.0</td>\n",
       "      <td>49413.000000</td>\n",
       "    </tr>\n",
       "    <tr>\n",
       "      <th>75%</th>\n",
       "      <td>6400.000000</td>\n",
       "      <td>2008.000000</td>\n",
       "      <td>143.000000</td>\n",
       "      <td>150000.000000</td>\n",
       "      <td>9.000000</td>\n",
       "      <td>0.0</td>\n",
       "      <td>71083.000000</td>\n",
       "    </tr>\n",
       "    <tr>\n",
       "      <th>max</th>\n",
       "      <td>20000.000000</td>\n",
       "      <td>9999.000000</td>\n",
       "      <td>20000.000000</td>\n",
       "      <td>150000.000000</td>\n",
       "      <td>12.000000</td>\n",
       "      <td>0.0</td>\n",
       "      <td>99998.000000</td>\n",
       "    </tr>\n",
       "  </tbody>\n",
       "</table>\n",
       "</div>"
      ],
      "text/plain": [
       "               Price  RegistrationYear          Power      Kilometer  \\\n",
       "count  354369.000000     354369.000000  354369.000000  354369.000000   \n",
       "mean     4416.656776       2004.234448     110.094337  128211.172535   \n",
       "std      4514.158514         90.227958     189.850405   37905.341530   \n",
       "min         0.000000       1000.000000       0.000000    5000.000000   \n",
       "25%      1050.000000       1999.000000      69.000000  125000.000000   \n",
       "50%      2700.000000       2003.000000     105.000000  150000.000000   \n",
       "75%      6400.000000       2008.000000     143.000000  150000.000000   \n",
       "max     20000.000000       9999.000000   20000.000000  150000.000000   \n",
       "\n",
       "       RegistrationMonth  NumberOfPictures     PostalCode  \n",
       "count      354369.000000          354369.0  354369.000000  \n",
       "mean            5.714645               0.0   50508.689087  \n",
       "std             3.726421               0.0   25783.096248  \n",
       "min             0.000000               0.0    1067.000000  \n",
       "25%             3.000000               0.0   30165.000000  \n",
       "50%             6.000000               0.0   49413.000000  \n",
       "75%             9.000000               0.0   71083.000000  \n",
       "max            12.000000               0.0   99998.000000  "
      ]
     },
     "execution_count": 10,
     "metadata": {},
     "output_type": "execute_result"
    }
   ],
   "source": [
    "df.describe()"
   ]
  },
  {
   "cell_type": "markdown",
   "metadata": {},
   "source": [
    "Посмотрим на наличие дупликатов"
   ]
  },
  {
   "cell_type": "code",
   "execution_count": 11,
   "metadata": {},
   "outputs": [
    {
     "data": {
      "text/plain": [
       "4"
      ]
     },
     "execution_count": 11,
     "metadata": {},
     "output_type": "execute_result"
    }
   ],
   "source": [
    "df.duplicated().sum()"
   ]
  },
  {
   "cell_type": "markdown",
   "metadata": {},
   "source": [
    "Незначительное количество - можем удалить"
   ]
  },
  {
   "cell_type": "code",
   "execution_count": 12,
   "metadata": {},
   "outputs": [
    {
     "data": {
      "text/plain": [
       "0"
      ]
     },
     "execution_count": 12,
     "metadata": {},
     "output_type": "execute_result"
    }
   ],
   "source": [
    "df = df.drop_duplicates()\n",
    "df.duplicated().sum()"
   ]
  },
  {
   "cell_type": "code",
   "execution_count": 13,
   "metadata": {
    "scrolled": true
   },
   "outputs": [
    {
     "data": {
      "image/png": "[encoded data removed]",
      "text/plain": [
       "<Figure size 936x792 with 4 Axes>"
      ]
     },
     "metadata": {
      "needs_background": "light"
     },
     "output_type": "display_data"
    }
   ],
   "source": [
    "df.loc[:, (df.columns !='RegistrationYear') & (df.columns !='Power') & (df.columns !='NumberOfPictures')].hist(figsize=(13, 11));"
   ]
  },
  {
   "cell_type": "markdown",
   "metadata": {},
   "source": [
    "Переимунем столбцы под змеиный регистр"
   ]
  },
  {
   "cell_type": "code",
   "execution_count": 14,
   "metadata": {},
   "outputs": [],
   "source": [
    "df.columns = df.columns.str.lower()"
   ]
  },
  {
   "cell_type": "code",
   "execution_count": 15,
   "metadata": {},
   "outputs": [],
   "source": [
    "df = df.rename(columns = {\n",
    "    'datecrawled':'date_crawled',\n",
    "    'vehicletype':'vehicle_type',\n",
    "    'registrationyear':'registration_year',\n",
    "    'registrationmonth':'registration_month',\n",
    "    'fueltype':'fuel_type',\n",
    "    'datecreated':'date_created',\n",
    "    'numberofpictures':'number_of_pictures',\n",
    "    'postalcode':'postal_code',\n",
    "    'lastseen':'last_seen'\n",
    "    })"
   ]
  },
  {
   "cell_type": "code",
   "execution_count": 16,
   "metadata": {
    "scrolled": false
   },
   "outputs": [
    {
     "data": {
      "text/plain": [
       "Index(['date_crawled', 'price', 'vehicle_type', 'registration_year', 'gearbox',\n",
       "       'power', 'model', 'kilometer', 'registration_month', 'fuel_type',\n",
       "       'brand', 'repaired', 'date_created', 'number_of_pictures',\n",
       "       'postal_code', 'last_seen'],\n",
       "      dtype='object')"
      ]
     },
     "execution_count": 16,
     "metadata": {},
     "output_type": "execute_result"
    }
   ],
   "source": [
    "df.columns"
   ]
  },
  {
   "cell_type": "markdown",
   "metadata": {},
   "source": [
    "### Работа с пропусками"
   ]
  },
  {
   "cell_type": "code",
   "execution_count": 17,
   "metadata": {},
   "outputs": [
    {
     "data": {
      "text/plain": [
       "date_crawled              0\n",
       "price                     0\n",
       "vehicle_type          37490\n",
       "registration_year         0\n",
       "gearbox               19833\n",
       "power                     0\n",
       "model                 19705\n",
       "kilometer                 0\n",
       "registration_month        0\n",
       "fuel_type             32895\n",
       "brand                     0\n",
       "repaired              71154\n",
       "date_created              0\n",
       "number_of_pictures        0\n",
       "postal_code               0\n",
       "last_seen                 0\n",
       "dtype: int64"
      ]
     },
     "execution_count": 17,
     "metadata": {},
     "output_type": "execute_result"
    }
   ],
   "source": [
    "df.isna().sum()"
   ]
  },
  {
   "cell_type": "markdown",
   "metadata": {},
   "source": [
    "Заполним пропуски наиболее часто встречаемыми значениями:"
   ]
  },
  {
   "cell_type": "code",
   "execution_count": 18,
   "metadata": {},
   "outputs": [],
   "source": [
    "df = df.fillna(df.mode().iloc[0])"
   ]
  },
  {
   "cell_type": "code",
   "execution_count": 19,
   "metadata": {
    "scrolled": true
   },
   "outputs": [
    {
     "data": {
      "text/plain": [
       "date_crawled          0\n",
       "price                 0\n",
       "vehicle_type          0\n",
       "registration_year     0\n",
       "gearbox               0\n",
       "power                 0\n",
       "model                 0\n",
       "kilometer             0\n",
       "registration_month    0\n",
       "fuel_type             0\n",
       "brand                 0\n",
       "repaired              0\n",
       "date_created          0\n",
       "number_of_pictures    0\n",
       "postal_code           0\n",
       "last_seen             0\n",
       "dtype: int64"
      ]
     },
     "execution_count": 19,
     "metadata": {},
     "output_type": "execute_result"
    }
   ],
   "source": [
    "df.isna().sum()"
   ]
  },
  {
   "cell_type": "code",
   "execution_count": 20,
   "metadata": {
    "scrolled": true
   },
   "outputs": [
    {
     "data": {
      "text/html": [
       "<div>\n",
       "<style scoped>\n",
       "    .dataframe tbody tr th:only-of-type {\n",
       "        vertical-align: middle;\n",
       "    }\n",
       "\n",
       "    .dataframe tbody tr th {\n",
       "        vertical-align: top;\n",
       "    }\n",
       "\n",
       "    .dataframe thead th {\n",
       "        text-align: right;\n",
       "    }\n",
       "</style>\n",
       "<table border=\"1\" class=\"dataframe\">\n",
       "  <thead>\n",
       "    <tr style=\"text-align: right;\">\n",
       "      <th></th>\n",
       "      <th>date_crawled</th>\n",
       "      <th>price</th>\n",
       "      <th>vehicle_type</th>\n",
       "      <th>registration_year</th>\n",
       "      <th>gearbox</th>\n",
       "      <th>power</th>\n",
       "      <th>model</th>\n",
       "      <th>kilometer</th>\n",
       "      <th>registration_month</th>\n",
       "      <th>fuel_type</th>\n",
       "      <th>brand</th>\n",
       "      <th>repaired</th>\n",
       "      <th>date_created</th>\n",
       "      <th>number_of_pictures</th>\n",
       "      <th>postal_code</th>\n",
       "      <th>last_seen</th>\n",
       "    </tr>\n",
       "  </thead>\n",
       "  <tbody>\n",
       "    <tr>\n",
       "      <th>0</th>\n",
       "      <td>2016-03-24 11:52:17</td>\n",
       "      <td>480</td>\n",
       "      <td>sedan</td>\n",
       "      <td>1993</td>\n",
       "      <td>manual</td>\n",
       "      <td>0</td>\n",
       "      <td>golf</td>\n",
       "      <td>150000</td>\n",
       "      <td>0</td>\n",
       "      <td>petrol</td>\n",
       "      <td>volkswagen</td>\n",
       "      <td>no</td>\n",
       "      <td>2016-03-24 00:00:00</td>\n",
       "      <td>0</td>\n",
       "      <td>70435</td>\n",
       "      <td>2016-04-07 03:16:57</td>\n",
       "    </tr>\n",
       "    <tr>\n",
       "      <th>1</th>\n",
       "      <td>2016-03-24 10:58:45</td>\n",
       "      <td>18300</td>\n",
       "      <td>coupe</td>\n",
       "      <td>2011</td>\n",
       "      <td>manual</td>\n",
       "      <td>190</td>\n",
       "      <td>golf</td>\n",
       "      <td>125000</td>\n",
       "      <td>5</td>\n",
       "      <td>gasoline</td>\n",
       "      <td>audi</td>\n",
       "      <td>yes</td>\n",
       "      <td>2016-03-24 00:00:00</td>\n",
       "      <td>0</td>\n",
       "      <td>66954</td>\n",
       "      <td>2016-04-07 01:46:50</td>\n",
       "    </tr>\n",
       "    <tr>\n",
       "      <th>2</th>\n",
       "      <td>2016-03-14 12:52:21</td>\n",
       "      <td>9800</td>\n",
       "      <td>suv</td>\n",
       "      <td>2004</td>\n",
       "      <td>auto</td>\n",
       "      <td>163</td>\n",
       "      <td>grand</td>\n",
       "      <td>125000</td>\n",
       "      <td>8</td>\n",
       "      <td>gasoline</td>\n",
       "      <td>jeep</td>\n",
       "      <td>no</td>\n",
       "      <td>2016-03-14 00:00:00</td>\n",
       "      <td>0</td>\n",
       "      <td>90480</td>\n",
       "      <td>2016-04-05 12:47:46</td>\n",
       "    </tr>\n",
       "    <tr>\n",
       "      <th>3</th>\n",
       "      <td>2016-03-17 16:54:04</td>\n",
       "      <td>1500</td>\n",
       "      <td>small</td>\n",
       "      <td>2001</td>\n",
       "      <td>manual</td>\n",
       "      <td>75</td>\n",
       "      <td>golf</td>\n",
       "      <td>150000</td>\n",
       "      <td>6</td>\n",
       "      <td>petrol</td>\n",
       "      <td>volkswagen</td>\n",
       "      <td>no</td>\n",
       "      <td>2016-03-17 00:00:00</td>\n",
       "      <td>0</td>\n",
       "      <td>91074</td>\n",
       "      <td>2016-03-17 17:40:17</td>\n",
       "    </tr>\n",
       "    <tr>\n",
       "      <th>4</th>\n",
       "      <td>2016-03-31 17:25:20</td>\n",
       "      <td>3600</td>\n",
       "      <td>small</td>\n",
       "      <td>2008</td>\n",
       "      <td>manual</td>\n",
       "      <td>69</td>\n",
       "      <td>fabia</td>\n",
       "      <td>90000</td>\n",
       "      <td>7</td>\n",
       "      <td>gasoline</td>\n",
       "      <td>skoda</td>\n",
       "      <td>no</td>\n",
       "      <td>2016-03-31 00:00:00</td>\n",
       "      <td>0</td>\n",
       "      <td>60437</td>\n",
       "      <td>2016-04-06 10:17:21</td>\n",
       "    </tr>\n",
       "    <tr>\n",
       "      <th>5</th>\n",
       "      <td>2016-04-04 17:36:23</td>\n",
       "      <td>650</td>\n",
       "      <td>sedan</td>\n",
       "      <td>1995</td>\n",
       "      <td>manual</td>\n",
       "      <td>102</td>\n",
       "      <td>3er</td>\n",
       "      <td>150000</td>\n",
       "      <td>10</td>\n",
       "      <td>petrol</td>\n",
       "      <td>bmw</td>\n",
       "      <td>yes</td>\n",
       "      <td>2016-04-04 00:00:00</td>\n",
       "      <td>0</td>\n",
       "      <td>33775</td>\n",
       "      <td>2016-04-06 19:17:07</td>\n",
       "    </tr>\n",
       "    <tr>\n",
       "      <th>6</th>\n",
       "      <td>2016-04-01 20:48:51</td>\n",
       "      <td>2200</td>\n",
       "      <td>convertible</td>\n",
       "      <td>2004</td>\n",
       "      <td>manual</td>\n",
       "      <td>109</td>\n",
       "      <td>2_reihe</td>\n",
       "      <td>150000</td>\n",
       "      <td>8</td>\n",
       "      <td>petrol</td>\n",
       "      <td>peugeot</td>\n",
       "      <td>no</td>\n",
       "      <td>2016-04-01 00:00:00</td>\n",
       "      <td>0</td>\n",
       "      <td>67112</td>\n",
       "      <td>2016-04-05 18:18:39</td>\n",
       "    </tr>\n",
       "    <tr>\n",
       "      <th>7</th>\n",
       "      <td>2016-03-21 18:54:38</td>\n",
       "      <td>0</td>\n",
       "      <td>sedan</td>\n",
       "      <td>1980</td>\n",
       "      <td>manual</td>\n",
       "      <td>50</td>\n",
       "      <td>other</td>\n",
       "      <td>40000</td>\n",
       "      <td>7</td>\n",
       "      <td>petrol</td>\n",
       "      <td>volkswagen</td>\n",
       "      <td>no</td>\n",
       "      <td>2016-03-21 00:00:00</td>\n",
       "      <td>0</td>\n",
       "      <td>19348</td>\n",
       "      <td>2016-03-25 16:47:58</td>\n",
       "    </tr>\n",
       "    <tr>\n",
       "      <th>8</th>\n",
       "      <td>2016-04-04 23:42:13</td>\n",
       "      <td>14500</td>\n",
       "      <td>bus</td>\n",
       "      <td>2014</td>\n",
       "      <td>manual</td>\n",
       "      <td>125</td>\n",
       "      <td>c_max</td>\n",
       "      <td>30000</td>\n",
       "      <td>8</td>\n",
       "      <td>petrol</td>\n",
       "      <td>ford</td>\n",
       "      <td>no</td>\n",
       "      <td>2016-04-04 00:00:00</td>\n",
       "      <td>0</td>\n",
       "      <td>94505</td>\n",
       "      <td>2016-04-04 23:42:13</td>\n",
       "    </tr>\n",
       "    <tr>\n",
       "      <th>9</th>\n",
       "      <td>2016-03-17 10:53:50</td>\n",
       "      <td>999</td>\n",
       "      <td>small</td>\n",
       "      <td>1998</td>\n",
       "      <td>manual</td>\n",
       "      <td>101</td>\n",
       "      <td>golf</td>\n",
       "      <td>150000</td>\n",
       "      <td>0</td>\n",
       "      <td>petrol</td>\n",
       "      <td>volkswagen</td>\n",
       "      <td>no</td>\n",
       "      <td>2016-03-17 00:00:00</td>\n",
       "      <td>0</td>\n",
       "      <td>27472</td>\n",
       "      <td>2016-03-31 17:17:06</td>\n",
       "    </tr>\n",
       "  </tbody>\n",
       "</table>\n",
       "</div>"
      ],
      "text/plain": [
       "          date_crawled  price vehicle_type  registration_year gearbox  power  \\\n",
       "0  2016-03-24 11:52:17    480        sedan               1993  manual      0   \n",
       "1  2016-03-24 10:58:45  18300        coupe               2011  manual    190   \n",
       "2  2016-03-14 12:52:21   9800          suv               2004    auto    163   \n",
       "3  2016-03-17 16:54:04   1500        small               2001  manual     75   \n",
       "4  2016-03-31 17:25:20   3600        small               2008  manual     69   \n",
       "5  2016-04-04 17:36:23    650        sedan               1995  manual    102   \n",
       "6  2016-04-01 20:48:51   2200  convertible               2004  manual    109   \n",
       "7  2016-03-21 18:54:38      0        sedan               1980  manual     50   \n",
       "8  2016-04-04 23:42:13  14500          bus               2014  manual    125   \n",
       "9  2016-03-17 10:53:50    999        small               1998  manual    101   \n",
       "\n",
       "     model  kilometer  registration_month fuel_type       brand repaired  \\\n",
       "0     golf     150000                   0    petrol  volkswagen       no   \n",
       "1     golf     125000                   5  gasoline        audi      yes   \n",
       "2    grand     125000                   8  gasoline        jeep       no   \n",
       "3     golf     150000                   6    petrol  volkswagen       no   \n",
       "4    fabia      90000                   7  gasoline       skoda       no   \n",
       "5      3er     150000                  10    petrol         bmw      yes   \n",
       "6  2_reihe     150000                   8    petrol     peugeot       no   \n",
       "7    other      40000                   7    petrol  volkswagen       no   \n",
       "8    c_max      30000                   8    petrol        ford       no   \n",
       "9     golf     150000                   0    petrol  volkswagen       no   \n",
       "\n",
       "          date_created  number_of_pictures  postal_code            last_seen  \n",
       "0  2016-03-24 00:00:00                   0        70435  2016-04-07 03:16:57  \n",
       "1  2016-03-24 00:00:00                   0        66954  2016-04-07 01:46:50  \n",
       "2  2016-03-14 00:00:00                   0        90480  2016-04-05 12:47:46  \n",
       "3  2016-03-17 00:00:00                   0        91074  2016-03-17 17:40:17  \n",
       "4  2016-03-31 00:00:00                   0        60437  2016-04-06 10:17:21  \n",
       "5  2016-04-04 00:00:00                   0        33775  2016-04-06 19:17:07  \n",
       "6  2016-04-01 00:00:00                   0        67112  2016-04-05 18:18:39  \n",
       "7  2016-03-21 00:00:00                   0        19348  2016-03-25 16:47:58  \n",
       "8  2016-04-04 00:00:00                   0        94505  2016-04-04 23:42:13  \n",
       "9  2016-03-17 00:00:00                   0        27472  2016-03-31 17:17:06  "
      ]
     },
     "execution_count": 20,
     "metadata": {},
     "output_type": "execute_result"
    }
   ],
   "source": [
    "df.head(10)"
   ]
  },
  {
   "cell_type": "markdown",
   "metadata": {},
   "source": [
    "### Работа с аномальными значениями"
   ]
  },
  {
   "cell_type": "markdown",
   "metadata": {},
   "source": [
    "Вначале удалим столбцы, которые не принесут нам стоящей информации ( на мой взгляд):"
   ]
  },
  {
   "cell_type": "markdown",
   "metadata": {},
   "source": [
    "    number_of_pictures - кол-во изображений не влияет на стоимость автомобиля, поскольку цена определяется по другим парметрам. Люди смотрят больше на характеристики;\n",
    "    date_crawled, date_created - дата скаичивания объявления из базы и его создания также не влияет, т.к. является скорее технической информацией; \n",
    "    last_seen - последняя активность пользователя тоже является незначимым показателем;\n",
    "    postal_code - почтовый индекс имеет отношение к личным данным пользователя, а не к опредлению стоимости;\n",
    "    registration_month - при продаже автомобиля смотрят на год регистрации, а не на месяц."
   ]
  },
  {
   "cell_type": "code",
   "execution_count": 21,
   "metadata": {},
   "outputs": [
    {
     "data": {
      "text/plain": [
       "(354365, 16)"
      ]
     },
     "execution_count": 21,
     "metadata": {},
     "output_type": "execute_result"
    }
   ],
   "source": [
    "df.shape"
   ]
  },
  {
   "cell_type": "code",
   "execution_count": 22,
   "metadata": {},
   "outputs": [],
   "source": [
    "df = df.drop(['number_of_pictures', 'date_created', 'last_seen', 'date_crawled', 'postal_code', 'registration_month'], axis = 1)"
   ]
  },
  {
   "cell_type": "code",
   "execution_count": 23,
   "metadata": {
    "scrolled": true
   },
   "outputs": [
    {
     "data": {
      "text/plain": [
       "(354365, 10)"
      ]
     },
     "execution_count": 23,
     "metadata": {},
     "output_type": "execute_result"
    }
   ],
   "source": [
    "df.shape"
   ]
  },
  {
   "cell_type": "markdown",
   "metadata": {},
   "source": [
    "Выведим еще раз describe, чтобы посмотреть на аномальные значения и решим, как их от них избавиться"
   ]
  },
  {
   "cell_type": "code",
   "execution_count": 24,
   "metadata": {},
   "outputs": [
    {
     "data": {
      "text/html": [
       "<div>\n",
       "<style scoped>\n",
       "    .dataframe tbody tr th:only-of-type {\n",
       "        vertical-align: middle;\n",
       "    }\n",
       "\n",
       "    .dataframe tbody tr th {\n",
       "        vertical-align: top;\n",
       "    }\n",
       "\n",
       "    .dataframe thead th {\n",
       "        text-align: right;\n",
       "    }\n",
       "</style>\n",
       "<table border=\"1\" class=\"dataframe\">\n",
       "  <thead>\n",
       "    <tr style=\"text-align: right;\">\n",
       "      <th></th>\n",
       "      <th>price</th>\n",
       "      <th>registration_year</th>\n",
       "      <th>power</th>\n",
       "      <th>kilometer</th>\n",
       "    </tr>\n",
       "  </thead>\n",
       "  <tbody>\n",
       "    <tr>\n",
       "      <th>count</th>\n",
       "      <td>354365.000000</td>\n",
       "      <td>354365.000000</td>\n",
       "      <td>354365.000000</td>\n",
       "      <td>354365.000000</td>\n",
       "    </tr>\n",
       "    <tr>\n",
       "      <th>mean</th>\n",
       "      <td>4416.679830</td>\n",
       "      <td>2004.234481</td>\n",
       "      <td>110.093816</td>\n",
       "      <td>128211.363989</td>\n",
       "    </tr>\n",
       "    <tr>\n",
       "      <th>std</th>\n",
       "      <td>4514.176349</td>\n",
       "      <td>90.228466</td>\n",
       "      <td>189.851330</td>\n",
       "      <td>37905.083858</td>\n",
       "    </tr>\n",
       "    <tr>\n",
       "      <th>min</th>\n",
       "      <td>0.000000</td>\n",
       "      <td>1000.000000</td>\n",
       "      <td>0.000000</td>\n",
       "      <td>5000.000000</td>\n",
       "    </tr>\n",
       "    <tr>\n",
       "      <th>25%</th>\n",
       "      <td>1050.000000</td>\n",
       "      <td>1999.000000</td>\n",
       "      <td>69.000000</td>\n",
       "      <td>125000.000000</td>\n",
       "    </tr>\n",
       "    <tr>\n",
       "      <th>50%</th>\n",
       "      <td>2700.000000</td>\n",
       "      <td>2003.000000</td>\n",
       "      <td>105.000000</td>\n",
       "      <td>150000.000000</td>\n",
       "    </tr>\n",
       "    <tr>\n",
       "      <th>75%</th>\n",
       "      <td>6400.000000</td>\n",
       "      <td>2008.000000</td>\n",
       "      <td>143.000000</td>\n",
       "      <td>150000.000000</td>\n",
       "    </tr>\n",
       "    <tr>\n",
       "      <th>max</th>\n",
       "      <td>20000.000000</td>\n",
       "      <td>9999.000000</td>\n",
       "      <td>20000.000000</td>\n",
       "      <td>150000.000000</td>\n",
       "    </tr>\n",
       "  </tbody>\n",
       "</table>\n",
       "</div>"
      ],
      "text/plain": [
       "               price  registration_year          power      kilometer\n",
       "count  354365.000000      354365.000000  354365.000000  354365.000000\n",
       "mean     4416.679830        2004.234481     110.093816  128211.363989\n",
       "std      4514.176349          90.228466     189.851330   37905.083858\n",
       "min         0.000000        1000.000000       0.000000    5000.000000\n",
       "25%      1050.000000        1999.000000      69.000000  125000.000000\n",
       "50%      2700.000000        2003.000000     105.000000  150000.000000\n",
       "75%      6400.000000        2008.000000     143.000000  150000.000000\n",
       "max     20000.000000        9999.000000   20000.000000  150000.000000"
      ]
     },
     "execution_count": 24,
     "metadata": {},
     "output_type": "execute_result"
    }
   ],
   "source": [
    "df.describe()"
   ]
  },
  {
   "cell_type": "markdown",
   "metadata": {},
   "source": [
    "<b>Price</b>"
   ]
  },
  {
   "cell_type": "code",
   "execution_count": 25,
   "metadata": {
    "scrolled": true
   },
   "outputs": [
    {
     "data": {
      "image/png": "[encoded data removed]",
      "text/plain": [
       "<Figure size 432x288 with 1 Axes>"
      ]
     },
     "metadata": {
      "needs_background": "light"
     },
     "output_type": "display_data"
    },
    {
     "data": {
      "image/png": "[encoded data removed]",
      "text/plain": [
       "<Figure size 432x288 with 1 Axes>"
      ]
     },
     "metadata": {
      "needs_background": "light"
     },
     "output_type": "display_data"
    }
   ],
   "source": [
    "df.boxplot('price');\n",
    "plt.show()\n",
    "df['price'].hist();"
   ]
  },
  {
   "cell_type": "markdown",
   "metadata": {},
   "source": [
    "Машины, у которых очень маленькая стоимость, думаю, можно удалить из нашей выборки. Может это ошибка или какой-нибудь металоллом, поэтому лучше убрать. Дорогостоящие трогать не будем, т.к. это вполне объяснимо."
   ]
  },
  {
   "cell_type": "code",
   "execution_count": 26,
   "metadata": {},
   "outputs": [],
   "source": [
    "df = df.query('price > 100')"
   ]
  },
  {
   "cell_type": "code",
   "execution_count": 27,
   "metadata": {},
   "outputs": [
    {
     "data": {
      "text/plain": [
       "count    340020.000000\n",
       "mean       4602.498115\n",
       "std        4514.920302\n",
       "min         101.000000\n",
       "25%        1200.000000\n",
       "50%        2900.000000\n",
       "75%        6500.000000\n",
       "max       20000.000000\n",
       "Name: price, dtype: float64"
      ]
     },
     "execution_count": 27,
     "metadata": {},
     "output_type": "execute_result"
    }
   ],
   "source": [
    "df['price'].describe()"
   ]
  },
  {
   "cell_type": "markdown",
   "metadata": {},
   "source": [
    "<b>Registration_year</b>"
   ]
  },
  {
   "cell_type": "code",
   "execution_count": 28,
   "metadata": {
    "scrolled": true
   },
   "outputs": [
    {
     "data": {
      "image/png": "[encoded data removed]",
      "text/plain": [
       "<Figure size 432x288 with 1 Axes>"
      ]
     },
     "metadata": {
      "needs_background": "light"
     },
     "output_type": "display_data"
    },
    {
     "data": {
      "image/png": "[encoded data removed]",
      "text/plain": [
       "<Figure size 432x288 with 1 Axes>"
      ]
     },
     "metadata": {
      "needs_background": "light"
     },
     "output_type": "display_data"
    }
   ],
   "source": [
    "df.boxplot('registration_year');\n",
    "plt.show()\n",
    "df['registration_year'].hist();"
   ]
  },
  {
   "cell_type": "markdown",
   "metadata": {},
   "source": [
    "Не знаю, какие машины можно считать старыми, но явно те, что зарегитрированы в 1000 году - не подходят... Не будем особо много убирать и оставим машины с 1967 года (вдруг, там будет Chevrolet Impala 1967 года)"
   ]
  },
  {
   "cell_type": "code",
   "execution_count": 29,
   "metadata": {
    "scrolled": true
   },
   "outputs": [
    {
     "data": {
      "text/plain": [
       "count    339154.000000\n",
       "mean       2003.327220\n",
       "std           6.949708\n",
       "min        1967.000000\n",
       "25%        1999.000000\n",
       "50%        2003.000000\n",
       "75%        2008.000000\n",
       "max        2019.000000\n",
       "Name: registration_year, dtype: float64"
      ]
     },
     "execution_count": 29,
     "metadata": {},
     "output_type": "execute_result"
    }
   ],
   "source": [
    "df = df.query('1967 <= registration_year <= 2023')\n",
    "df['registration_year'].describe()"
   ]
  },
  {
   "cell_type": "markdown",
   "metadata": {},
   "source": [
    "<b>Power</b>"
   ]
  },
  {
   "cell_type": "code",
   "execution_count": 30,
   "metadata": {
    "scrolled": true
   },
   "outputs": [
    {
     "data": {
      "image/png": "[encoded data removed]",
      "text/plain": [
       "<Figure size 432x288 with 1 Axes>"
      ]
     },
     "metadata": {
      "needs_background": "light"
     },
     "output_type": "display_data"
    },
    {
     "data": {
      "image/png": "[encoded data removed]",
      "text/plain": [
       "<Figure size 432x288 with 1 Axes>"
      ]
     },
     "metadata": {
      "needs_background": "light"
     },
     "output_type": "display_data"
    }
   ],
   "source": [
    "df.boxplot('power');\n",
    "plt.show()\n",
    "df['power'].hist();"
   ]
  },
  {
   "cell_type": "markdown",
   "metadata": {},
   "source": [
    "Из того, что я нашла в интернете - оставляем машины с мощностью от 50 л.с. до 1500 (я нашла, что максимум это 2000, но не думаю, что такое нам пригодится. В среднем, у элитных внедорожников до 450 л.с., поэтому 1500 должно хватить)"
   ]
  },
  {
   "cell_type": "code",
   "execution_count": 31,
   "metadata": {},
   "outputs": [
    {
     "data": {
      "text/plain": [
       "count    299355.000000\n",
       "mean        122.334135\n",
       "std          57.366634\n",
       "min          50.000000\n",
       "25%          80.000000\n",
       "50%         114.000000\n",
       "75%         150.000000\n",
       "max        1500.000000\n",
       "Name: power, dtype: float64"
      ]
     },
     "execution_count": 31,
     "metadata": {},
     "output_type": "execute_result"
    }
   ],
   "source": [
    "df = df.query('50 <= power <= 1500')\n",
    "df['power'].describe()"
   ]
  },
  {
   "cell_type": "markdown",
   "metadata": {},
   "source": [
    "<b>Kilometer</b>"
   ]
  },
  {
   "cell_type": "code",
   "execution_count": 32,
   "metadata": {
    "scrolled": true
   },
   "outputs": [
    {
     "data": {
      "image/png": "[encoded data removed]",
      "text/plain": [
       "<Figure size 432x288 with 1 Axes>"
      ]
     },
     "metadata": {
      "needs_background": "light"
     },
     "output_type": "display_data"
    },
    {
     "data": {
      "image/png": "[encoded data removed]",
      "text/plain": [
       "<Figure size 432x288 with 1 Axes>"
      ]
     },
     "metadata": {
      "needs_background": "light"
     },
     "output_type": "display_data"
    }
   ],
   "source": [
    "df.boxplot('kilometer');\n",
    "plt.show()\n",
    "df['kilometer'].hist();"
   ]
  },
  {
   "cell_type": "markdown",
   "metadata": {},
   "source": [
    "Не думаю, что тут стоит что-то удалять, потому что пробег у машин может сильно разниться."
   ]
  },
  {
   "cell_type": "markdown",
   "metadata": {},
   "source": [
    "<b>Вывод: </b>С общей предобработкой все. Заменили пропуски на часто встречаемые значения, избавились от аномальных значений, удалили стобцы, которые не несут важной для нас информации."
   ]
  },
  {
   "cell_type": "markdown",
   "metadata": {},
   "source": [
    "## Обучение моделей"
   ]
  },
  {
   "cell_type": "markdown",
   "metadata": {},
   "source": [
    "### Разбиение на выборки"
   ]
  },
  {
   "cell_type": "code",
   "execution_count": 33,
   "metadata": {},
   "outputs": [
    {
     "name": "stdout",
     "output_type": "stream",
     "text": [
      "(299355, 9)\n",
      "(299355,)\n"
     ]
    }
   ],
   "source": [
    "features = df.drop('price', axis=1)\n",
    "target = df['price']\n",
    "print(features.shape)\n",
    "print(target.shape)"
   ]
  },
  {
   "cell_type": "code",
   "execution_count": 34,
   "metadata": {},
   "outputs": [
    {
     "name": "stdout",
     "output_type": "stream",
     "text": [
      "(224516, 9)\n",
      "(224516,)\n",
      "(74839, 9)\n",
      "(74839,)\n"
     ]
    }
   ],
   "source": [
    "features_train, features_test, target_train, target_test = train_test_split(features, target, test_size = 0.25,\n",
    "                                                                            random_state = 12345)\n",
    "print(features_train.shape)\n",
    "print(target_train.shape)\n",
    "print(features_test.shape)\n",
    "print(target_test.shape)"
   ]
  },
  {
   "cell_type": "markdown",
   "metadata": {},
   "source": [
    "### Обучение моделей"
   ]
  },
  {
   "cell_type": "markdown",
   "metadata": {},
   "source": [
    "Закодируем категорильаные признаки в числовые с помощью OrdinalEncoder и объедим их с числовыми признаками в один датафрейм для последующей работы."
   ]
  },
  {
   "cell_type": "code",
   "execution_count": 35,
   "metadata": {},
   "outputs": [],
   "source": [
    "def encode(features_train, features_test):\n",
    "    categorical = list(features_train.select_dtypes('object').columns)\n",
    "    numerical = list(features_train.select_dtypes(exclude = 'object').columns)\n",
    "    \n",
    "    encoder = OrdinalEncoder(handle_unknown = 'use_encoded_value', unknown_value=-1)\n",
    "    encoder.fit(features_train[categorical])\n",
    "    features_train_encoded = pd.DataFrame(\n",
    "        encoder.transform(features_train[categorical]),\n",
    "        columns = categorical,\n",
    "        index = features_train.index)\n",
    "\n",
    "    features_test_encoded = pd.DataFrame(\n",
    "        encoder.transform(features_test[categorical]),\n",
    "        columns = categorical,\n",
    "        index = features_test.index)\n",
    "    features_train = pd.concat((features_train[numerical], features_train_encoded), axis = 1)\n",
    "    features_test = pd.concat((features_test[numerical], features_test_encoded), axis = 1)\n",
    "    \n",
    "    return features_train, features_test"
   ]
  },
  {
   "cell_type": "code",
   "execution_count": 36,
   "metadata": {},
   "outputs": [],
   "source": [
    "features_train, features_test = encode(features_train, features_test)"
   ]
  },
  {
   "cell_type": "markdown",
   "metadata": {},
   "source": [
    "Для анализа возьмем линейную регрессию, случайный лес и LightGBM"
   ]
  },
  {
   "cell_type": "markdown",
   "metadata": {},
   "source": [
    "Подбирать оптимальные параметры (rmse и время) будем с помощью GridSearchCV."
   ]
  },
  {
   "cell_type": "code",
   "execution_count": 37,
   "metadata": {},
   "outputs": [],
   "source": [
    "def GridSearch(model, parametrs):\n",
    "    start = time.time()\n",
    "    \n",
    "    grid = GridSearchCV(model, parametrs,scoring= 'neg_mean_squared_error')\n",
    "    grid.fit(features_train, target_train)\n",
    "    \n",
    "    end = time.time()\n",
    "    \n",
    "    parametrs = grid.best_params_\n",
    "    rmse = (max(grid.cv_results_['mean_test_score']* -1))**0.5 \n",
    "    lead_time = (end-start)/60\n",
    "    return parametrs, rmse, lead_time"
   ]
  },
  {
   "cell_type": "markdown",
   "metadata": {},
   "source": [
    "<b>Линейная регрессия</b>"
   ]
  },
  {
   "cell_type": "code",
   "execution_count": 38,
   "metadata": {},
   "outputs": [],
   "source": [
    "warnings.filterwarnings('ignore')"
   ]
  },
  {
   "cell_type": "code",
   "execution_count": 39,
   "metadata": {},
   "outputs": [
    {
     "name": "stdout",
     "output_type": "stream",
     "text": [
      "Лучшие параметры {'normalize': False}\n",
      "RMSE: {3048.8333341899}\n",
      "Время выполнения: {0.02226144870122274}\n"
     ]
    }
   ],
   "source": [
    "model_linear = LinearRegression() \n",
    "parametrs = {'normalize': [True, False]}\n",
    "parametrs_linear, rmse_linear, lead_time_linear = GridSearch(model_linear, parametrs) \n",
    "print('Лучшие параметры', parametrs_linear) \n",
    "print('RMSE:', {rmse_linear}) \n",
    "print('Время выполнения:', {lead_time_linear})"
   ]
  },
  {
   "cell_type": "markdown",
   "metadata": {},
   "source": [
    "<b>Случайный лес</b>"
   ]
  },
  {
   "cell_type": "code",
   "execution_count": 40,
   "metadata": {},
   "outputs": [
    {
     "name": "stdout",
     "output_type": "stream",
     "text": [
      "Лучшие параметры {'max_depth': 9, 'min_samples_split': 4, 'n_estimators': 9, 'random_state': 12345}\n",
      "RMSE: {3755.849780804569}\n",
      "Время выполнения: {4.112198746204376}\n"
     ]
    }
   ],
   "source": [
    "model_forest = RandomForestRegressor() \n",
    "parametrs = {'n_estimators': range(1,10, 2), \n",
    "    'max_depth': range(1,10,2), \n",
    "    'min_samples_split': range(2, 6, 2), \n",
    "    'random_state' : [12345] }\n",
    "parametrs_forest, rmse_forest, lead_time_forest = GridSearch(model_forest, parametrs) \n",
    "print('Лучшие параметры', parametrs_forest) \n",
    "print('RMSE:', {rmse_forest}) \n",
    "print('Время выполнения:', {lead_time_forest})"
   ]
  },
  {
   "cell_type": "markdown",
   "metadata": {},
   "source": [
    "<b>LightGBM</b>"
   ]
  },
  {
   "cell_type": "code",
   "execution_count": 41,
   "metadata": {
    "scrolled": true
   },
   "outputs": [
    {
     "name": "stdout",
     "output_type": "stream",
     "text": [
      "Лучшие параметры: {'learning_rate': 0.5, 'max_depth': 16, 'random_state': 12345}\n",
      "RMSE: {1829.2428845137204}\n",
      "Время выполнения: {0.41902297337849936}\n"
     ]
    }
   ],
   "source": [
    "model_lgbm = LGBMRegressor() \n",
    "parametrs = [{'learning_rate': [0.1, 0.2, 0.5, 0.8], \n",
    "    'max_depth': [4, 16], \n",
    "    'random_state' : [12345],}]\n",
    "parametrs_lgbm, rmse_lgbm, lead_time_lgbm = GridSearch(model_lgbm, parametrs) \n",
    "print('Лучшие параметры:', parametrs_lgbm) \n",
    "print('RMSE:', {rmse_lgbm}) \n",
    "print('Время выполнения:', {lead_time_lgbm})"
   ]
  },
  {
   "cell_type": "markdown",
   "metadata": {},
   "source": [
    "Напишем ф-ию, которая вычисляет время обучения модели и время, затраченное на предсказание на тренировочных данных. "
   ]
  },
  {
   "cell_type": "code",
   "execution_count": 42,
   "metadata": {},
   "outputs": [],
   "source": [
    "def work_time(model):\n",
    "    start = time.time()    \n",
    "    model.fit(features_train,target_train)\n",
    "    end_train = time.time()\n",
    "    \n",
    "    model.predict(features_train)\n",
    "    end_predict = time.time()\n",
    "    end_total = time.time()\n",
    "    \n",
    "    tm_train = (end_train - start)\n",
    "    tm_predict = (end_predict - end_train)\n",
    "    tm_total = (end_total-start)\n",
    "    \n",
    "    return tm_train, tm_predict, tm_total"
   ]
  },
  {
   "cell_type": "markdown",
   "metadata": {},
   "source": [
    "<b>Время линейной регрессии</b>"
   ]
  },
  {
   "cell_type": "code",
   "execution_count": 43,
   "metadata": {},
   "outputs": [],
   "source": [
    "time_lin_train, time_lin_predict, time_lin_total = work_time(LinearRegression(normalize = False))"
   ]
  },
  {
   "cell_type": "code",
   "execution_count": 44,
   "metadata": {},
   "outputs": [
    {
     "name": "stdout",
     "output_type": "stream",
     "text": [
      "Тренировочное время: 0.06071019172668457\n",
      "Время предсказания: 0.02188563346862793\n",
      "Общее: 0.0825958251953125\n"
     ]
    }
   ],
   "source": [
    "print('Тренировочное время:', time_lin_train)\n",
    "print('Время предсказания:', time_lin_predict)\n",
    "print('Общее:', time_lin_total)"
   ]
  },
  {
   "cell_type": "markdown",
   "metadata": {},
   "source": [
    "<b>Время слуачйного леса</b>"
   ]
  },
  {
   "cell_type": "code",
   "execution_count": 45,
   "metadata": {},
   "outputs": [],
   "source": [
    "time_forest_train, time_forest_predict, time_forest_total = work_time(LinearRegression(normalize = False))"
   ]
  },
  {
   "cell_type": "code",
   "execution_count": 46,
   "metadata": {},
   "outputs": [
    {
     "name": "stdout",
     "output_type": "stream",
     "text": [
      "Тренировочное время: 0.0750741958618164\n",
      "Время предсказания: 0.016004323959350586\n",
      "Общее: 0.09107851982116699\n"
     ]
    }
   ],
   "source": [
    "print('Тренировочное время:', time_forest_train)\n",
    "print('Время предсказания:', time_forest_predict)\n",
    "print('Общее:', time_forest_total)"
   ]
  },
  {
   "cell_type": "markdown",
   "metadata": {},
   "source": [
    "<b>Время LightGBM</b>"
   ]
  },
  {
   "cell_type": "code",
   "execution_count": 47,
   "metadata": {},
   "outputs": [],
   "source": [
    "time_lgbm_train, time_lgbm_predict, time_lgbm_total = work_time(\n",
    "    LGBMRegressor(learning_rate = 0.5, max_depth = 16, random_state = 12345))"
   ]
  },
  {
   "cell_type": "code",
   "execution_count": 48,
   "metadata": {},
   "outputs": [
    {
     "name": "stdout",
     "output_type": "stream",
     "text": [
      "Тренировочное время: 1.018498182296753\n",
      "Время предсказания: 0.271282434463501\n",
      "Общее: 1.289780616760254\n"
     ]
    }
   ],
   "source": [
    "print('Тренировочное время:', time_lgbm_train)\n",
    "print('Время предсказания:', time_lgbm_predict)\n",
    "print('Общее:', time_lgbm_total)"
   ]
  },
  {
   "cell_type": "code",
   "execution_count": 53,
   "metadata": {},
   "outputs": [
    {
     "data": {
      "text/html": [
       "<div>\n",
       "<style scoped>\n",
       "    .dataframe tbody tr th:only-of-type {\n",
       "        vertical-align: middle;\n",
       "    }\n",
       "\n",
       "    .dataframe tbody tr th {\n",
       "        vertical-align: top;\n",
       "    }\n",
       "\n",
       "    .dataframe thead th {\n",
       "        text-align: right;\n",
       "    }\n",
       "</style>\n",
       "<table border=\"1\" class=\"dataframe\">\n",
       "  <thead>\n",
       "    <tr style=\"text-align: right;\">\n",
       "      <th></th>\n",
       "      <th>Linear_Regression</th>\n",
       "      <th>Random_Forest_regressor</th>\n",
       "      <th>LGBMRegressor</th>\n",
       "    </tr>\n",
       "  </thead>\n",
       "  <tbody>\n",
       "    <tr>\n",
       "      <th>train_time</th>\n",
       "      <td>0.060710</td>\n",
       "      <td>0.075074</td>\n",
       "      <td>1.018498</td>\n",
       "    </tr>\n",
       "    <tr>\n",
       "      <th>predict_time</th>\n",
       "      <td>0.021886</td>\n",
       "      <td>0.016004</td>\n",
       "      <td>0.271282</td>\n",
       "    </tr>\n",
       "    <tr>\n",
       "      <th>total_time</th>\n",
       "      <td>0.082596</td>\n",
       "      <td>0.091079</td>\n",
       "      <td>1.289781</td>\n",
       "    </tr>\n",
       "    <tr>\n",
       "      <th>RMSE</th>\n",
       "      <td>3048.833334</td>\n",
       "      <td>3755.849781</td>\n",
       "      <td>1829.242885</td>\n",
       "    </tr>\n",
       "  </tbody>\n",
       "</table>\n",
       "</div>"
      ],
      "text/plain": [
       "              Linear_Regression  Random_Forest_regressor  LGBMRegressor\n",
       "train_time             0.060710                 0.075074       1.018498\n",
       "predict_time           0.021886                 0.016004       0.271282\n",
       "total_time             0.082596                 0.091079       1.289781\n",
       "RMSE                3048.833334              3755.849781    1829.242885"
      ]
     },
     "execution_count": 53,
     "metadata": {},
     "output_type": "execute_result"
    }
   ],
   "source": [
    "new_df = {'Linear_Regression': pd.Series([time_lin_train, time_lin_predict, time_lin_total, rmse_linear],\n",
    "                                           index =['train_time','predict_time', 'total_time', 'RMSE'] ),\n",
    "       'Random_Forest_regressor': pd.Series([time_forest_train, time_forest_predict, time_forest_total, rmse_forest],\n",
    "                                           index = ['train_time','predict_time', 'total_time', 'RMSE']),\n",
    "       'LGBMRegressor' : pd.Series([time_lgbm_train, time_lgbm_predict, time_lgbm_total, rmse_lgbm],\n",
    "                                  index =['train_time','predict_time', 'total_time', 'RMSE'])\n",
    "     }\n",
    "new_df = pd.DataFrame(new_df)\n",
    "new_df"
   ]
  },
  {
   "cell_type": "markdown",
   "metadata": {},
   "source": [
    "<b>Вывод:</b> разбили данные на выборки, обучили несколько моделей (линейную регрессию, случайный лес и LightGBM) и также посмотрели на их время работы. RMSE оказался лучше всего у LightGBM - _1831_"
   ]
  },
  {
   "cell_type": "markdown",
   "metadata": {},
   "source": [
    "## Анализ моделей"
   ]
  },
  {
   "cell_type": "markdown",
   "metadata": {},
   "source": [
    "Т.к. лучшей моделью показал себя LightGBM с показателем RMSE = _1831_, то для итогового тестирования возьмем его"
   ]
  },
  {
   "cell_type": "code",
   "execution_count": 54,
   "metadata": {},
   "outputs": [],
   "source": [
    "best_model = LGBMRegressor(learning_rate = 0.5, max_depth = 16, random_state = 12345)\n",
    "best_model.fit(features_train, target_train)\n",
    "predictions = best_model.predict(features_test)"
   ]
  },
  {
   "cell_type": "code",
   "execution_count": 55,
   "metadata": {},
   "outputs": [
    {
     "name": "stdout",
     "output_type": "stream",
     "text": [
      "1646.9055969120125\n"
     ]
    }
   ],
   "source": [
    "print((mean_squared_error(target_test, predictions))**.5)"
   ]
  },
  {
   "cell_type": "markdown",
   "metadata": {},
   "source": [
    "<b>Вывод:</b> Итоговое значение RMSE на LightGBM = _1646_, что является неплохим показателем => мы берем модель LightGBM  с параметрами: (learning_rate = 0.5, max_depth = 16, random_state = 12345) и временем выполнения:\n",
    "\n",
    "    Тренировочное время: 1.018498182296753\n",
    "    Время предсказания: 0.271282434463501\n",
    "    Общее: 1.289780616760254"
   ]
  },
  {
   "cell_type": "markdown",
   "metadata": {},
   "source": [
    "## Вывод"
   ]
  },
  {
   "cell_type": "markdown",
   "metadata": {},
   "source": [
    "Данные были изучены и над ними была проведена предобработка, а именно: удалено несколько дупликатов, зполнены пропуски наиболее популярными значениями, удалены столбцы, которые не несут полезной информации и обработаны аномальные значения.\n",
    "\n",
    "Далее данные были разбиты на выборки и с их помощью обучены модели линейной регресии, слуачйного леса и LightGBM. RMSE линейной регресии была равна _3048_, слуачйного леса - _3755_, LightGBM - _1829_, в следствии чего для дальнейшей работы была выбрана модель LightGBM.\n",
    "\n",
    "Рабочее время LightGBM составляет:\n",
    "\n",
    "    Тренировочное время: 1.018498182296753\n",
    "    Время предсказания: 0.271282434463501\n",
    "    Общее: 1.289780616760254\n",
    "    \n",
    "Лучшие параметры для LightGBM: (learning_rate = 0.5, max_depth = 16, random_state = 12345) и, наконец, показатель <b>RMSE</b> на итоговой модели: _1646_, что меньше, чем 2500 => наша задача выполнена."
   ]
  }
 ],
 "metadata": {
  "ExecuteTimeLog": [
   {
    "duration": 388,
    "start_time": "2023-03-20T16:51:08.653Z"
   },
   {
    "duration": 1140,
    "start_time": "2023-03-20T16:51:09.951Z"
   },
   {
    "duration": 122,
    "start_time": "2023-03-20T16:51:27.077Z"
   },
   {
    "duration": 19,
    "start_time": "2023-03-20T16:51:55.307Z"
   },
   {
    "duration": 124,
    "start_time": "2023-03-20T16:52:08.173Z"
   },
   {
    "duration": 86,
    "start_time": "2023-03-20T16:58:08.278Z"
   },
   {
    "duration": 950,
    "start_time": "2023-03-20T16:58:44.199Z"
   },
   {
    "duration": 637,
    "start_time": "2023-03-20T16:59:02.957Z"
   },
   {
    "duration": 992,
    "start_time": "2023-03-20T16:59:49.994Z"
   },
   {
    "duration": 981,
    "start_time": "2023-03-20T16:59:57.574Z"
   },
   {
    "duration": 351,
    "start_time": "2023-03-20T17:01:41.832Z"
   },
   {
    "duration": 789,
    "start_time": "2023-03-20T17:01:42.185Z"
   },
   {
    "duration": 136,
    "start_time": "2023-03-20T17:01:42.975Z"
   },
   {
    "duration": 17,
    "start_time": "2023-03-20T17:01:43.113Z"
   },
   {
    "duration": 100,
    "start_time": "2023-03-20T17:01:43.132Z"
   },
   {
    "duration": 1098,
    "start_time": "2023-03-20T17:01:43.233Z"
   },
   {
    "duration": 21208,
    "start_time": "2023-03-20T17:01:44.333Z"
   },
   {
    "duration": 0,
    "start_time": "2023-03-20T17:02:05.547Z"
   },
   {
    "duration": 0,
    "start_time": "2023-03-20T17:02:05.548Z"
   },
   {
    "duration": 397,
    "start_time": "2023-03-20T17:02:09.386Z"
   },
   {
    "duration": 789,
    "start_time": "2023-03-20T17:02:09.785Z"
   },
   {
    "duration": 132,
    "start_time": "2023-03-20T17:02:10.576Z"
   },
   {
    "duration": 17,
    "start_time": "2023-03-20T17:02:10.710Z"
   },
   {
    "duration": 118,
    "start_time": "2023-03-20T17:02:10.730Z"
   },
   {
    "duration": 1143,
    "start_time": "2023-03-20T17:02:10.850Z"
   },
   {
    "duration": 132,
    "start_time": "2023-03-20T17:02:11.995Z"
   },
   {
    "duration": 50,
    "start_time": "2023-03-20T17:03:47.033Z"
   },
   {
    "duration": 645,
    "start_time": "2023-03-20T17:03:56.979Z"
   },
   {
    "duration": 478,
    "start_time": "2023-03-20T17:04:06.435Z"
   },
   {
    "duration": 518,
    "start_time": "2023-03-20T17:04:39.906Z"
   },
   {
    "duration": 48,
    "start_time": "2023-03-20T17:04:48.858Z"
   },
   {
    "duration": 52,
    "start_time": "2023-03-20T17:04:53.899Z"
   },
   {
    "duration": 9,
    "start_time": "2023-03-20T17:05:01.275Z"
   },
   {
    "duration": 8,
    "start_time": "2023-03-20T17:05:06.695Z"
   },
   {
    "duration": 9,
    "start_time": "2023-03-20T17:05:12.515Z"
   },
   {
    "duration": 491,
    "start_time": "2023-03-20T17:05:22.684Z"
   },
   {
    "duration": 123,
    "start_time": "2023-03-20T17:08:53.221Z"
   },
   {
    "duration": 4,
    "start_time": "2023-03-20T17:09:35.383Z"
   },
   {
    "duration": 133,
    "start_time": "2023-03-20T17:09:38.769Z"
   },
   {
    "duration": 2,
    "start_time": "2023-03-20T17:10:09.121Z"
   },
   {
    "duration": 768,
    "start_time": "2023-03-20T17:10:09.125Z"
   },
   {
    "duration": 128,
    "start_time": "2023-03-20T17:10:09.895Z"
   },
   {
    "duration": 13,
    "start_time": "2023-03-20T17:10:10.025Z"
   },
   {
    "duration": 105,
    "start_time": "2023-03-20T17:10:10.039Z"
   },
   {
    "duration": 501,
    "start_time": "2023-03-20T17:10:10.146Z"
   },
   {
    "duration": 20,
    "start_time": "2023-03-20T17:10:10.649Z"
   },
   {
    "duration": 141,
    "start_time": "2023-03-20T17:10:10.671Z"
   },
   {
    "duration": 4,
    "start_time": "2023-03-20T17:10:10.814Z"
   },
   {
    "duration": 133,
    "start_time": "2023-03-20T17:10:10.820Z"
   },
   {
    "duration": 3,
    "start_time": "2023-03-20T17:10:36.991Z"
   },
   {
    "duration": 126,
    "start_time": "2023-03-20T17:10:38.692Z"
   },
   {
    "duration": 60,
    "start_time": "2023-03-20T17:12:45.649Z"
   },
   {
    "duration": 123,
    "start_time": "2023-03-20T17:12:48.415Z"
   },
   {
    "duration": 117,
    "start_time": "2023-03-20T17:13:15.444Z"
   },
   {
    "duration": 10,
    "start_time": "2023-03-20T17:17:21.201Z"
   },
   {
    "duration": 4,
    "start_time": "2023-03-20T17:17:27.083Z"
   },
   {
    "duration": 627,
    "start_time": "2023-03-20T17:17:54.184Z"
   },
   {
    "duration": 116,
    "start_time": "2023-03-20T17:18:01.016Z"
   },
   {
    "duration": 14,
    "start_time": "2023-03-20T17:19:56.705Z"
   },
   {
    "duration": 3,
    "start_time": "2023-03-20T17:20:02.977Z"
   },
   {
    "duration": 766,
    "start_time": "2023-03-20T17:20:02.982Z"
   },
   {
    "duration": 142,
    "start_time": "2023-03-20T17:20:03.749Z"
   },
   {
    "duration": 22,
    "start_time": "2023-03-20T17:20:03.893Z"
   },
   {
    "duration": 104,
    "start_time": "2023-03-20T17:20:03.919Z"
   },
   {
    "duration": 490,
    "start_time": "2023-03-20T17:20:04.027Z"
   },
   {
    "duration": 3,
    "start_time": "2023-03-20T17:20:04.519Z"
   },
   {
    "duration": 27,
    "start_time": "2023-03-20T17:20:04.523Z"
   },
   {
    "duration": 4,
    "start_time": "2023-03-20T17:20:04.552Z"
   },
   {
    "duration": 136,
    "start_time": "2023-03-20T17:20:04.557Z"
   },
   {
    "duration": 594,
    "start_time": "2023-03-20T17:20:04.695Z"
   },
   {
    "duration": 123,
    "start_time": "2023-03-20T17:20:05.290Z"
   },
   {
    "duration": 17,
    "start_time": "2023-03-20T17:20:05.414Z"
   },
   {
    "duration": 364,
    "start_time": "2023-03-20T17:24:06.431Z"
   },
   {
    "duration": 2,
    "start_time": "2023-03-20T17:27:56.280Z"
   },
   {
    "duration": 106,
    "start_time": "2023-03-20T17:28:40.144Z"
   },
   {
    "duration": 82,
    "start_time": "2023-03-20T17:29:07.352Z"
   },
   {
    "duration": 602,
    "start_time": "2023-03-20T17:29:26.156Z"
   },
   {
    "duration": 512,
    "start_time": "2023-03-20T17:31:49.424Z"
   },
   {
    "duration": 497,
    "start_time": "2023-03-20T17:32:19.885Z"
   },
   {
    "duration": 679,
    "start_time": "2023-03-26T07:24:28.813Z"
   },
   {
    "duration": 1019,
    "start_time": "2023-03-26T07:24:32.010Z"
   },
   {
    "duration": 1183,
    "start_time": "2023-03-26T07:24:42.491Z"
   },
   {
    "duration": 143,
    "start_time": "2023-03-26T07:24:43.676Z"
   },
   {
    "duration": 19,
    "start_time": "2023-03-26T07:24:46.287Z"
   },
   {
    "duration": 104,
    "start_time": "2023-03-26T07:24:50.003Z"
   },
   {
    "duration": 506,
    "start_time": "2023-03-26T07:24:50.912Z"
   },
   {
    "duration": 1015,
    "start_time": "2023-03-26T07:24:53.805Z"
   },
   {
    "duration": 690,
    "start_time": "2023-03-26T07:25:07.756Z"
   },
   {
    "duration": 4,
    "start_time": "2023-03-26T07:25:13.537Z"
   },
   {
    "duration": 68,
    "start_time": "2023-03-26T07:25:17.452Z"
   },
   {
    "duration": 5,
    "start_time": "2023-03-26T07:25:19.404Z"
   },
   {
    "duration": 135,
    "start_time": "2023-03-26T07:25:20.495Z"
   },
   {
    "duration": 467,
    "start_time": "2023-03-26T07:25:30.890Z"
   },
   {
    "duration": 438,
    "start_time": "2023-03-26T07:25:46.071Z"
   },
   {
    "duration": 468,
    "start_time": "2023-03-26T07:25:51.604Z"
   },
   {
    "duration": 49,
    "start_time": "2023-03-26T07:27:08.479Z"
   },
   {
    "duration": 666,
    "start_time": "2023-03-26T07:27:10.910Z"
   },
   {
    "duration": 83,
    "start_time": "2023-03-26T07:27:36.800Z"
   },
   {
    "duration": 6,
    "start_time": "2023-03-26T07:27:50.254Z"
   },
   {
    "duration": 62,
    "start_time": "2023-03-26T07:28:08.041Z"
   },
   {
    "duration": 47,
    "start_time": "2023-03-26T07:28:34.177Z"
   },
   {
    "duration": 139,
    "start_time": "2023-03-26T07:29:03.135Z"
   },
   {
    "duration": 4,
    "start_time": "2023-03-26T07:29:09.770Z"
   },
   {
    "duration": 33,
    "start_time": "2023-03-26T07:29:16.242Z"
   },
   {
    "duration": 4,
    "start_time": "2023-03-26T07:29:17.657Z"
   },
   {
    "duration": 68,
    "start_time": "2023-03-26T07:29:33.405Z"
   },
   {
    "duration": 27,
    "start_time": "2023-03-26T07:30:03.937Z"
   },
   {
    "duration": 575,
    "start_time": "2023-03-26T07:30:55.558Z"
   },
   {
    "duration": 672,
    "start_time": "2023-03-26T07:30:59.414Z"
   },
   {
    "duration": 50,
    "start_time": "2023-03-26T07:31:25.235Z"
   },
   {
    "duration": 41,
    "start_time": "2023-03-26T07:32:08.130Z"
   },
   {
    "duration": 66,
    "start_time": "2023-03-26T07:32:57.280Z"
   },
   {
    "duration": 16,
    "start_time": "2023-03-26T07:33:21.219Z"
   },
   {
    "duration": 64,
    "start_time": "2023-03-26T07:33:27.439Z"
   },
   {
    "duration": 5,
    "start_time": "2023-03-26T07:34:25.731Z"
   },
   {
    "duration": 541,
    "start_time": "2023-03-26T07:34:26.695Z"
   },
   {
    "duration": 1090,
    "start_time": "2023-03-26T08:14:47.315Z"
   },
   {
    "duration": 3043,
    "start_time": "2023-03-26T08:14:48.408Z"
   },
   {
    "duration": 913,
    "start_time": "2023-03-26T08:14:51.455Z"
   },
   {
    "duration": 3867,
    "start_time": "2023-03-26T08:14:52.370Z"
   },
   {
    "duration": 177,
    "start_time": "2023-03-26T08:14:56.238Z"
   },
   {
    "duration": 19,
    "start_time": "2023-03-26T08:14:56.417Z"
   },
   {
    "duration": 129,
    "start_time": "2023-03-26T08:14:56.438Z"
   },
   {
    "duration": 601,
    "start_time": "2023-03-26T08:14:56.569Z"
   },
   {
    "duration": 1301,
    "start_time": "2023-03-26T08:14:57.171Z"
   },
   {
    "duration": 853,
    "start_time": "2023-03-26T08:14:58.478Z"
   },
   {
    "duration": 5,
    "start_time": "2023-03-26T08:14:59.334Z"
   },
   {
    "duration": 94,
    "start_time": "2023-03-26T08:14:59.342Z"
   },
   {
    "duration": 5,
    "start_time": "2023-03-26T08:14:59.438Z"
   },
   {
    "duration": 200,
    "start_time": "2023-03-26T08:14:59.445Z"
   },
   {
    "duration": 799,
    "start_time": "2023-03-26T08:14:59.647Z"
   },
   {
    "duration": 150,
    "start_time": "2023-03-26T08:15:00.448Z"
   },
   {
    "duration": 21,
    "start_time": "2023-03-26T08:15:00.600Z"
   },
   {
    "duration": 17,
    "start_time": "2023-03-26T08:15:00.622Z"
   },
   {
    "duration": 47,
    "start_time": "2023-03-26T08:15:00.640Z"
   },
   {
    "duration": 6,
    "start_time": "2023-03-26T08:15:00.689Z"
   },
   {
    "duration": 118,
    "start_time": "2023-03-26T08:15:00.697Z"
   },
   {
    "duration": 786,
    "start_time": "2023-03-26T08:15:00.819Z"
   },
   {
    "duration": 31,
    "start_time": "2023-03-26T08:15:01.607Z"
   },
   {
    "duration": 44,
    "start_time": "2023-03-26T08:15:01.640Z"
   },
   {
    "duration": 809,
    "start_time": "2023-03-26T08:15:01.687Z"
   },
   {
    "duration": 76,
    "start_time": "2023-03-26T08:15:02.499Z"
   },
   {
    "duration": 633,
    "start_time": "2023-03-26T08:15:02.578Z"
   },
   {
    "duration": 66,
    "start_time": "2023-03-26T08:15:03.217Z"
   },
   {
    "duration": 730,
    "start_time": "2023-03-26T08:15:03.285Z"
   },
   {
    "duration": 16,
    "start_time": "2023-03-26T08:15:04.017Z"
   },
   {
    "duration": 135,
    "start_time": "2023-03-26T08:15:04.036Z"
   },
   {
    "duration": 10,
    "start_time": "2023-03-26T08:15:04.173Z"
   },
   {
    "duration": 824,
    "start_time": "2023-03-26T08:15:04.186Z"
   },
   {
    "duration": 5,
    "start_time": "2023-03-26T08:15:05.012Z"
   },
   {
    "duration": 4,
    "start_time": "2023-03-26T08:15:05.024Z"
   },
   {
    "duration": 2274,
    "start_time": "2023-03-26T08:15:05.030Z"
   },
   {
    "duration": 201460,
    "start_time": "2023-03-26T08:15:07.309Z"
   }
  ],
  "kernelspec": {
   "display_name": "Python 3 (ipykernel)",
   "language": "python",
   "name": "python3"
  },
  "language_info": {
   "codemirror_mode": {
    "name": "ipython",
    "version": 3
   },
   "file_extension": ".py",
   "mimetype": "text/x-python",
   "name": "python",
   "nbconvert_exporter": "python",
   "pygments_lexer": "ipython3",
   "version": "3.10.9"
  },
  "toc": {
   "base_numbering": 1,
   "nav_menu": {},
   "number_sections": true,
   "sideBar": true,
   "skip_h1_title": true,
   "title_cell": "Table of Contents",
   "title_sidebar": "Contents",
   "toc_cell": false,
   "toc_position": {},
   "toc_section_display": true,
   "toc_window_display": true
  }
 },
 "nbformat": 4,
 "nbformat_minor": 2
}
