{
 "cells": [
  {
   "cell_type": "markdown",
   "metadata": {},
   "source": [
    "# Рекомендация тарифов"
   ]
  },
  {
   "cell_type": "markdown",
   "metadata": {},
   "source": [
    "В вашем распоряжении данные о поведении клиентов, которые уже перешли на эти тарифы (из проекта курса «Статистический анализ данных»). Нужно построить модель для задачи классификации, которая выберет подходящий тариф. Предобработка данных не понадобится — вы её уже сделали.\n",
    "\n",
    "Постройте модель с максимально большим значением *accuracy*. Чтобы сдать проект успешно, нужно довести долю правильных ответов по крайней мере до 0.75. Проверьте *accuracy* на тестовой выборке самостоятельно."
   ]
  },
  {
   "cell_type": "markdown",
   "metadata": {},
   "source": [
    "Каждый объект в наборе данных — это информация о поведении одного пользователя за месяц. Известно:"
   ]
  },
  {
   "cell_type": "markdown",
   "metadata": {},
   "source": [
    "    сalls — количество звонков,\n",
    "    minutes — суммарная длительность звонков в минутах,\n",
    "    messages — количество sms-сообщений,\n",
    "    mb_used — израсходованный интернет-трафик в Мб,\n",
    "    is_ultra — каким тарифом пользовался в течение месяца («Ультра» — 1, «Смарт» — 0)."
   ]
  },
  {
   "cell_type": "markdown",
   "metadata": {},
   "source": [
    "## Откройте и изучите файл"
   ]
  },
  {
   "cell_type": "code",
   "execution_count": 1,
   "metadata": {},
   "outputs": [],
   "source": [
    "import matplotlib.pyplot as plt\n",
    "import numpy as np\n",
    "import pandas as pd"
   ]
  },
  {
   "cell_type": "code",
   "execution_count": 2,
   "metadata": {},
   "outputs": [],
   "source": [
    "from tqdm import tqdm"
   ]
  },
  {
   "cell_type": "code",
   "execution_count": 3,
   "metadata": {},
   "outputs": [],
   "source": [
    "from sklearn.model_selection import train_test_split \n",
    "from sklearn.tree import DecisionTreeClassifier\n",
    "from sklearn.metrics import accuracy_score\n",
    "from sklearn.linear_model import LogisticRegression \n",
    "from sklearn.ensemble import RandomForestClassifier\n",
    "from sklearn.model_selection import train_test_split\n",
    "from sklearn.dummy import DummyClassifier\n",
    "from sklearn.datasets import load_iris\n",
    "from sklearn import tree"
   ]
  },
  {
   "cell_type": "code",
   "execution_count": 4,
   "metadata": {},
   "outputs": [],
   "source": [
    "try:\n",
    "    df = pd.read_csv('/datasets/users_behavior.csv')\n",
    "except:\n",
    "    df = pd.read_csv('https://code.s3.yandex.net/datasets/users_behavior.csv')"
   ]
  },
  {
   "cell_type": "code",
   "execution_count": 5,
   "metadata": {
    "scrolled": true
   },
   "outputs": [
    {
     "name": "stdout",
     "output_type": "stream",
     "text": [
      "<class 'pandas.core.frame.DataFrame'>\n",
      "RangeIndex: 3214 entries, 0 to 3213\n",
      "Data columns (total 5 columns):\n",
      " #   Column    Non-Null Count  Dtype  \n",
      "---  ------    --------------  -----  \n",
      " 0   calls     3214 non-null   float64\n",
      " 1   minutes   3214 non-null   float64\n",
      " 2   messages  3214 non-null   float64\n",
      " 3   mb_used   3214 non-null   float64\n",
      " 4   is_ultra  3214 non-null   int64  \n",
      "dtypes: float64(4), int64(1)\n",
      "memory usage: 125.7 KB\n"
     ]
    }
   ],
   "source": [
    "df.info()"
   ]
  },
  {
   "cell_type": "code",
   "execution_count": 6,
   "metadata": {},
   "outputs": [
    {
     "data": {
      "text/html": [
       "<div>\n",
       "<style scoped>\n",
       "    .dataframe tbody tr th:only-of-type {\n",
       "        vertical-align: middle;\n",
       "    }\n",
       "\n",
       "    .dataframe tbody tr th {\n",
       "        vertical-align: top;\n",
       "    }\n",
       "\n",
       "    .dataframe thead th {\n",
       "        text-align: right;\n",
       "    }\n",
       "</style>\n",
       "<table border=\"1\" class=\"dataframe\">\n",
       "  <thead>\n",
       "    <tr style=\"text-align: right;\">\n",
       "      <th></th>\n",
       "      <th>calls</th>\n",
       "      <th>minutes</th>\n",
       "      <th>messages</th>\n",
       "      <th>mb_used</th>\n",
       "      <th>is_ultra</th>\n",
       "    </tr>\n",
       "  </thead>\n",
       "  <tbody>\n",
       "    <tr>\n",
       "      <th>0</th>\n",
       "      <td>40.0</td>\n",
       "      <td>311.90</td>\n",
       "      <td>83.0</td>\n",
       "      <td>19915.42</td>\n",
       "      <td>0</td>\n",
       "    </tr>\n",
       "    <tr>\n",
       "      <th>1</th>\n",
       "      <td>85.0</td>\n",
       "      <td>516.75</td>\n",
       "      <td>56.0</td>\n",
       "      <td>22696.96</td>\n",
       "      <td>0</td>\n",
       "    </tr>\n",
       "    <tr>\n",
       "      <th>2</th>\n",
       "      <td>77.0</td>\n",
       "      <td>467.66</td>\n",
       "      <td>86.0</td>\n",
       "      <td>21060.45</td>\n",
       "      <td>0</td>\n",
       "    </tr>\n",
       "    <tr>\n",
       "      <th>3</th>\n",
       "      <td>106.0</td>\n",
       "      <td>745.53</td>\n",
       "      <td>81.0</td>\n",
       "      <td>8437.39</td>\n",
       "      <td>1</td>\n",
       "    </tr>\n",
       "    <tr>\n",
       "      <th>4</th>\n",
       "      <td>66.0</td>\n",
       "      <td>418.74</td>\n",
       "      <td>1.0</td>\n",
       "      <td>14502.75</td>\n",
       "      <td>0</td>\n",
       "    </tr>\n",
       "  </tbody>\n",
       "</table>\n",
       "</div>"
      ],
      "text/plain": [
       "   calls  minutes  messages   mb_used  is_ultra\n",
       "0   40.0   311.90      83.0  19915.42         0\n",
       "1   85.0   516.75      56.0  22696.96         0\n",
       "2   77.0   467.66      86.0  21060.45         0\n",
       "3  106.0   745.53      81.0   8437.39         1\n",
       "4   66.0   418.74       1.0  14502.75         0"
      ]
     },
     "execution_count": 6,
     "metadata": {},
     "output_type": "execute_result"
    }
   ],
   "source": [
    "df.head()"
   ]
  },
  {
   "cell_type": "code",
   "execution_count": 7,
   "metadata": {
    "scrolled": true
   },
   "outputs": [
    {
     "data": {
      "text/html": [
       "<div>\n",
       "<style scoped>\n",
       "    .dataframe tbody tr th:only-of-type {\n",
       "        vertical-align: middle;\n",
       "    }\n",
       "\n",
       "    .dataframe tbody tr th {\n",
       "        vertical-align: top;\n",
       "    }\n",
       "\n",
       "    .dataframe thead th {\n",
       "        text-align: right;\n",
       "    }\n",
       "</style>\n",
       "<table border=\"1\" class=\"dataframe\">\n",
       "  <thead>\n",
       "    <tr style=\"text-align: right;\">\n",
       "      <th></th>\n",
       "      <th>calls</th>\n",
       "      <th>minutes</th>\n",
       "      <th>messages</th>\n",
       "      <th>mb_used</th>\n",
       "      <th>is_ultra</th>\n",
       "    </tr>\n",
       "  </thead>\n",
       "  <tbody>\n",
       "    <tr>\n",
       "      <th>calls</th>\n",
       "      <td>1.000000</td>\n",
       "      <td>0.978684</td>\n",
       "      <td>0.155032</td>\n",
       "      <td>0.253886</td>\n",
       "      <td>0.160549</td>\n",
       "    </tr>\n",
       "    <tr>\n",
       "      <th>minutes</th>\n",
       "      <td>0.978684</td>\n",
       "      <td>1.000000</td>\n",
       "      <td>0.153784</td>\n",
       "      <td>0.248818</td>\n",
       "      <td>0.159991</td>\n",
       "    </tr>\n",
       "    <tr>\n",
       "      <th>messages</th>\n",
       "      <td>0.155032</td>\n",
       "      <td>0.153784</td>\n",
       "      <td>1.000000</td>\n",
       "      <td>0.141999</td>\n",
       "      <td>0.106537</td>\n",
       "    </tr>\n",
       "    <tr>\n",
       "      <th>mb_used</th>\n",
       "      <td>0.253886</td>\n",
       "      <td>0.248818</td>\n",
       "      <td>0.141999</td>\n",
       "      <td>1.000000</td>\n",
       "      <td>0.154989</td>\n",
       "    </tr>\n",
       "    <tr>\n",
       "      <th>is_ultra</th>\n",
       "      <td>0.160549</td>\n",
       "      <td>0.159991</td>\n",
       "      <td>0.106537</td>\n",
       "      <td>0.154989</td>\n",
       "      <td>1.000000</td>\n",
       "    </tr>\n",
       "  </tbody>\n",
       "</table>\n",
       "</div>"
      ],
      "text/plain": [
       "             calls   minutes  messages   mb_used  is_ultra\n",
       "calls     1.000000  0.978684  0.155032  0.253886  0.160549\n",
       "minutes   0.978684  1.000000  0.153784  0.248818  0.159991\n",
       "messages  0.155032  0.153784  1.000000  0.141999  0.106537\n",
       "mb_used   0.253886  0.248818  0.141999  1.000000  0.154989\n",
       "is_ultra  0.160549  0.159991  0.106537  0.154989  1.000000"
      ]
     },
     "execution_count": 7,
     "metadata": {},
     "output_type": "execute_result"
    }
   ],
   "source": [
    "df.corr(method='spearman')"
   ]
  },
  {
   "cell_type": "markdown",
   "metadata": {},
   "source": [
    "Насколько я помню, коэффициент корреляции можно считать высоким, если он больше 0.7. Тут видна сильная связь между кол-вом звонков и минутами. В вузе мы избавлялись от мультиколлинеарности, убирая факторы, которые имеют более слабую связь с другими факторами, но в этом случае это не сработает, думаю... Но вообще мультиколлинераность не дает возможность верно оценить зависимости, вроде. \n",
    "\n",
    "Но что в данном случае с этим делать - не совсем представляю...."
   ]
  },
  {
   "cell_type": "markdown",
   "metadata": {},
   "source": [
    "## Разбейте данные на выборки"
   ]
  },
  {
   "cell_type": "markdown",
   "metadata": {},
   "source": [
    "Изначально хотела разбить выборки на две части, но в чек-листе было написано про 3... Тогда разобьем выборку в следующих пропорциях: 60-20-20. Целевым признаком будет 'is_ultra' - выбранный тариф."
   ]
  },
  {
   "cell_type": "code",
   "execution_count": 8,
   "metadata": {},
   "outputs": [
    {
     "name": "stdout",
     "output_type": "stream",
     "text": [
      "(1928, 4)\n",
      "(1928,)\n"
     ]
    }
   ],
   "source": [
    "features = df.drop(['is_ultra'],axis= 1)\n",
    "target = df['is_ultra']\n",
    "features_train, features_test, target_train, target_test = train_test_split(features, target, stratify=target,\n",
    "                                                                            test_size=.4, random_state=12345)\n",
    "#обучающая выборка\n",
    "print(features_train.shape)\n",
    "print(target_train.shape)"
   ]
  },
  {
   "cell_type": "code",
   "execution_count": 9,
   "metadata": {},
   "outputs": [
    {
     "name": "stdout",
     "output_type": "stream",
     "text": [
      "(643, 4)\n",
      "(643,)\n",
      "(643, 4)\n",
      "(643,)\n"
     ]
    }
   ],
   "source": [
    "features_valid, features_test, target_valid, target_test = train_test_split(features_test, target_test, stratify=target_test,\n",
    "                                                                            test_size=.5, random_state=12345)\n",
    "#тестовая выборка, на которой мы будем проверять модель\n",
    "print(features_test.shape)\n",
    "print(target_test.shape)\n",
    "#валидационная выборка\n",
    "print(features_valid.shape)\n",
    "print(target_valid.shape)"
   ]
  },
  {
   "cell_type": "markdown",
   "metadata": {},
   "source": [
    "## Исследуйте модели"
   ]
  },
  {
   "cell_type": "markdown",
   "metadata": {},
   "source": [
    "### Решающее древо"
   ]
  },
  {
   "cell_type": "markdown",
   "metadata": {},
   "source": [
    "Начнем с модели решающего дерева. У нее низкое качество, но зато высокая скорость."
   ]
  },
  {
   "cell_type": "code",
   "execution_count": 10,
   "metadata": {},
   "outputs": [],
   "source": [
    "best_model = None\n",
    "best_result = 0\n",
    "train_list = []\n",
    "valid_list = []\n",
    "for depth in range(1, 10):\n",
    "    model = DecisionTreeClassifier(random_state=12345, max_depth=depth) #модель с заданной глубиной дерева\n",
    "    model.fit(features_train, target_train) # обучение модели\n",
    "    predictions = model.predict(features_valid) #предсказания модели\n",
    "    result = accuracy_score(target_valid, predictions) #качество модели\n",
    "    valid_list.append(result)\n",
    "    if result > best_result:\n",
    "        best_model = model\n",
    "        best_result = result\n",
    "        best_depth = depth"
   ]
  },
  {
   "cell_type": "code",
   "execution_count": 11,
   "metadata": {
    "scrolled": true
   },
   "outputs": [
    {
     "data": {
      "image/png": "[encoded data removed]",
      "text/plain": [
       "<Figure size 432x288 with 1 Axes>"
      ]
     },
     "metadata": {
      "needs_background": "light"
     },
     "output_type": "display_data"
    }
   ],
   "source": [
    "plt.plot(valid_list);"
   ]
  },
  {
   "cell_type": "code",
   "execution_count": 12,
   "metadata": {},
   "outputs": [
    {
     "data": {
      "image/png": "[encoded data removed]",
      "text/plain": [
       "<Figure size 432x288 with 1 Axes>"
      ]
     },
     "metadata": {
      "needs_background": "light"
     },
     "output_type": "display_data"
    }
   ],
   "source": [
    "clf = tree.DecisionTreeClassifier(random_state=12345, max_depth=3)\n",
    "iris = load_iris()\n",
    "clf = clf.fit(iris.data, iris.target)\n",
    "tree.plot_tree(clf);"
   ]
  },
  {
   "cell_type": "code",
   "execution_count": 13,
   "metadata": {},
   "outputs": [
    {
     "name": "stdout",
     "output_type": "stream",
     "text": [
      "Accuracy лучшей модели: 0.80248833592535\n",
      "Выбранная глубина:  8\n"
     ]
    }
   ],
   "source": [
    "print(\"Accuracy лучшей модели:\", best_result)\n",
    "print(\"Выбранная глубина: \", best_depth)"
   ]
  },
  {
   "cell_type": "markdown",
   "metadata": {},
   "source": [
    "Значение accuracy > 0.75 - уже неплохо, посмотрим, что будет на следующих. "
   ]
  },
  {
   "cell_type": "markdown",
   "metadata": {},
   "source": [
    "### Логистическая регрессия"
   ]
  },
  {
   "cell_type": "markdown",
   "metadata": {},
   "source": [
    "Посмотрим на модель логистической регрессии - ее качество должно быть немного выше древа."
   ]
  },
  {
   "cell_type": "code",
   "execution_count": 14,
   "metadata": {},
   "outputs": [],
   "source": [
    "model_log = LogisticRegression(random_state=12345, solver='lbfgs', max_iter=1000)\n",
    "model_log.fit(features_train, target_train)\n",
    "predictions_log = model_log.predict(features_valid)\n",
    "result =  accuracy_score(target_valid, predictions_log)"
   ]
  },
  {
   "cell_type": "code",
   "execution_count": 15,
   "metadata": {
    "scrolled": true
   },
   "outputs": [
    {
     "name": "stdout",
     "output_type": "stream",
     "text": [
      "Accuracy 0.7387247278382582\n"
     ]
    }
   ],
   "source": [
    "print(\"Accuracy\",result)"
   ]
  },
  {
   "cell_type": "markdown",
   "metadata": {},
   "source": [
    "Accuracy меньше 0.75 - данная модель нам не подходит. "
   ]
  },
  {
   "cell_type": "markdown",
   "metadata": {},
   "source": [
    "### Случайный лес"
   ]
  },
  {
   "cell_type": "markdown",
   "metadata": {},
   "source": [
    "У случайного леса высокое качество, но низкая скорость. Скорее всего, будет выбрана эта модель - в данном случае скорость нам не критична, а точность будет (должна быть...) выше."
   ]
  },
  {
   "cell_type": "code",
   "execution_count": 16,
   "metadata": {},
   "outputs": [
    {
     "name": "stderr",
     "output_type": "stream",
     "text": [
      "100%|██████████| 5/5 [02:39<00:00, 31.98s/it]\n"
     ]
    }
   ],
   "source": [
    "for n_estimators in tqdm(range(5)):\n",
    "    best_model_forest = None\n",
    "    best_result_forest = 0\n",
    "    best_depth_forest = 0\n",
    "    for est in  range(10, 101, 10):\n",
    "        for depth in range(1, 21, 1):\n",
    "            model_forest = RandomForestClassifier(random_state=12345, max_depth=depth, n_estimators=est)\n",
    "            model_forest.fit(features_train,target_train)\n",
    "            predictions_valid = model_forest.predict(features_valid)\n",
    "            result =  accuracy_score(target_valid, predictions_valid)\n",
    "            if result > best_result_forest:\n",
    "                best_model_forest = model_forest\n",
    "                best_est = est\n",
    "                best_result_forest = result\n",
    "                best_depth_forest = depth"
   ]
  },
  {
   "cell_type": "code",
   "execution_count": 20,
   "metadata": {
    "scrolled": true
   },
   "outputs": [
    {
     "name": "stdout",
     "output_type": "stream",
     "text": [
      "Accuracy 0.8211508553654744\n",
      "Глубина 9\n",
      "Кол-во деревьев 40\n"
     ]
    }
   ],
   "source": [
    "print(\"Accuracy\", best_result_forest)\n",
    "print('Глубина',best_depth_forest)\n",
    "print('Кол-во деревьев', best_est)"
   ]
  },
  {
   "cell_type": "markdown",
   "metadata": {},
   "source": [
    "Accuracy = 0.81, что больше 0.75 и больше, чем в двух предыдущих моделях. Значит для длальнейшей работы выбираем случайный лес."
   ]
  },
  {
   "cell_type": "markdown",
   "metadata": {},
   "source": [
    "## Проверьте модель на тестовой выборке"
   ]
  },
  {
   "cell_type": "markdown",
   "metadata": {},
   "source": [
    "Проверяем модель случайного леса на тестовой выборке"
   ]
  },
  {
   "cell_type": "code",
   "execution_count": 21,
   "metadata": {},
   "outputs": [
    {
     "name": "stdout",
     "output_type": "stream",
     "text": [
      "Accuracy итоговой модели: 0.8087091757387247\n"
     ]
    }
   ],
   "source": [
    "model_forest = RandomForestClassifier(random_state = 12345, max_depth = 9, n_estimators = 40)\n",
    "model_forest.fit(features_train, target_train)\n",
    "predict_forest = model_forest.predict(features_test)\n",
    "accuracy_forest = accuracy_score(predict_forest, target_test)\n",
    "print(\"Accuracy итоговой модели:\",accuracy_forest)"
   ]
  },
  {
   "cell_type": "markdown",
   "metadata": {},
   "source": [
    "Качество получивгейся модели ~ 0.80, что больше 0.75 и нам подходит. Оставляем эту модель."
   ]
  },
  {
   "cell_type": "markdown",
   "metadata": {},
   "source": [
    "## (бонус) Проверьте модели на адекватность"
   ]
  },
  {
   "cell_type": "code",
   "execution_count": 23,
   "metadata": {},
   "outputs": [
    {
     "data": {
      "text/plain": [
       "0.6936236391912908"
      ]
     },
     "execution_count": 23,
     "metadata": {},
     "output_type": "execute_result"
    }
   ],
   "source": [
    "m = DummyClassifier(strategy='most_frequent', random_state=1) \n",
    "m.fit(features_train, target_train)\n",
    "m.predict(features_test)\n",
    "m.score(features_test, target_test)"
   ]
  },
  {
   "cell_type": "markdown",
   "metadata": {},
   "source": [
    "Можно сравнить метрики train и test. В идеале, они не должно сильно различаться, особенно, если модель не очень сложная. Accuracy для случайного леса у test-выборки = 0.802, а при исследовании моделей у train значение accuracy = 0.804. Значения очень близки друг к другу, поэтому можно (?) сказать, что получившаяся модель адекватна. "
   ]
  },
  {
   "cell_type": "markdown",
   "metadata": {},
   "source": [
    "## Вывод"
   ]
  },
  {
   "cell_type": "markdown",
   "metadata": {},
   "source": [
    "Для анализа поставленной задачи были представлены данные о поведении клиентов, которые уже перешли на тарифы \"Смарт\" и \"Ультра\". Перед этим данные немного доработались, например, некоторые столбцы приведены к временному типу, некоторые к целочисленному, также были посчитаны новые столбцы (количество сделанных звонков разговора/израсходованных минут/отправленных сообщений/потраченных мегабайт) для каждого пользователя по месяцам.\n",
    "\n",
    "Для создания модели данные были разбиты на 3 выборки в соотношении 60:20:20 (обучающая:тестовая:валидационная). Перед выбором конечной модели были рассмотрены: решающее древо (качество = 0.80), логистическая регрессия (качество = 0.73) и случайный лес (качество = 0.82). Метрика качества случайного леса была выше, поэтому для дальнейшей работы была выбрана эта модель.\n",
    "\n",
    "После проверки модели на тестовой выборки accuracy = 0.80, что больше 0.75, поэтому полученные результаты нас устраивают. Также модель проверена на адекватность с помощью dummy-решения."
   ]
  }
 ],
 "metadata": {
  "ExecuteTimeLog": [
   {
    "duration": 42,
    "start_time": "2023-01-06T11:34:31.712Z"
   },
   {
    "duration": 321,
    "start_time": "2023-01-06T11:34:52.476Z"
   },
   {
    "duration": 65,
    "start_time": "2023-01-06T11:34:52.832Z"
   },
   {
    "duration": 10,
    "start_time": "2023-01-06T11:35:12.643Z"
   },
   {
    "duration": 14,
    "start_time": "2023-01-06T11:35:20.485Z"
   },
   {
    "duration": 603,
    "start_time": "2023-01-06T11:51:15.665Z"
   },
   {
    "duration": 30,
    "start_time": "2023-01-06T11:51:16.269Z"
   },
   {
    "duration": 12,
    "start_time": "2023-01-06T11:51:16.300Z"
   },
   {
    "duration": 47,
    "start_time": "2023-01-06T11:51:16.313Z"
   },
   {
    "duration": 27,
    "start_time": "2023-01-06T11:51:16.362Z"
   },
   {
    "duration": 21,
    "start_time": "2023-01-06T11:51:16.390Z"
   },
   {
    "duration": 39,
    "start_time": "2023-01-06T11:51:16.412Z"
   },
   {
    "duration": 7,
    "start_time": "2023-01-06T16:08:03.941Z"
   },
   {
    "duration": 7,
    "start_time": "2023-01-06T16:11:20.429Z"
   },
   {
    "duration": 54,
    "start_time": "2023-01-06T16:13:51.831Z"
   },
   {
    "duration": 9,
    "start_time": "2023-01-06T16:13:55.900Z"
   },
   {
    "duration": 9,
    "start_time": "2023-01-06T16:18:46.033Z"
   },
   {
    "duration": 35,
    "start_time": "2023-01-06T16:19:01.164Z"
   },
   {
    "duration": 35,
    "start_time": "2023-01-06T16:19:04.407Z"
   },
   {
    "duration": 3,
    "start_time": "2023-01-06T16:19:12.325Z"
   },
   {
    "duration": 35,
    "start_time": "2023-01-06T16:21:16.202Z"
   },
   {
    "duration": 66,
    "start_time": "2023-01-06T16:21:16.663Z"
   },
   {
    "duration": 4,
    "start_time": "2023-01-06T16:21:24.483Z"
   },
   {
    "duration": 4,
    "start_time": "2023-01-06T16:21:41.654Z"
   },
   {
    "duration": 68,
    "start_time": "2023-01-06T16:21:49.870Z"
   },
   {
    "duration": 3,
    "start_time": "2023-01-06T16:21:50.684Z"
   },
   {
    "duration": 56,
    "start_time": "2023-01-06T16:24:11.892Z"
   },
   {
    "duration": 3,
    "start_time": "2023-01-06T16:24:12.536Z"
   },
   {
    "duration": 12,
    "start_time": "2023-01-06T16:29:25.496Z"
   },
   {
    "duration": 3,
    "start_time": "2023-01-06T16:29:31.252Z"
   },
   {
    "duration": 295,
    "start_time": "2023-01-06T16:29:34.437Z"
   },
   {
    "duration": 29,
    "start_time": "2023-01-06T16:29:38.493Z"
   },
   {
    "duration": 3,
    "start_time": "2023-01-06T16:29:39.226Z"
   },
   {
    "duration": 9,
    "start_time": "2023-01-06T16:32:18.856Z"
   },
   {
    "duration": 61407,
    "start_time": "2023-01-06T16:37:08.602Z"
   },
   {
    "duration": 4,
    "start_time": "2023-01-06T16:40:41.336Z"
   },
   {
    "duration": 33889,
    "start_time": "2023-01-06T16:41:40.837Z"
   },
   {
    "duration": 4,
    "start_time": "2023-01-06T16:58:50.025Z"
   },
   {
    "duration": 101,
    "start_time": "2023-01-06T18:23:02.914Z"
   },
   {
    "duration": 4,
    "start_time": "2023-01-06T18:32:59.238Z"
   },
   {
    "duration": 69,
    "start_time": "2023-01-06T18:33:09.520Z"
   },
   {
    "duration": 1196,
    "start_time": "2023-01-06T18:35:18.664Z"
   },
   {
    "duration": 3,
    "start_time": "2023-01-06T18:35:57.722Z"
   },
   {
    "duration": 36,
    "start_time": "2023-01-06T18:35:57.727Z"
   },
   {
    "duration": 10,
    "start_time": "2023-01-06T18:35:57.764Z"
   },
   {
    "duration": 11,
    "start_time": "2023-01-06T18:35:57.776Z"
   },
   {
    "duration": 12,
    "start_time": "2023-01-06T18:35:57.789Z"
   },
   {
    "duration": 6,
    "start_time": "2023-01-06T18:35:57.802Z"
   },
   {
    "duration": 52,
    "start_time": "2023-01-06T18:35:57.810Z"
   },
   {
    "duration": 4,
    "start_time": "2023-01-06T18:35:57.864Z"
   },
   {
    "duration": 29,
    "start_time": "2023-01-06T18:35:57.871Z"
   },
   {
    "duration": 4,
    "start_time": "2023-01-06T18:35:57.901Z"
   },
   {
    "duration": 29489,
    "start_time": "2023-01-06T18:35:57.913Z"
   },
   {
    "duration": 3,
    "start_time": "2023-01-06T18:36:27.404Z"
   },
   {
    "duration": 72,
    "start_time": "2023-01-06T18:36:27.412Z"
   },
   {
    "duration": 3,
    "start_time": "2023-01-06T18:36:27.485Z"
   },
   {
    "duration": 71,
    "start_time": "2023-01-06T18:36:27.490Z"
   },
   {
    "duration": 1906,
    "start_time": "2023-01-06T18:36:27.562Z"
   },
   {
    "duration": 1106,
    "start_time": "2023-01-06T18:39:27.661Z"
   },
   {
    "duration": 1136,
    "start_time": "2023-01-06T18:40:33.995Z"
   },
   {
    "duration": 5,
    "start_time": "2023-01-06T18:40:54.842Z"
   },
   {
    "duration": 4,
    "start_time": "2023-01-06T18:41:10.278Z"
   },
   {
    "duration": 3,
    "start_time": "2023-01-06T19:16:07.223Z"
   },
   {
    "duration": 9,
    "start_time": "2023-01-06T19:17:15.945Z"
   },
   {
    "duration": 4,
    "start_time": "2023-01-06T19:17:34.271Z"
   },
   {
    "duration": 9,
    "start_time": "2023-01-06T19:17:37.792Z"
   },
   {
    "duration": 10,
    "start_time": "2023-01-06T19:20:08.543Z"
   },
   {
    "duration": 5,
    "start_time": "2023-01-06T19:20:17.931Z"
   },
   {
    "duration": 17,
    "start_time": "2023-01-06T19:20:24.666Z"
   },
   {
    "duration": 6,
    "start_time": "2023-01-06T19:21:18.615Z"
   },
   {
    "duration": 1069,
    "start_time": "2023-01-06T19:22:16.992Z"
   },
   {
    "duration": 6,
    "start_time": "2023-01-06T19:22:38.451Z"
   },
   {
    "duration": 6,
    "start_time": "2023-01-06T19:22:49.123Z"
   },
   {
    "duration": 5,
    "start_time": "2023-01-06T19:24:01.431Z"
   },
   {
    "duration": 3,
    "start_time": "2023-01-06T19:24:48.933Z"
   },
   {
    "duration": 41,
    "start_time": "2023-01-06T19:24:48.939Z"
   },
   {
    "duration": 11,
    "start_time": "2023-01-06T19:24:48.981Z"
   },
   {
    "duration": 9,
    "start_time": "2023-01-06T19:24:48.994Z"
   },
   {
    "duration": 9,
    "start_time": "2023-01-06T19:24:49.005Z"
   },
   {
    "duration": 7,
    "start_time": "2023-01-06T19:24:49.016Z"
   },
   {
    "duration": 64,
    "start_time": "2023-01-06T19:24:49.025Z"
   },
   {
    "duration": 3,
    "start_time": "2023-01-06T19:24:49.092Z"
   },
   {
    "duration": 50,
    "start_time": "2023-01-06T19:24:49.097Z"
   },
   {
    "duration": 4,
    "start_time": "2023-01-06T19:24:49.149Z"
   },
   {
    "duration": 29975,
    "start_time": "2023-01-06T19:24:49.155Z"
   },
   {
    "duration": 4,
    "start_time": "2023-01-06T19:25:19.132Z"
   },
   {
    "duration": 87,
    "start_time": "2023-01-06T19:25:19.138Z"
   },
   {
    "duration": 8,
    "start_time": "2023-01-06T19:25:19.227Z"
   },
   {
    "duration": 1652,
    "start_time": "2023-01-06T19:48:37.261Z"
   },
   {
    "duration": 68,
    "start_time": "2023-01-06T19:48:38.915Z"
   },
   {
    "duration": 16,
    "start_time": "2023-01-06T19:48:38.985Z"
   },
   {
    "duration": 23,
    "start_time": "2023-01-06T19:48:39.003Z"
   },
   {
    "duration": 8,
    "start_time": "2023-01-06T19:48:39.028Z"
   },
   {
    "duration": 8,
    "start_time": "2023-01-06T19:48:39.038Z"
   },
   {
    "duration": 75,
    "start_time": "2023-01-06T19:48:39.047Z"
   },
   {
    "duration": 3,
    "start_time": "2023-01-06T19:48:39.123Z"
   },
   {
    "duration": 30,
    "start_time": "2023-01-06T19:48:39.128Z"
   },
   {
    "duration": 4,
    "start_time": "2023-01-06T19:48:39.160Z"
   },
   {
    "duration": 29228,
    "start_time": "2023-01-06T19:48:39.166Z"
   },
   {
    "duration": 4,
    "start_time": "2023-01-06T19:49:08.396Z"
   },
   {
    "duration": 72,
    "start_time": "2023-01-06T19:49:08.403Z"
   },
   {
    "duration": 5,
    "start_time": "2023-01-06T19:49:08.477Z"
   },
   {
    "duration": 413,
    "start_time": "2023-01-07T09:32:18.899Z"
   },
   {
    "duration": 731,
    "start_time": "2023-01-07T09:32:19.314Z"
   },
   {
    "duration": 2,
    "start_time": "2023-01-07T09:32:22.767Z"
   },
   {
    "duration": 13,
    "start_time": "2023-01-07T09:32:22.771Z"
   },
   {
    "duration": 76,
    "start_time": "2023-01-07T09:32:22.786Z"
   },
   {
    "duration": 12,
    "start_time": "2023-01-07T09:32:22.863Z"
   },
   {
    "duration": 22,
    "start_time": "2023-01-07T09:32:22.877Z"
   },
   {
    "duration": 6,
    "start_time": "2023-01-07T09:32:22.901Z"
   },
   {
    "duration": 10,
    "start_time": "2023-01-07T09:32:22.908Z"
   },
   {
    "duration": 53,
    "start_time": "2023-01-07T09:32:22.919Z"
   },
   {
    "duration": 3,
    "start_time": "2023-01-07T09:32:22.974Z"
   },
   {
    "duration": 24,
    "start_time": "2023-01-07T09:32:22.979Z"
   },
   {
    "duration": 3,
    "start_time": "2023-01-07T09:32:23.005Z"
   },
   {
    "duration": 31802,
    "start_time": "2023-01-07T09:32:23.021Z"
   },
   {
    "duration": 4,
    "start_time": "2023-01-07T09:32:54.824Z"
   },
   {
    "duration": 75,
    "start_time": "2023-01-07T09:32:54.829Z"
   },
   {
    "duration": 19,
    "start_time": "2023-01-07T09:32:54.906Z"
   },
   {
    "duration": 71,
    "start_time": "2023-01-07T09:33:19.766Z"
   },
   {
    "duration": 15,
    "start_time": "2023-01-07T09:34:46.562Z"
   },
   {
    "duration": 12,
    "start_time": "2023-01-07T09:34:57.894Z"
   },
   {
    "duration": 13,
    "start_time": "2023-01-07T09:35:03.636Z"
   },
   {
    "duration": 10,
    "start_time": "2023-01-07T09:45:59.987Z"
   },
   {
    "duration": 9,
    "start_time": "2023-01-07T09:46:17.598Z"
   },
   {
    "duration": 120,
    "start_time": "2023-01-07T09:46:40.544Z"
   },
   {
    "duration": 9,
    "start_time": "2023-01-07T09:46:46.276Z"
   },
   {
    "duration": 76,
    "start_time": "2023-01-07T09:50:20.362Z"
   },
   {
    "duration": 11,
    "start_time": "2023-01-07T09:50:20.922Z"
   },
   {
    "duration": 355,
    "start_time": "2023-01-07T09:51:16.041Z"
   },
   {
    "duration": 139,
    "start_time": "2023-01-07T09:51:21.800Z"
   },
   {
    "duration": 115,
    "start_time": "2023-01-07T09:51:41.039Z"
   },
   {
    "duration": 60,
    "start_time": "2023-01-07T09:53:02.632Z"
   },
   {
    "duration": 605,
    "start_time": "2023-01-07T09:53:06.442Z"
   },
   {
    "duration": 115,
    "start_time": "2023-01-07T09:53:12.787Z"
   },
   {
    "duration": 54,
    "start_time": "2023-01-07T09:53:16.646Z"
   },
   {
    "duration": 34,
    "start_time": "2023-01-07T09:54:02.701Z"
   },
   {
    "duration": 5,
    "start_time": "2023-01-07T09:54:40.406Z"
   },
   {
    "duration": 22,
    "start_time": "2023-01-07T09:56:02.124Z"
   },
   {
    "duration": 12,
    "start_time": "2023-01-07T09:56:26.046Z"
   },
   {
    "duration": 2,
    "start_time": "2023-01-07T09:56:41.396Z"
   },
   {
    "duration": 6,
    "start_time": "2023-01-07T09:56:41.400Z"
   },
   {
    "duration": 35,
    "start_time": "2023-01-07T09:56:41.408Z"
   },
   {
    "duration": 11,
    "start_time": "2023-01-07T09:56:41.445Z"
   },
   {
    "duration": 13,
    "start_time": "2023-01-07T09:56:41.458Z"
   },
   {
    "duration": 14,
    "start_time": "2023-01-07T09:56:41.473Z"
   },
   {
    "duration": 8,
    "start_time": "2023-01-07T09:56:41.489Z"
   },
   {
    "duration": 6,
    "start_time": "2023-01-07T09:56:41.498Z"
   },
   {
    "duration": 68,
    "start_time": "2023-01-07T09:56:41.506Z"
   },
   {
    "duration": 143,
    "start_time": "2023-01-07T09:56:41.575Z"
   },
   {
    "duration": 13,
    "start_time": "2023-01-07T09:56:41.722Z"
   },
   {
    "duration": 0,
    "start_time": "2023-01-07T09:56:41.736Z"
   },
   {
    "duration": 0,
    "start_time": "2023-01-07T09:56:41.737Z"
   },
   {
    "duration": 0,
    "start_time": "2023-01-07T09:56:41.738Z"
   },
   {
    "duration": 0,
    "start_time": "2023-01-07T09:56:41.739Z"
   },
   {
    "duration": 0,
    "start_time": "2023-01-07T09:56:41.740Z"
   },
   {
    "duration": 0,
    "start_time": "2023-01-07T09:56:41.740Z"
   },
   {
    "duration": 0,
    "start_time": "2023-01-07T09:56:41.741Z"
   },
   {
    "duration": 13,
    "start_time": "2023-01-07T09:57:39.656Z"
   },
   {
    "duration": 12,
    "start_time": "2023-01-07T09:58:08.441Z"
   },
   {
    "duration": 13,
    "start_time": "2023-01-07T09:58:32.874Z"
   },
   {
    "duration": 13,
    "start_time": "2023-01-07T09:59:29.886Z"
   },
   {
    "duration": 480,
    "start_time": "2023-01-07T09:59:36.042Z"
   },
   {
    "duration": 437,
    "start_time": "2023-01-07T10:00:01.607Z"
   },
   {
    "duration": 6,
    "start_time": "2023-01-07T10:03:26.857Z"
   },
   {
    "duration": 4,
    "start_time": "2023-01-07T10:04:16.457Z"
   },
   {
    "duration": 35,
    "start_time": "2023-01-07T10:04:34.629Z"
   },
   {
    "duration": 3,
    "start_time": "2023-01-07T10:04:35.232Z"
   },
   {
    "duration": 6,
    "start_time": "2023-01-07T10:53:51.785Z"
   },
   {
    "duration": 5,
    "start_time": "2023-01-07T10:53:51.792Z"
   },
   {
    "duration": 28,
    "start_time": "2023-01-07T10:53:51.827Z"
   },
   {
    "duration": 34,
    "start_time": "2023-01-07T10:53:51.871Z"
   },
   {
    "duration": 11,
    "start_time": "2023-01-07T10:53:51.925Z"
   },
   {
    "duration": 15,
    "start_time": "2023-01-07T10:53:51.960Z"
   },
   {
    "duration": 18,
    "start_time": "2023-01-07T10:53:52.040Z"
   },
   {
    "duration": 36,
    "start_time": "2023-01-07T10:53:52.091Z"
   },
   {
    "duration": 7,
    "start_time": "2023-01-07T10:53:52.165Z"
   },
   {
    "duration": 86,
    "start_time": "2023-01-07T10:53:52.190Z"
   },
   {
    "duration": 205,
    "start_time": "2023-01-07T10:53:52.361Z"
   },
   {
    "duration": 290,
    "start_time": "2023-01-07T10:53:52.769Z"
   },
   {
    "duration": 3,
    "start_time": "2023-01-07T10:53:53.465Z"
   },
   {
    "duration": 47,
    "start_time": "2023-01-07T10:53:53.775Z"
   },
   {
    "duration": 3,
    "start_time": "2023-01-07T10:53:53.876Z"
   },
   {
    "duration": 600,
    "start_time": "2023-01-07T11:07:37.919Z"
   },
   {
    "duration": 6,
    "start_time": "2023-01-07T11:07:38.522Z"
   },
   {
    "duration": 708,
    "start_time": "2023-01-07T11:07:38.529Z"
   },
   {
    "duration": 30,
    "start_time": "2023-01-07T11:07:39.239Z"
   },
   {
    "duration": 10,
    "start_time": "2023-01-07T11:07:39.271Z"
   },
   {
    "duration": 16,
    "start_time": "2023-01-07T11:07:39.283Z"
   },
   {
    "duration": 11,
    "start_time": "2023-01-07T11:07:39.300Z"
   },
   {
    "duration": 11,
    "start_time": "2023-01-07T11:07:39.312Z"
   },
   {
    "duration": 8,
    "start_time": "2023-01-07T11:07:39.324Z"
   },
   {
    "duration": 58,
    "start_time": "2023-01-07T11:07:39.334Z"
   },
   {
    "duration": 136,
    "start_time": "2023-01-07T11:07:39.393Z"
   },
   {
    "duration": 279,
    "start_time": "2023-01-07T11:07:39.531Z"
   },
   {
    "duration": 14,
    "start_time": "2023-01-07T11:07:39.812Z"
   },
   {
    "duration": 46,
    "start_time": "2023-01-07T11:07:39.829Z"
   },
   {
    "duration": 3,
    "start_time": "2023-01-07T11:07:39.877Z"
   },
   {
    "duration": 32315,
    "start_time": "2023-01-07T11:07:39.882Z"
   },
   {
    "duration": 4,
    "start_time": "2023-01-07T11:08:12.199Z"
   },
   {
    "duration": 76,
    "start_time": "2023-01-07T11:08:12.205Z"
   },
   {
    "duration": 6,
    "start_time": "2023-01-07T11:08:12.283Z"
   },
   {
    "duration": 630,
    "start_time": "2023-01-07T11:10:12.304Z"
   },
   {
    "duration": 6,
    "start_time": "2023-01-07T11:10:12.936Z"
   },
   {
    "duration": 720,
    "start_time": "2023-01-07T11:10:12.943Z"
   },
   {
    "duration": 31,
    "start_time": "2023-01-07T11:10:13.665Z"
   },
   {
    "duration": 11,
    "start_time": "2023-01-07T11:10:13.698Z"
   },
   {
    "duration": 19,
    "start_time": "2023-01-07T11:10:13.711Z"
   },
   {
    "duration": 16,
    "start_time": "2023-01-07T11:10:13.732Z"
   },
   {
    "duration": 7,
    "start_time": "2023-01-07T11:10:13.750Z"
   },
   {
    "duration": 22,
    "start_time": "2023-01-07T11:10:13.759Z"
   },
   {
    "duration": 63,
    "start_time": "2023-01-07T11:10:13.784Z"
   },
   {
    "duration": 151,
    "start_time": "2023-01-07T11:10:13.848Z"
   },
   {
    "duration": 395,
    "start_time": "2023-01-07T11:10:14.001Z"
   },
   {
    "duration": 4,
    "start_time": "2023-01-07T11:10:14.398Z"
   },
   {
    "duration": 58,
    "start_time": "2023-01-07T11:10:14.404Z"
   },
   {
    "duration": 3,
    "start_time": "2023-01-07T11:10:14.464Z"
   },
   {
    "duration": 159900,
    "start_time": "2023-01-07T11:10:14.468Z"
   },
   {
    "duration": 4,
    "start_time": "2023-01-07T11:12:54.370Z"
   },
   {
    "duration": 79,
    "start_time": "2023-01-07T11:12:54.376Z"
   },
   {
    "duration": 6,
    "start_time": "2023-01-07T11:12:54.457Z"
   },
   {
    "duration": 4,
    "start_time": "2023-01-07T11:13:28.436Z"
   },
   {
    "duration": 122,
    "start_time": "2023-01-07T11:39:24.751Z"
   },
   {
    "duration": 115,
    "start_time": "2023-01-07T11:51:26.008Z"
   },
   {
    "duration": 7,
    "start_time": "2023-01-07T11:51:55.665Z"
   }
  ],
  "kernelspec": {
   "display_name": "Python 3 (ipykernel)",
   "language": "python",
   "name": "python3"
  },
  "language_info": {
   "codemirror_mode": {
    "name": "ipython",
    "version": 3
   },
   "file_extension": ".py",
   "mimetype": "text/x-python",
   "name": "python",
   "nbconvert_exporter": "python",
   "pygments_lexer": "ipython3",
   "version": "3.9.13"
  },
  "toc": {
   "base_numbering": 1,
   "nav_menu": {},
   "number_sections": true,
   "sideBar": true,
   "skip_h1_title": true,
   "title_cell": "Table of Contents",
   "title_sidebar": "Contents",
   "toc_cell": false,
   "toc_position": {},
   "toc_section_display": true,
   "toc_window_display": false
  }
 },
 "nbformat": 4,
 "nbformat_minor": 2
}
