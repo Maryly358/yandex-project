{
 "cells": [
  {
   "cell_type": "markdown",
   "metadata": {
    "toc": true
   },
   "source": [
    "<h1>Содержание<span class=\"tocSkip\"></span></h1>\n",
    "<div class=\"toc\"><ul class=\"toc-item\"><li><span><a href=\"#Подготовка-данных\" data-toc-modified-id=\"Подготовка-данных-1\"><span class=\"toc-item-num\">1&nbsp;&nbsp;</span>Подготовка данных</a></span></li><li><span><a href=\"#Исследование-задачи\" data-toc-modified-id=\"Исследование-задачи-2\"><span class=\"toc-item-num\">2&nbsp;&nbsp;</span>Исследование задачи</a></span><ul class=\"toc-item\"><li><span><a href=\"#Разбиение-на-выборки\" data-toc-modified-id=\"Разбиение-на-выборки-2.1\"><span class=\"toc-item-num\">2.1&nbsp;&nbsp;</span>Разбиение на выборки</a></span></li><li><span><a href=\"#Исследование-моделей\" data-toc-modified-id=\"Исследование-моделей-2.2\"><span class=\"toc-item-num\">2.2&nbsp;&nbsp;</span>Исследование моделей</a></span></li></ul></li><li><span><a href=\"#Борьба-с-дисбалансом\" data-toc-modified-id=\"Борьба-с-дисбалансом-3\"><span class=\"toc-item-num\">3&nbsp;&nbsp;</span>Борьба с дисбалансом</a></span><ul class=\"toc-item\"><li><span><a href=\"#Downsampling\" data-toc-modified-id=\"Downsampling-3.1\"><span class=\"toc-item-num\">3.1&nbsp;&nbsp;</span>Downsampling</a></span></li><li><span><a href=\"#Upsampling\" data-toc-modified-id=\"Upsampling-3.2\"><span class=\"toc-item-num\">3.2&nbsp;&nbsp;</span>Upsampling</a></span></li><li><span><a href=\"#Class_weight\" data-toc-modified-id=\"Class_weight-3.3\"><span class=\"toc-item-num\">3.3&nbsp;&nbsp;</span>Class_weight</a></span></li></ul></li><li><span><a href=\"#Тестирование-модели\" data-toc-modified-id=\"Тестирование-модели-4\"><span class=\"toc-item-num\">4&nbsp;&nbsp;</span>Тестирование модели</a></span></li><li><span><a href=\"#Вывод\" data-toc-modified-id=\"Вывод-5\"><span class=\"toc-item-num\">5&nbsp;&nbsp;</span>Вывод</a></span></li><li><span><a href=\"#Чек-лист-готовности-проекта\" data-toc-modified-id=\"Чек-лист-готовности-проекта-6\"><span class=\"toc-item-num\">6&nbsp;&nbsp;</span>Чек-лист готовности проекта</a></span></li></ul></div>"
   ]
  },
  {
   "cell_type": "markdown",
   "metadata": {},
   "source": [
    "# Отток клиентов"
   ]
  },
  {
   "cell_type": "markdown",
   "metadata": {},
   "source": [
    "Из «Бета-Банка» стали уходить клиенты. Каждый месяц. Немного, но заметно. Банковские маркетологи посчитали: сохранять текущих клиентов дешевле, чем привлекать новых.\n",
    "\n",
    "Нужно спрогнозировать, уйдёт клиент из банка в ближайшее время или нет. Вам предоставлены исторические данные о поведении клиентов и расторжении договоров с банком. \n",
    "\n",
    "Постройте модель с предельно большим значением *F1*-меры. Чтобы сдать проект успешно, нужно довести метрику до 0.59. Проверьте *F1*-меру на тестовой выборке самостоятельно.\n",
    "\n",
    "Дополнительно измеряйте *AUC-ROC*, сравнивайте её значение с *F1*-мерой.\n",
    "\n",
    "Источник данных: [https://www.kaggle.com/barelydedicated/bank-customer-churn-modeling](https://www.kaggle.com/barelydedicated/bank-customer-churn-modeling)"
   ]
  },
  {
   "cell_type": "markdown",
   "metadata": {},
   "source": [
    "Признаки:\n",
    "\n",
    "    RowNumber — индекс строки в данных\n",
    "    CustomerId — уникальный идентификатор клиента\n",
    "    Surname — фамилия\n",
    "    CreditScore — кредитный рейтинг\n",
    "    Geography — страна проживания\n",
    "    Gender — пол\n",
    "    Age — возраст\n",
    "    Tenure — сколько лет человек является клиентом банка\n",
    "    Balance — баланс на счёте\n",
    "    NumOfProducts — количество продуктов банка, используемых клиентом\n",
    "    HasCrCard — наличие кредитной карты\n",
    "    IsActiveMember — активность клиента\n",
    "    EstimatedSalary — предполагаемая зарплата"
   ]
  },
  {
   "cell_type": "markdown",
   "metadata": {},
   "source": [
    "Целевой признак:\n",
    "\n",
    "    Exited — факт ухода клиента"
   ]
  },
  {
   "cell_type": "markdown",
   "metadata": {},
   "source": [
    "## Подготовка данных"
   ]
  },
  {
   "cell_type": "code",
   "execution_count": 164,
   "metadata": {},
   "outputs": [],
   "source": [
    "import matplotlib.pyplot as plt\n",
    "import numpy as np\n",
    "import pandas as pd"
   ]
  },
  {
   "cell_type": "code",
   "execution_count": 165,
   "metadata": {},
   "outputs": [],
   "source": [
    "from tqdm import tqdm"
   ]
  },
  {
   "cell_type": "code",
   "execution_count": 166,
   "metadata": {},
   "outputs": [],
   "source": [
    "from sklearn import tree\n",
    "from sklearn.dummy import DummyClassifier\n",
    "from sklearn.ensemble import RandomForestClassifier\n",
    "from sklearn.linear_model import LogisticRegression \n",
    "from sklearn.model_selection import train_test_split \n",
    "from sklearn.metrics import accuracy_score, roc_auc_score, f1_score, recall_score\n",
    "from sklearn.preprocessing import StandardScaler \n",
    "from sklearn.tree import DecisionTreeClassifier\n",
    "from sklearn.utils import shuffle"
   ]
  },
  {
   "cell_type": "code",
   "execution_count": 167,
   "metadata": {},
   "outputs": [],
   "source": [
    "try:\n",
    "    df = pd.read_csv('/datasets/Churn.csv')\n",
    "except:\n",
    "    df = pd.read_csv('https://code.s3.yandex.net/datasets/Churn.csv')"
   ]
  },
  {
   "cell_type": "code",
   "execution_count": 168,
   "metadata": {
    "scrolled": false
   },
   "outputs": [
    {
     "name": "stdout",
     "output_type": "stream",
     "text": [
      "<class 'pandas.core.frame.DataFrame'>\n",
      "RangeIndex: 10000 entries, 0 to 9999\n",
      "Data columns (total 14 columns):\n",
      " #   Column           Non-Null Count  Dtype  \n",
      "---  ------           --------------  -----  \n",
      " 0   RowNumber        10000 non-null  int64  \n",
      " 1   CustomerId       10000 non-null  int64  \n",
      " 2   Surname          10000 non-null  object \n",
      " 3   CreditScore      10000 non-null  int64  \n",
      " 4   Geography        10000 non-null  object \n",
      " 5   Gender           10000 non-null  object \n",
      " 6   Age              10000 non-null  int64  \n",
      " 7   Tenure           9091 non-null   float64\n",
      " 8   Balance          10000 non-null  float64\n",
      " 9   NumOfProducts    10000 non-null  int64  \n",
      " 10  HasCrCard        10000 non-null  int64  \n",
      " 11  IsActiveMember   10000 non-null  int64  \n",
      " 12  EstimatedSalary  10000 non-null  float64\n",
      " 13  Exited           10000 non-null  int64  \n",
      "dtypes: float64(3), int64(8), object(3)\n",
      "memory usage: 1.1+ MB\n"
     ]
    }
   ],
   "source": [
    "df.info()"
   ]
  },
  {
   "cell_type": "code",
   "execution_count": 169,
   "metadata": {},
   "outputs": [
    {
     "data": {
      "text/html": [
       "<div>\n",
       "<style scoped>\n",
       "    .dataframe tbody tr th:only-of-type {\n",
       "        vertical-align: middle;\n",
       "    }\n",
       "\n",
       "    .dataframe tbody tr th {\n",
       "        vertical-align: top;\n",
       "    }\n",
       "\n",
       "    .dataframe thead th {\n",
       "        text-align: right;\n",
       "    }\n",
       "</style>\n",
       "<table border=\"1\" class=\"dataframe\">\n",
       "  <thead>\n",
       "    <tr style=\"text-align: right;\">\n",
       "      <th></th>\n",
       "      <th>RowNumber</th>\n",
       "      <th>CustomerId</th>\n",
       "      <th>Surname</th>\n",
       "      <th>CreditScore</th>\n",
       "      <th>Geography</th>\n",
       "      <th>Gender</th>\n",
       "      <th>Age</th>\n",
       "      <th>Tenure</th>\n",
       "      <th>Balance</th>\n",
       "      <th>NumOfProducts</th>\n",
       "      <th>HasCrCard</th>\n",
       "      <th>IsActiveMember</th>\n",
       "      <th>EstimatedSalary</th>\n",
       "      <th>Exited</th>\n",
       "    </tr>\n",
       "  </thead>\n",
       "  <tbody>\n",
       "    <tr>\n",
       "      <th>0</th>\n",
       "      <td>1</td>\n",
       "      <td>15634602</td>\n",
       "      <td>Hargrave</td>\n",
       "      <td>619</td>\n",
       "      <td>France</td>\n",
       "      <td>Female</td>\n",
       "      <td>42</td>\n",
       "      <td>2.0</td>\n",
       "      <td>0.00</td>\n",
       "      <td>1</td>\n",
       "      <td>1</td>\n",
       "      <td>1</td>\n",
       "      <td>101348.88</td>\n",
       "      <td>1</td>\n",
       "    </tr>\n",
       "    <tr>\n",
       "      <th>1</th>\n",
       "      <td>2</td>\n",
       "      <td>15647311</td>\n",
       "      <td>Hill</td>\n",
       "      <td>608</td>\n",
       "      <td>Spain</td>\n",
       "      <td>Female</td>\n",
       "      <td>41</td>\n",
       "      <td>1.0</td>\n",
       "      <td>83807.86</td>\n",
       "      <td>1</td>\n",
       "      <td>0</td>\n",
       "      <td>1</td>\n",
       "      <td>112542.58</td>\n",
       "      <td>0</td>\n",
       "    </tr>\n",
       "    <tr>\n",
       "      <th>2</th>\n",
       "      <td>3</td>\n",
       "      <td>15619304</td>\n",
       "      <td>Onio</td>\n",
       "      <td>502</td>\n",
       "      <td>France</td>\n",
       "      <td>Female</td>\n",
       "      <td>42</td>\n",
       "      <td>8.0</td>\n",
       "      <td>159660.80</td>\n",
       "      <td>3</td>\n",
       "      <td>1</td>\n",
       "      <td>0</td>\n",
       "      <td>113931.57</td>\n",
       "      <td>1</td>\n",
       "    </tr>\n",
       "    <tr>\n",
       "      <th>3</th>\n",
       "      <td>4</td>\n",
       "      <td>15701354</td>\n",
       "      <td>Boni</td>\n",
       "      <td>699</td>\n",
       "      <td>France</td>\n",
       "      <td>Female</td>\n",
       "      <td>39</td>\n",
       "      <td>1.0</td>\n",
       "      <td>0.00</td>\n",
       "      <td>2</td>\n",
       "      <td>0</td>\n",
       "      <td>0</td>\n",
       "      <td>93826.63</td>\n",
       "      <td>0</td>\n",
       "    </tr>\n",
       "    <tr>\n",
       "      <th>4</th>\n",
       "      <td>5</td>\n",
       "      <td>15737888</td>\n",
       "      <td>Mitchell</td>\n",
       "      <td>850</td>\n",
       "      <td>Spain</td>\n",
       "      <td>Female</td>\n",
       "      <td>43</td>\n",
       "      <td>2.0</td>\n",
       "      <td>125510.82</td>\n",
       "      <td>1</td>\n",
       "      <td>1</td>\n",
       "      <td>1</td>\n",
       "      <td>79084.10</td>\n",
       "      <td>0</td>\n",
       "    </tr>\n",
       "  </tbody>\n",
       "</table>\n",
       "</div>"
      ],
      "text/plain": [
       "   RowNumber  CustomerId   Surname  CreditScore Geography  Gender  Age  \\\n",
       "0          1    15634602  Hargrave          619    France  Female   42   \n",
       "1          2    15647311      Hill          608     Spain  Female   41   \n",
       "2          3    15619304      Onio          502    France  Female   42   \n",
       "3          4    15701354      Boni          699    France  Female   39   \n",
       "4          5    15737888  Mitchell          850     Spain  Female   43   \n",
       "\n",
       "   Tenure    Balance  NumOfProducts  HasCrCard  IsActiveMember  \\\n",
       "0     2.0       0.00              1          1               1   \n",
       "1     1.0   83807.86              1          0               1   \n",
       "2     8.0  159660.80              3          1               0   \n",
       "3     1.0       0.00              2          0               0   \n",
       "4     2.0  125510.82              1          1               1   \n",
       "\n",
       "   EstimatedSalary  Exited  \n",
       "0        101348.88       1  \n",
       "1        112542.58       0  \n",
       "2        113931.57       1  \n",
       "3         93826.63       0  \n",
       "4         79084.10       0  "
      ]
     },
     "execution_count": 169,
     "metadata": {},
     "output_type": "execute_result"
    }
   ],
   "source": [
    "df.head()"
   ]
  },
  {
   "cell_type": "markdown",
   "metadata": {},
   "source": [
    "Перед началом работы я бы привела названия некоторых переменных к змеиному и нижнему регистру."
   ]
  },
  {
   "cell_type": "code",
   "execution_count": 170,
   "metadata": {},
   "outputs": [],
   "source": [
    "df = df.rename(columns={'RowNumber': 'row_number',\n",
    "              'CustomerId': 'сustomer_id',\n",
    "              'CreditScore': 'credit_score',\n",
    "              'NumOfProducts': 'num_of_products',\n",
    "              'HasCrCard': 'has_cr_card',\n",
    "              'IsActiveMember': 'is_active_member',\n",
    "              'EstimatedSalary': 'estimated_salary'})"
   ]
  },
  {
   "cell_type": "code",
   "execution_count": 171,
   "metadata": {},
   "outputs": [],
   "source": [
    "df.columns = df.columns.str.lower()"
   ]
  },
  {
   "cell_type": "code",
   "execution_count": 172,
   "metadata": {},
   "outputs": [
    {
     "name": "stdout",
     "output_type": "stream",
     "text": [
      "<class 'pandas.core.frame.DataFrame'>\n",
      "RangeIndex: 10000 entries, 0 to 9999\n",
      "Data columns (total 14 columns):\n",
      " #   Column            Non-Null Count  Dtype  \n",
      "---  ------            --------------  -----  \n",
      " 0   row_number        10000 non-null  int64  \n",
      " 1   сustomer_id       10000 non-null  int64  \n",
      " 2   surname           10000 non-null  object \n",
      " 3   credit_score      10000 non-null  int64  \n",
      " 4   geography         10000 non-null  object \n",
      " 5   gender            10000 non-null  object \n",
      " 6   age               10000 non-null  int64  \n",
      " 7   tenure            9091 non-null   float64\n",
      " 8   balance           10000 non-null  float64\n",
      " 9   num_of_products   10000 non-null  int64  \n",
      " 10  has_cr_card       10000 non-null  int64  \n",
      " 11  is_active_member  10000 non-null  int64  \n",
      " 12  estimated_salary  10000 non-null  float64\n",
      " 13  exited            10000 non-null  int64  \n",
      "dtypes: float64(3), int64(8), object(3)\n",
      "memory usage: 1.1+ MB\n"
     ]
    }
   ],
   "source": [
    "df.info()"
   ]
  },
  {
   "cell_type": "markdown",
   "metadata": {},
   "source": [
    "В колонке 'tenure' есть пропуски - заполним их \"заглушкой\" (-1), т.к. удалять 909 строк не очень хочется. Также переведем некоторые столбцы к типу int"
   ]
  },
  {
   "cell_type": "code",
   "execution_count": 173,
   "metadata": {},
   "outputs": [],
   "source": [
    "df = df.dropna(subset=['tenure'])"
   ]
  },
  {
   "cell_type": "code",
   "execution_count": 174,
   "metadata": {},
   "outputs": [
    {
     "name": "stdout",
     "output_type": "stream",
     "text": [
      "<class 'pandas.core.frame.DataFrame'>\n",
      "Int64Index: 9091 entries, 0 to 9998\n",
      "Data columns (total 14 columns):\n",
      " #   Column            Non-Null Count  Dtype  \n",
      "---  ------            --------------  -----  \n",
      " 0   row_number        9091 non-null   int64  \n",
      " 1   сustomer_id       9091 non-null   int64  \n",
      " 2   surname           9091 non-null   object \n",
      " 3   credit_score      9091 non-null   int64  \n",
      " 4   geography         9091 non-null   object \n",
      " 5   gender            9091 non-null   object \n",
      " 6   age               9091 non-null   int64  \n",
      " 7   tenure            9091 non-null   float64\n",
      " 8   balance           9091 non-null   float64\n",
      " 9   num_of_products   9091 non-null   int64  \n",
      " 10  has_cr_card       9091 non-null   int64  \n",
      " 11  is_active_member  9091 non-null   int64  \n",
      " 12  estimated_salary  9091 non-null   float64\n",
      " 13  exited            9091 non-null   int64  \n",
      "dtypes: float64(3), int64(8), object(3)\n",
      "memory usage: 1.0+ MB\n"
     ]
    }
   ],
   "source": [
    "df.info()"
   ]
  },
  {
   "cell_type": "code",
   "execution_count": 175,
   "metadata": {},
   "outputs": [],
   "source": [
    "df['balance'] = df['balance'].astype('int64')\n",
    "df['estimated_salary'] = df['estimated_salary'].astype('int64')\n",
    "df['tenure'] = df['tenure'].astype('int64')"
   ]
  },
  {
   "cell_type": "code",
   "execution_count": 176,
   "metadata": {},
   "outputs": [
    {
     "name": "stdout",
     "output_type": "stream",
     "text": [
      "<class 'pandas.core.frame.DataFrame'>\n",
      "Int64Index: 9091 entries, 0 to 9998\n",
      "Data columns (total 14 columns):\n",
      " #   Column            Non-Null Count  Dtype \n",
      "---  ------            --------------  ----- \n",
      " 0   row_number        9091 non-null   int64 \n",
      " 1   сustomer_id       9091 non-null   int64 \n",
      " 2   surname           9091 non-null   object\n",
      " 3   credit_score      9091 non-null   int64 \n",
      " 4   geography         9091 non-null   object\n",
      " 5   gender            9091 non-null   object\n",
      " 6   age               9091 non-null   int64 \n",
      " 7   tenure            9091 non-null   int64 \n",
      " 8   balance           9091 non-null   int64 \n",
      " 9   num_of_products   9091 non-null   int64 \n",
      " 10  has_cr_card       9091 non-null   int64 \n",
      " 11  is_active_member  9091 non-null   int64 \n",
      " 12  estimated_salary  9091 non-null   int64 \n",
      " 13  exited            9091 non-null   int64 \n",
      "dtypes: int64(11), object(3)\n",
      "memory usage: 1.0+ MB\n"
     ]
    }
   ],
   "source": [
    "df.info()"
   ]
  },
  {
   "cell_type": "code",
   "execution_count": 177,
   "metadata": {},
   "outputs": [
    {
     "data": {
      "text/plain": [
       "0"
      ]
     },
     "execution_count": 177,
     "metadata": {},
     "output_type": "execute_result"
    }
   ],
   "source": [
    "df.duplicated().sum() #проверка на наличие явных дупликатов"
   ]
  },
  {
   "cell_type": "code",
   "execution_count": 178,
   "metadata": {},
   "outputs": [
    {
     "data": {
      "text/plain": [
       "array(['France', 'Spain', 'Germany'], dtype=object)"
      ]
     },
     "execution_count": 178,
     "metadata": {},
     "output_type": "execute_result"
    }
   ],
   "source": [
    "df['geography'].unique() #смотрим из каких стран вообще есть пользователи"
   ]
  },
  {
   "cell_type": "code",
   "execution_count": 179,
   "metadata": {},
   "outputs": [
    {
     "data": {
      "text/html": [
       "<div>\n",
       "<style scoped>\n",
       "    .dataframe tbody tr th:only-of-type {\n",
       "        vertical-align: middle;\n",
       "    }\n",
       "\n",
       "    .dataframe tbody tr th {\n",
       "        vertical-align: top;\n",
       "    }\n",
       "\n",
       "    .dataframe thead th {\n",
       "        text-align: right;\n",
       "    }\n",
       "</style>\n",
       "<table border=\"1\" class=\"dataframe\">\n",
       "  <thead>\n",
       "    <tr style=\"text-align: right;\">\n",
       "      <th></th>\n",
       "      <th>row_number</th>\n",
       "      <th>сustomer_id</th>\n",
       "      <th>credit_score</th>\n",
       "      <th>age</th>\n",
       "      <th>tenure</th>\n",
       "      <th>balance</th>\n",
       "      <th>num_of_products</th>\n",
       "      <th>has_cr_card</th>\n",
       "      <th>is_active_member</th>\n",
       "      <th>estimated_salary</th>\n",
       "      <th>exited</th>\n",
       "    </tr>\n",
       "  </thead>\n",
       "  <tbody>\n",
       "    <tr>\n",
       "      <th>row_number</th>\n",
       "      <td>1.000000</td>\n",
       "      <td>0.004324</td>\n",
       "      <td>0.002063</td>\n",
       "      <td>0.000553</td>\n",
       "      <td>-0.007650</td>\n",
       "      <td>-0.005183</td>\n",
       "      <td>0.010115</td>\n",
       "      <td>0.001238</td>\n",
       "      <td>0.009533</td>\n",
       "      <td>-0.004891</td>\n",
       "      <td>-0.014551</td>\n",
       "    </tr>\n",
       "    <tr>\n",
       "      <th>сustomer_id</th>\n",
       "      <td>0.004324</td>\n",
       "      <td>1.000000</td>\n",
       "      <td>-0.000942</td>\n",
       "      <td>0.009881</td>\n",
       "      <td>-0.021410</td>\n",
       "      <td>-0.009066</td>\n",
       "      <td>0.016302</td>\n",
       "      <td>-0.019857</td>\n",
       "      <td>0.001526</td>\n",
       "      <td>0.010013</td>\n",
       "      <td>-0.007040</td>\n",
       "    </tr>\n",
       "    <tr>\n",
       "      <th>credit_score</th>\n",
       "      <td>0.002063</td>\n",
       "      <td>-0.000942</td>\n",
       "      <td>1.000000</td>\n",
       "      <td>-0.008681</td>\n",
       "      <td>0.000604</td>\n",
       "      <td>0.002355</td>\n",
       "      <td>0.010281</td>\n",
       "      <td>-0.002308</td>\n",
       "      <td>0.029272</td>\n",
       "      <td>0.007318</td>\n",
       "      <td>-0.020277</td>\n",
       "    </tr>\n",
       "    <tr>\n",
       "      <th>age</th>\n",
       "      <td>0.000553</td>\n",
       "      <td>0.009881</td>\n",
       "      <td>-0.008681</td>\n",
       "      <td>1.000000</td>\n",
       "      <td>-0.014275</td>\n",
       "      <td>0.037079</td>\n",
       "      <td>-0.059194</td>\n",
       "      <td>-0.019720</td>\n",
       "      <td>0.035473</td>\n",
       "      <td>-0.000445</td>\n",
       "      <td>0.322209</td>\n",
       "    </tr>\n",
       "    <tr>\n",
       "      <th>tenure</th>\n",
       "      <td>-0.007650</td>\n",
       "      <td>-0.021410</td>\n",
       "      <td>0.000604</td>\n",
       "      <td>-0.014275</td>\n",
       "      <td>1.000000</td>\n",
       "      <td>-0.005252</td>\n",
       "      <td>0.011453</td>\n",
       "      <td>0.027293</td>\n",
       "      <td>-0.032596</td>\n",
       "      <td>0.010343</td>\n",
       "      <td>-0.016762</td>\n",
       "    </tr>\n",
       "    <tr>\n",
       "      <th>balance</th>\n",
       "      <td>-0.005183</td>\n",
       "      <td>-0.009066</td>\n",
       "      <td>0.002355</td>\n",
       "      <td>0.037079</td>\n",
       "      <td>-0.005252</td>\n",
       "      <td>1.000000</td>\n",
       "      <td>-0.314450</td>\n",
       "      <td>-0.014089</td>\n",
       "      <td>-0.004202</td>\n",
       "      <td>0.013199</td>\n",
       "      <td>0.108760</td>\n",
       "    </tr>\n",
       "    <tr>\n",
       "      <th>num_of_products</th>\n",
       "      <td>0.010115</td>\n",
       "      <td>0.016302</td>\n",
       "      <td>0.010281</td>\n",
       "      <td>-0.059194</td>\n",
       "      <td>0.011453</td>\n",
       "      <td>-0.314450</td>\n",
       "      <td>1.000000</td>\n",
       "      <td>0.006969</td>\n",
       "      <td>0.016778</td>\n",
       "      <td>0.012308</td>\n",
       "      <td>-0.127500</td>\n",
       "    </tr>\n",
       "    <tr>\n",
       "      <th>has_cr_card</th>\n",
       "      <td>0.001238</td>\n",
       "      <td>-0.019857</td>\n",
       "      <td>-0.002308</td>\n",
       "      <td>-0.019720</td>\n",
       "      <td>0.027293</td>\n",
       "      <td>-0.014089</td>\n",
       "      <td>0.006969</td>\n",
       "      <td>1.000000</td>\n",
       "      <td>-0.008810</td>\n",
       "      <td>-0.006224</td>\n",
       "      <td>-0.005411</td>\n",
       "    </tr>\n",
       "    <tr>\n",
       "      <th>is_active_member</th>\n",
       "      <td>0.009533</td>\n",
       "      <td>0.001526</td>\n",
       "      <td>0.029272</td>\n",
       "      <td>0.035473</td>\n",
       "      <td>-0.032596</td>\n",
       "      <td>-0.004202</td>\n",
       "      <td>0.016778</td>\n",
       "      <td>-0.008810</td>\n",
       "      <td>1.000000</td>\n",
       "      <td>-0.020159</td>\n",
       "      <td>-0.155062</td>\n",
       "    </tr>\n",
       "    <tr>\n",
       "      <th>estimated_salary</th>\n",
       "      <td>-0.004891</td>\n",
       "      <td>0.010013</td>\n",
       "      <td>0.007318</td>\n",
       "      <td>-0.000445</td>\n",
       "      <td>0.010343</td>\n",
       "      <td>0.013199</td>\n",
       "      <td>0.012308</td>\n",
       "      <td>-0.006224</td>\n",
       "      <td>-0.020159</td>\n",
       "      <td>1.000000</td>\n",
       "      <td>0.016033</td>\n",
       "    </tr>\n",
       "    <tr>\n",
       "      <th>exited</th>\n",
       "      <td>-0.014551</td>\n",
       "      <td>-0.007040</td>\n",
       "      <td>-0.020277</td>\n",
       "      <td>0.322209</td>\n",
       "      <td>-0.016762</td>\n",
       "      <td>0.108760</td>\n",
       "      <td>-0.127500</td>\n",
       "      <td>-0.005411</td>\n",
       "      <td>-0.155062</td>\n",
       "      <td>0.016033</td>\n",
       "      <td>1.000000</td>\n",
       "    </tr>\n",
       "  </tbody>\n",
       "</table>\n",
       "</div>"
      ],
      "text/plain": [
       "                  row_number  сustomer_id  credit_score       age    tenure  \\\n",
       "row_number          1.000000     0.004324      0.002063  0.000553 -0.007650   \n",
       "сustomer_id         0.004324     1.000000     -0.000942  0.009881 -0.021410   \n",
       "credit_score        0.002063    -0.000942      1.000000 -0.008681  0.000604   \n",
       "age                 0.000553     0.009881     -0.008681  1.000000 -0.014275   \n",
       "tenure             -0.007650    -0.021410      0.000604 -0.014275  1.000000   \n",
       "balance            -0.005183    -0.009066      0.002355  0.037079 -0.005252   \n",
       "num_of_products     0.010115     0.016302      0.010281 -0.059194  0.011453   \n",
       "has_cr_card         0.001238    -0.019857     -0.002308 -0.019720  0.027293   \n",
       "is_active_member    0.009533     0.001526      0.029272  0.035473 -0.032596   \n",
       "estimated_salary   -0.004891     0.010013      0.007318 -0.000445  0.010343   \n",
       "exited             -0.014551    -0.007040     -0.020277  0.322209 -0.016762   \n",
       "\n",
       "                   balance  num_of_products  has_cr_card  is_active_member  \\\n",
       "row_number       -0.005183         0.010115     0.001238          0.009533   \n",
       "сustomer_id      -0.009066         0.016302    -0.019857          0.001526   \n",
       "credit_score      0.002355         0.010281    -0.002308          0.029272   \n",
       "age               0.037079        -0.059194    -0.019720          0.035473   \n",
       "tenure           -0.005252         0.011453     0.027293         -0.032596   \n",
       "balance           1.000000        -0.314450    -0.014089         -0.004202   \n",
       "num_of_products  -0.314450         1.000000     0.006969          0.016778   \n",
       "has_cr_card      -0.014089         0.006969     1.000000         -0.008810   \n",
       "is_active_member -0.004202         0.016778    -0.008810          1.000000   \n",
       "estimated_salary  0.013199         0.012308    -0.006224         -0.020159   \n",
       "exited            0.108760        -0.127500    -0.005411         -0.155062   \n",
       "\n",
       "                  estimated_salary    exited  \n",
       "row_number               -0.004891 -0.014551  \n",
       "сustomer_id               0.010013 -0.007040  \n",
       "credit_score              0.007318 -0.020277  \n",
       "age                      -0.000445  0.322209  \n",
       "tenure                    0.010343 -0.016762  \n",
       "balance                   0.013199  0.108760  \n",
       "num_of_products           0.012308 -0.127500  \n",
       "has_cr_card              -0.006224 -0.005411  \n",
       "is_active_member         -0.020159 -0.155062  \n",
       "estimated_salary          1.000000  0.016033  \n",
       "exited                    0.016033  1.000000  "
      ]
     },
     "execution_count": 179,
     "metadata": {},
     "output_type": "execute_result"
    }
   ],
   "source": [
    "df.corr(method='spearman')"
   ]
  },
  {
   "cell_type": "markdown",
   "metadata": {},
   "source": [
    "Мультиколлинеарности между признаками не наблюдается."
   ]
  },
  {
   "cell_type": "markdown",
   "metadata": {},
   "source": [
    "Поставленная задача будет решаться методом классификации (т.к. клиент либо ушел, либо нет). Удалим столбцы, которые там не понадобятся (row_number, сustomer_id и surname)."
   ]
  },
  {
   "cell_type": "code",
   "execution_count": 180,
   "metadata": {},
   "outputs": [],
   "source": [
    "df = df.drop(['row_number', 'сustomer_id', 'surname'], axis=1)"
   ]
  },
  {
   "cell_type": "markdown",
   "metadata": {},
   "source": [
    "Во избежания dummy ловушки вспользуемся следующим методом:"
   ]
  },
  {
   "cell_type": "code",
   "execution_count": 181,
   "metadata": {},
   "outputs": [],
   "source": [
    "df = pd.get_dummies(df, drop_first=True)"
   ]
  },
  {
   "cell_type": "markdown",
   "metadata": {},
   "source": [
    "<b>Общий вывод: </b>в целом, данные изначально были вполне готовы для дальнейшего исследования. Были удалены пропуски в колонке \"tenure\". Были переименованы переменные в соответсвии со змеиным регистром. В остальном все осталось тем же самым. "
   ]
  },
  {
   "cell_type": "markdown",
   "metadata": {},
   "source": [
    "## Исследование задачи"
   ]
  },
  {
   "cell_type": "markdown",
   "metadata": {},
   "source": [
    "### Разбиение на выборки"
   ]
  },
  {
   "cell_type": "markdown",
   "metadata": {},
   "source": [
    "Разобьем выборки на 3 части в пропорциях 60:20:20 (обучающая, тестовая и валидационная)"
   ]
  },
  {
   "cell_type": "code",
   "execution_count": 182,
   "metadata": {},
   "outputs": [
    {
     "name": "stdout",
     "output_type": "stream",
     "text": [
      "(5454, 11)\n",
      "(5454,)\n"
     ]
    }
   ],
   "source": [
    "features = df.drop(['exited'],axis= 1)\n",
    "target = df['exited']\n",
    "features_train, features_test, target_train, target_test = train_test_split(features, target,\n",
    "                                                                            test_size=.4, random_state=12345)\n",
    "#обучающая выборка\n",
    "print(features_train.shape)\n",
    "print(target_train.shape)"
   ]
  },
  {
   "cell_type": "code",
   "execution_count": 183,
   "metadata": {},
   "outputs": [
    {
     "name": "stdout",
     "output_type": "stream",
     "text": [
      "(1819, 11)\n",
      "(1819,)\n",
      "(1818, 11)\n",
      "(1818,)\n"
     ]
    }
   ],
   "source": [
    "features_valid, features_test, target_valid, target_test = train_test_split(features_test, target_test, stratify=target_test,\n",
    "                                                                            test_size=.5, random_state=12345)\n",
    "#тестовая выборка, на которой мы будем проверять модель\n",
    "print(features_test.shape)\n",
    "print(target_test.shape)\n",
    "#валидационная выборка\n",
    "print(features_valid.shape)\n",
    "print(target_valid.shape)"
   ]
  },
  {
   "cell_type": "markdown",
   "metadata": {},
   "source": [
    "Чтобы избежать разного масштаба признаков - стандартизируем их с помощью scaler."
   ]
  },
  {
   "cell_type": "code",
   "execution_count": 184,
   "metadata": {},
   "outputs": [],
   "source": [
    "pd.options.mode.chained_assignment = None"
   ]
  },
  {
   "cell_type": "code",
   "execution_count": 185,
   "metadata": {},
   "outputs": [],
   "source": [
    "numeric = ['credit_score', 'age', 'tenure', 'balance', 'estimated_salary']\n",
    "\n",
    "scaler = StandardScaler()\n",
    "scaler.fit(features_train[numeric])\n",
    "\n",
    "features_train[numeric] = scaler.transform(features_train[numeric])\n",
    "features_valid[numeric] = scaler.transform(features_valid[numeric])\n",
    "features_test[numeric] = scaler.transform(features_test[numeric])"
   ]
  },
  {
   "cell_type": "markdown",
   "metadata": {},
   "source": [
    "### Исследование моделей"
   ]
  },
  {
   "cell_type": "markdown",
   "metadata": {},
   "source": [
    "Начнем с модели решающего дерева. У нее низкое качество, но зато высокая скорость."
   ]
  },
  {
   "cell_type": "code",
   "execution_count": 186,
   "metadata": {},
   "outputs": [],
   "source": [
    "best_model = None\n",
    "best_result = 0\n",
    "train_list = []\n",
    "valid_list = []\n",
    "for depth in range(1, 20):\n",
    "    model = DecisionTreeClassifier(random_state=12345, max_depth=depth) #модель с заданной глубиной дерева\n",
    "    model.fit(features_train, target_train) # обучение модели\n",
    "    predictions = model.predict(features_valid) #предсказания модели\n",
    "    result = f1_score(target_valid, predictions) \n",
    "    acc = accuracy_score(target_valid, predictions)\n",
    "    valid_list.append(result)\n",
    "    if result > best_result:\n",
    "        best_model = model\n",
    "        best_result = result\n",
    "        best_depth = depth\n",
    "        best_acc = acc\n",
    "        probabilities_valid = best_model.predict_proba(features_valid)\n",
    "        probabilities_one_valid = probabilities_valid[:, 1]\n",
    "        auc_roc = roc_auc_score(target_valid,probabilities_one_valid)"
   ]
  },
  {
   "cell_type": "code",
   "execution_count": 187,
   "metadata": {},
   "outputs": [
    {
     "name": "stdout",
     "output_type": "stream",
     "text": [
      "Выбранная глубина:  7\n",
      "Accuracy лучшей модели: 0.8487348734873488\n",
      "F1 для Дерева решений: 0.5454545454545455\n",
      "AUC-ROC для Дерева решени: 0.8182911483289751\n"
     ]
    }
   ],
   "source": [
    "print(\"Выбранная глубина: \", best_depth)\n",
    "print(\"Accuracy лучшей модели:\", best_acc)\n",
    "print(\"F1 для Дерева решений:\", best_result)\n",
    "print(\"AUC-ROC для Дерева решени:\", auc_roc)"
   ]
  },
  {
   "cell_type": "markdown",
   "metadata": {},
   "source": [
    "F1 для древа решений = 0.56, когда нам нужно (минимум) 0.59, значит эта модель не подходит"
   ]
  },
  {
   "cell_type": "markdown",
   "metadata": {},
   "source": [
    "Посмотрим на модель логистической регрессии - ее качество должно быть немного выше древа."
   ]
  },
  {
   "cell_type": "code",
   "execution_count": 188,
   "metadata": {},
   "outputs": [],
   "source": [
    "model_log = LogisticRegression(random_state=12345, solver='liblinear', max_iter=1000)\n",
    "model_log.fit(features_train, target_train)\n",
    "predictions_log = model_log.predict(features_valid)\n",
    "\n",
    "result =  accuracy_score(target_valid, predictions_log)\n",
    "\n",
    "probabilities_valid = model.predict_proba(features_valid)\n",
    "probabilities_one_valid = probabilities_valid[:, 1]\n",
    "auc_roc = roc_auc_score(target_valid,probabilities_one_valid)"
   ]
  },
  {
   "cell_type": "code",
   "execution_count": 189,
   "metadata": {},
   "outputs": [
    {
     "name": "stdout",
     "output_type": "stream",
     "text": [
      "Accuracy Логичстической модели: 0.8140814081408141\n",
      "F1 для Логистической модели: 0.29583333333333334\n",
      "AUC-ROC для Логистической модели: 0.689979896307269\n"
     ]
    }
   ],
   "source": [
    "print(\"Accuracy Логичстической модели:\", result)\n",
    "print(\"F1 для Логистической модели:\", f1_score(target_valid, predictions_log))\n",
    "print(\"AUC-ROC для Логистической модели:\", auc_roc)"
   ]
  },
  {
   "cell_type": "markdown",
   "metadata": {},
   "source": [
    "F1-мера гораздо ниже, чем в древе= 0.3, совершенно нам не годится. остается случайный лес."
   ]
  },
  {
   "cell_type": "markdown",
   "metadata": {},
   "source": [
    "У случайного леса высокое качество, но низкая скорость. Скорее всего, будет выбрана эта модель - в данном случае скорость нам не критична, а точность будет (должна быть...) выше."
   ]
  },
  {
   "cell_type": "code",
   "execution_count": 190,
   "metadata": {},
   "outputs": [],
   "source": [
    "best_model_forest = None\n",
    "best_result_forest = 0\n",
    "best_depth_forest = 0\n",
    "for est in  range(10, 101, 10):\n",
    "    for depth in range(1, 21, 1):\n",
    "        model_forest = RandomForestClassifier(random_state=12345, max_depth=depth, n_estimators=est)\n",
    "        model_forest.fit(features_train,target_train)\n",
    "        predictions_valid = model_forest.predict(features_valid)\n",
    "        result =  f1_score(target_valid, predictions_valid)\n",
    "        acc = accuracy_score(target_valid, predictions)\n",
    "\n",
    "        if result > best_result_forest:\n",
    "            best_model_forest = model_forest\n",
    "            best_est = est\n",
    "            best_result_forest = result\n",
    "            best_depth_forest = depth\n",
    "            acc_best = acc\n",
    "            \n",
    "            probabilities_valid = best_model_forest.predict_proba(features_valid)\n",
    "            probabilities_one_valid = probabilities_valid[:, 1]\n",
    "            auc_roc = roc_auc_score(target_valid,probabilities_one_valid)"
   ]
  },
  {
   "cell_type": "code",
   "execution_count": 191,
   "metadata": {},
   "outputs": [
    {
     "name": "stdout",
     "output_type": "stream",
     "text": [
      "F1 для случайного леса 0.5851239669421487\n",
      "Accuracy для случайного леса 0.7975797579757976\n",
      "AUC-ROC для Леса: 0.843224261982859\n",
      "Глубина 18\n",
      "Кол-во деревьев 30\n"
     ]
    }
   ],
   "source": [
    "print(\"F1 для случайного леса\", best_result_forest)\n",
    "print(\"Accuracy для случайного леса\", acc_best)\n",
    "print(\"AUC-ROC для Леса:\", auc_roc)\n",
    "print('Глубина',best_depth_forest)\n",
    "print('Кол-во деревьев', best_est)"
   ]
  },
  {
   "cell_type": "markdown",
   "metadata": {},
   "source": [
    "F1 получилась 0.57... Не 0.59, но наивысший результат, надеюсь, в дальнейшем этот показатель поднимется "
   ]
  },
  {
   "cell_type": "markdown",
   "metadata": {},
   "source": [
    "<b>Общий вывод: </b>лучшей модель оказался случайный лес с показателями accuracy = 0.72, F1 = 0.57, AUC_ROC = 0.84, глубина = 14, кол-во деревьев = 20."
   ]
  },
  {
   "cell_type": "markdown",
   "metadata": {},
   "source": [
    "## Борьба с дисбалансом"
   ]
  },
  {
   "cell_type": "markdown",
   "metadata": {},
   "source": [
    "Попробуем справиться с дисбалансом классов. Будем использовать class_weight, техниками downsampling и upsampling   - попробуем изменить размер выборки."
   ]
  },
  {
   "cell_type": "markdown",
   "metadata": {},
   "source": [
    "Но для начала посмотрим на соотношение классов (кол-во положительных и отрицательных ответов):"
   ]
  },
  {
   "cell_type": "code",
   "execution_count": 192,
   "metadata": {},
   "outputs": [
    {
     "name": "stdout",
     "output_type": "stream",
     "text": [
      "(4328, 11)\n",
      "(1126, 11)\n"
     ]
    }
   ],
   "source": [
    "print(features_train[target_train == 0].shape)\n",
    "print(features_train[target_train == 1].shape)"
   ]
  },
  {
   "cell_type": "markdown",
   "metadata": {},
   "source": [
    "Виден дисбаланс - кол-во отрицательных ответов сильно превышает положительные."
   ]
  },
  {
   "cell_type": "markdown",
   "metadata": {},
   "source": [
    "### Downsampling"
   ]
  },
  {
   "cell_type": "markdown",
   "metadata": {},
   "source": [
    "Начнем с downsampling"
   ]
  },
  {
   "cell_type": "code",
   "execution_count": 193,
   "metadata": {},
   "outputs": [],
   "source": [
    "def downsample(features, target, fraction):\n",
    "    features_zeros = features[target == 0]\n",
    "    features_ones = features[target == 1]\n",
    "    target_zeros = target[target == 0]\n",
    "    target_ones = target[target == 1]\n",
    "    \n",
    "    features_downsampled = pd.concat(\n",
    "        [features_zeros.sample(frac=fraction, random_state=12345)] + [features_ones])\n",
    "    target_downsampled = pd.concat(\n",
    "        [target_zeros.sample(frac=fraction, random_state=12345)] + [target_ones])\n",
    "    \n",
    "    features_downsampled, target_downsampled = shuffle(\n",
    "        features_downsampled, target_downsampled, random_state=12345)\n",
    "    \n",
    "    return features_downsampled, target_downsampled"
   ]
  },
  {
   "cell_type": "code",
   "execution_count": 194,
   "metadata": {},
   "outputs": [
    {
     "name": "stdout",
     "output_type": "stream",
     "text": [
      "(1082, 11)\n",
      "(1126, 11)\n"
     ]
    }
   ],
   "source": [
    "features_downsampled, target_downsampled = downsample(features_train, target_train, 0.25)\n",
    "\n",
    "print (features_downsampled[target_downsampled == 0].shape)\n",
    "print (features_downsampled[target_downsampled == 1].shape)"
   ]
  },
  {
   "cell_type": "markdown",
   "metadata": {},
   "source": [
    "Рассмотрим еще раз древо решений:"
   ]
  },
  {
   "cell_type": "code",
   "execution_count": 195,
   "metadata": {},
   "outputs": [],
   "source": [
    "best_model = None\n",
    "best_result = 0\n",
    "train_list = []\n",
    "valid_list = []\n",
    "\n",
    "for depth in range(1, 20):\n",
    "    model = DecisionTreeClassifier(random_state=12345, max_depth=depth) #модель с заданной глубиной дерева\n",
    "    model.fit(features_downsampled, target_downsampled) # обучение модели\n",
    "    predictions = model.predict(features_valid) #предсказания модели\n",
    "    result = f1_score(target_valid, predictions) \n",
    "    acc = accuracy_score(target_valid, predictions)\n",
    "    valid_list.append(result)\n",
    "    if result > best_result:\n",
    "        best_model = model\n",
    "        best_result = result\n",
    "        best_depth = depth\n",
    "        best_acc = acc\n",
    "        probabilities_valid = best_model.predict_proba(features_valid)\n",
    "        probabilities_one_valid = probabilities_valid[:, 1]\n",
    "        auc_roc = roc_auc_score(target_valid,probabilities_one_valid)"
   ]
  },
  {
   "cell_type": "code",
   "execution_count": 196,
   "metadata": {},
   "outputs": [
    {
     "name": "stdout",
     "output_type": "stream",
     "text": [
      "Выбранная глубина:  7\n",
      "Accuracy лучшей модели: 0.7436743674367436\n",
      "F1 для Дерева решений: 0.5493230174081238\n",
      "AUC-ROC для Дерева решени: 0.8155949105914717\n"
     ]
    }
   ],
   "source": [
    "print(\"Выбранная глубина: \", best_depth)\n",
    "print(\"Accuracy лучшей модели:\", best_acc)\n",
    "print(\"F1 для Дерева решений:\", best_result)\n",
    "print(\"AUC-ROC для Дерева решени:\", auc_roc)"
   ]
  },
  {
   "cell_type": "markdown",
   "metadata": {},
   "source": [
    "По сравнению с несбалансированным древом получились результаты похуже - accuracy, f1 и AUC-ROC ниже (было 0.85, 0.56 и 0.81) соответсвенно. Изменилась выбранная глубина"
   ]
  },
  {
   "cell_type": "markdown",
   "metadata": {},
   "source": [
    "Рассмотрим логистическую регрессию:"
   ]
  },
  {
   "cell_type": "code",
   "execution_count": 197,
   "metadata": {},
   "outputs": [],
   "source": [
    "model_log = LogisticRegression(random_state=12345, solver='liblinear', max_iter=1000)\n",
    "model_log.fit(features_downsampled, target_downsampled)\n",
    "predictions_log = model_log.predict(features_valid)\n",
    "\n",
    "result =  accuracy_score(target_valid, predictions_log)\n",
    "\n",
    "probabilities_valid = model.predict_proba(features_valid)\n",
    "probabilities_one_valid = probabilities_valid[:, 1]\n",
    "auc_roc = roc_auc_score(target_valid, probabilities_one_valid)"
   ]
  },
  {
   "cell_type": "code",
   "execution_count": 198,
   "metadata": {
    "scrolled": true
   },
   "outputs": [
    {
     "name": "stdout",
     "output_type": "stream",
     "text": [
      "Accuracy Логистической модели: 0.7046204620462047\n",
      "F1 для Логистической модели: 0.4909952606635071\n",
      "AUC-ROC для Логистической модели: 0.7192247230073914\n"
     ]
    }
   ],
   "source": [
    "print(\"Accuracy Логистической модели:\", result)\n",
    "print(\"F1 для Логистической модели:\", f1_score(target_valid, predictions_log))\n",
    "print(\"AUC-ROC для Логистической модели:\", auc_roc)"
   ]
  },
  {
   "cell_type": "markdown",
   "metadata": {},
   "source": [
    "F1 при такой выборке больше, а значения accuracy и auc-roc ниже(было: accuracy = 0.79, F1 = 0.3, AUC-ROC = 0.77)"
   ]
  },
  {
   "cell_type": "markdown",
   "metadata": {},
   "source": [
    "Рассмотрим теперь случайный лес:"
   ]
  },
  {
   "cell_type": "code",
   "execution_count": 199,
   "metadata": {},
   "outputs": [],
   "source": [
    "best_model_forest = None\n",
    "best_result_forest = 0\n",
    "best_depth_forest = 0\n",
    "for est in  range(10, 101, 10):\n",
    "    for depth in range(1, 21, 1):\n",
    "        model_forest = RandomForestClassifier(random_state=12345, max_depth=depth, n_estimators=est)\n",
    "        model_forest.fit(features_downsampled, target_downsampled)\n",
    "        predictions_valid = model_forest.predict(features_valid)\n",
    "        result =  f1_score(target_valid, predictions_valid)\n",
    "        acc = accuracy_score(target_valid, predictions)\n",
    "        \n",
    "        if result > best_result_forest:\n",
    "            best_model_forest = model_forest\n",
    "            best_est = est\n",
    "            best_result_forest = result\n",
    "            best_depth_forest = depth\n",
    "            acc_best = acc\n",
    "            \n",
    "            probabilities_valid = best_model_forest.predict_proba(features_valid)\n",
    "            probabilities_one_valid = probabilities_valid[:, 1]\n",
    "            auc_roc = roc_auc_score(target_valid,probabilities_one_valid)"
   ]
  },
  {
   "cell_type": "code",
   "execution_count": 200,
   "metadata": {},
   "outputs": [
    {
     "name": "stdout",
     "output_type": "stream",
     "text": [
      "F1 для случайного леса 0.5828220858895706\n",
      "Accuracy для случайного леса 0.7024202420242024\n",
      "AUC-ROC для Леса: 0.8525269434829268\n",
      "Глубина 10\n",
      "Кол-во деревьев 90\n"
     ]
    }
   ],
   "source": [
    "print(\"F1 для случайного леса\", best_result_forest)\n",
    "print(\"Accuracy для случайного леса\", acc_best)\n",
    "print(\"AUC-ROC для Леса:\", auc_roc)\n",
    "print('Глубина',best_depth_forest)\n",
    "print('Кол-во деревьев', best_est)"
   ]
  },
  {
   "cell_type": "markdown",
   "metadata": {},
   "source": [
    "В целом показатели случайного леса на сбалансированной выборке выше, чем в предыдущем исследовании (было accuracy = 0.72, F1 = 0.57, AUC_ROC = 0.84), но не намного."
   ]
  },
  {
   "cell_type": "markdown",
   "metadata": {},
   "source": [
    "<b>Общий вывод: </b>если говорить про изменения в показателях в целом, то осталось все также - лучшей моделью оказался случайный лес (accuracy = 0.70, F1 = 0.58, AUC_ROC = 0.85). Кроме того, с техникой downsampling показатели были улучшены. Нужно посмотреть, изменятся ли результаты, если использовать upsampling"
   ]
  },
  {
   "cell_type": "markdown",
   "metadata": {},
   "source": [
    "### Upsampling"
   ]
  },
  {
   "cell_type": "code",
   "execution_count": 201,
   "metadata": {},
   "outputs": [],
   "source": [
    "def upsample(features, target, repeat): \n",
    "    features_zeros = features[target == 0]\n",
    "    features_ones = features[target == 1]\n",
    "    target_zeros = target[target == 0]\n",
    "    target_ones = target[target == 1]\n",
    "    features_upsampled = pd.concat([features_zeros] + [features_ones] * repeat) \n",
    "    target_upsampled = pd.concat([target_zeros] + [target_ones] * repeat)\n",
    "    features_upsampled, target_upsampled = shuffle( features_upsampled, target_upsampled, random_state=12345)\n",
    "    return features_upsampled, target_upsampled"
   ]
  },
  {
   "cell_type": "code",
   "execution_count": 202,
   "metadata": {
    "scrolled": true
   },
   "outputs": [
    {
     "name": "stdout",
     "output_type": "stream",
     "text": [
      "(4328, 11)\n",
      "(4504, 11)\n"
     ]
    }
   ],
   "source": [
    "features_upsampled, target_upsampled = upsample(features_train, target_train, 4)\n",
    "\n",
    "print (features_upsampled[target_upsampled == 0].shape)\n",
    "print (features_upsampled[target_upsampled == 1].shape)"
   ]
  },
  {
   "cell_type": "markdown",
   "metadata": {},
   "source": [
    "Идем в том же порядке и начинаем с древа:"
   ]
  },
  {
   "cell_type": "code",
   "execution_count": 203,
   "metadata": {},
   "outputs": [],
   "source": [
    "best_model = None\n",
    "best_result = 0\n",
    "train_list = []\n",
    "valid_list = []\n",
    "\n",
    "for depth in range(1, 20):\n",
    "    model = DecisionTreeClassifier(random_state=12345, max_depth=depth) #модель с заданной глубиной дерева\n",
    "    model.fit(features_upsampled, target_upsampled) # обучение модели\n",
    "    predictions = model.predict(features_valid) #предсказания модели\n",
    "    result = f1_score(target_valid, predictions) \n",
    "    acc = accuracy_score(target_valid, predictions)\n",
    "    valid_list.append(result)\n",
    "    if result > best_result:\n",
    "        best_model = model\n",
    "        best_result = result\n",
    "        best_depth = depth\n",
    "        best_acc = acc\n",
    "        probabilities_valid = best_model.predict_proba(features_valid)\n",
    "        probabilities_one_valid = probabilities_valid[:, 1]\n",
    "        auc_roc = roc_auc_score(target_valid,probabilities_one_valid)"
   ]
  },
  {
   "cell_type": "code",
   "execution_count": 204,
   "metadata": {},
   "outputs": [
    {
     "name": "stdout",
     "output_type": "stream",
     "text": [
      "Выбранная глубина:  6\n",
      "Accuracy лучшей модели: 0.740924092409241\n",
      "F1 для Дерева решений: 0.5484180249280921\n",
      "AUC-ROC для Дерева решени: 0.8321625073688347\n"
     ]
    }
   ],
   "source": [
    "print(\"Выбранная глубина: \", best_depth)\n",
    "print(\"Accuracy лучшей модели:\", best_acc)\n",
    "print(\"F1 для Дерева решений:\", best_result)\n",
    "print(\"AUC-ROC для Дерева решени:\", auc_roc)"
   ]
  },
  {
   "cell_type": "markdown",
   "metadata": {},
   "source": [
    "По сравнению с несбалансированной моделью (было Accuracy = 0.85, F1 = 0.56 и AUC_ROC = 0.81) показатели ниже, в сравнении со сбалансированной моделью техникой downsampling (было Accuracy = 0.74, F1 = 0.54 и AUC_ROC = 0.81) показатели такие же, за исключением AUC_ROC."
   ]
  },
  {
   "cell_type": "markdown",
   "metadata": {},
   "source": [
    "Логистическая регрессия:"
   ]
  },
  {
   "cell_type": "code",
   "execution_count": 205,
   "metadata": {},
   "outputs": [],
   "source": [
    "model_log = LogisticRegression(random_state=12345, solver='liblinear', max_iter=1000)\n",
    "model_log.fit(features_upsampled, target_upsampled)\n",
    "predictions_log = model_log.predict(features_valid)\n",
    "\n",
    "result =  accuracy_score(target_valid, predictions_log)\n",
    "\n",
    "probabilities_valid = model.predict_proba(features_valid)\n",
    "probabilities_one_valid = probabilities_valid[:, 1]\n",
    "auc_roc = roc_auc_score(target_valid, probabilities_one_valid)"
   ]
  },
  {
   "cell_type": "code",
   "execution_count": 206,
   "metadata": {
    "scrolled": true
   },
   "outputs": [
    {
     "name": "stdout",
     "output_type": "stream",
     "text": [
      "Accuracy Логичстической модели: 0.7090209020902091\n",
      "F1 для Логистической модели: 0.49474689589302767\n",
      "AUC-ROC для Логистической модели: 0.6596146288374625\n"
     ]
    }
   ],
   "source": [
    "print(\"Accuracy Логичстической модели:\", result)\n",
    "print(\"F1 для Логистической модели:\", f1_score(target_valid, predictions_log))\n",
    "print(\"AUC-ROC для Логистической модели:\", auc_roc)"
   ]
  },
  {
   "cell_type": "markdown",
   "metadata": {},
   "source": [
    "По сравнению с несбалансированной моделью (было accuracy = 0.79, F1 = 0.3, AUC-ROC = 0.77) показатели, кроме F1, ниже, в сравнении со сбалансированной моделью техникой downsampling (было Accuracy = 0.70, F1 = 0.49 и AUC_ROC = 0.71) показатели практически таки же, за иключением AUC-ROC."
   ]
  },
  {
   "cell_type": "markdown",
   "metadata": {},
   "source": [
    "Случайный лес:"
   ]
  },
  {
   "cell_type": "code",
   "execution_count": 207,
   "metadata": {},
   "outputs": [],
   "source": [
    "best_model_forest = None\n",
    "best_result_forest = 0\n",
    "best_depth_forest = 0\n",
    "for est in  range(10, 101, 10):\n",
    "    for depth in range(1, 21, 1):\n",
    "        model_forest = RandomForestClassifier(random_state=12345, max_depth=depth, n_estimators=est)\n",
    "        model_forest.fit(features_upsampled, target_upsampled)\n",
    "        predictions_valid = model_forest.predict(features_valid)\n",
    "        result =  f1_score(target_valid, predictions_valid)\n",
    "        acc = accuracy_score(target_valid, predictions)\n",
    "        \n",
    "        if result > best_result_forest:\n",
    "            best_model_forest = model_forest\n",
    "            best_est = est\n",
    "            best_result_forest = result\n",
    "            best_depth_forest = depth\n",
    "            acc_best = acc\n",
    "            \n",
    "            probabilities_valid = best_model_forest.predict_proba(features_valid)\n",
    "            probabilities_one_valid = probabilities_valid[:, 1]\n",
    "            auc_roc = roc_auc_score(target_valid,probabilities_one_valid)"
   ]
  },
  {
   "cell_type": "code",
   "execution_count": 208,
   "metadata": {},
   "outputs": [
    {
     "name": "stdout",
     "output_type": "stream",
     "text": [
      "F1 для случайного леса 0.6251728907330567\n",
      "Accuracy для случайного леса 0.7777777777777778\n",
      "AUC-ROC для Леса: 0.8496956104418277\n",
      "Глубина 14\n",
      "Кол-во деревьев 80\n"
     ]
    }
   ],
   "source": [
    "print(\"F1 для случайного леса\", best_result_forest)\n",
    "print(\"Accuracy для случайного леса\", acc_best)\n",
    "print(\"AUC-ROC для Леса:\", auc_roc)\n",
    "print('Глубина',best_depth_forest)\n",
    "print('Кол-во деревьев', best_est)"
   ]
  },
  {
   "cell_type": "markdown",
   "metadata": {},
   "source": [
    "По сравнению с несбалансированной моделью (было accuracy = 0.72, F1 = 0.57, AUC_ROC = 0.84) показатели, кроме AUC_ROC, значительо выше, в сравнении со сбалансированной моделью техникой downsampling (было Accuracy = 0.70, F1 = 0.58 и AUC_ROC = 0.85) показатели выше, за исключением AUC_ROC с разницей < 1."
   ]
  },
  {
   "cell_type": "markdown",
   "metadata": {},
   "source": [
    "### Class_weight"
   ]
  },
  {
   "cell_type": "markdown",
   "metadata": {},
   "source": [
    "Древо решений:"
   ]
  },
  {
   "cell_type": "code",
   "execution_count": 209,
   "metadata": {},
   "outputs": [],
   "source": [
    "best_model = None\n",
    "best_result = 0\n",
    "train_list = []\n",
    "valid_list = []\n",
    "for depth in range(1, 20):\n",
    "    model = DecisionTreeClassifier(random_state=12345, max_depth=depth, class_weight='balanced') #модель с заданной глубиной дерева\n",
    "    model.fit(features_train, target_train) # обучение модели\n",
    "    predictions = model.predict(features_valid) #предсказания модели\n",
    "    result = f1_score(target_valid, predictions) \n",
    "    acc = accuracy_score(target_valid, predictions)\n",
    "    valid_list.append(result)\n",
    "    if result > best_result:\n",
    "        best_model = model\n",
    "        best_result = result\n",
    "        best_depth = depth\n",
    "        best_acc = acc\n",
    "        probabilities_valid = best_model.predict_proba(features_valid)\n",
    "        probabilities_one_valid = probabilities_valid[:, 1]\n",
    "        auc_roc = roc_auc_score(target_valid,probabilities_one_valid)"
   ]
  },
  {
   "cell_type": "code",
   "execution_count": 210,
   "metadata": {
    "scrolled": true
   },
   "outputs": [
    {
     "name": "stdout",
     "output_type": "stream",
     "text": [
      "Выбранная глубина:  6\n",
      "Accuracy лучшей модели: 0.740924092409241\n",
      "F1 для Дерева решений: 0.5484180249280921\n",
      "AUC-ROC для Дерева решени: 0.8321077134694741\n"
     ]
    }
   ],
   "source": [
    "print(\"Выбранная глубина: \", best_depth)\n",
    "print(\"Accuracy лучшей модели:\", best_acc)\n",
    "print(\"F1 для Дерева решений:\", best_result)\n",
    "print(\"AUC-ROC для Дерева решени:\", auc_roc)"
   ]
  },
  {
   "cell_type": "markdown",
   "metadata": {},
   "source": [
    "Данная модель с такими параметрами показала наиболее хороший результат, если сравнивать с предыдущими. "
   ]
  },
  {
   "cell_type": "markdown",
   "metadata": {},
   "source": [
    "Логистическая регрессия:"
   ]
  },
  {
   "cell_type": "code",
   "execution_count": 211,
   "metadata": {},
   "outputs": [],
   "source": [
    "model_log = LogisticRegression(random_state=12345, solver='liblinear', max_iter=1000, class_weight='balanced')\n",
    "model_log.fit(features_train, target_train)\n",
    "predictions_log = model_log.predict(features_valid)\n",
    "\n",
    "result =  accuracy_score(target_valid, predictions_log)\n",
    "\n",
    "probabilities_valid = model.predict_proba(features_valid)\n",
    "probabilities_one_valid = probabilities_valid[:, 1]\n",
    "auc_roc = roc_auc_score(target_valid,probabilities_one_valid)"
   ]
  },
  {
   "cell_type": "code",
   "execution_count": 212,
   "metadata": {},
   "outputs": [
    {
     "name": "stdout",
     "output_type": "stream",
     "text": [
      "Accuracy Логичстической модели: 0.7211221122112211\n",
      "F1 для Логистической модели: 0.5014749262536873\n",
      "AUC-ROC для Логистической модели: 0.6528664767144823\n"
     ]
    }
   ],
   "source": [
    "print(\"Accuracy Логичстической модели:\", result)\n",
    "print(\"F1 для Логистической модели:\", f1_score(target_valid, predictions_log))\n",
    "print(\"AUC-ROC для Логистической модели:\", auc_roc)"
   ]
  },
  {
   "cell_type": "markdown",
   "metadata": {},
   "source": [
    "По сравнению с другими моделями логистической регрессии - у этой наибольшее знчение F1, хотя другие несколько ниже."
   ]
  },
  {
   "cell_type": "markdown",
   "metadata": {},
   "source": [
    "Случайный лес:"
   ]
  },
  {
   "cell_type": "code",
   "execution_count": 213,
   "metadata": {},
   "outputs": [],
   "source": [
    "best_model_forest = None\n",
    "best_result_forest = 0\n",
    "best_depth_forest = 0\n",
    "for est in  range(10, 101, 10):\n",
    "    for depth in range(1, 21, 1):\n",
    "        model_forest = RandomForestClassifier(random_state=12345, max_depth=depth, n_estimators=est, class_weight='balanced')\n",
    "        model_forest.fit(features_train,target_train)\n",
    "        predictions_valid = model_forest.predict(features_valid)\n",
    "        result =  f1_score(target_valid, predictions_valid)\n",
    "        acc = accuracy_score(target_valid, predictions)\n",
    "\n",
    "        if result > best_result_forest:\n",
    "            best_model_forest = model_forest\n",
    "            best_est = est\n",
    "            best_result_forest = result\n",
    "            best_depth_forest = depth\n",
    "            acc_best = acc\n",
    "            \n",
    "            probabilities_valid = best_model_forest.predict_proba(features_valid)\n",
    "            probabilities_one_valid = probabilities_valid[:, 1]\n",
    "            auc_roc = roc_auc_score(target_valid,probabilities_one_valid)"
   ]
  },
  {
   "cell_type": "code",
   "execution_count": 214,
   "metadata": {},
   "outputs": [
    {
     "name": "stdout",
     "output_type": "stream",
     "text": [
      "F1 для случайного леса 0.6263736263736264\n",
      "Accuracy для случайного леса 0.7733773377337734\n",
      "AUC-ROC для Леса: 0.851863748356183\n",
      "Глубина 10\n",
      "Кол-во деревьев 100\n"
     ]
    }
   ],
   "source": [
    "print(\"F1 для случайного леса\", best_result_forest)\n",
    "print(\"Accuracy для случайного леса\", acc_best)\n",
    "print(\"AUC-ROC для Леса:\", auc_roc)\n",
    "print('Глубина',best_depth_forest)\n",
    "print('Кол-во деревьев', best_est)"
   ]
  },
  {
   "cell_type": "markdown",
   "metadata": {},
   "source": [
    "Показатели этой модели немного, но лучше, чем при технике downsampling (было accuracy = 0.777, F1 = 0.6204 и AUC_ROC = 0.84, глубина = 14, кол-во деревьев = 80)"
   ]
  },
  {
   "cell_type": "markdown",
   "metadata": {},
   "source": [
    "<b>Общий вывод:</b> из всех моделей, которые были сбалансированы техникой downsampling и upsampling, а также при взвешивании классов, наиболее хороший результаты показала модель случайного леса (с class_weight) с параметрами: accuracy = 0.77, F1 = 0.6263 и AUC_ROC = 0.85, глубина = 10, кол-во деревьев = 100"
   ]
  },
  {
   "cell_type": "markdown",
   "metadata": {},
   "source": [
    "## Тестирование модели"
   ]
  },
  {
   "cell_type": "markdown",
   "metadata": {},
   "source": [
    "Проверяем модель случайного леса на тестовой выборке с учетом тех параметров, что мы выбрали"
   ]
  },
  {
   "cell_type": "code",
   "execution_count": 215,
   "metadata": {},
   "outputs": [],
   "source": [
    "model_forest = RandomForestClassifier(random_state = 12345, max_depth = 10, n_estimators = 100, class_weight='balanced')\n",
    "model_forest.fit(features_train, target_train)\n",
    "predict_forest = model_forest.predict(features_test)\n",
    "\n",
    "accuracy_forest = accuracy_score(predict_forest, target_test)\n",
    "\n",
    "f1 = f1_score(target_test, predict_forest)\n",
    "\n",
    "probabilities_valid = model_forest.predict_proba(features_test)\n",
    "probabilities_one_valid = probabilities_valid[:, 1]\n",
    "auc_roc = roc_auc_score(target_test, probabilities_one_valid)"
   ]
  },
  {
   "cell_type": "code",
   "execution_count": 216,
   "metadata": {
    "scrolled": true
   },
   "outputs": [
    {
     "name": "stdout",
     "output_type": "stream",
     "text": [
      "Accuracy итоговой модели: 0.8510170423309511\n",
      "F1 итоговой модели: 0.6372155287817938\n",
      "AUC-ROC итоговой модели: 0.8744080661606435\n"
     ]
    }
   ],
   "source": [
    "print(\"Accuracy итоговой модели:\", accuracy_forest)\n",
    "print(\"F1 итоговой модели:\", f1)\n",
    "print(\"AUC-ROC итоговой модели:\", auc_roc)"
   ]
  },
  {
   "cell_type": "code",
   "execution_count": 217,
   "metadata": {},
   "outputs": [
    {
     "data": {
      "text/plain": [
       "0.6538461538461539"
      ]
     },
     "execution_count": 217,
     "metadata": {},
     "output_type": "execute_result"
    }
   ],
   "source": [
    "recall_score(target_test, predict_forest)"
   ]
  },
  {
   "cell_type": "markdown",
   "metadata": {},
   "source": [
    "Сравним с константной моделью:"
   ]
  },
  {
   "cell_type": "code",
   "execution_count": 218,
   "metadata": {},
   "outputs": [
    {
     "name": "stdout",
     "output_type": "stream",
     "text": [
      "score: 0.799890049477735\n"
     ]
    }
   ],
   "source": [
    "m = DummyClassifier(strategy='most_frequent', random_state=1) \n",
    "m.fit(features_train, target_train)\n",
    "m.predict(features_test)\n",
    "print('score:', m.score(features_test, target_test))"
   ]
  },
  {
   "cell_type": "markdown",
   "metadata": {},
   "source": [
    "Accuracy нашей итоговой модели (0.85) выше, чем у константной модели - значит все хорошо."
   ]
  },
  {
   "cell_type": "markdown",
   "metadata": {},
   "source": [
    "Показатель F1 на итоговой можели выше 0.59, что нам подходит => оставляем эту модель с выбранными гиперпараметрами. Качество моедли тоже достаточно высокое. "
   ]
  },
  {
   "cell_type": "markdown",
   "metadata": {},
   "source": [
    "## Вывод"
   ]
  },
  {
   "cell_type": "markdown",
   "metadata": {},
   "source": [
    "Были подготовлены данные - заполнены пропуски, изменены типы некоторых столбцов, а некоторые столбцы, не несущие важной нам информации, удалены.\n",
    "\n",
    "Данны были разбиты на три выборки: обучающую, валидационную и тестовую. Во избежания разных масштабов классов, данные были стандартизиованы с помощью scaler. На первых двух выборках, без учета баланса классов, были рассмотрены три модели: решающее древо, логистическая регрессия и случайный лес. На этом этапе лучшей моделью показал себя случайный лес.\n",
    "\n",
    "Далее была произведена балансировка классов тремя способами: upsampling, downsampling и с помощью параметра class_weight. Во всех моделях наиболее выcокое значение F1 (среднее полноты и точности) показывал случайный лес. Но самое высокое значение этого показателя было достигнито с помощью class_weight, с параметрами: accuracy = 0.77, F1 = 0.6223 и AUC_ROC = 0.85, глубина = 8, кол-во деревьев = 100.\n",
    "\n",
    "Это параметры и были применены для тестирования итоговой модели. Таким образом, были получены следующие параметры: \n",
    "\n",
    "    Accuracy итоговой модели: 0.85\n",
    "    F1 итоговой модели: 0.6372155287817938\n",
    "    AUC-ROC итоговой модели: 0.8744080661606435\n",
    "F1 выше 0.59, а занчит нам подходит модель с выбранными параметрами.\n",
    "\n",
    "Recall (доля положительных ответов среди всех) = 0.65 - показатель достаточно хороший, т.к., в идеале, должен стремится к 1. Также значение accuracy (качества) итоговой модели (0.85) больше, чем у константной (0.79)."
   ]
  }
 ],
 "metadata": {
  "ExecuteTimeLog": [
   {
    "duration": 56,
    "start_time": "2023-01-24T15:43:51.759Z"
   },
   {
    "duration": 431,
    "start_time": "2023-01-24T15:44:07.941Z"
   },
   {
    "duration": 186,
    "start_time": "2023-01-24T15:44:08.824Z"
   },
   {
    "duration": 15,
    "start_time": "2023-01-24T15:44:22.281Z"
   },
   {
    "duration": 19,
    "start_time": "2023-01-24T15:44:32.617Z"
   },
   {
    "duration": 46,
    "start_time": "2023-01-24T15:57:39.273Z"
   },
   {
    "duration": 4,
    "start_time": "2023-01-24T15:58:13.140Z"
   },
   {
    "duration": 6,
    "start_time": "2023-01-24T15:59:14.660Z"
   },
   {
    "duration": 33,
    "start_time": "2023-01-24T15:59:29.979Z"
   },
   {
    "duration": 51,
    "start_time": "2023-01-24T15:59:38.255Z"
   },
   {
    "duration": 4,
    "start_time": "2023-01-24T16:04:06.710Z"
   },
   {
    "duration": 10,
    "start_time": "2023-01-24T16:04:17.671Z"
   },
   {
    "duration": 4,
    "start_time": "2023-01-24T16:04:30.219Z"
   },
   {
    "duration": 92,
    "start_time": "2023-01-24T16:04:30.225Z"
   },
   {
    "duration": 16,
    "start_time": "2023-01-24T16:04:30.319Z"
   },
   {
    "duration": 52,
    "start_time": "2023-01-24T16:04:30.338Z"
   },
   {
    "duration": 23,
    "start_time": "2023-01-24T16:04:30.392Z"
   },
   {
    "duration": 40,
    "start_time": "2023-01-24T16:04:30.417Z"
   },
   {
    "duration": 21,
    "start_time": "2023-01-24T16:04:42.725Z"
   },
   {
    "duration": 17,
    "start_time": "2023-01-24T16:04:49.594Z"
   },
   {
    "duration": 5,
    "start_time": "2023-01-24T16:34:28.482Z"
   },
   {
    "duration": 13,
    "start_time": "2023-01-24T16:34:36.454Z"
   },
   {
    "duration": 4,
    "start_time": "2023-01-24T16:34:47.782Z"
   },
   {
    "duration": 19,
    "start_time": "2023-01-24T16:34:48.264Z"
   },
   {
    "duration": 22,
    "start_time": "2023-01-24T16:35:19.660Z"
   },
   {
    "duration": 16,
    "start_time": "2023-01-24T16:35:27.970Z"
   },
   {
    "duration": 9,
    "start_time": "2023-01-24T16:36:33.471Z"
   },
   {
    "duration": 830,
    "start_time": "2023-01-24T16:37:00.627Z"
   },
   {
    "duration": 5,
    "start_time": "2023-01-24T16:37:04.952Z"
   },
   {
    "duration": 5,
    "start_time": "2023-01-24T16:39:11.429Z"
   },
   {
    "duration": 39,
    "start_time": "2023-01-24T16:41:51.732Z"
   },
   {
    "duration": 10,
    "start_time": "2023-01-24T16:45:13.751Z"
   },
   {
    "duration": 9,
    "start_time": "2023-01-24T16:45:22.652Z"
   },
   {
    "duration": 441,
    "start_time": "2023-01-24T16:45:45.989Z"
   },
   {
    "duration": 828,
    "start_time": "2023-01-24T16:45:46.433Z"
   },
   {
    "duration": 14,
    "start_time": "2023-01-24T16:45:53.435Z"
   },
   {
    "duration": 10,
    "start_time": "2023-01-24T16:45:53.925Z"
   },
   {
    "duration": 6,
    "start_time": "2023-01-24T19:46:08.284Z"
   },
   {
    "duration": 4,
    "start_time": "2023-01-24T19:46:08.599Z"
   },
   {
    "duration": 15,
    "start_time": "2023-01-24T19:46:11.808Z"
   },
   {
    "duration": 3,
    "start_time": "2023-01-24T19:46:22.126Z"
   },
   {
    "duration": 6,
    "start_time": "2023-01-24T19:46:22.131Z"
   },
   {
    "duration": 43,
    "start_time": "2023-01-24T19:46:22.139Z"
   },
   {
    "duration": 12,
    "start_time": "2023-01-24T19:46:22.185Z"
   },
   {
    "duration": 20,
    "start_time": "2023-01-24T19:46:22.199Z"
   },
   {
    "duration": 7,
    "start_time": "2023-01-24T19:46:22.220Z"
   },
   {
    "duration": 8,
    "start_time": "2023-01-24T19:46:22.228Z"
   },
   {
    "duration": 12,
    "start_time": "2023-01-24T19:46:22.238Z"
   },
   {
    "duration": 7,
    "start_time": "2023-01-24T19:46:22.252Z"
   },
   {
    "duration": 20,
    "start_time": "2023-01-24T19:46:22.261Z"
   },
   {
    "duration": 11,
    "start_time": "2023-01-24T19:46:22.283Z"
   },
   {
    "duration": 4,
    "start_time": "2023-01-24T19:46:22.296Z"
   },
   {
    "duration": 59,
    "start_time": "2023-01-24T19:46:22.302Z"
   },
   {
    "duration": 11,
    "start_time": "2023-01-24T19:46:22.364Z"
   },
   {
    "duration": 29,
    "start_time": "2023-01-24T19:46:22.377Z"
   },
   {
    "duration": 61,
    "start_time": "2023-01-24T19:47:45.146Z"
   },
   {
    "duration": 6,
    "start_time": "2023-01-24T19:48:04.819Z"
   },
   {
    "duration": 13,
    "start_time": "2023-01-24T19:48:19.665Z"
   },
   {
    "duration": 12,
    "start_time": "2023-01-24T19:48:55.753Z"
   },
   {
    "duration": 11,
    "start_time": "2023-01-24T19:48:56.258Z"
   },
   {
    "duration": 6,
    "start_time": "2023-01-24T19:50:08.569Z"
   },
   {
    "duration": 14,
    "start_time": "2023-01-24T19:50:09.437Z"
   },
   {
    "duration": 11,
    "start_time": "2023-01-24T19:50:11.713Z"
   },
   {
    "duration": 9,
    "start_time": "2023-01-24T19:50:12.330Z"
   },
   {
    "duration": 8,
    "start_time": "2023-01-24T19:52:14.547Z"
   },
   {
    "duration": 9,
    "start_time": "2023-01-24T19:52:18.193Z"
   },
   {
    "duration": 9,
    "start_time": "2023-01-24T19:52:18.682Z"
   },
   {
    "duration": 12,
    "start_time": "2023-01-24T19:52:26.140Z"
   },
   {
    "duration": 13,
    "start_time": "2023-01-24T19:52:36.403Z"
   },
   {
    "duration": 14,
    "start_time": "2023-01-24T19:52:43.866Z"
   },
   {
    "duration": 3,
    "start_time": "2023-01-24T19:52:53.375Z"
   },
   {
    "duration": 13,
    "start_time": "2023-01-24T19:52:53.380Z"
   },
   {
    "duration": 65,
    "start_time": "2023-01-24T19:52:53.395Z"
   },
   {
    "duration": 12,
    "start_time": "2023-01-24T19:52:53.462Z"
   },
   {
    "duration": 17,
    "start_time": "2023-01-24T19:52:53.476Z"
   },
   {
    "duration": 20,
    "start_time": "2023-01-24T19:52:53.494Z"
   },
   {
    "duration": 17,
    "start_time": "2023-01-24T19:52:53.516Z"
   },
   {
    "duration": 45,
    "start_time": "2023-01-24T19:52:53.535Z"
   },
   {
    "duration": 12,
    "start_time": "2023-01-24T19:52:53.584Z"
   },
   {
    "duration": 33,
    "start_time": "2023-01-24T19:52:53.598Z"
   },
   {
    "duration": 29,
    "start_time": "2023-01-24T19:52:53.633Z"
   },
   {
    "duration": 17,
    "start_time": "2023-01-24T19:52:53.664Z"
   },
   {
    "duration": 43,
    "start_time": "2023-01-24T19:52:53.683Z"
   },
   {
    "duration": 5,
    "start_time": "2023-01-24T19:52:53.728Z"
   },
   {
    "duration": 36,
    "start_time": "2023-01-24T19:52:53.735Z"
   },
   {
    "duration": 27,
    "start_time": "2023-01-24T19:52:53.773Z"
   },
   {
    "duration": 48,
    "start_time": "2023-01-24T19:52:53.802Z"
   },
   {
    "duration": 13,
    "start_time": "2023-01-24T19:52:53.852Z"
   },
   {
    "duration": 27,
    "start_time": "2023-01-24T19:52:53.867Z"
   },
   {
    "duration": 79,
    "start_time": "2023-01-26T15:00:24.784Z"
   },
   {
    "duration": 913,
    "start_time": "2023-01-26T15:00:29.206Z"
   },
   {
    "duration": 876,
    "start_time": "2023-01-26T15:00:30.122Z"
   },
   {
    "duration": 185,
    "start_time": "2023-01-26T15:00:31.001Z"
   },
   {
    "duration": 16,
    "start_time": "2023-01-26T15:00:31.189Z"
   },
   {
    "duration": 35,
    "start_time": "2023-01-26T15:00:31.207Z"
   },
   {
    "duration": 20,
    "start_time": "2023-01-26T15:00:31.245Z"
   },
   {
    "duration": 20,
    "start_time": "2023-01-26T15:00:31.268Z"
   },
   {
    "duration": 28,
    "start_time": "2023-01-26T15:00:31.291Z"
   },
   {
    "duration": 24,
    "start_time": "2023-01-26T15:00:31.321Z"
   },
   {
    "duration": 45,
    "start_time": "2023-01-26T15:00:31.348Z"
   },
   {
    "duration": 20,
    "start_time": "2023-01-26T15:00:31.395Z"
   },
   {
    "duration": 21,
    "start_time": "2023-01-26T15:00:31.418Z"
   },
   {
    "duration": 40,
    "start_time": "2023-01-26T15:00:31.445Z"
   },
   {
    "duration": 5,
    "start_time": "2023-01-26T15:00:31.487Z"
   },
   {
    "duration": 30,
    "start_time": "2023-01-26T15:00:31.494Z"
   },
   {
    "duration": 16,
    "start_time": "2023-01-26T15:00:31.537Z"
   },
   {
    "duration": 19,
    "start_time": "2023-01-26T15:00:31.556Z"
   },
   {
    "duration": 128,
    "start_time": "2023-01-26T15:09:16.214Z"
   },
   {
    "duration": 5,
    "start_time": "2023-01-26T15:09:34.706Z"
   },
   {
    "duration": 42,
    "start_time": "2023-01-26T15:09:44.429Z"
   },
   {
    "duration": 9,
    "start_time": "2023-01-26T15:09:56.446Z"
   },
   {
    "duration": 27,
    "start_time": "2023-01-26T15:09:57.779Z"
   },
   {
    "duration": 21,
    "start_time": "2023-01-26T15:10:26.844Z"
   },
   {
    "duration": 4,
    "start_time": "2023-01-26T15:11:17.525Z"
   },
   {
    "duration": 20,
    "start_time": "2023-01-26T15:11:17.532Z"
   },
   {
    "duration": 44,
    "start_time": "2023-01-26T15:11:17.554Z"
   },
   {
    "duration": 15,
    "start_time": "2023-01-26T15:11:17.601Z"
   },
   {
    "duration": 23,
    "start_time": "2023-01-26T15:11:17.617Z"
   },
   {
    "duration": 9,
    "start_time": "2023-01-26T15:11:17.642Z"
   },
   {
    "duration": 9,
    "start_time": "2023-01-26T15:11:17.654Z"
   },
   {
    "duration": 15,
    "start_time": "2023-01-26T15:11:17.665Z"
   },
   {
    "duration": 5,
    "start_time": "2023-01-26T15:11:17.685Z"
   },
   {
    "duration": 33,
    "start_time": "2023-01-26T15:11:17.692Z"
   },
   {
    "duration": 26,
    "start_time": "2023-01-26T15:11:17.740Z"
   },
   {
    "duration": 9,
    "start_time": "2023-01-26T15:11:17.768Z"
   },
   {
    "duration": 34,
    "start_time": "2023-01-26T15:11:17.779Z"
   },
   {
    "duration": 8,
    "start_time": "2023-01-26T15:11:17.815Z"
   },
   {
    "duration": 33,
    "start_time": "2023-01-26T15:11:17.826Z"
   },
   {
    "duration": 12,
    "start_time": "2023-01-26T15:11:17.861Z"
   },
   {
    "duration": 12,
    "start_time": "2023-01-26T15:11:17.875Z"
   },
   {
    "duration": 35,
    "start_time": "2023-01-26T15:11:17.889Z"
   },
   {
    "duration": 33,
    "start_time": "2023-01-26T15:12:06.418Z"
   },
   {
    "duration": 3,
    "start_time": "2023-01-26T15:12:23.574Z"
   },
   {
    "duration": 6,
    "start_time": "2023-01-26T15:12:23.580Z"
   },
   {
    "duration": 52,
    "start_time": "2023-01-26T15:12:23.588Z"
   },
   {
    "duration": 15,
    "start_time": "2023-01-26T15:12:23.641Z"
   },
   {
    "duration": 17,
    "start_time": "2023-01-26T15:12:23.661Z"
   },
   {
    "duration": 11,
    "start_time": "2023-01-26T15:12:23.680Z"
   },
   {
    "duration": 8,
    "start_time": "2023-01-26T15:12:23.693Z"
   },
   {
    "duration": 22,
    "start_time": "2023-01-26T15:12:23.721Z"
   },
   {
    "duration": 23,
    "start_time": "2023-01-26T15:12:23.745Z"
   },
   {
    "duration": 20,
    "start_time": "2023-01-26T15:12:23.771Z"
   },
   {
    "duration": 14,
    "start_time": "2023-01-26T15:12:23.793Z"
   },
   {
    "duration": 22,
    "start_time": "2023-01-26T15:12:23.809Z"
   },
   {
    "duration": 42,
    "start_time": "2023-01-26T15:12:23.836Z"
   },
   {
    "duration": 5,
    "start_time": "2023-01-26T15:12:23.881Z"
   },
   {
    "duration": 5,
    "start_time": "2023-01-26T15:12:23.888Z"
   },
   {
    "duration": 35,
    "start_time": "2023-01-26T15:12:23.894Z"
   },
   {
    "duration": 15,
    "start_time": "2023-01-26T15:12:23.939Z"
   },
   {
    "duration": 29,
    "start_time": "2023-01-26T15:12:23.956Z"
   },
   {
    "duration": 6,
    "start_time": "2023-01-26T15:14:38.281Z"
   },
   {
    "duration": 6,
    "start_time": "2023-01-26T15:14:46.892Z"
   },
   {
    "duration": 4,
    "start_time": "2023-01-26T15:14:51.879Z"
   },
   {
    "duration": 10,
    "start_time": "2023-01-26T15:14:51.886Z"
   },
   {
    "duration": 48,
    "start_time": "2023-01-26T15:14:51.898Z"
   },
   {
    "duration": 17,
    "start_time": "2023-01-26T15:14:51.948Z"
   },
   {
    "duration": 23,
    "start_time": "2023-01-26T15:14:51.968Z"
   },
   {
    "duration": 7,
    "start_time": "2023-01-26T15:14:51.993Z"
   },
   {
    "duration": 47,
    "start_time": "2023-01-26T15:14:52.002Z"
   },
   {
    "duration": 31,
    "start_time": "2023-01-26T15:14:52.051Z"
   },
   {
    "duration": 0,
    "start_time": "2023-01-26T15:14:52.084Z"
   },
   {
    "duration": 0,
    "start_time": "2023-01-26T15:14:52.085Z"
   },
   {
    "duration": 0,
    "start_time": "2023-01-26T15:14:52.086Z"
   },
   {
    "duration": 0,
    "start_time": "2023-01-26T15:14:52.088Z"
   },
   {
    "duration": 0,
    "start_time": "2023-01-26T15:14:52.089Z"
   },
   {
    "duration": 0,
    "start_time": "2023-01-26T15:14:52.090Z"
   },
   {
    "duration": 0,
    "start_time": "2023-01-26T15:14:52.091Z"
   },
   {
    "duration": 0,
    "start_time": "2023-01-26T15:14:52.093Z"
   },
   {
    "duration": 0,
    "start_time": "2023-01-26T15:14:52.094Z"
   },
   {
    "duration": 0,
    "start_time": "2023-01-26T15:14:52.096Z"
   },
   {
    "duration": 0,
    "start_time": "2023-01-26T15:14:52.097Z"
   },
   {
    "duration": 7,
    "start_time": "2023-01-26T15:15:18.530Z"
   },
   {
    "duration": 25,
    "start_time": "2023-01-26T15:15:18.539Z"
   },
   {
    "duration": 64,
    "start_time": "2023-01-26T15:15:18.566Z"
   },
   {
    "duration": 15,
    "start_time": "2023-01-26T15:15:18.634Z"
   },
   {
    "duration": 35,
    "start_time": "2023-01-26T15:15:18.651Z"
   },
   {
    "duration": 18,
    "start_time": "2023-01-26T15:15:18.689Z"
   },
   {
    "duration": 37,
    "start_time": "2023-01-26T15:15:18.708Z"
   },
   {
    "duration": 31,
    "start_time": "2023-01-26T15:15:18.747Z"
   },
   {
    "duration": 21,
    "start_time": "2023-01-26T15:15:18.780Z"
   },
   {
    "duration": 14,
    "start_time": "2023-01-26T15:15:18.804Z"
   },
   {
    "duration": 68,
    "start_time": "2023-01-26T15:15:18.819Z"
   },
   {
    "duration": 36,
    "start_time": "2023-01-26T15:15:18.889Z"
   },
   {
    "duration": 12,
    "start_time": "2023-01-26T15:15:18.931Z"
   },
   {
    "duration": 85,
    "start_time": "2023-01-26T15:15:18.945Z"
   },
   {
    "duration": 21,
    "start_time": "2023-01-26T15:15:19.032Z"
   },
   {
    "duration": 27,
    "start_time": "2023-01-26T15:15:19.054Z"
   },
   {
    "duration": 17,
    "start_time": "2023-01-26T15:15:19.083Z"
   },
   {
    "duration": 49,
    "start_time": "2023-01-26T15:15:19.102Z"
   },
   {
    "duration": 28,
    "start_time": "2023-01-26T15:15:19.153Z"
   },
   {
    "duration": 29,
    "start_time": "2023-01-26T15:20:31.659Z"
   },
   {
    "duration": 3,
    "start_time": "2023-01-26T15:21:04.361Z"
   },
   {
    "duration": 41,
    "start_time": "2023-01-26T15:21:05.067Z"
   },
   {
    "duration": 48,
    "start_time": "2023-01-26T15:22:15.748Z"
   },
   {
    "duration": 30,
    "start_time": "2023-01-26T15:22:18.752Z"
   },
   {
    "duration": 10,
    "start_time": "2023-01-26T15:23:22.070Z"
   },
   {
    "duration": 152,
    "start_time": "2023-01-26T15:25:14.362Z"
   },
   {
    "duration": 4,
    "start_time": "2023-01-26T15:25:15.394Z"
   },
   {
    "duration": 19,
    "start_time": "2023-01-26T15:27:35.660Z"
   },
   {
    "duration": 19,
    "start_time": "2023-01-26T15:27:52.352Z"
   },
   {
    "duration": 4,
    "start_time": "2023-01-26T15:28:26.598Z"
   },
   {
    "duration": 224,
    "start_time": "2023-01-26T15:28:30.661Z"
   },
   {
    "duration": 192,
    "start_time": "2023-01-26T15:29:36.444Z"
   },
   {
    "duration": 5,
    "start_time": "2023-01-26T15:29:37.550Z"
   },
   {
    "duration": 48,
    "start_time": "2023-01-26T15:35:01.080Z"
   },
   {
    "duration": 17,
    "start_time": "2023-01-26T15:35:01.914Z"
   },
   {
    "duration": 74,
    "start_time": "2023-01-26T15:35:22.756Z"
   },
   {
    "duration": 66,
    "start_time": "2023-01-26T15:35:34.685Z"
   },
   {
    "duration": 11,
    "start_time": "2023-01-26T15:35:36.702Z"
   },
   {
    "duration": 8,
    "start_time": "2023-01-26T15:35:40.472Z"
   },
   {
    "duration": 10,
    "start_time": "2023-01-26T15:37:42.389Z"
   },
   {
    "duration": 340067,
    "start_time": "2023-01-26T15:37:49.551Z"
   },
   {
    "duration": 4,
    "start_time": "2023-01-26T15:44:35.364Z"
   },
   {
    "duration": 71030,
    "start_time": "2023-01-26T15:45:02.988Z"
   },
   {
    "duration": 5,
    "start_time": "2023-01-26T15:46:26.395Z"
   },
   {
    "duration": 64090,
    "start_time": "2023-01-26T15:49:02.924Z"
   },
   {
    "duration": 8,
    "start_time": "2023-01-26T15:50:25.554Z"
   },
   {
    "duration": 174,
    "start_time": "2023-01-26T15:56:35.961Z"
   },
   {
    "duration": 4,
    "start_time": "2023-01-26T15:56:37.009Z"
   },
   {
    "duration": 3,
    "start_time": "2023-01-26T16:04:02.082Z"
   },
   {
    "duration": 9,
    "start_time": "2023-01-26T16:04:49.476Z"
   },
   {
    "duration": 5,
    "start_time": "2023-01-26T19:19:43.263Z"
   },
   {
    "duration": 18,
    "start_time": "2023-01-26T19:19:49.793Z"
   },
   {
    "duration": 4,
    "start_time": "2023-01-26T19:20:23.148Z"
   },
   {
    "duration": 20,
    "start_time": "2023-01-26T19:20:23.636Z"
   },
   {
    "duration": 4,
    "start_time": "2023-01-26T19:21:00.436Z"
   },
   {
    "duration": 2,
    "start_time": "2023-01-26T19:21:02.095Z"
   },
   {
    "duration": 21,
    "start_time": "2023-01-26T19:21:02.099Z"
   },
   {
    "duration": 18,
    "start_time": "2023-01-26T19:21:02.122Z"
   },
   {
    "duration": 51,
    "start_time": "2023-01-26T19:21:02.141Z"
   },
   {
    "duration": 12,
    "start_time": "2023-01-26T19:21:02.194Z"
   },
   {
    "duration": 18,
    "start_time": "2023-01-26T19:21:02.207Z"
   },
   {
    "duration": 8,
    "start_time": "2023-01-26T19:21:02.226Z"
   },
   {
    "duration": 14,
    "start_time": "2023-01-26T19:21:02.235Z"
   },
   {
    "duration": 30,
    "start_time": "2023-01-26T19:21:02.251Z"
   },
   {
    "duration": 10,
    "start_time": "2023-01-26T19:21:02.283Z"
   },
   {
    "duration": 17,
    "start_time": "2023-01-26T19:21:02.295Z"
   },
   {
    "duration": 21,
    "start_time": "2023-01-26T19:21:02.314Z"
   },
   {
    "duration": 16,
    "start_time": "2023-01-26T19:21:02.337Z"
   },
   {
    "duration": 18,
    "start_time": "2023-01-26T19:21:02.355Z"
   },
   {
    "duration": 49,
    "start_time": "2023-01-26T19:21:02.374Z"
   },
   {
    "duration": 5,
    "start_time": "2023-01-26T19:21:02.424Z"
   },
   {
    "duration": 20,
    "start_time": "2023-01-26T19:21:02.431Z"
   },
   {
    "duration": 13,
    "start_time": "2023-01-26T19:21:02.452Z"
   },
   {
    "duration": 30,
    "start_time": "2023-01-26T19:21:02.467Z"
   },
   {
    "duration": 19,
    "start_time": "2023-01-26T19:21:02.499Z"
   },
   {
    "duration": 11,
    "start_time": "2023-01-26T19:21:02.520Z"
   },
   {
    "duration": 51,
    "start_time": "2023-01-26T19:21:02.533Z"
   },
   {
    "duration": 156,
    "start_time": "2023-01-26T19:21:02.586Z"
   },
   {
    "duration": 5,
    "start_time": "2023-01-26T19:21:02.745Z"
   },
   {
    "duration": 30,
    "start_time": "2023-01-26T19:21:02.752Z"
   },
   {
    "duration": 137,
    "start_time": "2023-01-26T19:21:02.783Z"
   },
   {
    "duration": 60072,
    "start_time": "2023-01-26T19:21:02.923Z"
   },
   {
    "duration": 4,
    "start_time": "2023-01-26T19:22:02.997Z"
   },
   {
    "duration": 18,
    "start_time": "2023-01-26T19:22:03.004Z"
   },
   {
    "duration": 4,
    "start_time": "2023-01-26T19:22:03.024Z"
   },
   {
    "duration": 19,
    "start_time": "2023-01-26T19:22:03.030Z"
   },
   {
    "duration": 10,
    "start_time": "2023-01-26T19:25:46.719Z"
   },
   {
    "duration": 161,
    "start_time": "2023-01-26T19:26:00.212Z"
   },
   {
    "duration": 151,
    "start_time": "2023-01-26T19:27:27.443Z"
   },
   {
    "duration": 4,
    "start_time": "2023-01-26T19:27:28.173Z"
   },
   {
    "duration": 3,
    "start_time": "2023-01-26T19:27:43.551Z"
   },
   {
    "duration": 6,
    "start_time": "2023-01-26T19:27:43.557Z"
   },
   {
    "duration": 7,
    "start_time": "2023-01-26T19:27:43.566Z"
   },
   {
    "duration": 48,
    "start_time": "2023-01-26T19:27:43.576Z"
   },
   {
    "duration": 14,
    "start_time": "2023-01-26T19:27:43.626Z"
   },
   {
    "duration": 38,
    "start_time": "2023-01-26T19:27:43.643Z"
   },
   {
    "duration": 5,
    "start_time": "2023-01-26T19:27:43.683Z"
   },
   {
    "duration": 8,
    "start_time": "2023-01-26T19:27:43.690Z"
   },
   {
    "duration": 13,
    "start_time": "2023-01-26T19:27:43.700Z"
   },
   {
    "duration": 7,
    "start_time": "2023-01-26T19:27:43.715Z"
   },
   {
    "duration": 11,
    "start_time": "2023-01-26T19:27:43.723Z"
   },
   {
    "duration": 19,
    "start_time": "2023-01-26T19:27:43.735Z"
   },
   {
    "duration": 10,
    "start_time": "2023-01-26T19:27:43.756Z"
   },
   {
    "duration": 9,
    "start_time": "2023-01-26T19:27:43.767Z"
   },
   {
    "duration": 48,
    "start_time": "2023-01-26T19:27:43.778Z"
   },
   {
    "duration": 5,
    "start_time": "2023-01-26T19:27:43.827Z"
   },
   {
    "duration": 10,
    "start_time": "2023-01-26T19:27:43.834Z"
   },
   {
    "duration": 10,
    "start_time": "2023-01-26T19:27:43.845Z"
   },
   {
    "duration": 11,
    "start_time": "2023-01-26T19:27:43.856Z"
   },
   {
    "duration": 8,
    "start_time": "2023-01-26T19:27:43.868Z"
   },
   {
    "duration": 4,
    "start_time": "2023-01-26T19:27:43.878Z"
   },
   {
    "duration": 65,
    "start_time": "2023-01-26T19:27:43.884Z"
   },
   {
    "duration": 155,
    "start_time": "2023-01-26T19:27:43.950Z"
   },
   {
    "duration": 15,
    "start_time": "2023-01-26T19:27:44.108Z"
   },
   {
    "duration": 26,
    "start_time": "2023-01-26T19:27:44.124Z"
   },
   {
    "duration": 169,
    "start_time": "2023-01-26T19:27:44.153Z"
   },
   {
    "duration": 59789,
    "start_time": "2023-01-26T19:27:44.323Z"
   },
   {
    "duration": 5,
    "start_time": "2023-01-26T19:28:44.113Z"
   },
   {
    "duration": 11,
    "start_time": "2023-01-26T19:28:44.121Z"
   },
   {
    "duration": 5,
    "start_time": "2023-01-26T19:28:44.133Z"
   },
   {
    "duration": 24,
    "start_time": "2023-01-26T19:28:44.139Z"
   },
   {
    "duration": 409,
    "start_time": "2023-01-26T19:28:44.165Z"
   },
   {
    "duration": 141,
    "start_time": "2023-01-26T19:28:48.753Z"
   },
   {
    "duration": 4,
    "start_time": "2023-01-26T19:28:49.477Z"
   },
   {
    "duration": 2,
    "start_time": "2023-01-26T19:30:13.737Z"
   },
   {
    "duration": 6,
    "start_time": "2023-01-26T19:30:13.741Z"
   },
   {
    "duration": 6,
    "start_time": "2023-01-26T19:30:13.748Z"
   },
   {
    "duration": 40,
    "start_time": "2023-01-26T19:30:13.756Z"
   },
   {
    "duration": 12,
    "start_time": "2023-01-26T19:30:13.798Z"
   },
   {
    "duration": 14,
    "start_time": "2023-01-26T19:30:13.812Z"
   },
   {
    "duration": 4,
    "start_time": "2023-01-26T19:30:13.828Z"
   },
   {
    "duration": 6,
    "start_time": "2023-01-26T19:30:13.834Z"
   },
   {
    "duration": 14,
    "start_time": "2023-01-26T19:30:13.842Z"
   },
   {
    "duration": 3,
    "start_time": "2023-01-26T19:30:13.858Z"
   },
   {
    "duration": 6,
    "start_time": "2023-01-26T19:30:13.863Z"
   },
   {
    "duration": 11,
    "start_time": "2023-01-26T19:30:13.870Z"
   },
   {
    "duration": 41,
    "start_time": "2023-01-26T19:30:13.882Z"
   },
   {
    "duration": 4,
    "start_time": "2023-01-26T19:30:13.925Z"
   },
   {
    "duration": 30,
    "start_time": "2023-01-26T19:30:13.931Z"
   },
   {
    "duration": 5,
    "start_time": "2023-01-26T19:30:13.963Z"
   },
   {
    "duration": 9,
    "start_time": "2023-01-26T19:30:13.969Z"
   },
   {
    "duration": 9,
    "start_time": "2023-01-26T19:30:13.980Z"
   },
   {
    "duration": 36,
    "start_time": "2023-01-26T19:30:13.991Z"
   },
   {
    "duration": 7,
    "start_time": "2023-01-26T19:30:14.028Z"
   },
   {
    "duration": 2,
    "start_time": "2023-01-26T19:30:14.037Z"
   },
   {
    "duration": 25,
    "start_time": "2023-01-26T19:30:14.041Z"
   },
   {
    "duration": 194,
    "start_time": "2023-01-26T19:30:14.068Z"
   },
   {
    "duration": 5,
    "start_time": "2023-01-26T19:30:14.265Z"
   },
   {
    "duration": 173,
    "start_time": "2023-01-26T19:30:14.271Z"
   },
   {
    "duration": 4,
    "start_time": "2023-01-26T19:30:14.445Z"
   },
   {
    "duration": 74,
    "start_time": "2023-01-26T19:30:14.451Z"
   },
   {
    "duration": 98,
    "start_time": "2023-01-26T19:30:14.527Z"
   },
   {
    "duration": 60955,
    "start_time": "2023-01-26T19:30:14.627Z"
   },
   {
    "duration": 4,
    "start_time": "2023-01-26T19:31:15.584Z"
   },
   {
    "duration": 16,
    "start_time": "2023-01-26T19:31:15.589Z"
   },
   {
    "duration": 7,
    "start_time": "2023-01-26T19:31:15.607Z"
   },
   {
    "duration": 16,
    "start_time": "2023-01-26T19:31:15.621Z"
   },
   {
    "duration": 352,
    "start_time": "2023-01-26T19:31:15.639Z"
   },
   {
    "duration": 433,
    "start_time": "2023-01-26T19:31:23.230Z"
   },
   {
    "duration": 6,
    "start_time": "2023-01-26T19:31:24.610Z"
   },
   {
    "duration": 275,
    "start_time": "2023-01-26T19:32:18.586Z"
   },
   {
    "duration": 4,
    "start_time": "2023-01-26T19:32:19.646Z"
   },
   {
    "duration": 18,
    "start_time": "2023-01-26T19:35:12.167Z"
   },
   {
    "duration": 6,
    "start_time": "2023-01-26T19:35:13.179Z"
   },
   {
    "duration": 39850,
    "start_time": "2023-01-26T19:38:32.657Z"
   },
   {
    "duration": 4,
    "start_time": "2023-01-26T19:42:52.693Z"
   },
   {
    "duration": 59353,
    "start_time": "2023-01-26T19:43:45.513Z"
   },
   {
    "duration": 5,
    "start_time": "2023-01-26T19:45:02.891Z"
   },
   {
    "duration": 5,
    "start_time": "2023-01-26T19:49:07.932Z"
   },
   {
    "duration": 12,
    "start_time": "2023-01-26T19:49:23.544Z"
   },
   {
    "duration": 286,
    "start_time": "2023-01-26T19:50:16.298Z"
   },
   {
    "duration": 5,
    "start_time": "2023-01-26T19:50:16.591Z"
   },
   {
    "duration": 4,
    "start_time": "2023-01-26T19:51:46.068Z"
   },
   {
    "duration": 15,
    "start_time": "2023-01-26T19:51:46.644Z"
   },
   {
    "duration": 728,
    "start_time": "2023-01-26T19:52:03.861Z"
   },
   {
    "duration": 4,
    "start_time": "2023-01-26T19:52:05.685Z"
   },
   {
    "duration": 46,
    "start_time": "2023-01-26T19:55:02.688Z"
   },
   {
    "duration": 7,
    "start_time": "2023-01-26T19:55:05.662Z"
   },
   {
    "duration": 113917,
    "start_time": "2023-01-26T19:57:28.579Z"
   },
   {
    "duration": 5,
    "start_time": "2023-01-26T19:59:25.958Z"
   },
   {
    "duration": 3,
    "start_time": "2023-01-26T20:08:46.523Z"
   },
   {
    "duration": 9,
    "start_time": "2023-01-26T20:08:46.528Z"
   },
   {
    "duration": 7,
    "start_time": "2023-01-26T20:08:46.538Z"
   },
   {
    "duration": 49,
    "start_time": "2023-01-26T20:08:46.546Z"
   },
   {
    "duration": 12,
    "start_time": "2023-01-26T20:08:46.597Z"
   },
   {
    "duration": 12,
    "start_time": "2023-01-26T20:08:46.611Z"
   },
   {
    "duration": 11,
    "start_time": "2023-01-26T20:08:46.624Z"
   },
   {
    "duration": 15,
    "start_time": "2023-01-26T20:08:46.636Z"
   },
   {
    "duration": 17,
    "start_time": "2023-01-26T20:08:46.653Z"
   },
   {
    "duration": 3,
    "start_time": "2023-01-26T20:08:46.673Z"
   },
   {
    "duration": 8,
    "start_time": "2023-01-26T20:08:46.678Z"
   },
   {
    "duration": 13,
    "start_time": "2023-01-26T20:08:46.687Z"
   },
   {
    "duration": 30,
    "start_time": "2023-01-26T20:08:46.702Z"
   },
   {
    "duration": 4,
    "start_time": "2023-01-26T20:08:46.733Z"
   },
   {
    "duration": 32,
    "start_time": "2023-01-26T20:08:46.739Z"
   },
   {
    "duration": 5,
    "start_time": "2023-01-26T20:08:46.772Z"
   },
   {
    "duration": 45,
    "start_time": "2023-01-26T20:08:46.778Z"
   },
   {
    "duration": 9,
    "start_time": "2023-01-26T20:08:46.825Z"
   },
   {
    "duration": 7,
    "start_time": "2023-01-26T20:08:46.836Z"
   },
   {
    "duration": 2,
    "start_time": "2023-01-26T20:08:46.845Z"
   },
   {
    "duration": 26,
    "start_time": "2023-01-26T20:08:46.849Z"
   },
   {
    "duration": 481,
    "start_time": "2023-01-26T20:08:46.876Z"
   },
   {
    "duration": 5,
    "start_time": "2023-01-26T20:08:47.358Z"
   },
   {
    "duration": 59,
    "start_time": "2023-01-26T20:08:47.365Z"
   },
   {
    "duration": 98,
    "start_time": "2023-01-26T20:08:47.429Z"
   },
   {
    "duration": 60669,
    "start_time": "2023-01-26T20:08:47.528Z"
   },
   {
    "duration": 4,
    "start_time": "2023-01-26T20:09:48.199Z"
   },
   {
    "duration": 19,
    "start_time": "2023-01-26T20:09:48.205Z"
   },
   {
    "duration": 4,
    "start_time": "2023-01-26T20:09:48.226Z"
   },
   {
    "duration": 16,
    "start_time": "2023-01-26T20:09:48.232Z"
   },
   {
    "duration": 350,
    "start_time": "2023-01-26T20:09:48.250Z"
   },
   {
    "duration": 4,
    "start_time": "2023-01-26T20:09:48.602Z"
   },
   {
    "duration": 29,
    "start_time": "2023-01-26T20:09:48.607Z"
   },
   {
    "duration": 91,
    "start_time": "2023-01-26T20:09:48.639Z"
   },
   {
    "duration": 40061,
    "start_time": "2023-01-26T20:09:48.821Z"
   },
   {
    "duration": 5,
    "start_time": "2023-01-26T20:10:28.884Z"
   },
   {
    "duration": 9,
    "start_time": "2023-01-26T20:10:28.890Z"
   },
   {
    "duration": 25,
    "start_time": "2023-01-26T20:10:28.900Z"
   },
   {
    "duration": 750,
    "start_time": "2023-01-26T20:10:28.927Z"
   },
   {
    "duration": 5,
    "start_time": "2023-01-26T20:10:29.678Z"
   },
   {
    "duration": 57,
    "start_time": "2023-01-26T20:10:29.685Z"
   },
   {
    "duration": 86,
    "start_time": "2023-01-26T20:10:29.744Z"
   },
   {
    "duration": 115946,
    "start_time": "2023-01-26T20:10:29.921Z"
   },
   {
    "duration": 5,
    "start_time": "2023-01-26T20:12:25.869Z"
   },
   {
    "duration": 60,
    "start_time": "2023-01-27T07:50:05.364Z"
   },
   {
    "duration": 798,
    "start_time": "2023-01-27T07:50:10.041Z"
   },
   {
    "duration": 7,
    "start_time": "2023-01-27T07:50:10.841Z"
   },
   {
    "duration": 764,
    "start_time": "2023-01-27T07:50:10.849Z"
   },
   {
    "duration": 75,
    "start_time": "2023-01-27T07:50:11.615Z"
   },
   {
    "duration": 14,
    "start_time": "2023-01-27T07:50:11.691Z"
   },
   {
    "duration": 17,
    "start_time": "2023-01-27T07:50:11.707Z"
   },
   {
    "duration": 7,
    "start_time": "2023-01-27T07:50:11.726Z"
   },
   {
    "duration": 4,
    "start_time": "2023-01-27T07:50:11.735Z"
   },
   {
    "duration": 17,
    "start_time": "2023-01-27T07:50:11.741Z"
   },
   {
    "duration": 3,
    "start_time": "2023-01-27T07:50:11.761Z"
   },
   {
    "duration": 38,
    "start_time": "2023-01-27T07:50:11.765Z"
   },
   {
    "duration": 12,
    "start_time": "2023-01-27T07:50:11.805Z"
   },
   {
    "duration": 11,
    "start_time": "2023-01-27T07:50:11.819Z"
   },
   {
    "duration": 5,
    "start_time": "2023-01-27T07:50:11.832Z"
   },
   {
    "duration": 65,
    "start_time": "2023-01-27T07:50:11.838Z"
   },
   {
    "duration": 5,
    "start_time": "2023-01-27T07:50:11.905Z"
   },
   {
    "duration": 11,
    "start_time": "2023-01-27T07:50:11.912Z"
   },
   {
    "duration": 8,
    "start_time": "2023-01-27T07:50:11.925Z"
   },
   {
    "duration": 10,
    "start_time": "2023-01-27T07:50:11.934Z"
   },
   {
    "duration": 4,
    "start_time": "2023-01-27T07:50:11.946Z"
   },
   {
    "duration": 55,
    "start_time": "2023-01-27T07:50:11.952Z"
   },
   {
    "duration": 473,
    "start_time": "2023-01-27T07:50:12.009Z"
   },
   {
    "duration": 4,
    "start_time": "2023-01-27T07:50:12.484Z"
   },
   {
    "duration": 115,
    "start_time": "2023-01-27T07:50:12.490Z"
   },
   {
    "duration": 6,
    "start_time": "2023-01-27T07:50:12.607Z"
   },
   {
    "duration": 62100,
    "start_time": "2023-01-27T07:50:12.703Z"
   },
   {
    "duration": 5,
    "start_time": "2023-01-27T07:51:14.805Z"
   },
   {
    "duration": 26,
    "start_time": "2023-01-27T07:51:14.813Z"
   },
   {
    "duration": 15,
    "start_time": "2023-01-27T07:51:14.841Z"
   },
   {
    "duration": 30,
    "start_time": "2023-01-27T07:51:14.858Z"
   },
   {
    "duration": 306,
    "start_time": "2023-01-27T07:51:14.890Z"
   },
   {
    "duration": 8,
    "start_time": "2023-01-27T07:51:15.198Z"
   },
   {
    "duration": 88,
    "start_time": "2023-01-27T07:51:15.216Z"
   },
   {
    "duration": 8,
    "start_time": "2023-01-27T07:51:15.306Z"
   },
   {
    "duration": 40518,
    "start_time": "2023-01-27T07:51:15.316Z"
   },
   {
    "duration": 5,
    "start_time": "2023-01-27T07:51:55.836Z"
   },
   {
    "duration": 5,
    "start_time": "2023-01-27T07:51:55.843Z"
   },
   {
    "duration": 99,
    "start_time": "2023-01-27T07:51:55.851Z"
   },
   {
    "duration": 0,
    "start_time": "2023-01-27T07:51:55.951Z"
   },
   {
    "duration": 0,
    "start_time": "2023-01-27T07:51:55.953Z"
   },
   {
    "duration": 0,
    "start_time": "2023-01-27T07:51:55.954Z"
   },
   {
    "duration": 0,
    "start_time": "2023-01-27T07:51:55.956Z"
   },
   {
    "duration": 0,
    "start_time": "2023-01-27T07:51:55.957Z"
   },
   {
    "duration": 0,
    "start_time": "2023-01-27T07:51:55.958Z"
   },
   {
    "duration": 0,
    "start_time": "2023-01-27T07:51:55.959Z"
   },
   {
    "duration": 14,
    "start_time": "2023-01-27T07:52:35.109Z"
   },
   {
    "duration": 739,
    "start_time": "2023-01-27T07:52:36.734Z"
   },
   {
    "duration": 5,
    "start_time": "2023-01-27T07:52:41.358Z"
   },
   {
    "duration": 99,
    "start_time": "2023-01-27T07:52:44.806Z"
   },
   {
    "duration": 96,
    "start_time": "2023-01-27T07:52:44.908Z"
   },
   {
    "duration": 114837,
    "start_time": "2023-01-27T07:52:45.006Z"
   },
   {
    "duration": 5,
    "start_time": "2023-01-27T07:54:39.845Z"
   },
   {
    "duration": 488,
    "start_time": "2023-01-27T07:54:39.854Z"
   },
   {
    "duration": 6,
    "start_time": "2023-01-27T07:55:40.706Z"
   },
   {
    "duration": 506,
    "start_time": "2023-01-27T07:56:06.976Z"
   },
   {
    "duration": 5,
    "start_time": "2023-01-27T07:56:08.254Z"
   },
   {
    "duration": 52,
    "start_time": "2023-01-27T07:59:30.857Z"
   },
   {
    "duration": 6,
    "start_time": "2023-01-27T07:59:31.903Z"
   },
   {
    "duration": 61998,
    "start_time": "2023-01-27T08:02:10.416Z"
   },
   {
    "duration": 5,
    "start_time": "2023-01-27T08:03:33.117Z"
   },
   {
    "duration": 58885,
    "start_time": "2023-01-27T08:04:40.586Z"
   },
   {
    "duration": 5,
    "start_time": "2023-01-27T08:06:00.464Z"
   },
   {
    "duration": 518,
    "start_time": "2023-01-27T08:19:11.385Z"
   },
   {
    "duration": 4,
    "start_time": "2023-01-27T08:19:15.182Z"
   },
   {
    "duration": 2,
    "start_time": "2023-01-27T08:28:37.809Z"
   },
   {
    "duration": 57,
    "start_time": "2023-01-27T08:28:37.813Z"
   },
   {
    "duration": 15,
    "start_time": "2023-01-27T08:28:37.871Z"
   },
   {
    "duration": 73,
    "start_time": "2023-01-27T08:28:37.887Z"
   },
   {
    "duration": 13,
    "start_time": "2023-01-27T08:28:37.962Z"
   },
   {
    "duration": 28,
    "start_time": "2023-01-27T08:28:37.977Z"
   },
   {
    "duration": 13,
    "start_time": "2023-01-27T08:28:38.007Z"
   },
   {
    "duration": 18,
    "start_time": "2023-01-27T08:28:38.022Z"
   },
   {
    "duration": 29,
    "start_time": "2023-01-27T08:28:38.041Z"
   },
   {
    "duration": 23,
    "start_time": "2023-01-27T08:28:38.071Z"
   },
   {
    "duration": 30,
    "start_time": "2023-01-27T08:28:38.096Z"
   },
   {
    "duration": 16,
    "start_time": "2023-01-27T08:28:38.128Z"
   },
   {
    "duration": 38,
    "start_time": "2023-01-27T08:28:38.147Z"
   },
   {
    "duration": 19,
    "start_time": "2023-01-27T08:28:38.187Z"
   },
   {
    "duration": 39,
    "start_time": "2023-01-27T08:28:38.207Z"
   },
   {
    "duration": 5,
    "start_time": "2023-01-27T08:28:38.247Z"
   },
   {
    "duration": 24,
    "start_time": "2023-01-27T08:28:38.254Z"
   },
   {
    "duration": 23,
    "start_time": "2023-01-27T08:28:38.279Z"
   },
   {
    "duration": 12,
    "start_time": "2023-01-27T08:28:38.304Z"
   },
   {
    "duration": 15,
    "start_time": "2023-01-27T08:28:38.318Z"
   },
   {
    "duration": 41,
    "start_time": "2023-01-27T08:28:38.335Z"
   },
   {
    "duration": 443,
    "start_time": "2023-01-27T08:28:38.378Z"
   },
   {
    "duration": 5,
    "start_time": "2023-01-27T08:28:38.823Z"
   },
   {
    "duration": 74,
    "start_time": "2023-01-27T08:28:38.829Z"
   },
   {
    "duration": 103,
    "start_time": "2023-01-27T08:28:38.905Z"
   },
   {
    "duration": 58670,
    "start_time": "2023-01-27T08:28:39.010Z"
   },
   {
    "duration": 4,
    "start_time": "2023-01-27T08:29:37.682Z"
   },
   {
    "duration": 17,
    "start_time": "2023-01-27T08:29:37.688Z"
   },
   {
    "duration": 4,
    "start_time": "2023-01-27T08:29:37.706Z"
   },
   {
    "duration": 19,
    "start_time": "2023-01-27T08:29:37.712Z"
   },
   {
    "duration": 291,
    "start_time": "2023-01-27T08:29:37.733Z"
   },
   {
    "duration": 5,
    "start_time": "2023-01-27T08:29:38.026Z"
   },
   {
    "duration": 71,
    "start_time": "2023-01-27T08:29:38.033Z"
   },
   {
    "duration": 98,
    "start_time": "2023-01-27T08:29:38.105Z"
   },
   {
    "duration": 38759,
    "start_time": "2023-01-27T08:29:38.205Z"
   },
   {
    "duration": 5,
    "start_time": "2023-01-27T08:30:16.966Z"
   },
   {
    "duration": 44,
    "start_time": "2023-01-27T08:30:16.974Z"
   },
   {
    "duration": 78,
    "start_time": "2023-01-27T08:30:17.020Z"
   },
   {
    "duration": 734,
    "start_time": "2023-01-27T08:30:17.099Z"
   },
   {
    "duration": 5,
    "start_time": "2023-01-27T08:30:17.835Z"
   },
   {
    "duration": 75,
    "start_time": "2023-01-27T08:30:17.841Z"
   },
   {
    "duration": 91,
    "start_time": "2023-01-27T08:30:17.917Z"
   },
   {
    "duration": 109660,
    "start_time": "2023-01-27T08:30:18.009Z"
   },
   {
    "duration": 6,
    "start_time": "2023-01-27T08:32:07.671Z"
   },
   {
    "duration": 455,
    "start_time": "2023-01-27T08:32:07.678Z"
   },
   {
    "duration": 5,
    "start_time": "2023-01-27T08:32:08.134Z"
   },
   {
    "duration": 63,
    "start_time": "2023-01-27T08:32:08.141Z"
   },
   {
    "duration": 107,
    "start_time": "2023-01-27T08:32:08.206Z"
   },
   {
    "duration": 59243,
    "start_time": "2023-01-27T08:32:08.314Z"
   },
   {
    "duration": 4,
    "start_time": "2023-01-27T08:33:07.559Z"
   },
   {
    "duration": 531,
    "start_time": "2023-01-27T08:33:07.565Z"
   },
   {
    "duration": 4,
    "start_time": "2023-01-27T08:33:08.097Z"
   },
   {
    "duration": 787,
    "start_time": "2023-01-27T14:54:51.225Z"
   },
   {
    "duration": 6,
    "start_time": "2023-01-27T14:54:52.014Z"
   },
   {
    "duration": 756,
    "start_time": "2023-01-27T14:54:52.022Z"
   },
   {
    "duration": 177,
    "start_time": "2023-01-27T14:54:52.780Z"
   },
   {
    "duration": 14,
    "start_time": "2023-01-27T14:54:52.959Z"
   },
   {
    "duration": 17,
    "start_time": "2023-01-27T14:54:52.974Z"
   },
   {
    "duration": 4,
    "start_time": "2023-01-27T14:54:52.992Z"
   },
   {
    "duration": 6,
    "start_time": "2023-01-27T14:54:52.998Z"
   },
   {
    "duration": 13,
    "start_time": "2023-01-27T14:54:53.006Z"
   },
   {
    "duration": 4,
    "start_time": "2023-01-27T14:55:00.615Z"
   },
   {
    "duration": 13,
    "start_time": "2023-01-27T14:55:07.546Z"
   },
   {
    "duration": 3,
    "start_time": "2023-01-27T14:55:34.525Z"
   },
   {
    "duration": 105,
    "start_time": "2023-01-27T14:55:35.861Z"
   },
   {
    "duration": 3,
    "start_time": "2023-01-27T14:55:47.348Z"
   },
   {
    "duration": 6,
    "start_time": "2023-01-27T14:55:47.353Z"
   },
   {
    "duration": 7,
    "start_time": "2023-01-27T14:55:47.361Z"
   },
   {
    "duration": 41,
    "start_time": "2023-01-27T14:55:47.371Z"
   },
   {
    "duration": 12,
    "start_time": "2023-01-27T14:55:47.414Z"
   },
   {
    "duration": 12,
    "start_time": "2023-01-27T14:55:47.428Z"
   },
   {
    "duration": 30,
    "start_time": "2023-01-27T14:55:47.442Z"
   },
   {
    "duration": 19,
    "start_time": "2023-01-27T14:55:47.473Z"
   },
   {
    "duration": 16,
    "start_time": "2023-01-27T14:55:47.494Z"
   },
   {
    "duration": 15,
    "start_time": "2023-01-27T14:55:50.955Z"
   },
   {
    "duration": 3,
    "start_time": "2023-01-27T14:56:01.025Z"
   },
   {
    "duration": 42,
    "start_time": "2023-01-27T14:56:01.029Z"
   },
   {
    "duration": 34,
    "start_time": "2023-01-27T14:56:01.073Z"
   },
   {
    "duration": 71,
    "start_time": "2023-01-27T14:56:01.108Z"
   },
   {
    "duration": 12,
    "start_time": "2023-01-27T14:56:01.181Z"
   },
   {
    "duration": 29,
    "start_time": "2023-01-27T14:56:01.195Z"
   },
   {
    "duration": 29,
    "start_time": "2023-01-27T14:56:01.226Z"
   },
   {
    "duration": 31,
    "start_time": "2023-01-27T14:56:01.256Z"
   },
   {
    "duration": 52,
    "start_time": "2023-01-27T14:56:01.289Z"
   },
   {
    "duration": 30,
    "start_time": "2023-01-27T14:56:01.343Z"
   },
   {
    "duration": 8,
    "start_time": "2023-01-27T14:56:12.315Z"
   },
   {
    "duration": 15,
    "start_time": "2023-01-27T14:56:14.004Z"
   },
   {
    "duration": 11,
    "start_time": "2023-01-27T14:57:03.290Z"
   },
   {
    "duration": 3,
    "start_time": "2023-01-27T14:57:05.955Z"
   },
   {
    "duration": 13,
    "start_time": "2023-01-27T14:57:05.960Z"
   },
   {
    "duration": 9,
    "start_time": "2023-01-27T14:57:05.974Z"
   },
   {
    "duration": 59,
    "start_time": "2023-01-27T14:57:05.984Z"
   },
   {
    "duration": 11,
    "start_time": "2023-01-27T14:57:06.045Z"
   },
   {
    "duration": 21,
    "start_time": "2023-01-27T14:57:06.057Z"
   },
   {
    "duration": 14,
    "start_time": "2023-01-27T14:57:06.079Z"
   },
   {
    "duration": 13,
    "start_time": "2023-01-27T14:57:06.095Z"
   },
   {
    "duration": 25,
    "start_time": "2023-01-27T14:57:06.109Z"
   },
   {
    "duration": 5,
    "start_time": "2023-01-27T14:57:06.136Z"
   },
   {
    "duration": 17,
    "start_time": "2023-01-27T14:57:06.143Z"
   },
   {
    "duration": 7,
    "start_time": "2023-01-27T14:57:06.162Z"
   },
   {
    "duration": 15,
    "start_time": "2023-01-27T14:57:06.171Z"
   },
   {
    "duration": 9,
    "start_time": "2023-01-27T14:57:06.190Z"
   },
   {
    "duration": 5,
    "start_time": "2023-01-27T14:57:06.201Z"
   },
   {
    "duration": 35,
    "start_time": "2023-01-27T14:57:06.208Z"
   },
   {
    "duration": 5,
    "start_time": "2023-01-27T14:57:06.245Z"
   },
   {
    "duration": 16,
    "start_time": "2023-01-27T14:57:06.252Z"
   },
   {
    "duration": 28,
    "start_time": "2023-01-27T14:57:06.269Z"
   },
   {
    "duration": 10,
    "start_time": "2023-01-27T14:57:06.299Z"
   },
   {
    "duration": 30,
    "start_time": "2023-01-27T14:57:06.311Z"
   },
   {
    "duration": 46,
    "start_time": "2023-01-27T14:57:06.344Z"
   },
   {
    "duration": 429,
    "start_time": "2023-01-27T14:57:06.392Z"
   },
   {
    "duration": 4,
    "start_time": "2023-01-27T14:57:06.822Z"
   },
   {
    "duration": 73,
    "start_time": "2023-01-27T14:57:06.828Z"
   },
   {
    "duration": 93,
    "start_time": "2023-01-27T14:57:06.904Z"
   },
   {
    "duration": 56824,
    "start_time": "2023-01-27T14:57:06.999Z"
   },
   {
    "duration": 5,
    "start_time": "2023-01-27T14:58:03.826Z"
   },
   {
    "duration": 19,
    "start_time": "2023-01-27T14:58:03.842Z"
   },
   {
    "duration": 4,
    "start_time": "2023-01-27T14:58:03.863Z"
   },
   {
    "duration": 22,
    "start_time": "2023-01-27T14:58:03.870Z"
   },
   {
    "duration": 3,
    "start_time": "2023-01-27T14:59:43.019Z"
   },
   {
    "duration": 7,
    "start_time": "2023-01-27T14:59:43.024Z"
   },
   {
    "duration": 11,
    "start_time": "2023-01-27T14:59:43.033Z"
   },
   {
    "duration": 55,
    "start_time": "2023-01-27T14:59:43.046Z"
   },
   {
    "duration": 14,
    "start_time": "2023-01-27T14:59:43.103Z"
   },
   {
    "duration": 14,
    "start_time": "2023-01-27T14:59:43.119Z"
   },
   {
    "duration": 9,
    "start_time": "2023-01-27T14:59:43.134Z"
   },
   {
    "duration": 6,
    "start_time": "2023-01-27T14:59:43.145Z"
   },
   {
    "duration": 13,
    "start_time": "2023-01-27T14:59:43.153Z"
   },
   {
    "duration": 6,
    "start_time": "2023-01-27T14:59:43.192Z"
   },
   {
    "duration": 14,
    "start_time": "2023-01-27T14:59:43.200Z"
   },
   {
    "duration": 5,
    "start_time": "2023-01-27T14:59:43.216Z"
   },
   {
    "duration": 37,
    "start_time": "2023-01-27T14:59:43.223Z"
   },
   {
    "duration": 18,
    "start_time": "2023-01-27T14:59:43.262Z"
   },
   {
    "duration": 4,
    "start_time": "2023-01-27T14:59:43.282Z"
   },
   {
    "duration": 37,
    "start_time": "2023-01-27T14:59:43.287Z"
   },
   {
    "duration": 4,
    "start_time": "2023-01-27T14:59:43.326Z"
   },
   {
    "duration": 14,
    "start_time": "2023-01-27T14:59:43.332Z"
   },
   {
    "duration": 9,
    "start_time": "2023-01-27T14:59:43.347Z"
   },
   {
    "duration": 14,
    "start_time": "2023-01-27T14:59:43.358Z"
   },
   {
    "duration": 18,
    "start_time": "2023-01-27T14:59:43.373Z"
   },
   {
    "duration": 33,
    "start_time": "2023-01-27T14:59:43.393Z"
   },
   {
    "duration": 415,
    "start_time": "2023-01-27T14:59:43.428Z"
   },
   {
    "duration": 4,
    "start_time": "2023-01-27T14:59:43.846Z"
   },
   {
    "duration": 139,
    "start_time": "2023-01-27T14:59:43.852Z"
   },
   {
    "duration": 10,
    "start_time": "2023-01-27T14:59:43.994Z"
   },
   {
    "duration": 54191,
    "start_time": "2023-01-27T14:59:44.006Z"
   },
   {
    "duration": 5,
    "start_time": "2023-01-27T15:00:38.199Z"
   },
   {
    "duration": 9,
    "start_time": "2023-01-27T15:00:38.206Z"
   },
   {
    "duration": 5,
    "start_time": "2023-01-27T15:00:38.217Z"
   },
   {
    "duration": 15,
    "start_time": "2023-01-27T15:00:38.224Z"
   },
   {
    "duration": 236,
    "start_time": "2023-01-27T15:00:38.240Z"
   },
   {
    "duration": 3,
    "start_time": "2023-01-27T15:00:38.479Z"
   },
   {
    "duration": 100,
    "start_time": "2023-01-27T15:00:38.492Z"
   },
   {
    "duration": 97,
    "start_time": "2023-01-27T15:00:38.595Z"
   },
   {
    "duration": 31440,
    "start_time": "2023-01-27T15:00:38.694Z"
   },
   {
    "duration": 4,
    "start_time": "2023-01-27T15:01:22.462Z"
   },
   {
    "duration": 2,
    "start_time": "2023-01-27T15:03:23.153Z"
   },
   {
    "duration": 14,
    "start_time": "2023-01-27T15:03:23.157Z"
   },
   {
    "duration": 8,
    "start_time": "2023-01-27T15:03:23.173Z"
   },
   {
    "duration": 45,
    "start_time": "2023-01-27T15:03:23.182Z"
   },
   {
    "duration": 16,
    "start_time": "2023-01-27T15:03:23.230Z"
   },
   {
    "duration": 14,
    "start_time": "2023-01-27T15:03:23.248Z"
   },
   {
    "duration": 11,
    "start_time": "2023-01-27T15:03:23.264Z"
   },
   {
    "duration": 6,
    "start_time": "2023-01-27T15:03:23.277Z"
   },
   {
    "duration": 12,
    "start_time": "2023-01-27T15:03:23.291Z"
   },
   {
    "duration": 4,
    "start_time": "2023-01-27T15:03:23.306Z"
   },
   {
    "duration": 22,
    "start_time": "2023-01-27T15:03:23.313Z"
   },
   {
    "duration": 5,
    "start_time": "2023-01-27T15:03:23.337Z"
   },
   {
    "duration": 13,
    "start_time": "2023-01-27T15:03:23.343Z"
   },
   {
    "duration": 9,
    "start_time": "2023-01-27T15:03:23.357Z"
   },
   {
    "duration": 5,
    "start_time": "2023-01-27T15:03:23.392Z"
   },
   {
    "duration": 33,
    "start_time": "2023-01-27T15:03:23.398Z"
   },
   {
    "duration": 4,
    "start_time": "2023-01-27T15:03:23.433Z"
   },
   {
    "duration": 19,
    "start_time": "2023-01-27T15:03:23.439Z"
   },
   {
    "duration": 14,
    "start_time": "2023-01-27T15:03:23.460Z"
   },
   {
    "duration": 14,
    "start_time": "2023-01-27T15:03:23.475Z"
   },
   {
    "duration": 7,
    "start_time": "2023-01-27T15:03:23.491Z"
   },
   {
    "duration": 31,
    "start_time": "2023-01-27T15:03:23.500Z"
   },
   {
    "duration": 384,
    "start_time": "2023-01-27T15:03:23.533Z"
   },
   {
    "duration": 5,
    "start_time": "2023-01-27T15:03:23.918Z"
   },
   {
    "duration": 69,
    "start_time": "2023-01-27T15:03:23.924Z"
   },
   {
    "duration": 97,
    "start_time": "2023-01-27T15:03:23.995Z"
   },
   {
    "duration": 54216,
    "start_time": "2023-01-27T15:03:24.094Z"
   },
   {
    "duration": 3,
    "start_time": "2023-01-27T15:04:18.312Z"
   },
   {
    "duration": 7,
    "start_time": "2023-01-27T15:04:18.318Z"
   },
   {
    "duration": 5,
    "start_time": "2023-01-27T15:04:18.326Z"
   },
   {
    "duration": 15,
    "start_time": "2023-01-27T15:04:18.333Z"
   },
   {
    "duration": 231,
    "start_time": "2023-01-27T15:04:18.350Z"
   },
   {
    "duration": 8,
    "start_time": "2023-01-27T15:04:18.583Z"
   },
   {
    "duration": 18,
    "start_time": "2023-01-27T15:04:18.592Z"
   },
   {
    "duration": 104,
    "start_time": "2023-01-27T15:04:18.691Z"
   },
   {
    "duration": 31322,
    "start_time": "2023-01-27T15:04:18.797Z"
   },
   {
    "duration": 5,
    "start_time": "2023-01-27T15:04:50.120Z"
   },
   {
    "duration": 9,
    "start_time": "2023-01-27T15:04:50.126Z"
   },
   {
    "duration": 15,
    "start_time": "2023-01-27T15:04:50.136Z"
   },
   {
    "duration": 500,
    "start_time": "2023-01-27T15:04:50.153Z"
   },
   {
    "duration": 4,
    "start_time": "2023-01-27T15:04:50.655Z"
   },
   {
    "duration": 42,
    "start_time": "2023-01-27T15:04:50.660Z"
   },
   {
    "duration": 94,
    "start_time": "2023-01-27T15:04:50.704Z"
   },
   {
    "duration": 71876,
    "start_time": "2023-01-27T15:04:50.800Z"
   },
   {
    "duration": 4,
    "start_time": "2023-01-27T15:06:02.677Z"
   },
   {
    "duration": 431,
    "start_time": "2023-01-27T15:06:02.683Z"
   },
   {
    "duration": 3,
    "start_time": "2023-01-27T15:06:03.116Z"
   },
   {
    "duration": 71,
    "start_time": "2023-01-27T15:06:03.121Z"
   },
   {
    "duration": 104,
    "start_time": "2023-01-27T15:06:03.195Z"
   },
   {
    "duration": 54865,
    "start_time": "2023-01-27T15:06:03.301Z"
   },
   {
    "duration": 4,
    "start_time": "2023-01-27T15:06:58.168Z"
   },
   {
    "duration": 506,
    "start_time": "2023-01-27T15:06:58.174Z"
   },
   {
    "duration": 4,
    "start_time": "2023-01-27T15:06:58.681Z"
   },
   {
    "duration": 540,
    "start_time": "2023-01-27T15:31:25.496Z"
   },
   {
    "duration": 4,
    "start_time": "2023-01-27T15:32:05.785Z"
   },
   {
    "duration": 3,
    "start_time": "2023-01-27T15:33:32.032Z"
   },
   {
    "duration": 6,
    "start_time": "2023-01-27T15:33:55.640Z"
   },
   {
    "duration": 12,
    "start_time": "2023-01-27T15:39:01.387Z"
   },
   {
    "duration": 6,
    "start_time": "2023-01-27T15:39:12.804Z"
   },
   {
    "duration": 3,
    "start_time": "2023-01-27T15:41:41.481Z"
   },
   {
    "duration": 11,
    "start_time": "2023-01-27T15:41:41.486Z"
   },
   {
    "duration": 17,
    "start_time": "2023-01-27T15:41:41.500Z"
   },
   {
    "duration": 50,
    "start_time": "2023-01-27T15:41:41.518Z"
   },
   {
    "duration": 13,
    "start_time": "2023-01-27T15:41:41.571Z"
   },
   {
    "duration": 22,
    "start_time": "2023-01-27T15:41:41.586Z"
   },
   {
    "duration": 10,
    "start_time": "2023-01-27T15:41:41.610Z"
   },
   {
    "duration": 11,
    "start_time": "2023-01-27T15:41:41.622Z"
   },
   {
    "duration": 16,
    "start_time": "2023-01-27T15:41:41.635Z"
   },
   {
    "duration": 10,
    "start_time": "2023-01-27T15:41:41.652Z"
   },
   {
    "duration": 34,
    "start_time": "2023-01-27T15:41:41.665Z"
   },
   {
    "duration": 4,
    "start_time": "2023-01-27T15:41:41.702Z"
   },
   {
    "duration": 15,
    "start_time": "2023-01-27T15:41:41.708Z"
   },
   {
    "duration": 11,
    "start_time": "2023-01-27T15:41:41.725Z"
   },
   {
    "duration": 5,
    "start_time": "2023-01-27T15:41:41.738Z"
   },
   {
    "duration": 63,
    "start_time": "2023-01-27T15:41:41.744Z"
   },
   {
    "duration": 6,
    "start_time": "2023-01-27T15:41:41.810Z"
   },
   {
    "duration": 17,
    "start_time": "2023-01-27T15:41:41.817Z"
   },
   {
    "duration": 13,
    "start_time": "2023-01-27T15:41:41.836Z"
   },
   {
    "duration": 9,
    "start_time": "2023-01-27T15:41:41.850Z"
   },
   {
    "duration": 7,
    "start_time": "2023-01-27T15:41:41.861Z"
   },
   {
    "duration": 42,
    "start_time": "2023-01-27T15:41:41.870Z"
   },
   {
    "duration": 467,
    "start_time": "2023-01-27T15:41:41.913Z"
   },
   {
    "duration": 4,
    "start_time": "2023-01-27T15:41:42.381Z"
   },
   {
    "duration": 26,
    "start_time": "2023-01-27T15:41:42.392Z"
   },
   {
    "duration": 78,
    "start_time": "2023-01-27T15:41:42.420Z"
   },
   {
    "duration": 54972,
    "start_time": "2023-01-27T15:41:42.501Z"
   },
   {
    "duration": 5,
    "start_time": "2023-01-27T15:42:37.475Z"
   },
   {
    "duration": 6,
    "start_time": "2023-01-27T15:42:37.493Z"
   },
   {
    "duration": 17,
    "start_time": "2023-01-27T15:42:37.500Z"
   },
   {
    "duration": 15,
    "start_time": "2023-01-27T15:42:37.518Z"
   },
   {
    "duration": 211,
    "start_time": "2023-01-27T15:42:37.535Z"
   },
   {
    "duration": 4,
    "start_time": "2023-01-27T15:42:37.748Z"
   },
   {
    "duration": 39,
    "start_time": "2023-01-27T15:42:37.753Z"
   },
   {
    "duration": 97,
    "start_time": "2023-01-27T15:42:37.794Z"
   },
   {
    "duration": 31266,
    "start_time": "2023-01-27T15:42:37.893Z"
   },
   {
    "duration": 4,
    "start_time": "2023-01-27T15:43:09.161Z"
   },
   {
    "duration": 26,
    "start_time": "2023-01-27T15:43:09.167Z"
   },
   {
    "duration": 36,
    "start_time": "2023-01-27T15:43:09.194Z"
   },
   {
    "duration": 528,
    "start_time": "2023-01-27T15:43:09.231Z"
   },
   {
    "duration": 5,
    "start_time": "2023-01-27T15:43:09.760Z"
   },
   {
    "duration": 41,
    "start_time": "2023-01-27T15:43:09.767Z"
   },
   {
    "duration": 80,
    "start_time": "2023-01-27T15:43:09.818Z"
   },
   {
    "duration": 73854,
    "start_time": "2023-01-27T15:43:09.900Z"
   },
   {
    "duration": 6,
    "start_time": "2023-01-27T15:44:23.756Z"
   },
   {
    "duration": 443,
    "start_time": "2023-01-27T15:44:23.763Z"
   },
   {
    "duration": 6,
    "start_time": "2023-01-27T15:44:24.209Z"
   },
   {
    "duration": 81,
    "start_time": "2023-01-27T15:44:24.217Z"
   },
   {
    "duration": 92,
    "start_time": "2023-01-27T15:44:24.301Z"
   },
   {
    "duration": 54892,
    "start_time": "2023-01-27T15:44:24.395Z"
   },
   {
    "duration": 5,
    "start_time": "2023-01-27T15:45:19.288Z"
   },
   {
    "duration": 566,
    "start_time": "2023-01-27T15:45:19.295Z"
   },
   {
    "duration": 5,
    "start_time": "2023-01-27T15:45:19.863Z"
   },
   {
    "duration": 10,
    "start_time": "2023-01-27T15:45:19.870Z"
   },
   {
    "duration": 19,
    "start_time": "2023-01-27T15:45:19.881Z"
   }
  ],
  "kernelspec": {
   "display_name": "Python 3 (ipykernel)",
   "language": "python",
   "name": "python3"
  },
  "language_info": {
   "codemirror_mode": {
    "name": "ipython",
    "version": 3
   },
   "file_extension": ".py",
   "mimetype": "text/x-python",
   "name": "python",
   "nbconvert_exporter": "python",
   "pygments_lexer": "ipython3",
   "version": "3.9.13"
  },
  "toc": {
   "base_numbering": 1,
   "nav_menu": {},
   "number_sections": true,
   "sideBar": true,
   "skip_h1_title": true,
   "title_cell": "Содержание",
   "title_sidebar": "Contents",
   "toc_cell": true,
   "toc_position": {
    "height": "calc(100% - 180px)",
    "left": "10px",
    "top": "150px",
    "width": "366.2px"
   },
   "toc_section_display": true,
   "toc_window_display": false
  }
 },
 "nbformat": 4,
 "nbformat_minor": 2
}
