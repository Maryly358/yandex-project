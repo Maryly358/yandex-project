{
 "cells": [
  {
   "cell_type": "markdown",
   "metadata": {
    "toc": true
   },
   "source": [
    "<h1>Содержание<span class=\"tocSkip\"></span></h1>\n",
    "<div class=\"toc\"><ul class=\"toc-item\"><li><span><a href=\"#Загрузка-данных\" data-toc-modified-id=\"Загрузка-данных-1\"><span class=\"toc-item-num\">1&nbsp;&nbsp;</span>Загрузка данных</a></span></li><li><span><a href=\"#Умножение-матриц\" data-toc-modified-id=\"Умножение-матриц-2\"><span class=\"toc-item-num\">2&nbsp;&nbsp;</span>Умножение матриц</a></span></li><li><span><a href=\"#Алгоритм-преобразования\" data-toc-modified-id=\"Алгоритм-преобразования-3\"><span class=\"toc-item-num\">3&nbsp;&nbsp;</span>Алгоритм преобразования</a></span></li><li><span><a href=\"#Проверка-алгоритма\" data-toc-modified-id=\"Проверка-алгоритма-4\"><span class=\"toc-item-num\">4&nbsp;&nbsp;</span>Проверка алгоритма</a></span></li><li><span><a href=\"#Вывод\" data-toc-modified-id=\"Вывод-5\"><span class=\"toc-item-num\">5&nbsp;&nbsp;</span>Вывод</a></span></li><li><span><a href=\"#Чек-лист-проверки\" data-toc-modified-id=\"Чек-лист-проверки-6\"><span class=\"toc-item-num\">6&nbsp;&nbsp;</span>Чек-лист проверки</a></span></li></ul></div>"
   ]
  },
  {
   "cell_type": "markdown",
   "metadata": {},
   "source": [
    "# Защита персональных данных клиентов"
   ]
  },
  {
   "cell_type": "markdown",
   "metadata": {},
   "source": [
    "Вам нужно защитить данные клиентов страховой компании «Хоть потоп». Разработайте такой метод преобразования данных, чтобы по ним было сложно восстановить персональную информацию. Обоснуйте корректность его работы.\n",
    "\n",
    "Нужно защитить данные, чтобы при преобразовании качество моделей машинного обучения не ухудшилось. Подбирать наилучшую модель не требуется."
   ]
  },
  {
   "cell_type": "markdown",
   "metadata": {},
   "source": [
    "    Признаки: пол, возраст и зарплата застрахованного, количество членов его семьи.\n",
    "    Целевой признак: количество страховых выплат клиенту за последние 5 лет."
   ]
  },
  {
   "cell_type": "markdown",
   "metadata": {},
   "source": [
    "## Загрузка данных"
   ]
  },
  {
   "cell_type": "code",
   "execution_count": 18,
   "metadata": {},
   "outputs": [],
   "source": [
    "import pandas as pd\n",
    "import numpy as np\n",
    "import matplotlib.pyplot as plt\n",
    "import seaborn as sns"
   ]
  },
  {
   "cell_type": "code",
   "execution_count": 19,
   "metadata": {},
   "outputs": [],
   "source": [
    "from sklearn.metrics import r2_score"
   ]
  },
  {
   "cell_type": "code",
   "execution_count": 20,
   "metadata": {},
   "outputs": [],
   "source": [
    "df = pd.read_csv('/datasets/insurance.csv')"
   ]
  },
  {
   "cell_type": "code",
   "execution_count": 21,
   "metadata": {},
   "outputs": [
    {
     "name": "stdout",
     "output_type": "stream",
     "text": [
      "<class 'pandas.core.frame.DataFrame'>\n",
      "RangeIndex: 5000 entries, 0 to 4999\n",
      "Data columns (total 5 columns):\n",
      " #   Column             Non-Null Count  Dtype  \n",
      "---  ------             --------------  -----  \n",
      " 0   Пол                5000 non-null   int64  \n",
      " 1   Возраст            5000 non-null   float64\n",
      " 2   Зарплата           5000 non-null   float64\n",
      " 3   Члены семьи        5000 non-null   int64  \n",
      " 4   Страховые выплаты  5000 non-null   int64  \n",
      "dtypes: float64(2), int64(3)\n",
      "memory usage: 195.4 KB\n"
     ]
    }
   ],
   "source": [
    "df.info()"
   ]
  },
  {
   "cell_type": "code",
   "execution_count": 22,
   "metadata": {},
   "outputs": [
    {
     "data": {
      "text/html": [
       "<div>\n",
       "<style scoped>\n",
       "    .dataframe tbody tr th:only-of-type {\n",
       "        vertical-align: middle;\n",
       "    }\n",
       "\n",
       "    .dataframe tbody tr th {\n",
       "        vertical-align: top;\n",
       "    }\n",
       "\n",
       "    .dataframe thead th {\n",
       "        text-align: right;\n",
       "    }\n",
       "</style>\n",
       "<table border=\"1\" class=\"dataframe\">\n",
       "  <thead>\n",
       "    <tr style=\"text-align: right;\">\n",
       "      <th></th>\n",
       "      <th>Пол</th>\n",
       "      <th>Возраст</th>\n",
       "      <th>Зарплата</th>\n",
       "      <th>Члены семьи</th>\n",
       "      <th>Страховые выплаты</th>\n",
       "    </tr>\n",
       "  </thead>\n",
       "  <tbody>\n",
       "    <tr>\n",
       "      <th>0</th>\n",
       "      <td>1</td>\n",
       "      <td>41.0</td>\n",
       "      <td>49600.0</td>\n",
       "      <td>1</td>\n",
       "      <td>0</td>\n",
       "    </tr>\n",
       "    <tr>\n",
       "      <th>1</th>\n",
       "      <td>0</td>\n",
       "      <td>46.0</td>\n",
       "      <td>38000.0</td>\n",
       "      <td>1</td>\n",
       "      <td>1</td>\n",
       "    </tr>\n",
       "    <tr>\n",
       "      <th>2</th>\n",
       "      <td>0</td>\n",
       "      <td>29.0</td>\n",
       "      <td>21000.0</td>\n",
       "      <td>0</td>\n",
       "      <td>0</td>\n",
       "    </tr>\n",
       "    <tr>\n",
       "      <th>3</th>\n",
       "      <td>0</td>\n",
       "      <td>21.0</td>\n",
       "      <td>41700.0</td>\n",
       "      <td>2</td>\n",
       "      <td>0</td>\n",
       "    </tr>\n",
       "    <tr>\n",
       "      <th>4</th>\n",
       "      <td>1</td>\n",
       "      <td>28.0</td>\n",
       "      <td>26100.0</td>\n",
       "      <td>0</td>\n",
       "      <td>0</td>\n",
       "    </tr>\n",
       "  </tbody>\n",
       "</table>\n",
       "</div>"
      ],
      "text/plain": [
       "   Пол  Возраст  Зарплата  Члены семьи  Страховые выплаты\n",
       "0    1     41.0   49600.0            1                  0\n",
       "1    0     46.0   38000.0            1                  1\n",
       "2    0     29.0   21000.0            0                  0\n",
       "3    0     21.0   41700.0            2                  0\n",
       "4    1     28.0   26100.0            0                  0"
      ]
     },
     "execution_count": 22,
     "metadata": {},
     "output_type": "execute_result"
    }
   ],
   "source": [
    "df.head()"
   ]
  },
  {
   "cell_type": "code",
   "execution_count": 23,
   "metadata": {},
   "outputs": [
    {
     "data": {
      "text/html": [
       "<div>\n",
       "<style scoped>\n",
       "    .dataframe tbody tr th:only-of-type {\n",
       "        vertical-align: middle;\n",
       "    }\n",
       "\n",
       "    .dataframe tbody tr th {\n",
       "        vertical-align: top;\n",
       "    }\n",
       "\n",
       "    .dataframe thead th {\n",
       "        text-align: right;\n",
       "    }\n",
       "</style>\n",
       "<table border=\"1\" class=\"dataframe\">\n",
       "  <thead>\n",
       "    <tr style=\"text-align: right;\">\n",
       "      <th></th>\n",
       "      <th>Пол</th>\n",
       "      <th>Возраст</th>\n",
       "      <th>Зарплата</th>\n",
       "      <th>Члены семьи</th>\n",
       "      <th>Страховые выплаты</th>\n",
       "    </tr>\n",
       "  </thead>\n",
       "  <tbody>\n",
       "    <tr>\n",
       "      <th>count</th>\n",
       "      <td>5000.000000</td>\n",
       "      <td>5000.000000</td>\n",
       "      <td>5000.000000</td>\n",
       "      <td>5000.000000</td>\n",
       "      <td>5000.000000</td>\n",
       "    </tr>\n",
       "    <tr>\n",
       "      <th>mean</th>\n",
       "      <td>0.499000</td>\n",
       "      <td>30.952800</td>\n",
       "      <td>39916.360000</td>\n",
       "      <td>1.194200</td>\n",
       "      <td>0.148000</td>\n",
       "    </tr>\n",
       "    <tr>\n",
       "      <th>std</th>\n",
       "      <td>0.500049</td>\n",
       "      <td>8.440807</td>\n",
       "      <td>9900.083569</td>\n",
       "      <td>1.091387</td>\n",
       "      <td>0.463183</td>\n",
       "    </tr>\n",
       "    <tr>\n",
       "      <th>min</th>\n",
       "      <td>0.000000</td>\n",
       "      <td>18.000000</td>\n",
       "      <td>5300.000000</td>\n",
       "      <td>0.000000</td>\n",
       "      <td>0.000000</td>\n",
       "    </tr>\n",
       "    <tr>\n",
       "      <th>25%</th>\n",
       "      <td>0.000000</td>\n",
       "      <td>24.000000</td>\n",
       "      <td>33300.000000</td>\n",
       "      <td>0.000000</td>\n",
       "      <td>0.000000</td>\n",
       "    </tr>\n",
       "    <tr>\n",
       "      <th>50%</th>\n",
       "      <td>0.000000</td>\n",
       "      <td>30.000000</td>\n",
       "      <td>40200.000000</td>\n",
       "      <td>1.000000</td>\n",
       "      <td>0.000000</td>\n",
       "    </tr>\n",
       "    <tr>\n",
       "      <th>75%</th>\n",
       "      <td>1.000000</td>\n",
       "      <td>37.000000</td>\n",
       "      <td>46600.000000</td>\n",
       "      <td>2.000000</td>\n",
       "      <td>0.000000</td>\n",
       "    </tr>\n",
       "    <tr>\n",
       "      <th>max</th>\n",
       "      <td>1.000000</td>\n",
       "      <td>65.000000</td>\n",
       "      <td>79000.000000</td>\n",
       "      <td>6.000000</td>\n",
       "      <td>5.000000</td>\n",
       "    </tr>\n",
       "  </tbody>\n",
       "</table>\n",
       "</div>"
      ],
      "text/plain": [
       "               Пол      Возраст      Зарплата  Члены семьи  Страховые выплаты\n",
       "count  5000.000000  5000.000000   5000.000000  5000.000000        5000.000000\n",
       "mean      0.499000    30.952800  39916.360000     1.194200           0.148000\n",
       "std       0.500049     8.440807   9900.083569     1.091387           0.463183\n",
       "min       0.000000    18.000000   5300.000000     0.000000           0.000000\n",
       "25%       0.000000    24.000000  33300.000000     0.000000           0.000000\n",
       "50%       0.000000    30.000000  40200.000000     1.000000           0.000000\n",
       "75%       1.000000    37.000000  46600.000000     2.000000           0.000000\n",
       "max       1.000000    65.000000  79000.000000     6.000000           5.000000"
      ]
     },
     "execution_count": 23,
     "metadata": {},
     "output_type": "execute_result"
    }
   ],
   "source": [
    "df.describe()"
   ]
  },
  {
   "cell_type": "code",
   "execution_count": 24,
   "metadata": {},
   "outputs": [
    {
     "data": {
      "text/html": [
       "<div>\n",
       "<style scoped>\n",
       "    .dataframe tbody tr th:only-of-type {\n",
       "        vertical-align: middle;\n",
       "    }\n",
       "\n",
       "    .dataframe tbody tr th {\n",
       "        vertical-align: top;\n",
       "    }\n",
       "\n",
       "    .dataframe thead th {\n",
       "        text-align: right;\n",
       "    }\n",
       "</style>\n",
       "<table border=\"1\" class=\"dataframe\">\n",
       "  <thead>\n",
       "    <tr style=\"text-align: right;\">\n",
       "      <th></th>\n",
       "      <th>Пол</th>\n",
       "      <th>Возраст</th>\n",
       "      <th>Зарплата</th>\n",
       "      <th>Члены семьи</th>\n",
       "      <th>Страховые выплаты</th>\n",
       "    </tr>\n",
       "  </thead>\n",
       "  <tbody>\n",
       "    <tr>\n",
       "      <th>Пол</th>\n",
       "      <td>1.000000</td>\n",
       "      <td>0.000134</td>\n",
       "      <td>0.011823</td>\n",
       "      <td>-0.006578</td>\n",
       "      <td>-0.000172</td>\n",
       "    </tr>\n",
       "    <tr>\n",
       "      <th>Возраст</th>\n",
       "      <td>0.000134</td>\n",
       "      <td>1.000000</td>\n",
       "      <td>-0.020238</td>\n",
       "      <td>-0.001503</td>\n",
       "      <td>0.548589</td>\n",
       "    </tr>\n",
       "    <tr>\n",
       "      <th>Зарплата</th>\n",
       "      <td>0.011823</td>\n",
       "      <td>-0.020238</td>\n",
       "      <td>1.000000</td>\n",
       "      <td>-0.025492</td>\n",
       "      <td>-0.005549</td>\n",
       "    </tr>\n",
       "    <tr>\n",
       "      <th>Члены семьи</th>\n",
       "      <td>-0.006578</td>\n",
       "      <td>-0.001503</td>\n",
       "      <td>-0.025492</td>\n",
       "      <td>1.000000</td>\n",
       "      <td>-0.029210</td>\n",
       "    </tr>\n",
       "    <tr>\n",
       "      <th>Страховые выплаты</th>\n",
       "      <td>-0.000172</td>\n",
       "      <td>0.548589</td>\n",
       "      <td>-0.005549</td>\n",
       "      <td>-0.029210</td>\n",
       "      <td>1.000000</td>\n",
       "    </tr>\n",
       "  </tbody>\n",
       "</table>\n",
       "</div>"
      ],
      "text/plain": [
       "                        Пол   Возраст  Зарплата  Члены семьи  \\\n",
       "Пол                1.000000  0.000134  0.011823    -0.006578   \n",
       "Возраст            0.000134  1.000000 -0.020238    -0.001503   \n",
       "Зарплата           0.011823 -0.020238  1.000000    -0.025492   \n",
       "Члены семьи       -0.006578 -0.001503 -0.025492     1.000000   \n",
       "Страховые выплаты -0.000172  0.548589 -0.005549    -0.029210   \n",
       "\n",
       "                   Страховые выплаты  \n",
       "Пол                        -0.000172  \n",
       "Возраст                     0.548589  \n",
       "Зарплата                   -0.005549  \n",
       "Члены семьи                -0.029210  \n",
       "Страховые выплаты           1.000000  "
      ]
     },
     "execution_count": 24,
     "metadata": {},
     "output_type": "execute_result"
    }
   ],
   "source": [
    "df.corr(method='spearman')"
   ]
  },
  {
   "cell_type": "markdown",
   "metadata": {},
   "source": [
    "Сильной мультиколлинеарности между факторами нет"
   ]
  },
  {
   "cell_type": "code",
   "execution_count": 25,
   "metadata": {},
   "outputs": [
    {
     "data": {
      "text/plain": [
       "Пол                  0\n",
       "Возраст              0\n",
       "Зарплата             0\n",
       "Члены семьи          0\n",
       "Страховые выплаты    0\n",
       "dtype: int64"
      ]
     },
     "execution_count": 25,
     "metadata": {},
     "output_type": "execute_result"
    }
   ],
   "source": [
    "df.isna().sum()"
   ]
  },
  {
   "cell_type": "code",
   "execution_count": 26,
   "metadata": {},
   "outputs": [],
   "source": [
    "df_hist = df[['Возраст', 'Зарплата']]"
   ]
  },
  {
   "cell_type": "code",
   "execution_count": 27,
   "metadata": {
    "scrolled": true
   },
   "outputs": [
    {
     "data": {
      "image/png": "[encoded data removed]",
      "text/plain": [
       "<Figure size 432x288 with 2 Axes>"
      ]
     },
     "metadata": {
      "needs_background": "light"
     },
     "output_type": "display_data"
    }
   ],
   "source": [
    "df_hist.hist();"
   ]
  },
  {
   "cell_type": "code",
   "execution_count": 28,
   "metadata": {
    "scrolled": true
   },
   "outputs": [],
   "source": [
    "df_diag = df[['Члены семьи', 'Страховые выплаты']]"
   ]
  },
  {
   "cell_type": "code",
   "execution_count": 29,
   "metadata": {},
   "outputs": [
    {
     "data": {
      "image/png": "[encoded data removed]",
      "text/plain": [
       "<Figure size 432x360 with 1 Axes>"
      ]
     },
     "metadata": {
      "needs_background": "light"
     },
     "output_type": "display_data"
    }
   ],
   "source": [
    "data = df.groupby('Члены семьи')['Члены семьи'].sum()\n",
    "data = data.sort_values(ascending=False)\n",
    "data.plot(kind ='bar', figsize=(6,5));"
   ]
  },
  {
   "cell_type": "code",
   "execution_count": 30,
   "metadata": {
    "scrolled": false
   },
   "outputs": [
    {
     "data": {
      "image/png": "[encoded data removed]",
      "text/plain": [
       "<Figure size 432x360 with 1 Axes>"
      ]
     },
     "metadata": {
      "needs_background": "light"
     },
     "output_type": "display_data"
    }
   ],
   "source": [
    "data = df.groupby('Страховые выплаты')['Страховые выплаты'].sum()\n",
    "data = data.sort_values(ascending=False)\n",
    "data.plot(kind ='bar', figsize=(6,5));"
   ]
  },
  {
   "cell_type": "code",
   "execution_count": 31,
   "metadata": {},
   "outputs": [
    {
     "data": {
      "image/png": "[encoded data removed]",
      "text/plain": [
       "<Figure size 360x288 with 1 Axes>"
      ]
     },
     "metadata": {},
     "output_type": "display_data"
    }
   ],
   "source": [
    "data = df.groupby('Пол')['Пол'].count()\n",
    "data = data.sort_values(ascending=False)\n",
    "data.plot(kind ='pie', figsize=(5,4));"
   ]
  },
  {
   "cell_type": "markdown",
   "metadata": {},
   "source": [
    "## Умножение матриц"
   ]
  },
  {
   "cell_type": "markdown",
   "metadata": {},
   "source": [
    "**Вопос:** Признаки умножают на обратимую матрицу. Изменится ли качество линейной регрессии?\n",
    "\n",
    "**Ответ:** Нет, не изменится\n",
    "\n",
    "**Обоснование:**"
   ]
  },
  {
   "cell_type": "markdown",
   "metadata": {},
   "source": [
    "$$\n",
    "a = Xw\n",
    "$$\n",
    "\n",
    "$$\n",
    "w = (X^T X)^{-1} X^T y\n",
    "$$"
   ]
  },
  {
   "cell_type": "markdown",
   "metadata": {},
   "source": [
    "Делаем замену:\n",
    "\n",
    "$$\n",
    "Z = XP\n",
    "$$\n",
    "где Р - обратимая матрица"
   ]
  },
  {
   "cell_type": "markdown",
   "metadata": {},
   "source": [
    "$$\n",
    "a = Xw = XEw = XPP^{-1}w = (XP)P^{-1}w = (XP)w'\n",
    "$$\n",
    "\n",
    "$$\n",
    "w' = ((XP)^T XP)^{-1} (XP)^T y\n",
    "$$\n",
    "$$\n",
    "w' = (P^T (X^T X) P)^{-1} (XP)^T y\n",
    "$$\n",
    "$$\n",
    "....\n",
    "$$"
   ]
  },
  {
   "cell_type": "markdown",
   "metadata": {},
   "source": [
    "$$w'=(P^T(X^TX)P)^{-1}(PX)^Ty$$\n",
    "$$w'=P^{-1}(X^TX)^{-1}(P^T)^{-1}(P^TX^T)y$$\n",
    "$$w'=P^{-1}(X^TX)^{-1}E(X^T)y$$\n",
    "$$w'=P^{-1}(X^TX)^{-1}(X^T)y$$\n",
    "$$w'=P^{-1}(X^TX)^{-1}(X^T)y$$\n",
    "$$(P^{-1})w$$\n",
    "\n",
    "результат предсказания а\n",
    "\n",
    "$$a = Xw$$\n",
    "$$a' = Zw' = XPP^{-1}w$$\n",
    "$$a' = XPP^{-1}w$$\n",
    "$$XEw = Xw = a$$\n",
    "$$a' = P^{-1}(X^TX)^{-1}(X^T)y = (P^{-1})w$$\n",
    "$$a' = (P)^{-1}w$$"
   ]
  },
  {
   "cell_type": "markdown",
   "metadata": {},
   "source": [
    "Таким образом, получаем, что А = А1 => качество линейной регресии не изменится при умножении признаков на обратимую матрицу"
   ]
  },
  {
   "cell_type": "markdown",
   "metadata": {},
   "source": [
    "## Алгоритм преобразования"
   ]
  },
  {
   "cell_type": "markdown",
   "metadata": {},
   "source": [
    "1. Создадим матрицу и проверим ее на обратимость.\n",
    "2. Преобразуем данные, перемножив матрицы.\n",
    "3. Обучим модель лин.регресии на данных до и после преобразования для сравнения.\n",
    "\n",
    "Обоснования этого алгоритма представлены выше."
   ]
  },
  {
   "cell_type": "markdown",
   "metadata": {},
   "source": [
    "## Проверка алгоритма"
   ]
  },
  {
   "cell_type": "code",
   "execution_count": 130,
   "metadata": {},
   "outputs": [],
   "source": [
    "features = df.drop('Страховые выплаты', axis = 1)\n",
    "target = df['Страховые выплаты']"
   ]
  },
  {
   "cell_type": "code",
   "execution_count": 131,
   "metadata": {
    "scrolled": true
   },
   "outputs": [
    {
     "name": "stdout",
     "output_type": "stream",
     "text": [
      "(5000, 4)\n",
      "(5000,)\n"
     ]
    }
   ],
   "source": [
    "print(features.shape)\n",
    "print(target.shape)"
   ]
  },
  {
   "cell_type": "code",
   "execution_count": 132,
   "metadata": {},
   "outputs": [
    {
     "name": "stdout",
     "output_type": "stream",
     "text": [
      "      Пол  Возраст  Зарплата  Члены семьи\n",
      "0       1     41.0   49600.0            1\n",
      "1       0     46.0   38000.0            1\n",
      "2       0     29.0   21000.0            0\n",
      "3       0     21.0   41700.0            2\n",
      "4       1     28.0   26100.0            0\n",
      "...   ...      ...       ...          ...\n",
      "4995    0     28.0   35700.0            2\n",
      "4996    0     34.0   52400.0            1\n",
      "4997    0     20.0   33900.0            2\n",
      "4998    1     22.0   32700.0            3\n",
      "4999    1     28.0   40600.0            1\n",
      "\n",
      "[5000 rows x 4 columns]\n"
     ]
    }
   ],
   "source": [
    "print(features)"
   ]
  },
  {
   "cell_type": "markdown",
   "metadata": {},
   "source": [
    "Проверима матрицу на обратимость:"
   ]
  },
  {
   "cell_type": "code",
   "execution_count": 133,
   "metadata": {},
   "outputs": [],
   "source": [
    "matrix = np.random.normal(size = (4, 4))"
   ]
  },
  {
   "cell_type": "code",
   "execution_count": 134,
   "metadata": {},
   "outputs": [
    {
     "data": {
      "text/plain": [
       "array([[ -0.3692919 ,   5.13538503,   7.34065126,  -2.06224738],\n",
       "       [ -0.28217131,  -1.41633844,  -0.92699614,   0.04260353],\n",
       "       [ -0.56449774,   4.83365122,   5.68638977,  -2.07363209],\n",
       "       [  1.49017883,  -6.90123954, -11.00716332,   2.2763314 ]])"
      ]
     },
     "execution_count": 134,
     "metadata": {},
     "output_type": "execute_result"
    }
   ],
   "source": [
    "matrix_inv = np.linalg.inv(matrix)\n",
    "matrix_inv"
   ]
  },
  {
   "cell_type": "markdown",
   "metadata": {},
   "source": [
    "Перемножим матрицы:"
   ]
  },
  {
   "cell_type": "code",
   "execution_count": 135,
   "metadata": {
    "scrolled": true
   },
   "outputs": [
    {
     "name": "stdout",
     "output_type": "stream",
     "text": [
      "               Пол       Возраст      Зарплата  Члены семьи\n",
      "0     26777.761197   9794.415475 -29287.754084 -2603.283273\n",
      "1     20503.523025   7492.159629 -22429.437112 -1996.746309\n",
      "2     11328.712573   4138.220767 -12392.914392 -1103.547549\n",
      "3     22520.129289   8244.067353 -24630.335327 -2188.346750\n",
      "4     14087.304160   5149.253303 -15408.069975 -1369.984436\n",
      "...            ...           ...           ...          ...\n",
      "4995  19272.587148   7049.531808 -21080.951304 -1874.783987\n",
      "4996  28294.243086  10355.218069 -30945.273487 -2749.842244\n",
      "4997  18305.438855   6699.223514 -20021.786374 -1779.567746\n",
      "4998  17656.561417   6458.249214 -19313.062721 -1716.856021\n",
      "4999  21923.001174   8021.347869 -23976.824735 -2130.269407\n",
      "\n",
      "[5000 rows x 4 columns]\n"
     ]
    }
   ],
   "source": [
    "main_matrix = features.values\n",
    "result_matrix = main_matrix @ matrix\n",
    "features_res = pd.DataFrame (result_matrix, columns = features.columns)\n",
    "print(features_res)"
   ]
  },
  {
   "cell_type": "markdown",
   "metadata": {},
   "source": [
    "Создадим класс для рассчета линейной регрессии:"
   ]
  },
  {
   "cell_type": "code",
   "execution_count": 136,
   "metadata": {},
   "outputs": [],
   "source": [
    "class LinearRegression:\n",
    "    def fit(self, train_features, train_target):\n",
    "        X = np.concatenate((np.ones((train_features.shape[0], 1)), train_features), axis = 1)\n",
    "        y = train_target\n",
    "        w = np.linalg.inv(X.T@X)@X.T@y\n",
    "        self.w = w[1:]\n",
    "        self.w0 = w[0]\n",
    "\n",
    "    def predict(self, test_features):\n",
    "        return test_features.dot(self.w) + self.w0"
   ]
  },
  {
   "cell_type": "markdown",
   "metadata": {},
   "source": [
    "Теперь сравним показатель качества линейной регресии до и после преобразования"
   ]
  },
  {
   "cell_type": "code",
   "execution_count": 137,
   "metadata": {},
   "outputs": [],
   "source": [
    "model = LinearRegression()\n",
    "model.fit(features, target)\n",
    "prediction = model.predict(features)"
   ]
  },
  {
   "cell_type": "code",
   "execution_count": 138,
   "metadata": {},
   "outputs": [
    {
     "name": "stdout",
     "output_type": "stream",
     "text": [
      "0.42494550286668\n"
     ]
    }
   ],
   "source": [
    "print(r2_score(target, prediction))"
   ]
  },
  {
   "cell_type": "code",
   "execution_count": 139,
   "metadata": {},
   "outputs": [],
   "source": [
    "model = LinearRegression()\n",
    "model.fit(features_res, target)\n",
    "prediction = model.predict(features_res)"
   ]
  },
  {
   "cell_type": "code",
   "execution_count": 140,
   "metadata": {},
   "outputs": [
    {
     "name": "stdout",
     "output_type": "stream",
     "text": [
      "0.4249455028665282\n"
     ]
    }
   ],
   "source": [
    "print(r2_score(target, prediction))"
   ]
  },
  {
   "cell_type": "markdown",
   "metadata": {},
   "source": [
    "<b>Вывод:</b> качество линейной регресии при преобразовании (шифровании) не ухудшается"
   ]
  },
  {
   "cell_type": "markdown",
   "metadata": {},
   "source": [
    "## Вывод"
   ]
  },
  {
   "cell_type": "markdown",
   "metadata": {},
   "source": [
    "В самом начале данные были загружены и изучены. Пропуски отсутствовали, никаких \"мешающих\" закономерностей выявлено не было. Далее было проведено доказательство того, что при умножении признаков на обратимую матрицу показатель качества линейной регресии не меняется.\n",
    "\n",
    "Эта информация была необходима, чтобы \"зашифровать\" данные, что и было выполнено. Также было повторно проверено, что качество линейной регрессии на данных до и после преобразования - одинаково. Данные можно зашифровывать таким образом и качество модели не пострадает."
   ]
  }
 ],
 "metadata": {
  "ExecuteTimeLog": [
   {
    "duration": 417,
    "start_time": "2023-03-13T14:47:57.203Z"
   },
   {
    "duration": 76,
    "start_time": "2023-03-13T14:47:58.111Z"
   },
   {
    "duration": 13,
    "start_time": "2023-03-13T14:48:14.970Z"
   },
   {
    "duration": 15,
    "start_time": "2023-03-13T14:48:21.763Z"
   },
   {
    "duration": 24,
    "start_time": "2023-03-13T14:49:26.799Z"
   },
   {
    "duration": 12,
    "start_time": "2023-03-13T14:50:01.117Z"
   },
   {
    "duration": 65,
    "start_time": "2023-03-13T14:50:33.906Z"
   },
   {
    "duration": 6,
    "start_time": "2023-03-13T14:50:41.816Z"
   },
   {
    "duration": 13,
    "start_time": "2023-03-13T14:51:16.136Z"
   },
   {
    "duration": 6,
    "start_time": "2023-03-13T14:52:13.743Z"
   },
   {
    "duration": 691,
    "start_time": "2023-03-13T14:57:51.451Z"
   },
   {
    "duration": 694,
    "start_time": "2023-03-13T14:58:44.896Z"
   },
   {
    "duration": 606,
    "start_time": "2023-03-13T14:58:52.778Z"
   },
   {
    "duration": 635,
    "start_time": "2023-03-13T14:58:59.581Z"
   },
   {
    "duration": 3,
    "start_time": "2023-03-13T15:27:15.353Z"
   },
   {
    "duration": 18,
    "start_time": "2023-03-13T15:48:06.560Z"
   },
   {
    "duration": 3,
    "start_time": "2023-03-13T15:48:12.271Z"
   },
   {
    "duration": 3,
    "start_time": "2023-03-13T15:48:18.609Z"
   },
   {
    "duration": 5,
    "start_time": "2023-03-13T16:16:54.717Z"
   },
   {
    "duration": 7,
    "start_time": "2023-03-13T16:17:11.627Z"
   },
   {
    "duration": 8,
    "start_time": "2023-03-13T16:17:24.799Z"
   },
   {
    "duration": 4,
    "start_time": "2023-03-13T16:17:26.461Z"
   },
   {
    "duration": 7,
    "start_time": "2023-03-13T16:17:26.664Z"
   },
   {
    "duration": 4,
    "start_time": "2023-03-13T16:17:32.531Z"
   },
   {
    "duration": 5,
    "start_time": "2023-03-13T16:17:35.564Z"
   },
   {
    "duration": 6,
    "start_time": "2023-03-13T16:17:36.763Z"
   },
   {
    "duration": 5,
    "start_time": "2023-03-13T16:18:30.312Z"
   },
   {
    "duration": 3,
    "start_time": "2023-03-13T16:18:33.076Z"
   },
   {
    "duration": 6,
    "start_time": "2023-03-13T16:18:33.486Z"
   },
   {
    "duration": 8,
    "start_time": "2023-03-13T16:20:31.905Z"
   },
   {
    "duration": 4,
    "start_time": "2023-03-13T16:23:18.749Z"
   },
   {
    "duration": 8,
    "start_time": "2023-03-13T16:23:19.444Z"
   },
   {
    "duration": 62,
    "start_time": "2023-03-13T16:23:36.374Z"
   },
   {
    "duration": 726,
    "start_time": "2023-03-13T16:23:42.684Z"
   },
   {
    "duration": 5,
    "start_time": "2023-03-13T16:24:56.893Z"
   },
   {
    "duration": 47,
    "start_time": "2023-03-13T16:25:16.388Z"
   },
   {
    "duration": 20,
    "start_time": "2023-03-13T16:25:30.384Z"
   },
   {
    "duration": 5,
    "start_time": "2023-03-13T16:25:39.398Z"
   },
   {
    "duration": 17,
    "start_time": "2023-03-13T16:29:16.721Z"
   },
   {
    "duration": 8,
    "start_time": "2023-03-13T16:29:27.464Z"
   },
   {
    "duration": 3,
    "start_time": "2023-03-13T16:39:55.625Z"
   },
   {
    "duration": 6,
    "start_time": "2023-03-13T16:39:55.630Z"
   },
   {
    "duration": 36,
    "start_time": "2023-03-13T16:39:55.637Z"
   },
   {
    "duration": 13,
    "start_time": "2023-03-13T16:39:55.675Z"
   },
   {
    "duration": 13,
    "start_time": "2023-03-13T16:39:55.689Z"
   },
   {
    "duration": 23,
    "start_time": "2023-03-13T16:39:55.704Z"
   },
   {
    "duration": 11,
    "start_time": "2023-03-13T16:39:55.729Z"
   },
   {
    "duration": 5,
    "start_time": "2023-03-13T16:39:55.742Z"
   },
   {
    "duration": 635,
    "start_time": "2023-03-13T16:39:55.749Z"
   },
   {
    "duration": 4,
    "start_time": "2023-03-13T16:39:56.386Z"
   },
   {
    "duration": 8,
    "start_time": "2023-03-13T16:39:56.392Z"
   },
   {
    "duration": 9,
    "start_time": "2023-03-13T16:39:56.401Z"
   },
   {
    "duration": 10,
    "start_time": "2023-03-13T16:39:56.413Z"
   },
   {
    "duration": 14,
    "start_time": "2023-03-13T16:39:56.425Z"
   },
   {
    "duration": 155,
    "start_time": "2023-03-13T16:39:56.441Z"
   },
   {
    "duration": 21,
    "start_time": "2023-03-13T16:39:56.598Z"
   },
   {
    "duration": 18,
    "start_time": "2023-03-13T16:39:56.621Z"
   },
   {
    "duration": 156,
    "start_time": "2023-03-13T16:39:56.642Z"
   },
   {
    "duration": 7,
    "start_time": "2023-03-13T16:39:56.800Z"
   },
   {
    "duration": 195,
    "start_time": "2023-03-13T16:39:56.809Z"
   },
   {
    "duration": 403,
    "start_time": "2023-03-14T07:03:15.353Z"
   },
   {
    "duration": 1822,
    "start_time": "2023-03-14T07:03:15.761Z"
   },
   {
    "duration": 32,
    "start_time": "2023-03-14T07:03:17.587Z"
   },
   {
    "duration": 99,
    "start_time": "2023-03-14T07:03:29.003Z"
   },
   {
    "duration": 14,
    "start_time": "2023-03-14T07:03:34.801Z"
   },
   {
    "duration": 18,
    "start_time": "2023-03-14T07:03:35.162Z"
   },
   {
    "duration": 22,
    "start_time": "2023-03-14T07:03:35.626Z"
   },
   {
    "duration": 18,
    "start_time": "2023-03-14T07:03:36.981Z"
   },
   {
    "duration": 7,
    "start_time": "2023-03-14T07:03:38.104Z"
   },
   {
    "duration": 955,
    "start_time": "2023-03-14T07:03:38.877Z"
   },
   {
    "duration": 5,
    "start_time": "2023-03-14T07:06:12.218Z"
   },
   {
    "duration": 4,
    "start_time": "2023-03-14T07:06:12.654Z"
   },
   {
    "duration": 9,
    "start_time": "2023-03-14T07:06:13.098Z"
   },
   {
    "duration": 3,
    "start_time": "2023-03-14T07:06:17.024Z"
   },
   {
    "duration": 5,
    "start_time": "2023-03-14T07:06:17.420Z"
   },
   {
    "duration": 9,
    "start_time": "2023-03-14T07:06:43.273Z"
   },
   {
    "duration": 4,
    "start_time": "2023-03-14T07:06:45.170Z"
   },
   {
    "duration": 8,
    "start_time": "2023-03-14T07:06:47.007Z"
   },
   {
    "duration": 5,
    "start_time": "2023-03-14T07:06:47.720Z"
   },
   {
    "duration": 26,
    "start_time": "2023-03-14T07:06:47.727Z"
   },
   {
    "duration": 81,
    "start_time": "2023-03-14T07:06:47.762Z"
   },
   {
    "duration": 54,
    "start_time": "2023-03-14T08:30:36.838Z"
   },
   {
    "duration": 436,
    "start_time": "2023-03-14T08:30:40.677Z"
   },
   {
    "duration": 755,
    "start_time": "2023-03-14T08:30:41.116Z"
   },
   {
    "duration": 76,
    "start_time": "2023-03-14T08:30:41.873Z"
   },
   {
    "duration": 14,
    "start_time": "2023-03-14T08:30:41.951Z"
   },
   {
    "duration": 22,
    "start_time": "2023-03-14T08:30:41.968Z"
   },
   {
    "duration": 31,
    "start_time": "2023-03-14T08:30:41.992Z"
   },
   {
    "duration": 18,
    "start_time": "2023-03-14T08:30:42.025Z"
   },
   {
    "duration": 37,
    "start_time": "2023-03-14T08:30:42.045Z"
   },
   {
    "duration": 677,
    "start_time": "2023-03-14T08:30:42.085Z"
   },
   {
    "duration": 5,
    "start_time": "2023-03-14T08:30:42.765Z"
   },
   {
    "duration": 24,
    "start_time": "2023-03-14T08:30:42.772Z"
   },
   {
    "duration": 24,
    "start_time": "2023-03-14T08:30:42.798Z"
   },
   {
    "duration": 14,
    "start_time": "2023-03-14T08:30:42.824Z"
   },
   {
    "duration": 15,
    "start_time": "2023-03-14T08:30:42.840Z"
   },
   {
    "duration": 110,
    "start_time": "2023-03-14T08:30:42.883Z"
   },
   {
    "duration": 7,
    "start_time": "2023-03-14T08:30:42.996Z"
   },
   {
    "duration": 24,
    "start_time": "2023-03-14T08:30:43.005Z"
   },
   {
    "duration": 58,
    "start_time": "2023-03-14T08:30:43.032Z"
   },
   {
    "duration": 25,
    "start_time": "2023-03-14T08:30:43.180Z"
   },
   {
    "duration": 179,
    "start_time": "2023-03-14T08:30:43.208Z"
   },
   {
    "duration": 218,
    "start_time": "2023-03-14T08:31:15.347Z"
   },
   {
    "duration": 203,
    "start_time": "2023-03-14T08:31:28.091Z"
   },
   {
    "duration": 141,
    "start_time": "2023-03-14T08:31:32.562Z"
   },
   {
    "duration": 3,
    "start_time": "2023-03-14T08:32:18.794Z"
   },
   {
    "duration": 285,
    "start_time": "2023-03-14T08:32:23.929Z"
   },
   {
    "duration": 671,
    "start_time": "2023-03-14T08:32:31.017Z"
   },
   {
    "duration": 136,
    "start_time": "2023-03-14T08:33:14.694Z"
   },
   {
    "duration": 129,
    "start_time": "2023-03-14T08:33:22.344Z"
   },
   {
    "duration": 3,
    "start_time": "2023-03-14T08:34:03.302Z"
   },
   {
    "duration": 15,
    "start_time": "2023-03-14T08:34:09.659Z"
   },
   {
    "duration": 9,
    "start_time": "2023-03-14T08:34:21.215Z"
   },
   {
    "duration": 15,
    "start_time": "2023-03-14T08:34:27.387Z"
   },
   {
    "duration": 14,
    "start_time": "2023-03-14T08:34:33.401Z"
   },
   {
    "duration": 1141,
    "start_time": "2023-03-14T08:36:01.012Z"
   },
   {
    "duration": 11,
    "start_time": "2023-03-14T08:36:19.088Z"
   },
   {
    "duration": 220,
    "start_time": "2023-03-14T08:36:28.955Z"
   },
   {
    "duration": 4,
    "start_time": "2023-03-14T08:36:59.365Z"
   },
   {
    "duration": 11,
    "start_time": "2023-03-14T08:37:03.291Z"
   },
   {
    "duration": 76,
    "start_time": "2023-03-14T08:37:28.453Z"
   },
   {
    "duration": 126,
    "start_time": "2023-03-14T08:38:08.390Z"
   },
   {
    "duration": 14291,
    "start_time": "2023-03-14T08:38:41.653Z"
   },
   {
    "duration": 19722,
    "start_time": "2023-03-14T08:38:57.669Z"
   },
   {
    "duration": 4,
    "start_time": "2023-03-14T08:40:17.444Z"
   },
   {
    "duration": 33196,
    "start_time": "2023-03-14T08:40:20.001Z"
   },
   {
    "duration": 135,
    "start_time": "2023-03-14T08:42:06.498Z"
   },
   {
    "duration": 135,
    "start_time": "2023-03-14T08:42:52.466Z"
   },
   {
    "duration": 12,
    "start_time": "2023-03-14T08:43:07.606Z"
   },
   {
    "duration": 11,
    "start_time": "2023-03-14T08:43:19.105Z"
   },
   {
    "duration": 9,
    "start_time": "2023-03-14T08:43:34.617Z"
   },
   {
    "duration": 11,
    "start_time": "2023-03-14T08:43:43.756Z"
   },
   {
    "duration": 8,
    "start_time": "2023-03-14T08:43:44.215Z"
   },
   {
    "duration": 64,
    "start_time": "2023-03-14T08:43:52.793Z"
   },
   {
    "duration": 3,
    "start_time": "2023-03-14T08:43:55.460Z"
   },
   {
    "duration": 10,
    "start_time": "2023-03-14T08:43:55.465Z"
   },
   {
    "duration": 49,
    "start_time": "2023-03-14T08:43:55.477Z"
   },
   {
    "duration": 15,
    "start_time": "2023-03-14T08:43:55.529Z"
   },
   {
    "duration": 13,
    "start_time": "2023-03-14T08:43:55.546Z"
   },
   {
    "duration": 40,
    "start_time": "2023-03-14T08:43:55.560Z"
   },
   {
    "duration": 15,
    "start_time": "2023-03-14T08:43:55.602Z"
   },
   {
    "duration": 8,
    "start_time": "2023-03-14T08:43:55.619Z"
   },
   {
    "duration": 14,
    "start_time": "2023-03-14T08:43:55.630Z"
   },
   {
    "duration": 264,
    "start_time": "2023-03-14T08:43:55.646Z"
   },
   {
    "duration": 12,
    "start_time": "2023-03-14T08:43:55.912Z"
   },
   {
    "duration": 27,
    "start_time": "2023-03-14T08:43:55.926Z"
   },
   {
    "duration": 91,
    "start_time": "2023-03-14T08:43:55.955Z"
   },
   {
    "duration": 5,
    "start_time": "2023-03-14T08:43:56.049Z"
   },
   {
    "duration": 13,
    "start_time": "2023-03-14T08:43:56.056Z"
   },
   {
    "duration": 33,
    "start_time": "2023-03-14T08:43:56.086Z"
   },
   {
    "duration": 24,
    "start_time": "2023-03-14T08:43:56.122Z"
   },
   {
    "duration": 22,
    "start_time": "2023-03-14T08:43:56.149Z"
   },
   {
    "duration": 138,
    "start_time": "2023-03-14T08:43:56.173Z"
   },
   {
    "duration": 13,
    "start_time": "2023-03-14T08:43:56.313Z"
   },
   {
    "duration": 57,
    "start_time": "2023-03-14T08:43:56.328Z"
   },
   {
    "duration": 112,
    "start_time": "2023-03-14T08:43:56.387Z"
   },
   {
    "duration": 7,
    "start_time": "2023-03-14T08:43:56.501Z"
   },
   {
    "duration": 172,
    "start_time": "2023-03-14T08:43:56.514Z"
   },
   {
    "duration": 4,
    "start_time": "2023-03-14T08:44:19.702Z"
   },
   {
    "duration": 7,
    "start_time": "2023-03-14T08:44:19.708Z"
   },
   {
    "duration": 36,
    "start_time": "2023-03-14T08:44:19.717Z"
   },
   {
    "duration": 12,
    "start_time": "2023-03-14T08:44:19.755Z"
   },
   {
    "duration": 30,
    "start_time": "2023-03-14T08:44:19.770Z"
   },
   {
    "duration": 29,
    "start_time": "2023-03-14T08:44:19.802Z"
   },
   {
    "duration": 14,
    "start_time": "2023-03-14T08:44:19.833Z"
   },
   {
    "duration": 7,
    "start_time": "2023-03-14T08:44:19.849Z"
   },
   {
    "duration": 38,
    "start_time": "2023-03-14T08:44:19.858Z"
   },
   {
    "duration": 255,
    "start_time": "2023-03-14T08:44:19.898Z"
   },
   {
    "duration": 11,
    "start_time": "2023-03-14T08:44:20.155Z"
   },
   {
    "duration": 32,
    "start_time": "2023-03-14T08:44:20.168Z"
   },
   {
    "duration": 73,
    "start_time": "2023-03-14T08:44:20.202Z"
   },
   {
    "duration": 6,
    "start_time": "2023-03-14T08:44:20.286Z"
   },
   {
    "duration": 18,
    "start_time": "2023-03-14T08:44:20.294Z"
   },
   {
    "duration": 25,
    "start_time": "2023-03-14T08:44:20.314Z"
   },
   {
    "duration": 12,
    "start_time": "2023-03-14T08:44:20.341Z"
   },
   {
    "duration": 13,
    "start_time": "2023-03-14T08:44:20.355Z"
   },
   {
    "duration": 107,
    "start_time": "2023-03-14T08:44:20.380Z"
   },
   {
    "duration": 5,
    "start_time": "2023-03-14T08:44:20.491Z"
   },
   {
    "duration": 15,
    "start_time": "2023-03-14T08:44:20.498Z"
   },
   {
    "duration": 115,
    "start_time": "2023-03-14T08:44:20.585Z"
   },
   {
    "duration": 20,
    "start_time": "2023-03-14T08:44:20.702Z"
   },
   {
    "duration": 60,
    "start_time": "2023-03-14T08:44:20.724Z"
   },
   {
    "duration": 8,
    "start_time": "2023-03-14T08:44:40.942Z"
   },
   {
    "duration": 15,
    "start_time": "2023-03-14T08:44:58.495Z"
   },
   {
    "duration": 5,
    "start_time": "2023-03-14T08:45:06.819Z"
   },
   {
    "duration": 66,
    "start_time": "2023-03-14T08:47:53.245Z"
   },
   {
    "duration": 93,
    "start_time": "2023-03-14T08:48:01.022Z"
   },
   {
    "duration": 21,
    "start_time": "2023-03-14T08:48:07.195Z"
   },
   {
    "duration": 1448,
    "start_time": "2023-03-14T08:50:22.807Z"
   },
   {
    "duration": 883,
    "start_time": "2023-03-14T08:50:30.715Z"
   },
   {
    "duration": 15,
    "start_time": "2023-03-14T08:50:40.606Z"
   },
   {
    "duration": 442,
    "start_time": "2023-03-14T08:51:08.231Z"
   },
   {
    "duration": 495,
    "start_time": "2023-03-14T08:51:35.705Z"
   },
   {
    "duration": 439,
    "start_time": "2023-03-14T08:51:54.804Z"
   },
   {
    "duration": 127,
    "start_time": "2023-03-14T08:53:22.295Z"
   },
   {
    "duration": 15,
    "start_time": "2023-03-14T08:53:30.147Z"
   },
   {
    "duration": 123,
    "start_time": "2023-03-14T08:53:40.096Z"
   },
   {
    "duration": 3,
    "start_time": "2023-03-14T08:53:43.029Z"
   },
   {
    "duration": 7,
    "start_time": "2023-03-14T08:53:43.035Z"
   },
   {
    "duration": 34,
    "start_time": "2023-03-14T08:53:43.044Z"
   },
   {
    "duration": 26,
    "start_time": "2023-03-14T08:53:43.080Z"
   },
   {
    "duration": 14,
    "start_time": "2023-03-14T08:53:43.107Z"
   },
   {
    "duration": 30,
    "start_time": "2023-03-14T08:53:43.123Z"
   },
   {
    "duration": 45,
    "start_time": "2023-03-14T08:53:43.156Z"
   },
   {
    "duration": 18,
    "start_time": "2023-03-14T08:53:43.204Z"
   },
   {
    "duration": 12,
    "start_time": "2023-03-14T08:53:43.225Z"
   },
   {
    "duration": 256,
    "start_time": "2023-03-14T08:53:43.238Z"
   },
   {
    "duration": 12,
    "start_time": "2023-03-14T08:53:43.497Z"
   },
   {
    "duration": 123,
    "start_time": "2023-03-14T08:53:43.511Z"
   },
   {
    "duration": 83,
    "start_time": "2023-03-14T08:53:43.636Z"
   },
   {
    "duration": 4,
    "start_time": "2023-03-14T08:53:43.721Z"
   },
   {
    "duration": 20,
    "start_time": "2023-03-14T08:53:43.727Z"
   },
   {
    "duration": 18,
    "start_time": "2023-03-14T08:53:43.749Z"
   },
   {
    "duration": 20,
    "start_time": "2023-03-14T08:53:43.768Z"
   },
   {
    "duration": 15,
    "start_time": "2023-03-14T08:53:43.794Z"
   },
   {
    "duration": 18,
    "start_time": "2023-03-14T08:53:43.811Z"
   },
   {
    "duration": 35,
    "start_time": "2023-03-14T08:53:43.880Z"
   },
   {
    "duration": 29,
    "start_time": "2023-03-14T08:53:43.982Z"
   },
   {
    "duration": 98,
    "start_time": "2023-03-14T08:53:44.105Z"
   },
   {
    "duration": 6,
    "start_time": "2023-03-14T08:53:44.206Z"
   },
   {
    "duration": 164,
    "start_time": "2023-03-14T08:53:44.221Z"
   },
   {
    "duration": 184,
    "start_time": "2023-03-14T08:55:27.692Z"
   },
   {
    "duration": 94,
    "start_time": "2023-03-14T08:55:39.896Z"
   },
   {
    "duration": 19,
    "start_time": "2023-03-14T08:57:15.815Z"
   },
   {
    "duration": 11,
    "start_time": "2023-03-14T08:57:26.222Z"
   },
   {
    "duration": 10,
    "start_time": "2023-03-14T08:57:40.169Z"
   },
   {
    "duration": 5,
    "start_time": "2023-03-14T08:57:46.398Z"
   },
   {
    "duration": 16,
    "start_time": "2023-03-14T08:57:49.937Z"
   },
   {
    "duration": 22,
    "start_time": "2023-03-14T08:58:12.170Z"
   },
   {
    "duration": 5,
    "start_time": "2023-03-14T08:58:12.662Z"
   },
   {
    "duration": 15,
    "start_time": "2023-03-14T08:58:13.496Z"
   },
   {
    "duration": 4,
    "start_time": "2023-03-14T08:58:26.005Z"
   },
   {
    "duration": 161,
    "start_time": "2023-03-14T08:59:17.484Z"
   },
   {
    "duration": 173,
    "start_time": "2023-03-14T08:59:34.006Z"
   },
   {
    "duration": 4,
    "start_time": "2023-03-14T08:59:48.603Z"
   },
   {
    "duration": 4,
    "start_time": "2023-03-14T08:59:56.360Z"
   },
   {
    "duration": 15,
    "start_time": "2023-03-14T09:01:58.123Z"
   },
   {
    "duration": 115,
    "start_time": "2023-03-14T09:02:47.490Z"
   },
   {
    "duration": 119,
    "start_time": "2023-03-14T09:04:00.525Z"
   },
   {
    "duration": 116,
    "start_time": "2023-03-14T09:04:05.728Z"
   },
   {
    "duration": 105,
    "start_time": "2023-03-14T09:04:09.551Z"
   },
   {
    "duration": 112,
    "start_time": "2023-03-14T09:04:31.688Z"
   },
   {
    "duration": 6,
    "start_time": "2023-03-14T09:04:52.609Z"
   },
   {
    "duration": 5,
    "start_time": "2023-03-14T09:05:02.791Z"
   },
   {
    "duration": 5,
    "start_time": "2023-03-14T09:05:07.083Z"
   },
   {
    "duration": 12,
    "start_time": "2023-03-14T09:05:11.607Z"
   },
   {
    "duration": 107,
    "start_time": "2023-03-14T09:05:23.125Z"
   },
   {
    "duration": 160,
    "start_time": "2023-03-14T09:06:20.356Z"
   },
   {
    "duration": 152,
    "start_time": "2023-03-14T09:06:24.340Z"
   },
   {
    "duration": 173,
    "start_time": "2023-03-14T09:06:32.512Z"
   },
   {
    "duration": 85,
    "start_time": "2023-03-14T09:06:51.910Z"
   },
   {
    "duration": 122,
    "start_time": "2023-03-14T09:06:56.322Z"
   },
   {
    "duration": 73,
    "start_time": "2023-03-14T09:07:01.848Z"
   },
   {
    "duration": 77,
    "start_time": "2023-03-14T09:07:53.834Z"
   },
   {
    "duration": 1454,
    "start_time": "2023-03-14T12:02:01.049Z"
   },
   {
    "duration": 1300,
    "start_time": "2023-03-14T12:02:02.504Z"
   },
   {
    "duration": 64,
    "start_time": "2023-03-14T12:02:03.805Z"
   },
   {
    "duration": 12,
    "start_time": "2023-03-14T12:02:03.871Z"
   },
   {
    "duration": 39,
    "start_time": "2023-03-14T12:02:03.885Z"
   },
   {
    "duration": 44,
    "start_time": "2023-03-14T12:02:03.926Z"
   },
   {
    "duration": 12,
    "start_time": "2023-03-14T12:02:03.972Z"
   },
   {
    "duration": 6,
    "start_time": "2023-03-14T12:02:05.979Z"
   },
   {
    "duration": 4,
    "start_time": "2023-03-14T12:02:06.444Z"
   },
   {
    "duration": 255,
    "start_time": "2023-03-14T12:02:06.952Z"
   },
   {
    "duration": 4,
    "start_time": "2023-03-14T12:02:07.609Z"
   },
   {
    "duration": 140,
    "start_time": "2023-03-14T12:02:08.220Z"
   },
   {
    "duration": 151,
    "start_time": "2023-03-14T12:02:08.713Z"
   },
   {
    "duration": 79,
    "start_time": "2023-03-14T12:02:09.639Z"
   },
   {
    "duration": 165,
    "start_time": "2023-03-14T12:15:07.137Z"
   },
   {
    "duration": 44,
    "start_time": "2023-03-14T12:15:21.026Z"
   },
   {
    "duration": 54,
    "start_time": "2023-03-14T12:15:52.293Z"
   },
   {
    "duration": 3,
    "start_time": "2023-03-14T12:20:43.198Z"
   },
   {
    "duration": 2,
    "start_time": "2023-03-14T12:20:45.513Z"
   },
   {
    "duration": 28,
    "start_time": "2023-03-14T12:20:45.995Z"
   },
   {
    "duration": 11,
    "start_time": "2023-03-14T12:20:46.973Z"
   },
   {
    "duration": 8,
    "start_time": "2023-03-14T12:20:47.395Z"
   },
   {
    "duration": 23,
    "start_time": "2023-03-14T12:20:47.568Z"
   },
   {
    "duration": 12,
    "start_time": "2023-03-14T12:20:47.733Z"
   },
   {
    "duration": 6,
    "start_time": "2023-03-14T12:20:48.294Z"
   },
   {
    "duration": 3,
    "start_time": "2023-03-14T12:20:48.508Z"
   },
   {
    "duration": 218,
    "start_time": "2023-03-14T12:20:48.698Z"
   },
   {
    "duration": 3,
    "start_time": "2023-03-14T12:20:48.918Z"
   },
   {
    "duration": 215,
    "start_time": "2023-03-14T12:20:49.446Z"
   },
   {
    "duration": 139,
    "start_time": "2023-03-14T12:20:49.745Z"
   },
   {
    "duration": 75,
    "start_time": "2023-03-14T12:20:49.910Z"
   },
   {
    "duration": 147,
    "start_time": "2023-03-14T12:20:58.166Z"
   }
  ],
  "kernelspec": {
   "display_name": "Python 3 (ipykernel)",
   "language": "python",
   "name": "python3"
  },
  "language_info": {
   "codemirror_mode": {
    "name": "ipython",
    "version": 3
   },
   "file_extension": ".py",
   "mimetype": "text/x-python",
   "name": "python",
   "nbconvert_exporter": "python",
   "pygments_lexer": "ipython3",
   "version": "3.10.9"
  },
  "toc": {
   "base_numbering": 1,
   "nav_menu": {},
   "number_sections": true,
   "sideBar": true,
   "skip_h1_title": true,
   "title_cell": "Содержание",
   "title_sidebar": "Contents",
   "toc_cell": true,
   "toc_position": {
    "height": "calc(100% - 180px)",
    "left": "10px",
    "top": "150px",
    "width": "199.98px"
   },
   "toc_section_display": true,
   "toc_window_display": true
  }
 },
 "nbformat": 4,
 "nbformat_minor": 2
}
