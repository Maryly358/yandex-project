{
 "cells": [
  {
   "cell_type": "markdown",
   "metadata": {
    "toc": true
   },
   "source": [
    "<h1>Содержание<span class=\"tocSkip\"></span></h1>\n",
    "<div class=\"toc\"><ul class=\"toc-item\"><li><span><a href=\"#Подготовка-данных\" data-toc-modified-id=\"Подготовка-данных-1\"><span class=\"toc-item-num\">1&nbsp;&nbsp;</span>Подготовка данных</a></span><ul class=\"toc-item\"><li><span><a href=\"#Изучение-данных-и-небольшая-предобработка\" data-toc-modified-id=\"Изучение-данных-и-небольшая-предобработка-1.1\"><span class=\"toc-item-num\">1.1&nbsp;&nbsp;</span>Изучение данных и небольшая предобработка</a></span></li><li><span><a href=\"#Эффективность-обогащения-и-MAE\" data-toc-modified-id=\"Эффективность-обогащения-и-MAE-1.2\"><span class=\"toc-item-num\">1.2&nbsp;&nbsp;</span>Эффективность обогащения и MAE</a></span></li><li><span><a href=\"#Признаки-тестовой-выборки\" data-toc-modified-id=\"Признаки-тестовой-выборки-1.3\"><span class=\"toc-item-num\">1.3&nbsp;&nbsp;</span>Признаки тестовой выборки</a></span></li></ul></li><li><span><a href=\"#Анализ-данных\" data-toc-modified-id=\"Анализ-данных-2\"><span class=\"toc-item-num\">2&nbsp;&nbsp;</span>Анализ данных</a></span><ul class=\"toc-item\"><li><span><a href=\"#Концентрация-металлов\" data-toc-modified-id=\"Концентрация-металлов-2.1\"><span class=\"toc-item-num\">2.1&nbsp;&nbsp;</span>Концентрация металлов</a></span></li><li><span><a href=\"#Распредление-размера-гранул\" data-toc-modified-id=\"Распредление-размера-гранул-2.2\"><span class=\"toc-item-num\">2.2&nbsp;&nbsp;</span>Распредление размера гранул</a></span></li><li><span><a href=\"#Суммарная-концентрация-всех-веществ-на-разных-стадиях\" data-toc-modified-id=\"Суммарная-концентрация-всех-веществ-на-разных-стадиях-2.3\"><span class=\"toc-item-num\">2.3&nbsp;&nbsp;</span>Суммарная концентрация всех веществ на разных стадиях</a></span></li></ul></li><li><span><a href=\"#Модель\" data-toc-modified-id=\"Модель-3\"><span class=\"toc-item-num\">3&nbsp;&nbsp;</span>Модель</a></span><ul class=\"toc-item\"><li><span><a href=\"#sMAPE\" data-toc-modified-id=\"sMAPE-3.1\"><span class=\"toc-item-num\">3.1&nbsp;&nbsp;</span>sMAPE</a></span></li><li><span><a href=\"#Подборка-моделей\" data-toc-modified-id=\"Подборка-моделей-3.2\"><span class=\"toc-item-num\">3.2&nbsp;&nbsp;</span>Подборка моделей</a></span></li><li><span><a href=\"#Проверка-выбранной-модели\" data-toc-modified-id=\"Проверка-выбранной-модели-3.3\"><span class=\"toc-item-num\">3.3&nbsp;&nbsp;</span>Проверка выбранной модели</a></span></li></ul></li><li><span><a href=\"#Вывод\" data-toc-modified-id=\"Вывод-4\"><span class=\"toc-item-num\">4&nbsp;&nbsp;</span>Вывод</a></span></li><li><span><a href=\"#Чек-лист-готовности-проекта\" data-toc-modified-id=\"Чек-лист-готовности-проекта-5\"><span class=\"toc-item-num\">5&nbsp;&nbsp;</span>Чек-лист готовности проекта</a></span></li></ul></div>"
   ]
  },
  {
   "cell_type": "markdown",
   "metadata": {},
   "source": [
    "# Восстановление золота из руды"
   ]
  },
  {
   "cell_type": "markdown",
   "metadata": {},
   "source": [
    "Подготовьте прототип модели машинного обучения для «Цифры». Компания разрабатывает решения для эффективной работы промышленных предприятий.\n",
    "\n",
    "Модель должна предсказать коэффициент восстановления золота из золотосодержащей руды. Используйте данные с параметрами добычи и очистки. \n",
    "\n",
    "Модель поможет оптимизировать производство, чтобы не запускать предприятие с убыточными характеристиками.\n",
    "\n",
    "Вам нужно:\n",
    "\n",
    "1. Подготовить данные;\n",
    "2. Провести исследовательский анализ данных;\n",
    "3. Построить и обучить модель.\n",
    "\n",
    "Чтобы выполнить проект, обращайтесь к библиотекам *pandas*, *matplotlib* и *sklearn.* Вам поможет их документация."
   ]
  },
  {
   "cell_type": "markdown",
   "metadata": {},
   "source": [
    "Технологический процесс:\n",
    "\n",
    "    Rougher feed — исходное сырье\n",
    "    Rougher additions (или reagent additions) — флотационные реагенты: Xanthate, Sulphate, Depressant      \n",
    "        Xanthate **— ксантогенат (промотер, или активатор флотации);\n",
    "        Sulphate — сульфат (на данном производстве сульфид натрия);\n",
    "        Depressant — депрессант (силикат натрия).\n",
    "    Rougher process (англ. «грубый процесс») — флотация\n",
    "    Rougher tails — отвальные хвосты\n",
    "    Float banks — флотационная установка\n",
    "    Cleaner process — очистка\n",
    "    Rougher Au — черновой концентрат золота\n",
    "    Final Au — финальный концентрат золота\n",
    "    \n",
    "Параметры этапов\n",
    "\n",
    "    air amount — объём воздуха\n",
    "    fluid levels — уровень жидкости\n",
    "    feed size — размер гранул сырья\n",
    "    feed rate — скорость подачи\n",
    "    \n",
    "Возможные значения этапа:\n",
    "\n",
    "    rougher — флотация\n",
    "    primary_cleaner — первичная очистка\n",
    "    secondary_cleaner — вторичная очистка\n",
    "    final — финальные характеристики\n",
    "\n",
    "Возможные значения для типа параметра:\n",
    "\n",
    "    input — параметры сырья\n",
    "    output — параметры продукта\n",
    "    state — параметры, характеризующие текущее состояние этапа\n",
    "    calculation — расчётные характеристики"
   ]
  },
  {
   "cell_type": "markdown",
   "metadata": {},
   "source": [
    "## Подготовка данных"
   ]
  },
  {
   "cell_type": "code",
   "execution_count": 140,
   "metadata": {},
   "outputs": [],
   "source": [
    "import matplotlib.pyplot as plt\n",
    "import numpy as np\n",
    "import pandas as pd"
   ]
  },
  {
   "cell_type": "code",
   "execution_count": 141,
   "metadata": {},
   "outputs": [],
   "source": [
    "from sklearn.ensemble import RandomForestRegressor\n",
    "from sklearn.metrics import accuracy_score, roc_auc_score, f1_score, recall_score, mean_absolute_error, make_scorer\n",
    "from sklearn.model_selection import train_test_split, cross_val_score, GridSearchCV\n",
    "from sklearn.linear_model import LinearRegression\n",
    "from sklearn.preprocessing import StandardScaler\n",
    "from sklearn.tree import DecisionTreeRegressor\n",
    "from sklearn.dummy import DummyRegressor"
   ]
  },
  {
   "cell_type": "code",
   "execution_count": 142,
   "metadata": {},
   "outputs": [],
   "source": [
    "    df_train = pd.read_csv('/datasets/gold_recovery_train_new.csv')\n",
    "    df_test = pd.read_csv('/datasets/gold_recovery_test_new.csv')\n",
    "    df_full = pd.read_csv('/datasets/gold_recovery_full_new.csv')\n",
   ]
  },
  {
   "cell_type": "markdown",
   "metadata": {},
   "source": [
    "### Изучение данных и небольшая предобработка"
   ]
  },
  {
   "cell_type": "code",
   "execution_count": 143,
   "metadata": {
    "scrolled": true
   },
   "outputs": [
    {
     "name": "stdout",
     "output_type": "stream",
     "text": [
      "<class 'pandas.core.frame.DataFrame'>\n",
      "RangeIndex: 14149 entries, 0 to 14148\n",
      "Data columns (total 87 columns):\n",
      " #   Column                                              Non-Null Count  Dtype  \n",
      "---  ------                                              --------------  -----  \n",
      " 0   date                                                14149 non-null  object \n",
      " 1   final.output.concentrate_ag                         14148 non-null  float64\n",
      " 2   final.output.concentrate_pb                         14148 non-null  float64\n",
      " 3   final.output.concentrate_sol                        13938 non-null  float64\n",
      " 4   final.output.concentrate_au                         14149 non-null  float64\n",
      " 5   final.output.recovery                               14149 non-null  float64\n",
      " 6   final.output.tail_ag                                14149 non-null  float64\n",
      " 7   final.output.tail_pb                                14049 non-null  float64\n",
      " 8   final.output.tail_sol                               14144 non-null  float64\n",
      " 9   final.output.tail_au                                14149 non-null  float64\n",
      " 10  primary_cleaner.input.sulfate                       14129 non-null  float64\n",
      " 11  primary_cleaner.input.depressant                    14117 non-null  float64\n",
      " 12  primary_cleaner.input.feed_size                     14149 non-null  float64\n",
      " 13  primary_cleaner.input.xanthate                      14049 non-null  float64\n",
      " 14  primary_cleaner.output.concentrate_ag               14149 non-null  float64\n",
      " 15  primary_cleaner.output.concentrate_pb               14063 non-null  float64\n",
      " 16  primary_cleaner.output.concentrate_sol              13863 non-null  float64\n",
      " 17  primary_cleaner.output.concentrate_au               14149 non-null  float64\n",
      " 18  primary_cleaner.output.tail_ag                      14148 non-null  float64\n",
      " 19  primary_cleaner.output.tail_pb                      14134 non-null  float64\n",
      " 20  primary_cleaner.output.tail_sol                     14103 non-null  float64\n",
      " 21  primary_cleaner.output.tail_au                      14149 non-null  float64\n",
      " 22  primary_cleaner.state.floatbank8_a_air              14145 non-null  float64\n",
      " 23  primary_cleaner.state.floatbank8_a_level            14148 non-null  float64\n",
      " 24  primary_cleaner.state.floatbank8_b_air              14145 non-null  float64\n",
      " 25  primary_cleaner.state.floatbank8_b_level            14148 non-null  float64\n",
      " 26  primary_cleaner.state.floatbank8_c_air              14147 non-null  float64\n",
      " 27  primary_cleaner.state.floatbank8_c_level            14148 non-null  float64\n",
      " 28  primary_cleaner.state.floatbank8_d_air              14146 non-null  float64\n",
      " 29  primary_cleaner.state.floatbank8_d_level            14148 non-null  float64\n",
      " 30  rougher.calculation.sulfate_to_au_concentrate       14148 non-null  float64\n",
      " 31  rougher.calculation.floatbank10_sulfate_to_au_feed  14148 non-null  float64\n",
      " 32  rougher.calculation.floatbank11_sulfate_to_au_feed  14148 non-null  float64\n",
      " 33  rougher.calculation.au_pb_ratio                     14149 non-null  float64\n",
      " 34  rougher.input.feed_ag                               14149 non-null  float64\n",
      " 35  rougher.input.feed_pb                               14049 non-null  float64\n",
      " 36  rougher.input.feed_rate                             14141 non-null  float64\n",
      " 37  rougher.input.feed_size                             14005 non-null  float64\n",
      " 38  rougher.input.feed_sol                              14071 non-null  float64\n",
      " 39  rougher.input.feed_au                               14149 non-null  float64\n",
      " 40  rougher.input.floatbank10_sulfate                   14120 non-null  float64\n",
      " 41  rougher.input.floatbank10_xanthate                  14141 non-null  float64\n",
      " 42  rougher.input.floatbank11_sulfate                   14113 non-null  float64\n",
      " 43  rougher.input.floatbank11_xanthate                  13721 non-null  float64\n",
      " 44  rougher.output.concentrate_ag                       14149 non-null  float64\n",
      " 45  rougher.output.concentrate_pb                       14149 non-null  float64\n",
      " 46  rougher.output.concentrate_sol                      14127 non-null  float64\n",
      " 47  rougher.output.concentrate_au                       14149 non-null  float64\n",
      " 48  rougher.output.recovery                             14149 non-null  float64\n",
      " 49  rougher.output.tail_ag                              14148 non-null  float64\n",
      " 50  rougher.output.tail_pb                              14149 non-null  float64\n",
      " 51  rougher.output.tail_sol                             14149 non-null  float64\n",
      " 52  rougher.output.tail_au                              14149 non-null  float64\n",
      " 53  rougher.state.floatbank10_a_air                     14148 non-null  float64\n",
      " 54  rougher.state.floatbank10_a_level                   14148 non-null  float64\n",
      " 55  rougher.state.floatbank10_b_air                     14148 non-null  float64\n",
      " 56  rougher.state.floatbank10_b_level                   14148 non-null  float64\n",
      " 57  rougher.state.floatbank10_c_air                     14148 non-null  float64\n",
      " 58  rougher.state.floatbank10_c_level                   14148 non-null  float64\n",
      " 59  rougher.state.floatbank10_d_air                     14149 non-null  float64\n",
      " 60  rougher.state.floatbank10_d_level                   14149 non-null  float64\n",
      " 61  rougher.state.floatbank10_e_air                     13713 non-null  float64\n",
      " 62  rougher.state.floatbank10_e_level                   14149 non-null  float64\n",
      " 63  rougher.state.floatbank10_f_air                     14149 non-null  float64\n",
      " 64  rougher.state.floatbank10_f_level                   14149 non-null  float64\n",
      " 65  secondary_cleaner.output.tail_ag                    14147 non-null  float64\n",
      " 66  secondary_cleaner.output.tail_pb                    14139 non-null  float64\n",
      " 67  secondary_cleaner.output.tail_sol                   12544 non-null  float64\n",
      " 68  secondary_cleaner.output.tail_au                    14149 non-null  float64\n",
      " 69  secondary_cleaner.state.floatbank2_a_air            13932 non-null  float64\n",
      " 70  secondary_cleaner.state.floatbank2_a_level          14148 non-null  float64\n",
      " 71  secondary_cleaner.state.floatbank2_b_air            14128 non-null  float64\n",
      " 72  secondary_cleaner.state.floatbank2_b_level          14148 non-null  float64\n",
      " 73  secondary_cleaner.state.floatbank3_a_air            14145 non-null  float64\n",
      " 74  secondary_cleaner.state.floatbank3_a_level          14148 non-null  float64\n",
      " 75  secondary_cleaner.state.floatbank3_b_air            14148 non-null  float64\n",
      " 76  secondary_cleaner.state.floatbank3_b_level          14148 non-null  float64\n",
      " 77  secondary_cleaner.state.floatbank4_a_air            14143 non-null  float64\n",
      " 78  secondary_cleaner.state.floatbank4_a_level          14148 non-null  float64\n",
      " 79  secondary_cleaner.state.floatbank4_b_air            14148 non-null  float64\n",
      " 80  secondary_cleaner.state.floatbank4_b_level          14148 non-null  float64\n",
      " 81  secondary_cleaner.state.floatbank5_a_air            14148 non-null  float64\n",
      " 82  secondary_cleaner.state.floatbank5_a_level          14148 non-null  float64\n",
      " 83  secondary_cleaner.state.floatbank5_b_air            14148 non-null  float64\n",
      " 84  secondary_cleaner.state.floatbank5_b_level          14148 non-null  float64\n",
      " 85  secondary_cleaner.state.floatbank6_a_air            14147 non-null  float64\n",
      " 86  secondary_cleaner.state.floatbank6_a_level          14148 non-null  float64\n",
      "dtypes: float64(86), object(1)\n",
      "memory usage: 9.4+ MB\n"
     ]
    }
   ],
   "source": [
    "df_train.info()"
   ]
  },
  {
   "cell_type": "code",
   "execution_count": 144,
   "metadata": {},
   "outputs": [
    {
     "data": {
      "text/html": [
       "<div>\n",
       "<style scoped>\n",
       "    .dataframe tbody tr th:only-of-type {\n",
       "        vertical-align: middle;\n",
       "    }\n",
       "\n",
       "    .dataframe tbody tr th {\n",
       "        vertical-align: top;\n",
       "    }\n",
       "\n",
       "    .dataframe thead th {\n",
       "        text-align: right;\n",
       "    }\n",
       "</style>\n",
       "<table border=\"1\" class=\"dataframe\">\n",
       "  <thead>\n",
       "    <tr style=\"text-align: right;\">\n",
       "      <th></th>\n",
       "      <th>date</th>\n",
       "      <th>final.output.concentrate_ag</th>\n",
       "      <th>final.output.concentrate_pb</th>\n",
       "      <th>final.output.concentrate_sol</th>\n",
       "      <th>final.output.concentrate_au</th>\n",
       "      <th>final.output.recovery</th>\n",
       "      <th>final.output.tail_ag</th>\n",
       "      <th>final.output.tail_pb</th>\n",
       "      <th>final.output.tail_sol</th>\n",
       "      <th>final.output.tail_au</th>\n",
       "      <th>...</th>\n",
       "      <th>secondary_cleaner.state.floatbank4_a_air</th>\n",
       "      <th>secondary_cleaner.state.floatbank4_a_level</th>\n",
       "      <th>secondary_cleaner.state.floatbank4_b_air</th>\n",
       "      <th>secondary_cleaner.state.floatbank4_b_level</th>\n",
       "      <th>secondary_cleaner.state.floatbank5_a_air</th>\n",
       "      <th>secondary_cleaner.state.floatbank5_a_level</th>\n",
       "      <th>secondary_cleaner.state.floatbank5_b_air</th>\n",
       "      <th>secondary_cleaner.state.floatbank5_b_level</th>\n",
       "      <th>secondary_cleaner.state.floatbank6_a_air</th>\n",
       "      <th>secondary_cleaner.state.floatbank6_a_level</th>\n",
       "    </tr>\n",
       "  </thead>\n",
       "  <tbody>\n",
       "    <tr>\n",
       "      <th>0</th>\n",
       "      <td>2016-01-15 00:00:00</td>\n",
       "      <td>6.055403</td>\n",
       "      <td>9.889648</td>\n",
       "      <td>5.507324</td>\n",
       "      <td>42.192020</td>\n",
       "      <td>70.541216</td>\n",
       "      <td>10.411962</td>\n",
       "      <td>0.895447</td>\n",
       "      <td>16.904297</td>\n",
       "      <td>2.143149</td>\n",
       "      <td>...</td>\n",
       "      <td>14.016835</td>\n",
       "      <td>-502.488007</td>\n",
       "      <td>12.099931</td>\n",
       "      <td>-504.715942</td>\n",
       "      <td>9.925633</td>\n",
       "      <td>-498.310211</td>\n",
       "      <td>8.079666</td>\n",
       "      <td>-500.470978</td>\n",
       "      <td>14.151341</td>\n",
       "      <td>-605.841980</td>\n",
       "    </tr>\n",
       "    <tr>\n",
       "      <th>1</th>\n",
       "      <td>2016-01-15 01:00:00</td>\n",
       "      <td>6.029369</td>\n",
       "      <td>9.968944</td>\n",
       "      <td>5.257781</td>\n",
       "      <td>42.701629</td>\n",
       "      <td>69.266198</td>\n",
       "      <td>10.462676</td>\n",
       "      <td>0.927452</td>\n",
       "      <td>16.634514</td>\n",
       "      <td>2.224930</td>\n",
       "      <td>...</td>\n",
       "      <td>13.992281</td>\n",
       "      <td>-505.503262</td>\n",
       "      <td>11.950531</td>\n",
       "      <td>-501.331529</td>\n",
       "      <td>10.039245</td>\n",
       "      <td>-500.169983</td>\n",
       "      <td>7.984757</td>\n",
       "      <td>-500.582168</td>\n",
       "      <td>13.998353</td>\n",
       "      <td>-599.787184</td>\n",
       "    </tr>\n",
       "    <tr>\n",
       "      <th>2</th>\n",
       "      <td>2016-01-15 02:00:00</td>\n",
       "      <td>6.055926</td>\n",
       "      <td>10.213995</td>\n",
       "      <td>5.383759</td>\n",
       "      <td>42.657501</td>\n",
       "      <td>68.116445</td>\n",
       "      <td>10.507046</td>\n",
       "      <td>0.953716</td>\n",
       "      <td>16.208849</td>\n",
       "      <td>2.257889</td>\n",
       "      <td>...</td>\n",
       "      <td>14.015015</td>\n",
       "      <td>-502.520901</td>\n",
       "      <td>11.912783</td>\n",
       "      <td>-501.133383</td>\n",
       "      <td>10.070913</td>\n",
       "      <td>-500.129135</td>\n",
       "      <td>8.013877</td>\n",
       "      <td>-500.517572</td>\n",
       "      <td>14.028663</td>\n",
       "      <td>-601.427363</td>\n",
       "    </tr>\n",
       "    <tr>\n",
       "      <th>3</th>\n",
       "      <td>2016-01-15 03:00:00</td>\n",
       "      <td>6.047977</td>\n",
       "      <td>9.977019</td>\n",
       "      <td>4.858634</td>\n",
       "      <td>42.689819</td>\n",
       "      <td>68.347543</td>\n",
       "      <td>10.422762</td>\n",
       "      <td>0.883763</td>\n",
       "      <td>16.532835</td>\n",
       "      <td>2.146849</td>\n",
       "      <td>...</td>\n",
       "      <td>14.036510</td>\n",
       "      <td>-500.857308</td>\n",
       "      <td>11.999550</td>\n",
       "      <td>-501.193686</td>\n",
       "      <td>9.970366</td>\n",
       "      <td>-499.201640</td>\n",
       "      <td>7.977324</td>\n",
       "      <td>-500.255908</td>\n",
       "      <td>14.005551</td>\n",
       "      <td>-599.996129</td>\n",
       "    </tr>\n",
       "    <tr>\n",
       "      <th>4</th>\n",
       "      <td>2016-01-15 04:00:00</td>\n",
       "      <td>6.148599</td>\n",
       "      <td>10.142511</td>\n",
       "      <td>4.939416</td>\n",
       "      <td>42.774141</td>\n",
       "      <td>66.927016</td>\n",
       "      <td>10.360302</td>\n",
       "      <td>0.792826</td>\n",
       "      <td>16.525686</td>\n",
       "      <td>2.055292</td>\n",
       "      <td>...</td>\n",
       "      <td>14.027298</td>\n",
       "      <td>-499.838632</td>\n",
       "      <td>11.953070</td>\n",
       "      <td>-501.053894</td>\n",
       "      <td>9.925709</td>\n",
       "      <td>-501.686727</td>\n",
       "      <td>7.894242</td>\n",
       "      <td>-500.356035</td>\n",
       "      <td>13.996647</td>\n",
       "      <td>-601.496691</td>\n",
       "    </tr>\n",
       "  </tbody>\n",
       "</table>\n",
       "<p>5 rows × 87 columns</p>\n",
       "</div>"
      ],
      "text/plain": [
       "                  date  final.output.concentrate_ag  \\\n",
       "0  2016-01-15 00:00:00                     6.055403   \n",
       "1  2016-01-15 01:00:00                     6.029369   \n",
       "2  2016-01-15 02:00:00                     6.055926   \n",
       "3  2016-01-15 03:00:00                     6.047977   \n",
       "4  2016-01-15 04:00:00                     6.148599   \n",
       "\n",
       "   final.output.concentrate_pb  final.output.concentrate_sol  \\\n",
       "0                     9.889648                      5.507324   \n",
       "1                     9.968944                      5.257781   \n",
       "2                    10.213995                      5.383759   \n",
       "3                     9.977019                      4.858634   \n",
       "4                    10.142511                      4.939416   \n",
       "\n",
       "   final.output.concentrate_au  final.output.recovery  final.output.tail_ag  \\\n",
       "0                    42.192020              70.541216             10.411962   \n",
       "1                    42.701629              69.266198             10.462676   \n",
       "2                    42.657501              68.116445             10.507046   \n",
       "3                    42.689819              68.347543             10.422762   \n",
       "4                    42.774141              66.927016             10.360302   \n",
       "\n",
       "   final.output.tail_pb  final.output.tail_sol  final.output.tail_au  ...  \\\n",
       "0              0.895447              16.904297              2.143149  ...   \n",
       "1              0.927452              16.634514              2.224930  ...   \n",
       "2              0.953716              16.208849              2.257889  ...   \n",
       "3              0.883763              16.532835              2.146849  ...   \n",
       "4              0.792826              16.525686              2.055292  ...   \n",
       "\n",
       "   secondary_cleaner.state.floatbank4_a_air  \\\n",
       "0                                 14.016835   \n",
       "1                                 13.992281   \n",
       "2                                 14.015015   \n",
       "3                                 14.036510   \n",
       "4                                 14.027298   \n",
       "\n",
       "   secondary_cleaner.state.floatbank4_a_level  \\\n",
       "0                                 -502.488007   \n",
       "1                                 -505.503262   \n",
       "2                                 -502.520901   \n",
       "3                                 -500.857308   \n",
       "4                                 -499.838632   \n",
       "\n",
       "   secondary_cleaner.state.floatbank4_b_air  \\\n",
       "0                                 12.099931   \n",
       "1                                 11.950531   \n",
       "2                                 11.912783   \n",
       "3                                 11.999550   \n",
       "4                                 11.953070   \n",
       "\n",
       "   secondary_cleaner.state.floatbank4_b_level  \\\n",
       "0                                 -504.715942   \n",
       "1                                 -501.331529   \n",
       "2                                 -501.133383   \n",
       "3                                 -501.193686   \n",
       "4                                 -501.053894   \n",
       "\n",
       "   secondary_cleaner.state.floatbank5_a_air  \\\n",
       "0                                  9.925633   \n",
       "1                                 10.039245   \n",
       "2                                 10.070913   \n",
       "3                                  9.970366   \n",
       "4                                  9.925709   \n",
       "\n",
       "   secondary_cleaner.state.floatbank5_a_level  \\\n",
       "0                                 -498.310211   \n",
       "1                                 -500.169983   \n",
       "2                                 -500.129135   \n",
       "3                                 -499.201640   \n",
       "4                                 -501.686727   \n",
       "\n",
       "   secondary_cleaner.state.floatbank5_b_air  \\\n",
       "0                                  8.079666   \n",
       "1                                  7.984757   \n",
       "2                                  8.013877   \n",
       "3                                  7.977324   \n",
       "4                                  7.894242   \n",
       "\n",
       "   secondary_cleaner.state.floatbank5_b_level  \\\n",
       "0                                 -500.470978   \n",
       "1                                 -500.582168   \n",
       "2                                 -500.517572   \n",
       "3                                 -500.255908   \n",
       "4                                 -500.356035   \n",
       "\n",
       "   secondary_cleaner.state.floatbank6_a_air  \\\n",
       "0                                 14.151341   \n",
       "1                                 13.998353   \n",
       "2                                 14.028663   \n",
       "3                                 14.005551   \n",
       "4                                 13.996647   \n",
       "\n",
       "   secondary_cleaner.state.floatbank6_a_level  \n",
       "0                                 -605.841980  \n",
       "1                                 -599.787184  \n",
       "2                                 -601.427363  \n",
       "3                                 -599.996129  \n",
       "4                                 -601.496691  \n",
       "\n",
       "[5 rows x 87 columns]"
      ]
     },
     "execution_count": 144,
     "metadata": {},
     "output_type": "execute_result"
    }
   ],
   "source": [
    "df_train.head()"
   ]
  },
  {
   "cell_type": "code",
   "execution_count": 145,
   "metadata": {
    "scrolled": true
   },
   "outputs": [
    {
     "data": {
      "text/plain": [
       "date                                            0\n",
       "final.output.concentrate_ag                     1\n",
       "final.output.concentrate_pb                     1\n",
       "final.output.concentrate_sol                  211\n",
       "final.output.concentrate_au                     0\n",
       "                                             ... \n",
       "secondary_cleaner.state.floatbank5_a_level      1\n",
       "secondary_cleaner.state.floatbank5_b_air        1\n",
       "secondary_cleaner.state.floatbank5_b_level      1\n",
       "secondary_cleaner.state.floatbank6_a_air        2\n",
       "secondary_cleaner.state.floatbank6_a_level      1\n",
       "Length: 87, dtype: int64"
      ]
     },
     "execution_count": 145,
     "metadata": {},
     "output_type": "execute_result"
    }
   ],
   "source": [
    "df_train.isna().sum()"
   ]
  },
  {
   "cell_type": "markdown",
   "metadata": {},
   "source": [
    "Пропуски заполним значениями, взятыми из соседней ячейки"
   ]
  },
  {
   "cell_type": "code",
   "execution_count": 146,
   "metadata": {},
   "outputs": [],
   "source": [
    "df_train = df_train.ffill(axis = 0)"
   ]
  },
  {
   "cell_type": "code",
   "execution_count": 147,
   "metadata": {},
   "outputs": [
    {
     "data": {
      "text/plain": [
       "date                                          0\n",
       "final.output.concentrate_ag                   0\n",
       "final.output.concentrate_pb                   0\n",
       "final.output.concentrate_sol                  0\n",
       "final.output.concentrate_au                   0\n",
       "                                             ..\n",
       "secondary_cleaner.state.floatbank5_a_level    0\n",
       "secondary_cleaner.state.floatbank5_b_air      0\n",
       "secondary_cleaner.state.floatbank5_b_level    0\n",
       "secondary_cleaner.state.floatbank6_a_air      0\n",
       "secondary_cleaner.state.floatbank6_a_level    0\n",
       "Length: 87, dtype: int64"
      ]
     },
     "execution_count": 147,
     "metadata": {},
     "output_type": "execute_result"
    }
   ],
   "source": [
    "df_train.isna().sum()"
   ]
  },
  {
   "cell_type": "code",
   "execution_count": 148,
   "metadata": {},
   "outputs": [
    {
     "data": {
      "text/plain": [
       "0"
      ]
     },
     "execution_count": 148,
     "metadata": {},
     "output_type": "execute_result"
    }
   ],
   "source": [
    "df_train.duplicated().sum()"
   ]
  },
  {
   "cell_type": "code",
   "execution_count": 149,
   "metadata": {},
   "outputs": [
    {
     "name": "stdout",
     "output_type": "stream",
     "text": [
      "Размер обучающей выборки: (14149, 87)\n"
     ]
    }
   ],
   "source": [
    "print('Размер обучающей выборки:',(df_train.shape))"
   ]
  },
  {
   "cell_type": "code",
   "execution_count": 150,
   "metadata": {
    "scrolled": true
   },
   "outputs": [
    {
     "name": "stdout",
     "output_type": "stream",
     "text": [
      "<class 'pandas.core.frame.DataFrame'>\n",
      "RangeIndex: 5290 entries, 0 to 5289\n",
      "Data columns (total 53 columns):\n",
      " #   Column                                      Non-Null Count  Dtype  \n",
      "---  ------                                      --------------  -----  \n",
      " 0   date                                        5290 non-null   object \n",
      " 1   primary_cleaner.input.sulfate               5286 non-null   float64\n",
      " 2   primary_cleaner.input.depressant            5285 non-null   float64\n",
      " 3   primary_cleaner.input.feed_size             5290 non-null   float64\n",
      " 4   primary_cleaner.input.xanthate              5286 non-null   float64\n",
      " 5   primary_cleaner.state.floatbank8_a_air      5290 non-null   float64\n",
      " 6   primary_cleaner.state.floatbank8_a_level    5290 non-null   float64\n",
      " 7   primary_cleaner.state.floatbank8_b_air      5290 non-null   float64\n",
      " 8   primary_cleaner.state.floatbank8_b_level    5290 non-null   float64\n",
      " 9   primary_cleaner.state.floatbank8_c_air      5290 non-null   float64\n",
      " 10  primary_cleaner.state.floatbank8_c_level    5290 non-null   float64\n",
      " 11  primary_cleaner.state.floatbank8_d_air      5290 non-null   float64\n",
      " 12  primary_cleaner.state.floatbank8_d_level    5290 non-null   float64\n",
      " 13  rougher.input.feed_ag                       5290 non-null   float64\n",
      " 14  rougher.input.feed_pb                       5290 non-null   float64\n",
      " 15  rougher.input.feed_rate                     5287 non-null   float64\n",
      " 16  rougher.input.feed_size                     5289 non-null   float64\n",
      " 17  rougher.input.feed_sol                      5269 non-null   float64\n",
      " 18  rougher.input.feed_au                       5290 non-null   float64\n",
      " 19  rougher.input.floatbank10_sulfate           5285 non-null   float64\n",
      " 20  rougher.input.floatbank10_xanthate          5290 non-null   float64\n",
      " 21  rougher.input.floatbank11_sulfate           5282 non-null   float64\n",
      " 22  rougher.input.floatbank11_xanthate          5265 non-null   float64\n",
      " 23  rougher.state.floatbank10_a_air             5290 non-null   float64\n",
      " 24  rougher.state.floatbank10_a_level           5290 non-null   float64\n",
      " 25  rougher.state.floatbank10_b_air             5290 non-null   float64\n",
      " 26  rougher.state.floatbank10_b_level           5290 non-null   float64\n",
      " 27  rougher.state.floatbank10_c_air             5290 non-null   float64\n",
      " 28  rougher.state.floatbank10_c_level           5290 non-null   float64\n",
      " 29  rougher.state.floatbank10_d_air             5290 non-null   float64\n",
      " 30  rougher.state.floatbank10_d_level           5290 non-null   float64\n",
      " 31  rougher.state.floatbank10_e_air             5290 non-null   float64\n",
      " 32  rougher.state.floatbank10_e_level           5290 non-null   float64\n",
      " 33  rougher.state.floatbank10_f_air             5290 non-null   float64\n",
      " 34  rougher.state.floatbank10_f_level           5290 non-null   float64\n",
      " 35  secondary_cleaner.state.floatbank2_a_air    5287 non-null   float64\n",
      " 36  secondary_cleaner.state.floatbank2_a_level  5290 non-null   float64\n",
      " 37  secondary_cleaner.state.floatbank2_b_air    5288 non-null   float64\n",
      " 38  secondary_cleaner.state.floatbank2_b_level  5290 non-null   float64\n",
      " 39  secondary_cleaner.state.floatbank3_a_air    5281 non-null   float64\n",
      " 40  secondary_cleaner.state.floatbank3_a_level  5290 non-null   float64\n",
      " 41  secondary_cleaner.state.floatbank3_b_air    5290 non-null   float64\n",
      " 42  secondary_cleaner.state.floatbank3_b_level  5290 non-null   float64\n",
      " 43  secondary_cleaner.state.floatbank4_a_air    5290 non-null   float64\n",
      " 44  secondary_cleaner.state.floatbank4_a_level  5290 non-null   float64\n",
      " 45  secondary_cleaner.state.floatbank4_b_air    5290 non-null   float64\n",
      " 46  secondary_cleaner.state.floatbank4_b_level  5290 non-null   float64\n",
      " 47  secondary_cleaner.state.floatbank5_a_air    5290 non-null   float64\n",
      " 48  secondary_cleaner.state.floatbank5_a_level  5290 non-null   float64\n",
      " 49  secondary_cleaner.state.floatbank5_b_air    5290 non-null   float64\n",
      " 50  secondary_cleaner.state.floatbank5_b_level  5290 non-null   float64\n",
      " 51  secondary_cleaner.state.floatbank6_a_air    5290 non-null   float64\n",
      " 52  secondary_cleaner.state.floatbank6_a_level  5290 non-null   float64\n",
      "dtypes: float64(52), object(1)\n",
      "memory usage: 2.1+ MB\n"
     ]
    }
   ],
   "source": [
    "df_test.info()"
   ]
  },
  {
   "cell_type": "code",
   "execution_count": 151,
   "metadata": {
    "scrolled": true
   },
   "outputs": [
    {
     "data": {
      "text/html": [
       "<div>\n",
       "<style scoped>\n",
       "    .dataframe tbody tr th:only-of-type {\n",
       "        vertical-align: middle;\n",
       "    }\n",
       "\n",
       "    .dataframe tbody tr th {\n",
       "        vertical-align: top;\n",
       "    }\n",
       "\n",
       "    .dataframe thead th {\n",
       "        text-align: right;\n",
       "    }\n",
       "</style>\n",
       "<table border=\"1\" class=\"dataframe\">\n",
       "  <thead>\n",
       "    <tr style=\"text-align: right;\">\n",
       "      <th></th>\n",
       "      <th>date</th>\n",
       "      <th>primary_cleaner.input.sulfate</th>\n",
       "      <th>primary_cleaner.input.depressant</th>\n",
       "      <th>primary_cleaner.input.feed_size</th>\n",
       "      <th>primary_cleaner.input.xanthate</th>\n",
       "      <th>primary_cleaner.state.floatbank8_a_air</th>\n",
       "      <th>primary_cleaner.state.floatbank8_a_level</th>\n",
       "      <th>primary_cleaner.state.floatbank8_b_air</th>\n",
       "      <th>primary_cleaner.state.floatbank8_b_level</th>\n",
       "      <th>primary_cleaner.state.floatbank8_c_air</th>\n",
       "      <th>...</th>\n",
       "      <th>secondary_cleaner.state.floatbank4_a_air</th>\n",
       "      <th>secondary_cleaner.state.floatbank4_a_level</th>\n",
       "      <th>secondary_cleaner.state.floatbank4_b_air</th>\n",
       "      <th>secondary_cleaner.state.floatbank4_b_level</th>\n",
       "      <th>secondary_cleaner.state.floatbank5_a_air</th>\n",
       "      <th>secondary_cleaner.state.floatbank5_a_level</th>\n",
       "      <th>secondary_cleaner.state.floatbank5_b_air</th>\n",
       "      <th>secondary_cleaner.state.floatbank5_b_level</th>\n",
       "      <th>secondary_cleaner.state.floatbank6_a_air</th>\n",
       "      <th>secondary_cleaner.state.floatbank6_a_level</th>\n",
       "    </tr>\n",
       "  </thead>\n",
       "  <tbody>\n",
       "    <tr>\n",
       "      <th>0</th>\n",
       "      <td>2016-09-01 00:59:59</td>\n",
       "      <td>210.800909</td>\n",
       "      <td>14.993118</td>\n",
       "      <td>8.080000</td>\n",
       "      <td>1.005021</td>\n",
       "      <td>1398.981301</td>\n",
       "      <td>-500.225577</td>\n",
       "      <td>1399.144926</td>\n",
       "      <td>-499.919735</td>\n",
       "      <td>1400.102998</td>\n",
       "      <td>...</td>\n",
       "      <td>12.023554</td>\n",
       "      <td>-497.795834</td>\n",
       "      <td>8.016656</td>\n",
       "      <td>-501.289139</td>\n",
       "      <td>7.946562</td>\n",
       "      <td>-432.317850</td>\n",
       "      <td>4.872511</td>\n",
       "      <td>-500.037437</td>\n",
       "      <td>26.705889</td>\n",
       "      <td>-499.709414</td>\n",
       "    </tr>\n",
       "    <tr>\n",
       "      <th>1</th>\n",
       "      <td>2016-09-01 01:59:59</td>\n",
       "      <td>215.392455</td>\n",
       "      <td>14.987471</td>\n",
       "      <td>8.080000</td>\n",
       "      <td>0.990469</td>\n",
       "      <td>1398.777912</td>\n",
       "      <td>-500.057435</td>\n",
       "      <td>1398.055362</td>\n",
       "      <td>-499.778182</td>\n",
       "      <td>1396.151033</td>\n",
       "      <td>...</td>\n",
       "      <td>12.058140</td>\n",
       "      <td>-498.695773</td>\n",
       "      <td>8.130979</td>\n",
       "      <td>-499.634209</td>\n",
       "      <td>7.958270</td>\n",
       "      <td>-525.839648</td>\n",
       "      <td>4.878850</td>\n",
       "      <td>-500.162375</td>\n",
       "      <td>25.019940</td>\n",
       "      <td>-499.819438</td>\n",
       "    </tr>\n",
       "    <tr>\n",
       "      <th>2</th>\n",
       "      <td>2016-09-01 02:59:59</td>\n",
       "      <td>215.259946</td>\n",
       "      <td>12.884934</td>\n",
       "      <td>7.786667</td>\n",
       "      <td>0.996043</td>\n",
       "      <td>1398.493666</td>\n",
       "      <td>-500.868360</td>\n",
       "      <td>1398.860436</td>\n",
       "      <td>-499.764529</td>\n",
       "      <td>1398.075709</td>\n",
       "      <td>...</td>\n",
       "      <td>11.962366</td>\n",
       "      <td>-498.767484</td>\n",
       "      <td>8.096893</td>\n",
       "      <td>-500.827423</td>\n",
       "      <td>8.071056</td>\n",
       "      <td>-500.801673</td>\n",
       "      <td>4.905125</td>\n",
       "      <td>-499.828510</td>\n",
       "      <td>24.994862</td>\n",
       "      <td>-500.622559</td>\n",
       "    </tr>\n",
       "    <tr>\n",
       "      <th>3</th>\n",
       "      <td>2016-09-01 03:59:59</td>\n",
       "      <td>215.336236</td>\n",
       "      <td>12.006805</td>\n",
       "      <td>7.640000</td>\n",
       "      <td>0.863514</td>\n",
       "      <td>1399.618111</td>\n",
       "      <td>-498.863574</td>\n",
       "      <td>1397.440120</td>\n",
       "      <td>-499.211024</td>\n",
       "      <td>1400.129303</td>\n",
       "      <td>...</td>\n",
       "      <td>12.033091</td>\n",
       "      <td>-498.350935</td>\n",
       "      <td>8.074946</td>\n",
       "      <td>-499.474407</td>\n",
       "      <td>7.897085</td>\n",
       "      <td>-500.868509</td>\n",
       "      <td>4.931400</td>\n",
       "      <td>-499.963623</td>\n",
       "      <td>24.948919</td>\n",
       "      <td>-498.709987</td>\n",
       "    </tr>\n",
       "    <tr>\n",
       "      <th>4</th>\n",
       "      <td>2016-09-01 04:59:59</td>\n",
       "      <td>199.099327</td>\n",
       "      <td>10.682530</td>\n",
       "      <td>7.530000</td>\n",
       "      <td>0.805575</td>\n",
       "      <td>1401.268123</td>\n",
       "      <td>-500.808305</td>\n",
       "      <td>1398.128818</td>\n",
       "      <td>-499.504543</td>\n",
       "      <td>1402.172226</td>\n",
       "      <td>...</td>\n",
       "      <td>12.025367</td>\n",
       "      <td>-500.786497</td>\n",
       "      <td>8.054678</td>\n",
       "      <td>-500.397500</td>\n",
       "      <td>8.107890</td>\n",
       "      <td>-509.526725</td>\n",
       "      <td>4.957674</td>\n",
       "      <td>-500.360026</td>\n",
       "      <td>25.003331</td>\n",
       "      <td>-500.856333</td>\n",
       "    </tr>\n",
       "  </tbody>\n",
       "</table>\n",
       "<p>5 rows × 53 columns</p>\n",
       "</div>"
      ],
      "text/plain": [
       "                  date  primary_cleaner.input.sulfate  \\\n",
       "0  2016-09-01 00:59:59                     210.800909   \n",
       "1  2016-09-01 01:59:59                     215.392455   \n",
       "2  2016-09-01 02:59:59                     215.259946   \n",
       "3  2016-09-01 03:59:59                     215.336236   \n",
       "4  2016-09-01 04:59:59                     199.099327   \n",
       "\n",
       "   primary_cleaner.input.depressant  primary_cleaner.input.feed_size  \\\n",
       "0                         14.993118                         8.080000   \n",
       "1                         14.987471                         8.080000   \n",
       "2                         12.884934                         7.786667   \n",
       "3                         12.006805                         7.640000   \n",
       "4                         10.682530                         7.530000   \n",
       "\n",
       "   primary_cleaner.input.xanthate  primary_cleaner.state.floatbank8_a_air  \\\n",
       "0                        1.005021                             1398.981301   \n",
       "1                        0.990469                             1398.777912   \n",
       "2                        0.996043                             1398.493666   \n",
       "3                        0.863514                             1399.618111   \n",
       "4                        0.805575                             1401.268123   \n",
       "\n",
       "   primary_cleaner.state.floatbank8_a_level  \\\n",
       "0                               -500.225577   \n",
       "1                               -500.057435   \n",
       "2                               -500.868360   \n",
       "3                               -498.863574   \n",
       "4                               -500.808305   \n",
       "\n",
       "   primary_cleaner.state.floatbank8_b_air  \\\n",
       "0                             1399.144926   \n",
       "1                             1398.055362   \n",
       "2                             1398.860436   \n",
       "3                             1397.440120   \n",
       "4                             1398.128818   \n",
       "\n",
       "   primary_cleaner.state.floatbank8_b_level  \\\n",
       "0                               -499.919735   \n",
       "1                               -499.778182   \n",
       "2                               -499.764529   \n",
       "3                               -499.211024   \n",
       "4                               -499.504543   \n",
       "\n",
       "   primary_cleaner.state.floatbank8_c_air  ...  \\\n",
       "0                             1400.102998  ...   \n",
       "1                             1396.151033  ...   \n",
       "2                             1398.075709  ...   \n",
       "3                             1400.129303  ...   \n",
       "4                             1402.172226  ...   \n",
       "\n",
       "   secondary_cleaner.state.floatbank4_a_air  \\\n",
       "0                                 12.023554   \n",
       "1                                 12.058140   \n",
       "2                                 11.962366   \n",
       "3                                 12.033091   \n",
       "4                                 12.025367   \n",
       "\n",
       "   secondary_cleaner.state.floatbank4_a_level  \\\n",
       "0                                 -497.795834   \n",
       "1                                 -498.695773   \n",
       "2                                 -498.767484   \n",
       "3                                 -498.350935   \n",
       "4                                 -500.786497   \n",
       "\n",
       "   secondary_cleaner.state.floatbank4_b_air  \\\n",
       "0                                  8.016656   \n",
       "1                                  8.130979   \n",
       "2                                  8.096893   \n",
       "3                                  8.074946   \n",
       "4                                  8.054678   \n",
       "\n",
       "   secondary_cleaner.state.floatbank4_b_level  \\\n",
       "0                                 -501.289139   \n",
       "1                                 -499.634209   \n",
       "2                                 -500.827423   \n",
       "3                                 -499.474407   \n",
       "4                                 -500.397500   \n",
       "\n",
       "   secondary_cleaner.state.floatbank5_a_air  \\\n",
       "0                                  7.946562   \n",
       "1                                  7.958270   \n",
       "2                                  8.071056   \n",
       "3                                  7.897085   \n",
       "4                                  8.107890   \n",
       "\n",
       "   secondary_cleaner.state.floatbank5_a_level  \\\n",
       "0                                 -432.317850   \n",
       "1                                 -525.839648   \n",
       "2                                 -500.801673   \n",
       "3                                 -500.868509   \n",
       "4                                 -509.526725   \n",
       "\n",
       "   secondary_cleaner.state.floatbank5_b_air  \\\n",
       "0                                  4.872511   \n",
       "1                                  4.878850   \n",
       "2                                  4.905125   \n",
       "3                                  4.931400   \n",
       "4                                  4.957674   \n",
       "\n",
       "   secondary_cleaner.state.floatbank5_b_level  \\\n",
       "0                                 -500.037437   \n",
       "1                                 -500.162375   \n",
       "2                                 -499.828510   \n",
       "3                                 -499.963623   \n",
       "4                                 -500.360026   \n",
       "\n",
       "   secondary_cleaner.state.floatbank6_a_air  \\\n",
       "0                                 26.705889   \n",
       "1                                 25.019940   \n",
       "2                                 24.994862   \n",
       "3                                 24.948919   \n",
       "4                                 25.003331   \n",
       "\n",
       "   secondary_cleaner.state.floatbank6_a_level  \n",
       "0                                 -499.709414  \n",
       "1                                 -499.819438  \n",
       "2                                 -500.622559  \n",
       "3                                 -498.709987  \n",
       "4                                 -500.856333  \n",
       "\n",
       "[5 rows x 53 columns]"
      ]
     },
     "execution_count": 151,
     "metadata": {},
     "output_type": "execute_result"
    }
   ],
   "source": [
    "df_test.head()"
   ]
  },
  {
   "cell_type": "code",
   "execution_count": 152,
   "metadata": {
    "scrolled": true
   },
   "outputs": [
    {
     "data": {
      "text/plain": [
       "date                                           0\n",
       "primary_cleaner.input.sulfate                  4\n",
       "primary_cleaner.input.depressant               5\n",
       "primary_cleaner.input.feed_size                0\n",
       "primary_cleaner.input.xanthate                 4\n",
       "primary_cleaner.state.floatbank8_a_air         0\n",
       "primary_cleaner.state.floatbank8_a_level       0\n",
       "primary_cleaner.state.floatbank8_b_air         0\n",
       "primary_cleaner.state.floatbank8_b_level       0\n",
       "primary_cleaner.state.floatbank8_c_air         0\n",
       "primary_cleaner.state.floatbank8_c_level       0\n",
       "primary_cleaner.state.floatbank8_d_air         0\n",
       "primary_cleaner.state.floatbank8_d_level       0\n",
       "rougher.input.feed_ag                          0\n",
       "rougher.input.feed_pb                          0\n",
       "rougher.input.feed_rate                        3\n",
       "rougher.input.feed_size                        1\n",
       "rougher.input.feed_sol                        21\n",
       "rougher.input.feed_au                          0\n",
       "rougher.input.floatbank10_sulfate              5\n",
       "rougher.input.floatbank10_xanthate             0\n",
       "rougher.input.floatbank11_sulfate              8\n",
       "rougher.input.floatbank11_xanthate            25\n",
       "rougher.state.floatbank10_a_air                0\n",
       "rougher.state.floatbank10_a_level              0\n",
       "rougher.state.floatbank10_b_air                0\n",
       "rougher.state.floatbank10_b_level              0\n",
       "rougher.state.floatbank10_c_air                0\n",
       "rougher.state.floatbank10_c_level              0\n",
       "rougher.state.floatbank10_d_air                0\n",
       "rougher.state.floatbank10_d_level              0\n",
       "rougher.state.floatbank10_e_air                0\n",
       "rougher.state.floatbank10_e_level              0\n",
       "rougher.state.floatbank10_f_air                0\n",
       "rougher.state.floatbank10_f_level              0\n",
       "secondary_cleaner.state.floatbank2_a_air       3\n",
       "secondary_cleaner.state.floatbank2_a_level     0\n",
       "secondary_cleaner.state.floatbank2_b_air       2\n",
       "secondary_cleaner.state.floatbank2_b_level     0\n",
       "secondary_cleaner.state.floatbank3_a_air       9\n",
       "secondary_cleaner.state.floatbank3_a_level     0\n",
       "secondary_cleaner.state.floatbank3_b_air       0\n",
       "secondary_cleaner.state.floatbank3_b_level     0\n",
       "secondary_cleaner.state.floatbank4_a_air       0\n",
       "secondary_cleaner.state.floatbank4_a_level     0\n",
       "secondary_cleaner.state.floatbank4_b_air       0\n",
       "secondary_cleaner.state.floatbank4_b_level     0\n",
       "secondary_cleaner.state.floatbank5_a_air       0\n",
       "secondary_cleaner.state.floatbank5_a_level     0\n",
       "secondary_cleaner.state.floatbank5_b_air       0\n",
       "secondary_cleaner.state.floatbank5_b_level     0\n",
       "secondary_cleaner.state.floatbank6_a_air       0\n",
       "secondary_cleaner.state.floatbank6_a_level     0\n",
       "dtype: int64"
      ]
     },
     "execution_count": 152,
     "metadata": {},
     "output_type": "execute_result"
    }
   ],
   "source": [
    "df_test.isna().sum()"
   ]
  },
  {
   "cell_type": "code",
   "execution_count": 153,
   "metadata": {},
   "outputs": [],
   "source": [
    "df_test = df_test.ffill(axis = 0)"
   ]
  },
  {
   "cell_type": "code",
   "execution_count": 154,
   "metadata": {
    "scrolled": true
   },
   "outputs": [
    {
     "data": {
      "text/plain": [
       "date                                          0\n",
       "primary_cleaner.input.sulfate                 0\n",
       "primary_cleaner.input.depressant              0\n",
       "primary_cleaner.input.feed_size               0\n",
       "primary_cleaner.input.xanthate                0\n",
       "primary_cleaner.state.floatbank8_a_air        0\n",
       "primary_cleaner.state.floatbank8_a_level      0\n",
       "primary_cleaner.state.floatbank8_b_air        0\n",
       "primary_cleaner.state.floatbank8_b_level      0\n",
       "primary_cleaner.state.floatbank8_c_air        0\n",
       "primary_cleaner.state.floatbank8_c_level      0\n",
       "primary_cleaner.state.floatbank8_d_air        0\n",
       "primary_cleaner.state.floatbank8_d_level      0\n",
       "rougher.input.feed_ag                         0\n",
       "rougher.input.feed_pb                         0\n",
       "rougher.input.feed_rate                       0\n",
       "rougher.input.feed_size                       0\n",
       "rougher.input.feed_sol                        0\n",
       "rougher.input.feed_au                         0\n",
       "rougher.input.floatbank10_sulfate             0\n",
       "rougher.input.floatbank10_xanthate            0\n",
       "rougher.input.floatbank11_sulfate             0\n",
       "rougher.input.floatbank11_xanthate            0\n",
       "rougher.state.floatbank10_a_air               0\n",
       "rougher.state.floatbank10_a_level             0\n",
       "rougher.state.floatbank10_b_air               0\n",
       "rougher.state.floatbank10_b_level             0\n",
       "rougher.state.floatbank10_c_air               0\n",
       "rougher.state.floatbank10_c_level             0\n",
       "rougher.state.floatbank10_d_air               0\n",
       "rougher.state.floatbank10_d_level             0\n",
       "rougher.state.floatbank10_e_air               0\n",
       "rougher.state.floatbank10_e_level             0\n",
       "rougher.state.floatbank10_f_air               0\n",
       "rougher.state.floatbank10_f_level             0\n",
       "secondary_cleaner.state.floatbank2_a_air      0\n",
       "secondary_cleaner.state.floatbank2_a_level    0\n",
       "secondary_cleaner.state.floatbank2_b_air      0\n",
       "secondary_cleaner.state.floatbank2_b_level    0\n",
       "secondary_cleaner.state.floatbank3_a_air      0\n",
       "secondary_cleaner.state.floatbank3_a_level    0\n",
       "secondary_cleaner.state.floatbank3_b_air      0\n",
       "secondary_cleaner.state.floatbank3_b_level    0\n",
       "secondary_cleaner.state.floatbank4_a_air      0\n",
       "secondary_cleaner.state.floatbank4_a_level    0\n",
       "secondary_cleaner.state.floatbank4_b_air      0\n",
       "secondary_cleaner.state.floatbank4_b_level    0\n",
       "secondary_cleaner.state.floatbank5_a_air      0\n",
       "secondary_cleaner.state.floatbank5_a_level    0\n",
       "secondary_cleaner.state.floatbank5_b_air      0\n",
       "secondary_cleaner.state.floatbank5_b_level    0\n",
       "secondary_cleaner.state.floatbank6_a_air      0\n",
       "secondary_cleaner.state.floatbank6_a_level    0\n",
       "dtype: int64"
      ]
     },
     "execution_count": 154,
     "metadata": {},
     "output_type": "execute_result"
    }
   ],
   "source": [
    "df_test.isna().sum()"
   ]
  },
  {
   "cell_type": "code",
   "execution_count": 155,
   "metadata": {},
   "outputs": [
    {
     "data": {
      "text/plain": [
       "0"
      ]
     },
     "execution_count": 155,
     "metadata": {},
     "output_type": "execute_result"
    }
   ],
   "source": [
    "df_test.duplicated().sum()"
   ]
  },
  {
   "cell_type": "code",
   "execution_count": 156,
   "metadata": {},
   "outputs": [
    {
     "name": "stdout",
     "output_type": "stream",
     "text": [
      "Размер тестовой выборки: (5290, 53)\n"
     ]
    }
   ],
   "source": [
    "print('Размер тестовой выборки:', (df_test.shape))"
   ]
  },
  {
   "cell_type": "code",
   "execution_count": 157,
   "metadata": {
    "scrolled": true
   },
   "outputs": [
    {
     "name": "stdout",
     "output_type": "stream",
     "text": [
      "<class 'pandas.core.frame.DataFrame'>\n",
      "RangeIndex: 19439 entries, 0 to 19438\n",
      "Data columns (total 87 columns):\n",
      " #   Column                                              Non-Null Count  Dtype  \n",
      "---  ------                                              --------------  -----  \n",
      " 0   date                                                19439 non-null  object \n",
      " 1   final.output.concentrate_ag                         19438 non-null  float64\n",
      " 2   final.output.concentrate_pb                         19438 non-null  float64\n",
      " 3   final.output.concentrate_sol                        19228 non-null  float64\n",
      " 4   final.output.concentrate_au                         19439 non-null  float64\n",
      " 5   final.output.recovery                               19439 non-null  float64\n",
      " 6   final.output.tail_ag                                19438 non-null  float64\n",
      " 7   final.output.tail_pb                                19338 non-null  float64\n",
      " 8   final.output.tail_sol                               19433 non-null  float64\n",
      " 9   final.output.tail_au                                19439 non-null  float64\n",
      " 10  primary_cleaner.input.sulfate                       19415 non-null  float64\n",
      " 11  primary_cleaner.input.depressant                    19402 non-null  float64\n",
      " 12  primary_cleaner.input.feed_size                     19439 non-null  float64\n",
      " 13  primary_cleaner.input.xanthate                      19335 non-null  float64\n",
      " 14  primary_cleaner.output.concentrate_ag               19439 non-null  float64\n",
      " 15  primary_cleaner.output.concentrate_pb               19323 non-null  float64\n",
      " 16  primary_cleaner.output.concentrate_sol              19069 non-null  float64\n",
      " 17  primary_cleaner.output.concentrate_au               19439 non-null  float64\n",
      " 18  primary_cleaner.output.tail_ag                      19435 non-null  float64\n",
      " 19  primary_cleaner.output.tail_pb                      19418 non-null  float64\n",
      " 20  primary_cleaner.output.tail_sol                     19377 non-null  float64\n",
      " 21  primary_cleaner.output.tail_au                      19439 non-null  float64\n",
      " 22  primary_cleaner.state.floatbank8_a_air              19435 non-null  float64\n",
      " 23  primary_cleaner.state.floatbank8_a_level            19438 non-null  float64\n",
      " 24  primary_cleaner.state.floatbank8_b_air              19435 non-null  float64\n",
      " 25  primary_cleaner.state.floatbank8_b_level            19438 non-null  float64\n",
      " 26  primary_cleaner.state.floatbank8_c_air              19437 non-null  float64\n",
      " 27  primary_cleaner.state.floatbank8_c_level            19438 non-null  float64\n",
      " 28  primary_cleaner.state.floatbank8_d_air              19436 non-null  float64\n",
      " 29  primary_cleaner.state.floatbank8_d_level            19438 non-null  float64\n",
      " 30  rougher.calculation.sulfate_to_au_concentrate       19437 non-null  float64\n",
      " 31  rougher.calculation.floatbank10_sulfate_to_au_feed  19437 non-null  float64\n",
      " 32  rougher.calculation.floatbank11_sulfate_to_au_feed  19437 non-null  float64\n",
      " 33  rougher.calculation.au_pb_ratio                     19439 non-null  float64\n",
      " 34  rougher.input.feed_ag                               19439 non-null  float64\n",
      " 35  rougher.input.feed_pb                               19339 non-null  float64\n",
      " 36  rougher.input.feed_rate                             19428 non-null  float64\n",
      " 37  rougher.input.feed_size                             19294 non-null  float64\n",
      " 38  rougher.input.feed_sol                              19340 non-null  float64\n",
      " 39  rougher.input.feed_au                               19439 non-null  float64\n",
      " 40  rougher.input.floatbank10_sulfate                   19405 non-null  float64\n",
      " 41  rougher.input.floatbank10_xanthate                  19431 non-null  float64\n",
      " 42  rougher.input.floatbank11_sulfate                   19395 non-null  float64\n",
      " 43  rougher.input.floatbank11_xanthate                  18986 non-null  float64\n",
      " 44  rougher.output.concentrate_ag                       19439 non-null  float64\n",
      " 45  rougher.output.concentrate_pb                       19439 non-null  float64\n",
      " 46  rougher.output.concentrate_sol                      19416 non-null  float64\n",
      " 47  rougher.output.concentrate_au                       19439 non-null  float64\n",
      " 48  rougher.output.recovery                             19439 non-null  float64\n",
      " 49  rougher.output.tail_ag                              19438 non-null  float64\n",
      " 50  rougher.output.tail_pb                              19439 non-null  float64\n",
      " 51  rougher.output.tail_sol                             19439 non-null  float64\n",
      " 52  rougher.output.tail_au                              19439 non-null  float64\n",
      " 53  rougher.state.floatbank10_a_air                     19438 non-null  float64\n",
      " 54  rougher.state.floatbank10_a_level                   19438 non-null  float64\n",
      " 55  rougher.state.floatbank10_b_air                     19438 non-null  float64\n",
      " 56  rougher.state.floatbank10_b_level                   19438 non-null  float64\n",
      " 57  rougher.state.floatbank10_c_air                     19438 non-null  float64\n",
      " 58  rougher.state.floatbank10_c_level                   19438 non-null  float64\n",
      " 59  rougher.state.floatbank10_d_air                     19439 non-null  float64\n",
      " 60  rougher.state.floatbank10_d_level                   19439 non-null  float64\n",
      " 61  rougher.state.floatbank10_e_air                     19003 non-null  float64\n",
      " 62  rougher.state.floatbank10_e_level                   19439 non-null  float64\n",
      " 63  rougher.state.floatbank10_f_air                     19439 non-null  float64\n",
      " 64  rougher.state.floatbank10_f_level                   19439 non-null  float64\n",
      " 65  secondary_cleaner.output.tail_ag                    19437 non-null  float64\n",
      " 66  secondary_cleaner.output.tail_pb                    19427 non-null  float64\n",
      " 67  secondary_cleaner.output.tail_sol                   17691 non-null  float64\n",
      " 68  secondary_cleaner.output.tail_au                    19439 non-null  float64\n",
      " 69  secondary_cleaner.state.floatbank2_a_air            19219 non-null  float64\n",
      " 70  secondary_cleaner.state.floatbank2_a_level          19438 non-null  float64\n",
      " 71  secondary_cleaner.state.floatbank2_b_air            19416 non-null  float64\n",
      " 72  secondary_cleaner.state.floatbank2_b_level          19438 non-null  float64\n",
      " 73  secondary_cleaner.state.floatbank3_a_air            19426 non-null  float64\n",
      " 74  secondary_cleaner.state.floatbank3_a_level          19438 non-null  float64\n",
      " 75  secondary_cleaner.state.floatbank3_b_air            19438 non-null  float64\n",
      " 76  secondary_cleaner.state.floatbank3_b_level          19438 non-null  float64\n",
      " 77  secondary_cleaner.state.floatbank4_a_air            19433 non-null  float64\n",
      " 78  secondary_cleaner.state.floatbank4_a_level          19438 non-null  float64\n",
      " 79  secondary_cleaner.state.floatbank4_b_air            19438 non-null  float64\n",
      " 80  secondary_cleaner.state.floatbank4_b_level          19438 non-null  float64\n",
      " 81  secondary_cleaner.state.floatbank5_a_air            19438 non-null  float64\n",
      " 82  secondary_cleaner.state.floatbank5_a_level          19438 non-null  float64\n",
      " 83  secondary_cleaner.state.floatbank5_b_air            19438 non-null  float64\n",
      " 84  secondary_cleaner.state.floatbank5_b_level          19438 non-null  float64\n",
      " 85  secondary_cleaner.state.floatbank6_a_air            19437 non-null  float64\n",
      " 86  secondary_cleaner.state.floatbank6_a_level          19438 non-null  float64\n",
      "dtypes: float64(86), object(1)\n",
      "memory usage: 12.9+ MB\n"
     ]
    }
   ],
   "source": [
    "df_full.info()"
   ]
  },
  {
   "cell_type": "code",
   "execution_count": 158,
   "metadata": {},
   "outputs": [
    {
     "data": {
      "text/html": [
       "<div>\n",
       "<style scoped>\n",
       "    .dataframe tbody tr th:only-of-type {\n",
       "        vertical-align: middle;\n",
       "    }\n",
       "\n",
       "    .dataframe tbody tr th {\n",
       "        vertical-align: top;\n",
       "    }\n",
       "\n",
       "    .dataframe thead th {\n",
       "        text-align: right;\n",
       "    }\n",
       "</style>\n",
       "<table border=\"1\" class=\"dataframe\">\n",
       "  <thead>\n",
       "    <tr style=\"text-align: right;\">\n",
       "      <th></th>\n",
       "      <th>date</th>\n",
       "      <th>final.output.concentrate_ag</th>\n",
       "      <th>final.output.concentrate_pb</th>\n",
       "      <th>final.output.concentrate_sol</th>\n",
       "      <th>final.output.concentrate_au</th>\n",
       "      <th>final.output.recovery</th>\n",
       "      <th>final.output.tail_ag</th>\n",
       "      <th>final.output.tail_pb</th>\n",
       "      <th>final.output.tail_sol</th>\n",
       "      <th>final.output.tail_au</th>\n",
       "      <th>...</th>\n",
       "      <th>secondary_cleaner.state.floatbank4_a_air</th>\n",
       "      <th>secondary_cleaner.state.floatbank4_a_level</th>\n",
       "      <th>secondary_cleaner.state.floatbank4_b_air</th>\n",
       "      <th>secondary_cleaner.state.floatbank4_b_level</th>\n",
       "      <th>secondary_cleaner.state.floatbank5_a_air</th>\n",
       "      <th>secondary_cleaner.state.floatbank5_a_level</th>\n",
       "      <th>secondary_cleaner.state.floatbank5_b_air</th>\n",
       "      <th>secondary_cleaner.state.floatbank5_b_level</th>\n",
       "      <th>secondary_cleaner.state.floatbank6_a_air</th>\n",
       "      <th>secondary_cleaner.state.floatbank6_a_level</th>\n",
       "    </tr>\n",
       "  </thead>\n",
       "  <tbody>\n",
       "    <tr>\n",
       "      <th>0</th>\n",
       "      <td>2016-01-15 00:00:00</td>\n",
       "      <td>6.055403</td>\n",
       "      <td>9.889648</td>\n",
       "      <td>5.507324</td>\n",
       "      <td>42.192020</td>\n",
       "      <td>70.541216</td>\n",
       "      <td>10.411962</td>\n",
       "      <td>0.895447</td>\n",
       "      <td>16.904297</td>\n",
       "      <td>2.143149</td>\n",
       "      <td>...</td>\n",
       "      <td>14.016835</td>\n",
       "      <td>-502.488007</td>\n",
       "      <td>12.099931</td>\n",
       "      <td>-504.715942</td>\n",
       "      <td>9.925633</td>\n",
       "      <td>-498.310211</td>\n",
       "      <td>8.079666</td>\n",
       "      <td>-500.470978</td>\n",
       "      <td>14.151341</td>\n",
       "      <td>-605.841980</td>\n",
       "    </tr>\n",
       "    <tr>\n",
       "      <th>1</th>\n",
       "      <td>2016-01-15 01:00:00</td>\n",
       "      <td>6.029369</td>\n",
       "      <td>9.968944</td>\n",
       "      <td>5.257781</td>\n",
       "      <td>42.701629</td>\n",
       "      <td>69.266198</td>\n",
       "      <td>10.462676</td>\n",
       "      <td>0.927452</td>\n",
       "      <td>16.634514</td>\n",
       "      <td>2.224930</td>\n",
       "      <td>...</td>\n",
       "      <td>13.992281</td>\n",
       "      <td>-505.503262</td>\n",
       "      <td>11.950531</td>\n",
       "      <td>-501.331529</td>\n",
       "      <td>10.039245</td>\n",
       "      <td>-500.169983</td>\n",
       "      <td>7.984757</td>\n",
       "      <td>-500.582168</td>\n",
       "      <td>13.998353</td>\n",
       "      <td>-599.787184</td>\n",
       "    </tr>\n",
       "    <tr>\n",
       "      <th>2</th>\n",
       "      <td>2016-01-15 02:00:00</td>\n",
       "      <td>6.055926</td>\n",
       "      <td>10.213995</td>\n",
       "      <td>5.383759</td>\n",
       "      <td>42.657501</td>\n",
       "      <td>68.116445</td>\n",
       "      <td>10.507046</td>\n",
       "      <td>0.953716</td>\n",
       "      <td>16.208849</td>\n",
       "      <td>2.257889</td>\n",
       "      <td>...</td>\n",
       "      <td>14.015015</td>\n",
       "      <td>-502.520901</td>\n",
       "      <td>11.912783</td>\n",
       "      <td>-501.133383</td>\n",
       "      <td>10.070913</td>\n",
       "      <td>-500.129135</td>\n",
       "      <td>8.013877</td>\n",
       "      <td>-500.517572</td>\n",
       "      <td>14.028663</td>\n",
       "      <td>-601.427363</td>\n",
       "    </tr>\n",
       "    <tr>\n",
       "      <th>3</th>\n",
       "      <td>2016-01-15 03:00:00</td>\n",
       "      <td>6.047977</td>\n",
       "      <td>9.977019</td>\n",
       "      <td>4.858634</td>\n",
       "      <td>42.689819</td>\n",
       "      <td>68.347543</td>\n",
       "      <td>10.422762</td>\n",
       "      <td>0.883763</td>\n",
       "      <td>16.532835</td>\n",
       "      <td>2.146849</td>\n",
       "      <td>...</td>\n",
       "      <td>14.036510</td>\n",
       "      <td>-500.857308</td>\n",
       "      <td>11.999550</td>\n",
       "      <td>-501.193686</td>\n",
       "      <td>9.970366</td>\n",
       "      <td>-499.201640</td>\n",
       "      <td>7.977324</td>\n",
       "      <td>-500.255908</td>\n",
       "      <td>14.005551</td>\n",
       "      <td>-599.996129</td>\n",
       "    </tr>\n",
       "    <tr>\n",
       "      <th>4</th>\n",
       "      <td>2016-01-15 04:00:00</td>\n",
       "      <td>6.148599</td>\n",
       "      <td>10.142511</td>\n",
       "      <td>4.939416</td>\n",
       "      <td>42.774141</td>\n",
       "      <td>66.927016</td>\n",
       "      <td>10.360302</td>\n",
       "      <td>0.792826</td>\n",
       "      <td>16.525686</td>\n",
       "      <td>2.055292</td>\n",
       "      <td>...</td>\n",
       "      <td>14.027298</td>\n",
       "      <td>-499.838632</td>\n",
       "      <td>11.953070</td>\n",
       "      <td>-501.053894</td>\n",
       "      <td>9.925709</td>\n",
       "      <td>-501.686727</td>\n",
       "      <td>7.894242</td>\n",
       "      <td>-500.356035</td>\n",
       "      <td>13.996647</td>\n",
       "      <td>-601.496691</td>\n",
       "    </tr>\n",
       "  </tbody>\n",
       "</table>\n",
       "<p>5 rows × 87 columns</p>\n",
       "</div>"
      ],
      "text/plain": [
       "                  date  final.output.concentrate_ag  \\\n",
       "0  2016-01-15 00:00:00                     6.055403   \n",
       "1  2016-01-15 01:00:00                     6.029369   \n",
       "2  2016-01-15 02:00:00                     6.055926   \n",
       "3  2016-01-15 03:00:00                     6.047977   \n",
       "4  2016-01-15 04:00:00                     6.148599   \n",
       "\n",
       "   final.output.concentrate_pb  final.output.concentrate_sol  \\\n",
       "0                     9.889648                      5.507324   \n",
       "1                     9.968944                      5.257781   \n",
       "2                    10.213995                      5.383759   \n",
       "3                     9.977019                      4.858634   \n",
       "4                    10.142511                      4.939416   \n",
       "\n",
       "   final.output.concentrate_au  final.output.recovery  final.output.tail_ag  \\\n",
       "0                    42.192020              70.541216             10.411962   \n",
       "1                    42.701629              69.266198             10.462676   \n",
       "2                    42.657501              68.116445             10.507046   \n",
       "3                    42.689819              68.347543             10.422762   \n",
       "4                    42.774141              66.927016             10.360302   \n",
       "\n",
       "   final.output.tail_pb  final.output.tail_sol  final.output.tail_au  ...  \\\n",
       "0              0.895447              16.904297              2.143149  ...   \n",
       "1              0.927452              16.634514              2.224930  ...   \n",
       "2              0.953716              16.208849              2.257889  ...   \n",
       "3              0.883763              16.532835              2.146849  ...   \n",
       "4              0.792826              16.525686              2.055292  ...   \n",
       "\n",
       "   secondary_cleaner.state.floatbank4_a_air  \\\n",
       "0                                 14.016835   \n",
       "1                                 13.992281   \n",
       "2                                 14.015015   \n",
       "3                                 14.036510   \n",
       "4                                 14.027298   \n",
       "\n",
       "   secondary_cleaner.state.floatbank4_a_level  \\\n",
       "0                                 -502.488007   \n",
       "1                                 -505.503262   \n",
       "2                                 -502.520901   \n",
       "3                                 -500.857308   \n",
       "4                                 -499.838632   \n",
       "\n",
       "   secondary_cleaner.state.floatbank4_b_air  \\\n",
       "0                                 12.099931   \n",
       "1                                 11.950531   \n",
       "2                                 11.912783   \n",
       "3                                 11.999550   \n",
       "4                                 11.953070   \n",
       "\n",
       "   secondary_cleaner.state.floatbank4_b_level  \\\n",
       "0                                 -504.715942   \n",
       "1                                 -501.331529   \n",
       "2                                 -501.133383   \n",
       "3                                 -501.193686   \n",
       "4                                 -501.053894   \n",
       "\n",
       "   secondary_cleaner.state.floatbank5_a_air  \\\n",
       "0                                  9.925633   \n",
       "1                                 10.039245   \n",
       "2                                 10.070913   \n",
       "3                                  9.970366   \n",
       "4                                  9.925709   \n",
       "\n",
       "   secondary_cleaner.state.floatbank5_a_level  \\\n",
       "0                                 -498.310211   \n",
       "1                                 -500.169983   \n",
       "2                                 -500.129135   \n",
       "3                                 -499.201640   \n",
       "4                                 -501.686727   \n",
       "\n",
       "   secondary_cleaner.state.floatbank5_b_air  \\\n",
       "0                                  8.079666   \n",
       "1                                  7.984757   \n",
       "2                                  8.013877   \n",
       "3                                  7.977324   \n",
       "4                                  7.894242   \n",
       "\n",
       "   secondary_cleaner.state.floatbank5_b_level  \\\n",
       "0                                 -500.470978   \n",
       "1                                 -500.582168   \n",
       "2                                 -500.517572   \n",
       "3                                 -500.255908   \n",
       "4                                 -500.356035   \n",
       "\n",
       "   secondary_cleaner.state.floatbank6_a_air  \\\n",
       "0                                 14.151341   \n",
       "1                                 13.998353   \n",
       "2                                 14.028663   \n",
       "3                                 14.005551   \n",
       "4                                 13.996647   \n",
       "\n",
       "   secondary_cleaner.state.floatbank6_a_level  \n",
       "0                                 -605.841980  \n",
       "1                                 -599.787184  \n",
       "2                                 -601.427363  \n",
       "3                                 -599.996129  \n",
       "4                                 -601.496691  \n",
       "\n",
       "[5 rows x 87 columns]"
      ]
     },
     "execution_count": 158,
     "metadata": {},
     "output_type": "execute_result"
    }
   ],
   "source": [
    "df_full.head()"
   ]
  },
  {
   "cell_type": "code",
   "execution_count": 159,
   "metadata": {},
   "outputs": [
    {
     "data": {
      "text/plain": [
       "date                                            0\n",
       "final.output.concentrate_ag                     1\n",
       "final.output.concentrate_pb                     1\n",
       "final.output.concentrate_sol                  211\n",
       "final.output.concentrate_au                     0\n",
       "                                             ... \n",
       "secondary_cleaner.state.floatbank5_a_level      1\n",
       "secondary_cleaner.state.floatbank5_b_air        1\n",
       "secondary_cleaner.state.floatbank5_b_level      1\n",
       "secondary_cleaner.state.floatbank6_a_air        2\n",
       "secondary_cleaner.state.floatbank6_a_level      1\n",
       "Length: 87, dtype: int64"
      ]
     },
     "execution_count": 159,
     "metadata": {},
     "output_type": "execute_result"
    }
   ],
   "source": [
    "df_full.isna().sum()"
   ]
  },
  {
   "cell_type": "code",
   "execution_count": 160,
   "metadata": {},
   "outputs": [],
   "source": [
    "df_full = df_full.ffill(axis = 0)"
   ]
  },
  {
   "cell_type": "code",
   "execution_count": 161,
   "metadata": {},
   "outputs": [
    {
     "data": {
      "text/plain": [
       "date                                          0\n",
       "final.output.concentrate_ag                   0\n",
       "final.output.concentrate_pb                   0\n",
       "final.output.concentrate_sol                  0\n",
       "final.output.concentrate_au                   0\n",
       "                                             ..\n",
       "secondary_cleaner.state.floatbank5_a_level    0\n",
       "secondary_cleaner.state.floatbank5_b_air      0\n",
       "secondary_cleaner.state.floatbank5_b_level    0\n",
       "secondary_cleaner.state.floatbank6_a_air      0\n",
       "secondary_cleaner.state.floatbank6_a_level    0\n",
       "Length: 87, dtype: int64"
      ]
     },
     "execution_count": 161,
     "metadata": {},
     "output_type": "execute_result"
    }
   ],
   "source": [
    "df_full.isna().sum()"
   ]
  },
  {
   "cell_type": "code",
   "execution_count": 162,
   "metadata": {
    "scrolled": true
   },
   "outputs": [
    {
     "data": {
      "text/plain": [
       "0"
      ]
     },
     "execution_count": 162,
     "metadata": {},
     "output_type": "execute_result"
    }
   ],
   "source": [
    "df_full.duplicated().sum()"
   ]
  },
  {
   "cell_type": "code",
   "execution_count": 163,
   "metadata": {},
   "outputs": [
    {
     "name": "stdout",
     "output_type": "stream",
     "text": [
      "Размер общей выборки: (19439, 87)\n"
     ]
    }
   ],
   "source": [
    "print('Размер общей выборки:',(df_full.shape))"
   ]
  },
  {
   "cell_type": "markdown",
   "metadata": {},
   "source": [
    "<b>Вывод:</b>С подготовкой данных закончили. Все пропуски заполнены, дупликатов нет.\n",
    "\n",
    "Если говорить про тестовую выборку, то можно заметить, что в ней 53 столбца из 87, в том числе нет столбцов с этапом \"final\" - финальными характеристиками продукта, \"rougher.output\" - параметры итогового продукта. Возможно... Потому что при тесте у нас еще не известны эти параметры и характеристики (?). "
   ]
  },
  {
   "cell_type": "markdown",
   "metadata": {},
   "source": [
    "### Эффективность обогащения и MAE"
   ]
  },
  {
   "cell_type": "markdown",
   "metadata": {},
   "source": [
    "Рассчитаем эффективность по данной формуле:"
   ]
  },
  {
   "cell_type": "markdown",
   "metadata": {},
   "source": [
    "    C — доля золота в концентрате после флотации/очистки;\n",
    "    F — доля золота в сырье/концентрате до флотации/очистки;\n",
    "    T — доля золота в отвальных хвостах после флотации/очистки."
   ]
  },
  {
   "cell_type": "code",
   "execution_count": 164,
   "metadata": {},
   "outputs": [],
   "source": [
    "def recovery(c,f,t):\n",
    "    recovery = (c*(f-t)) / (f*(c-t))\n",
    "    \n",
    "    return recovery * 100"
   ]
  },
  {
   "cell_type": "code",
   "execution_count": 165,
   "metadata": {},
   "outputs": [
    {
     "name": "stdout",
     "output_type": "stream",
     "text": [
      "0        87.107763\n",
      "1        86.843261\n",
      "2        86.842308\n",
      "3        87.226430\n",
      "4        86.688794\n",
      "           ...    \n",
      "14144    89.574376\n",
      "14145    87.724007\n",
      "14146    88.890579\n",
      "14147    89.858126\n",
      "14148    89.514960\n",
      "Length: 14149, dtype: float64\n"
     ]
    }
   ],
   "source": [
    "c = df_train['rougher.output.concentrate_au']\n",
    "f = df_train['rougher.input.feed_au']\n",
    "t = df_train['rougher.output.tail_au']\n",
    "df_train['recovery'] = recovery(c,f,t)\n",
    "\n",
    "print(recovery(c,f,t))"
   ]
  },
  {
   "cell_type": "markdown",
   "metadata": {},
   "source": [
    "Рассчет MAE"
   ]
  },
  {
   "cell_type": "code",
   "execution_count": 166,
   "metadata": {},
   "outputs": [
    {
     "name": "stdout",
     "output_type": "stream",
     "text": [
      "MAE =  9.73512347450521e-15\n"
     ]
    }
   ],
   "source": [
    "MAE = np.abs(df_train['rougher.output.recovery'] - df_train['recovery']).mean()\n",
    "print('MAE = ', MAE)"
   ]
  },
  {
   "cell_type": "markdown",
   "metadata": {},
   "source": [
    "Чем ниже MAE, тем лучше, поэтому раз значение у нас получилось маленькое - все хорошо."
   ]
  },
  {
   "cell_type": "markdown",
   "metadata": {},
   "source": [
    "### Признаки тестовой выборки"
   ]
  },
  {
   "cell_type": "markdown",
   "metadata": {},
   "source": [
    "Как уже писалось выше: в тестовой выборке 53 столбца из 87, в том числе нет столбцов с этапом \"final\" - финальными характеристиками продукта, \"rougher.output\" - параметры итогового продукта. Возможно, потому что при тесте у нас еще не известны эти параметры и характеристики. \n",
    "\n",
    "Добавим в тестовую выборку целевые признаки из общей (\"привязывать\" будем по дате):"
   ]
  },
  {
   "cell_type": "code",
   "execution_count": 167,
   "metadata": {
    "scrolled": true
   },
   "outputs": [
    {
     "data": {
      "text/plain": [
       "['final.output.concentrate_ag',\n",
       " 'final.output.concentrate_pb',\n",
       " 'final.output.concentrate_sol',\n",
       " 'final.output.concentrate_au',\n",
       " 'final.output.recovery',\n",
       " 'final.output.tail_ag',\n",
       " 'final.output.tail_pb',\n",
       " 'final.output.tail_sol',\n",
       " 'final.output.tail_au',\n",
       " 'primary_cleaner.output.concentrate_ag',\n",
       " 'primary_cleaner.output.concentrate_pb',\n",
       " 'primary_cleaner.output.concentrate_sol',\n",
       " 'primary_cleaner.output.concentrate_au',\n",
       " 'primary_cleaner.output.tail_ag',\n",
       " 'primary_cleaner.output.tail_pb',\n",
       " 'primary_cleaner.output.tail_sol',\n",
       " 'primary_cleaner.output.tail_au',\n",
       " 'rougher.calculation.sulfate_to_au_concentrate',\n",
       " 'rougher.calculation.floatbank10_sulfate_to_au_feed',\n",
       " 'rougher.calculation.floatbank11_sulfate_to_au_feed',\n",
       " 'rougher.calculation.au_pb_ratio',\n",
       " 'rougher.output.concentrate_ag',\n",
       " 'rougher.output.concentrate_pb',\n",
       " 'rougher.output.concentrate_sol',\n",
       " 'rougher.output.concentrate_au',\n",
       " 'rougher.output.recovery',\n",
       " 'rougher.output.tail_ag',\n",
       " 'rougher.output.tail_pb',\n",
       " 'rougher.output.tail_sol',\n",
       " 'rougher.output.tail_au',\n",
       " 'secondary_cleaner.output.tail_ag',\n",
       " 'secondary_cleaner.output.tail_pb',\n",
       " 'secondary_cleaner.output.tail_sol',\n",
       " 'secondary_cleaner.output.tail_au',\n",
       " 'recovery']"
      ]
     },
     "execution_count": 167,
     "metadata": {},
     "output_type": "execute_result"
    }
   ],
   "source": [
    "inaccessible = list()\n",
    "for i in list(df_train.columns):\n",
    "    if i not in list(df_test.columns):\n",
    "        inaccessible.append(i)\n",
    "inaccessible"
   ]
  },
  {
   "cell_type": "code",
   "execution_count": 168,
   "metadata": {},
   "outputs": [],
   "source": [
    "df_test = df_test.merge(df_full[['final.output.recovery', 'rougher.output.recovery', 'date']], \n",
    "                        how = 'left', on = 'date')"
   ]
  },
  {
   "cell_type": "code",
   "execution_count": 169,
   "metadata": {
    "scrolled": true
   },
   "outputs": [
    {
     "name": "stdout",
     "output_type": "stream",
     "text": [
      "<class 'pandas.core.frame.DataFrame'>\n",
      "Int64Index: 5290 entries, 0 to 5289\n",
      "Data columns (total 55 columns):\n",
      " #   Column                                      Non-Null Count  Dtype  \n",
      "---  ------                                      --------------  -----  \n",
      " 0   date                                        5290 non-null   object \n",
      " 1   primary_cleaner.input.sulfate               5290 non-null   float64\n",
      " 2   primary_cleaner.input.depressant            5290 non-null   float64\n",
      " 3   primary_cleaner.input.feed_size             5290 non-null   float64\n",
      " 4   primary_cleaner.input.xanthate              5290 non-null   float64\n",
      " 5   primary_cleaner.state.floatbank8_a_air      5290 non-null   float64\n",
      " 6   primary_cleaner.state.floatbank8_a_level    5290 non-null   float64\n",
      " 7   primary_cleaner.state.floatbank8_b_air      5290 non-null   float64\n",
      " 8   primary_cleaner.state.floatbank8_b_level    5290 non-null   float64\n",
      " 9   primary_cleaner.state.floatbank8_c_air      5290 non-null   float64\n",
      " 10  primary_cleaner.state.floatbank8_c_level    5290 non-null   float64\n",
      " 11  primary_cleaner.state.floatbank8_d_air      5290 non-null   float64\n",
      " 12  primary_cleaner.state.floatbank8_d_level    5290 non-null   float64\n",
      " 13  rougher.input.feed_ag                       5290 non-null   float64\n",
      " 14  rougher.input.feed_pb                       5290 non-null   float64\n",
      " 15  rougher.input.feed_rate                     5290 non-null   float64\n",
      " 16  rougher.input.feed_size                     5290 non-null   float64\n",
      " 17  rougher.input.feed_sol                      5290 non-null   float64\n",
      " 18  rougher.input.feed_au                       5290 non-null   float64\n",
      " 19  rougher.input.floatbank10_sulfate           5290 non-null   float64\n",
      " 20  rougher.input.floatbank10_xanthate          5290 non-null   float64\n",
      " 21  rougher.input.floatbank11_sulfate           5290 non-null   float64\n",
      " 22  rougher.input.floatbank11_xanthate          5290 non-null   float64\n",
      " 23  rougher.state.floatbank10_a_air             5290 non-null   float64\n",
      " 24  rougher.state.floatbank10_a_level           5290 non-null   float64\n",
      " 25  rougher.state.floatbank10_b_air             5290 non-null   float64\n",
      " 26  rougher.state.floatbank10_b_level           5290 non-null   float64\n",
      " 27  rougher.state.floatbank10_c_air             5290 non-null   float64\n",
      " 28  rougher.state.floatbank10_c_level           5290 non-null   float64\n",
      " 29  rougher.state.floatbank10_d_air             5290 non-null   float64\n",
      " 30  rougher.state.floatbank10_d_level           5290 non-null   float64\n",
      " 31  rougher.state.floatbank10_e_air             5290 non-null   float64\n",
      " 32  rougher.state.floatbank10_e_level           5290 non-null   float64\n",
      " 33  rougher.state.floatbank10_f_air             5290 non-null   float64\n",
      " 34  rougher.state.floatbank10_f_level           5290 non-null   float64\n",
      " 35  secondary_cleaner.state.floatbank2_a_air    5290 non-null   float64\n",
      " 36  secondary_cleaner.state.floatbank2_a_level  5290 non-null   float64\n",
      " 37  secondary_cleaner.state.floatbank2_b_air    5290 non-null   float64\n",
      " 38  secondary_cleaner.state.floatbank2_b_level  5290 non-null   float64\n",
      " 39  secondary_cleaner.state.floatbank3_a_air    5290 non-null   float64\n",
      " 40  secondary_cleaner.state.floatbank3_a_level  5290 non-null   float64\n",
      " 41  secondary_cleaner.state.floatbank3_b_air    5290 non-null   float64\n",
      " 42  secondary_cleaner.state.floatbank3_b_level  5290 non-null   float64\n",
      " 43  secondary_cleaner.state.floatbank4_a_air    5290 non-null   float64\n",
      " 44  secondary_cleaner.state.floatbank4_a_level  5290 non-null   float64\n",
      " 45  secondary_cleaner.state.floatbank4_b_air    5290 non-null   float64\n",
      " 46  secondary_cleaner.state.floatbank4_b_level  5290 non-null   float64\n",
      " 47  secondary_cleaner.state.floatbank5_a_air    5290 non-null   float64\n",
      " 48  secondary_cleaner.state.floatbank5_a_level  5290 non-null   float64\n",
      " 49  secondary_cleaner.state.floatbank5_b_air    5290 non-null   float64\n",
      " 50  secondary_cleaner.state.floatbank5_b_level  5290 non-null   float64\n",
      " 51  secondary_cleaner.state.floatbank6_a_air    5290 non-null   float64\n",
      " 52  secondary_cleaner.state.floatbank6_a_level  5290 non-null   float64\n",
      " 53  final.output.recovery                       5290 non-null   float64\n",
      " 54  rougher.output.recovery                     5290 non-null   float64\n",
      "dtypes: float64(54), object(1)\n",
      "memory usage: 2.3+ MB\n"
     ]
    }
   ],
   "source": [
    "df_test.info()"
   ]
  },
  {
   "cell_type": "markdown",
   "metadata": {},
   "source": [
    "Целевые признаки добавлены"
   ]
  },
  {
   "cell_type": "markdown",
   "metadata": {},
   "source": [
    "## Анализ данных"
   ]
  },
  {
   "cell_type": "markdown",
   "metadata": {},
   "source": [
    "### Концентрация металлов"
   ]
  },
  {
   "cell_type": "markdown",
   "metadata": {},
   "source": [
    "Посмотрим, как меняется концентрация металлов (Au, Ag, Pb) на различных этапах очистки. Будем смотреть для наглядности на графиках"
   ]
  },
  {
   "cell_type": "markdown",
   "metadata": {},
   "source": [
    "<b>Золото</b>"
   ]
  },
  {
   "cell_type": "code",
   "execution_count": 170,
   "metadata": {},
   "outputs": [
    {
     "data": {
      "image/png": "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\n",
      "text/plain": [
       "<Figure size 1440x720 with 1 Axes>"
      ]
     },
     "metadata": {
      "needs_background": "light"
     },
     "output_type": "display_data"
    }
   ],
   "source": [
    "plt.figure(figsize = (20, 10))\n",
    "df_full['rougher.input.feed_au'].hist(bins = 80, color='Blue', label = 'значения до флотации', alpha = 0.5)\n",
    "df_full['rougher.output.concentrate_au'].hist(bins = 80, color = 'Magenta', label = 'значения после флотации', alpha = 0.5)\n",
    "df_full['primary_cleaner.output.concentrate_au'].hist(bins = 80, color = 'SpringGreen', label = ' значения после первичной очистки', alpha = 0.5)\n",
    "df_full['final.output.concentrate_au'].hist(bins = 80, color = 'LawnGreen', label = 'значения после вторичной очистки', alpha = 0.5);\n",
    "plt.legend();"
   ]
  },
  {
   "cell_type": "markdown",
   "metadata": {},
   "source": [
    "Видно, что с каждым этапом концентрация золота становится больше. После второй очистки показатель резко возрастает. "
   ]
  },
  {
   "cell_type": "markdown",
   "metadata": {},
   "source": [
    "<b>Серебро</b>"
   ]
  },
  {
   "cell_type": "code",
   "execution_count": 171,
   "metadata": {},
   "outputs": [
    {
     "data": {
      "image/png": "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\n",
      "text/plain": [
       "<Figure size 1440x720 with 1 Axes>"
      ]
     },
     "metadata": {
      "needs_background": "light"
     },
     "output_type": "display_data"
    }
   ],
   "source": [
    "plt.figure(figsize = (20, 10))\n",
    "df_full['rougher.input.feed_ag'].hist(bins = 80, color='Blue', label = 'значения до флотации', alpha = 0.5)\n",
    "df_full['rougher.output.concentrate_ag'].hist(bins = 80, color = 'Magenta', label = 'значения после флотации', alpha = 0.5)\n",
    "df_full['primary_cleaner.output.concentrate_ag'].hist(bins = 80, color = 'SpringGreen', label = ' значения после первичной очистки', alpha = 0.5)\n",
    "df_full['final.output.concentrate_ag'].hist(bins = 80, color = 'LawnGreen', label = 'значения после вторичной очистки', alpha = 0.5);\n",
    "plt.legend();"
   ]
  },
  {
   "cell_type": "markdown",
   "metadata": {},
   "source": [
    "Концентрация серебра также достигает наибольшего значения после второй очистки."
   ]
  },
  {
   "cell_type": "markdown",
   "metadata": {},
   "source": [
    "<b>Свинец</b>"
   ]
  },
  {
   "cell_type": "code",
   "execution_count": 172,
   "metadata": {},
   "outputs": [
    {
     "data": {
      "image/png": "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\n",
      "text/plain": [
       "<Figure size 1440x720 with 1 Axes>"
      ]
     },
     "metadata": {
      "needs_background": "light"
     },
     "output_type": "display_data"
    }
   ],
   "source": [
    "plt.figure(figsize = (20, 10))\n",
    "df_full['rougher.input.feed_pb'].hist(bins = 80, color='Blue', label = 'значения до флотации', alpha = 0.5)\n",
    "df_full['rougher.output.concentrate_pb'].hist(bins = 80, color = 'Magenta', \n",
    "                                              label = 'значения после флотации', alpha = 0.5)\n",
    "df_full['primary_cleaner.output.concentrate_pb'].hist(bins = 80, color = 'SpringGreen', \n",
    "                                                      label = ' значения после первичной очистки', alpha = 0.5)\n",
    "df_full['final.output.concentrate_pb'].hist(bins = 80, color = 'LawnGreen', \n",
    "                                            label = 'значения после вторичной очистки', alpha = 0.5);\n",
    "plt.legend();"
   ]
  },
  {
   "cell_type": "markdown",
   "metadata": {},
   "source": [
    "Концентрация свинца (по количеству) ближе к концентрации золота. Значения после флотации и после вторичной очистки близки, но все равно наибольшее значение достигается при вторичной очистки."
   ]
  },
  {
   "cell_type": "markdown",
   "metadata": {},
   "source": [
    "<b>Вывод:</b> во всех случаях концентрация ввеществ была максимальной после вторичной очситки (логично). Во всех трех графиках наблюдаются какие-то нулевые значения концентраций."
   ]
  },
  {
   "cell_type": "markdown",
   "metadata": {},
   "source": [
    "### Распредление размера гранул"
   ]
  },
  {
   "cell_type": "code",
   "execution_count": 173,
   "metadata": {
    "scrolled": false
   },
   "outputs": [
    {
     "data": {
      "image/png": "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\n",
      "text/plain": [
       "<Figure size 1440x720 with 1 Axes>"
      ]
     },
     "metadata": {
      "needs_background": "light"
     },
     "output_type": "display_data"
    }
   ],
   "source": [
    "plt.figure(figsize = (20, 10))\n",
    "df_test['rougher.input.feed_size'].hist(density = True, bins = 80, color = 'Magenta',\n",
    "                                        label = 'размер гранул test', alpha = 0.5)\n",
    "df_train['rougher.input.feed_size'].hist(density = True, bins = 80, color = 'SpringGreen', \n",
    "                                         label = 'размер гранул train', alpha = 0.5)\n",
    "plt.xlim([0, 180]);\n",
    "plt.legend();"
   ]
  },
  {
   "cell_type": "code",
   "execution_count": 174,
   "metadata": {},
   "outputs": [
    {
     "data": {
      "text/plain": [
       "count    5290.000000\n",
       "mean       55.952754\n",
       "std        19.080334\n",
       "min         0.046369\n",
       "25%        43.906504\n",
       "50%        50.846843\n",
       "75%        62.451165\n",
       "max       392.494040\n",
       "Name: rougher.input.feed_size, dtype: float64"
      ]
     },
     "execution_count": 174,
     "metadata": {},
     "output_type": "execute_result"
    }
   ],
   "source": [
    "df_test['rougher.input.feed_size'].describe()"
   ]
  },
  {
   "cell_type": "code",
   "execution_count": 175,
   "metadata": {},
   "outputs": [
    {
     "data": {
      "text/plain": [
       "count    14149.000000\n",
       "mean        60.239856\n",
       "std         23.005310\n",
       "min          9.659576\n",
       "25%         48.966751\n",
       "50%         55.269784\n",
       "75%         66.007526\n",
       "max        484.967466\n",
       "Name: rougher.input.feed_size, dtype: float64"
      ]
     },
     "execution_count": 175,
     "metadata": {},
     "output_type": "execute_result"
    }
   ],
   "source": [
    "df_train['rougher.input.feed_size'].describe()"
   ]
  },
  {
   "cell_type": "markdown",
   "metadata": {},
   "source": [
    "Видно, что на тестовой выборке размер гранул на флотации несколько больше, чем на тренировочной, но не критично"
   ]
  },
  {
   "cell_type": "markdown",
   "metadata": {},
   "source": [
    "### Суммарная концентрация всех веществ на разных стадиях"
   ]
  },
  {
   "cell_type": "markdown",
   "metadata": {},
   "source": [
    "На графиках было видно, что где-то есть нулевые значения. Этого быть не должно (может сбой аппаратуры, невнесенные данные или что-то еще), поэтому, думаю, их можно не учитывать."
   ]
  },
  {
   "cell_type": "markdown",
   "metadata": {},
   "source": [
    "<b>Суммараная концентрация веществ в сырье</b>"
   ]
  },
  {
   "cell_type": "markdown",
   "metadata": {},
   "source": [
    "Суммируем все значения"
   ]
  },
  {
   "cell_type": "code",
   "execution_count": 176,
   "metadata": {},
   "outputs": [
    {
     "data": {
      "text/plain": [
       "0        14.871440\n",
       "1        14.905729\n",
       "2        14.638299\n",
       "3        14.199305\n",
       "4        13.511497\n",
       "           ...    \n",
       "14144    16.045275\n",
       "14145    15.104931\n",
       "14146    14.515579\n",
       "14147    14.313448\n",
       "14148    14.399936\n",
       "Name: sum_rougher_input_feed, Length: 14149, dtype: float64"
      ]
     },
     "execution_count": 176,
     "metadata": {},
     "output_type": "execute_result"
    }
   ],
   "source": [
    "df_train['sum_rougher_input_feed'] = df_train['rougher.input.feed_ag'] + df_train['rougher.input.feed_au'] + df_train['rougher.input.feed_pb']\n",
    "df_train['sum_rougher_input_feed']"
   ]
  },
  {
   "cell_type": "code",
   "execution_count": 177,
   "metadata": {},
   "outputs": [
    {
     "data": {
      "image/png": "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\n",
      "text/plain": [
       "<Figure size 1440x720 with 1 Axes>"
      ]
     },
     "metadata": {
      "needs_background": "light"
     },
     "output_type": "display_data"
    }
   ],
   "source": [
    "plt.figure(figsize = (20, 10))\n",
    "df_train = df_train[(df_train['sum_rougher_input_feed'] > 7)]\n",
    "df_train['sum_rougher_input_feed'].hist(density = True, bins = 80, color = 'LawnGreen', \n",
    "                                        label = 'суммараная концентрация веществ в сырье', alpha = 0.5)\n",
    "plt.legend();"
   ]
  },
  {
   "cell_type": "markdown",
   "metadata": {},
   "source": [
    "<b>Суммараная концентрация веществ в черновом концентрате</b>"
   ]
  },
  {
   "cell_type": "code",
   "execution_count": 178,
   "metadata": {},
   "outputs": [
    {
     "data": {
      "text/plain": [
       "0        38.395653\n",
       "1        38.945647\n",
       "2        38.649756\n",
       "3        38.411473\n",
       "4        38.867359\n",
       "           ...    \n",
       "14144    40.712449\n",
       "14145    40.755632\n",
       "14146    32.589863\n",
       "14147    40.148948\n",
       "14148    40.465768\n",
       "Name: sum_rougher.output, Length: 14131, dtype: float64"
      ]
     },
     "execution_count": 178,
     "metadata": {},
     "output_type": "execute_result"
    }
   ],
   "source": [
    "df_train['sum_rougher.output'] = df_train['rougher.output.concentrate_ag'] + df_train['rougher.output.concentrate_pb'] + df_train['rougher.output.concentrate_au']\n",
    "df_train['sum_rougher.output']"
   ]
  },
  {
   "cell_type": "code",
   "execution_count": 179,
   "metadata": {
    "scrolled": false
   },
   "outputs": [
    {
     "data": {
      "image/png": "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\n",
      "text/plain": [
       "<Figure size 1440x720 with 1 Axes>"
      ]
     },
     "metadata": {
      "needs_background": "light"
     },
     "output_type": "display_data"
    }
   ],
   "source": [
    "plt.figure(figsize = (20, 10))\n",
    "df_train = df_train[(df_train['sum_rougher.output'] > 30)]\n",
    "df_train['sum_rougher.output'].hist(density = True, bins = 80, color = 'LawnGreen', \n",
    "                                        label = 'суммараная концентрация веществ в черновом концентрате', alpha = 0.5)\n",
    "plt.legend();"
   ]
  },
  {
   "cell_type": "markdown",
   "metadata": {},
   "source": [
    "Концентрация веществ в черновом концентрате чуть выше, чем в сырье."
   ]
  },
  {
   "cell_type": "markdown",
   "metadata": {},
   "source": [
    "<b>Суммараная концентрация веществ в финальном концентрате</b>"
   ]
  },
  {
   "cell_type": "code",
   "execution_count": 180,
   "metadata": {},
   "outputs": [
    {
     "data": {
      "text/plain": [
       "0        58.137072\n",
       "1        58.699942\n",
       "2        58.927421\n",
       "3        58.714815\n",
       "4        59.065251\n",
       "           ...    \n",
       "14144    61.295107\n",
       "14145    61.412113\n",
       "14146    61.340054\n",
       "14147    61.401016\n",
       "14148    61.635645\n",
       "Name: sum_final_output, Length: 13579, dtype: float64"
      ]
     },
     "execution_count": 180,
     "metadata": {},
     "output_type": "execute_result"
    }
   ],
   "source": [
    "df_train['sum_final_output'] = df_train['final.output.concentrate_ag'] + df_train['final.output.concentrate_pb'] + df_train['final.output.concentrate_au']\n",
    "df_train['sum_final_output']"
   ]
  },
  {
   "cell_type": "code",
   "execution_count": 181,
   "metadata": {},
   "outputs": [
    {
     "data": {
      "image/png": "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\n",
      "text/plain": [
       "<Figure size 1440x720 with 1 Axes>"
      ]
     },
     "metadata": {
      "needs_background": "light"
     },
     "output_type": "display_data"
    }
   ],
   "source": [
    "plt.figure(figsize = (20, 10))\n",
    "df_train = df_train[(df_train['sum_final_output'] > 50)]\n",
    "df_train['sum_final_output'].hist(density = True, bins = 80, color = 'LawnGreen', \n",
    "                                        label = 'суммараная концентрация веществ в финальном концентрате', alpha = 0.5)\n",
    "plt.legend();"
   ]
  },
  {
   "cell_type": "markdown",
   "metadata": {},
   "source": [
    "Концентрация веществ в финальном концентрате гораздо выше, чем в сырье и в черновом концентрате."
   ]
  },
  {
   "cell_type": "markdown",
   "metadata": {},
   "source": [
    "## Модель"
   ]
  },
  {
   "cell_type": "markdown",
   "metadata": {},
   "source": [
    "### sMAPE"
   ]
  },
  {
   "cell_type": "markdown",
   "metadata": {},
   "source": [
    "sMAPE (англ. Symmetric Mean Absolute Percentage Error) - симметричное среднее абсолютное процентное отклонение"
   ]
  },
  {
   "attachments": {
    "%D0%B8%D0%B7%D0%BE%D0%B1%D1%80%D0%B0%D0%B6%D0%B5%D0%BD%D0%B8%D0%B5.png": {
     "image/png": "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"
    }
   },
   "cell_type": "markdown",
   "metadata": {},
   "source": [
    "![%D0%B8%D0%B7%D0%BE%D0%B1%D1%80%D0%B0%D0%B6%D0%B5%D0%BD%D0%B8%D0%B5.png](attachment:%D0%B8%D0%B7%D0%BE%D0%B1%D1%80%D0%B0%D0%B6%D0%B5%D0%BD%D0%B8%D0%B5.png)"
   ]
  },
  {
   "attachments": {
    "%D0%B8%D0%B7%D0%BE%D0%B1%D1%80%D0%B0%D0%B6%D0%B5%D0%BD%D0%B8%D0%B5.png": {
     "image/png": "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"
    }
   },
   "cell_type": "markdown",
   "metadata": {},
   "source": [
    "![%D0%B8%D0%B7%D0%BE%D0%B1%D1%80%D0%B0%D0%B6%D0%B5%D0%BD%D0%B8%D0%B5.png](attachment:%D0%B8%D0%B7%D0%BE%D0%B1%D1%80%D0%B0%D0%B6%D0%B5%D0%BD%D0%B8%D0%B5.png)"
   ]
  },
  {
   "cell_type": "code",
   "execution_count": 182,
   "metadata": {},
   "outputs": [],
   "source": [
    "def sMAPE(target, predicrtion):\n",
    "    sMAPE = (((abs(target - predicrtion)/ (abs(target) + (abs(predicrtion))/ 2))* 100) / len(target)).sum()\n",
    "\n",
    "    return sMAPE"
   ]
  },
  {
   "cell_type": "markdown",
   "metadata": {},
   "source": [
    "При подготовке данных мы видели, что в тестовой выборке столбцов меньше, чем в остальных. Сравняем их кол-во."
   ]
  },
  {
   "cell_type": "code",
   "execution_count": 183,
   "metadata": {},
   "outputs": [
    {
     "name": "stdout",
     "output_type": "stream",
     "text": [
      "(5290, 55)\n"
     ]
    },
    {
     "data": {
      "text/plain": [
       "(13314, 91)"
      ]
     },
     "execution_count": 183,
     "metadata": {},
     "output_type": "execute_result"
    }
   ],
   "source": [
    "print(df_test.shape)\n",
    "df_train.shape"
   ]
  },
  {
   "cell_type": "code",
   "execution_count": 184,
   "metadata": {},
   "outputs": [
    {
     "name": "stdout",
     "output_type": "stream",
     "text": [
      "(5290, 55)\n"
     ]
    },
    {
     "data": {
      "text/plain": [
       "(13314, 55)"
      ]
     },
     "execution_count": 184,
     "metadata": {},
     "output_type": "execute_result"
    }
   ],
   "source": [
    "df_train = df_train[df_test.columns]\n",
    "print(df_test.shape)\n",
    "df_train.shape"
   ]
  },
  {
   "cell_type": "markdown",
   "metadata": {},
   "source": [
    "Оставляем столбцы с флотацией"
   ]
  },
  {
   "cell_type": "code",
   "execution_count": 185,
   "metadata": {},
   "outputs": [],
   "source": [
    "features_rougher = []\n",
    "for column in df_test.columns:\n",
    "    if 'rougher' in column:\n",
    "        features_rougher.append(column)"
   ]
  },
  {
   "cell_type": "markdown",
   "metadata": {},
   "source": [
    "Разбиваем отобранные данные на подвыборки"
   ]
  },
  {
   "cell_type": "code",
   "execution_count": 186,
   "metadata": {},
   "outputs": [],
   "source": [
    "train_features_rougher = df_train[features_rougher].drop(['rougher.output.recovery'],axis = 1)\n",
    "train_target_rougher = df_train['rougher.output.recovery']\n",
    "\n",
    "\n",
    "train_features_final = df_train.drop(['rougher.output.recovery','final.output.recovery','date'], axis = 1)\n",
    "train_target_final = df_train['final.output.recovery']\n",
    "\n",
    "\n",
    "test_features_rougher = df_test[features_rougher].drop(['rougher.output.recovery'],axis = 1)\n",
    "test_target_rougher = df_test['rougher.output.recovery']\n",
    "\n",
    "\n",
    "test_features_final = df_test[df_test.columns].drop(['rougher.output.recovery','final.output.recovery','date'], axis = 1)\n",
    "test_target_final = df_test['final.output.recovery']"
   ]
  },
  {
   "cell_type": "markdown",
   "metadata": {},
   "source": [
    "Чтобы избежать разного масштаба признаков - стандартизируем их с помощью scaler."
   ]
  },
  {
   "cell_type": "code",
   "execution_count": 187,
   "metadata": {},
   "outputs": [],
   "source": [
    "scaler_rougher = StandardScaler()\n",
    "scaler_rougher.fit(train_features_rougher)\n",
    "\n",
    "train_col_rougher = train_features_rougher.columns\n",
    "test_col_rougher = test_features_rougher.columns\n",
    "train_features_rougher = scaler_rougher.transform(train_features_rougher)\n",
    "train_features_rougher = pd.DataFrame(train_features_rougher, columns = train_col_rougher)\n",
    "test_features_rougher = scaler_rougher.transform(test_features_rougher)\n",
    "test_features_rougher = pd.DataFrame(test_features_rougher, columns = test_col_rougher)"
   ]
  },
  {
   "cell_type": "code",
   "execution_count": 188,
   "metadata": {},
   "outputs": [],
   "source": [
    "scaler_final = StandardScaler()\n",
    "scaler_final.fit(train_features_final)\n",
    "\n",
    "train_col_final = train_features_final.columns\n",
    "test_col_final = test_features_final.columns\n",
    "train_features_final = scaler_final.transform(train_features_final)\n",
    "train_features_final = pd.DataFrame(train_features_final, columns = train_col_final)\n",
    "test_features_final = scaler_final.transform(test_features_final)\n",
    "test_features_final = pd.DataFrame(test_features_final, columns = test_col_final)"
   ]
  },
  {
   "cell_type": "markdown",
   "metadata": {},
   "source": [
    "Оцениваем качество кросс-валидацией"
   ]
  },
  {
   "cell_type": "code",
   "execution_count": 189,
   "metadata": {},
   "outputs": [],
   "source": [
    "def validation(model, features, target):\n",
    "    scores = cross_val_score(model, features, target, scoring = make_scorer(sMAPE, greater_is_better = False))\n",
    "    smape_result = np.mean(scores)\n",
    "    \n",
    "    return smape_result"
   ]
  },
  {
   "cell_type": "markdown",
   "metadata": {},
   "source": [
    "Итоговое sMAPE"
   ]
  },
  {
   "cell_type": "code",
   "execution_count": 190,
   "metadata": {},
   "outputs": [],
   "source": [
    "def smape_fin(model):\n",
    "    smape_final = validation(model, train_features_final, train_target_final)\n",
    "    smape_rougher = validation(model, train_features_rougher, train_target_rougher)    \n",
    "    smape_end = 0.25 * smape_rougher + 0.75 * smape_final\n",
    "    \n",
    "    print('Оценка по rougher', abs(smape_rougher))\n",
    "    print('Оценка по final', abs(smape_final))\n",
    "    print('Итоговая оценка качества', abs(smape_end))"
   ]
  },
  {
   "cell_type": "markdown",
   "metadata": {},
   "source": [
    "### Подборка моделей"
   ]
  },
  {
   "cell_type": "markdown",
   "metadata": {},
   "source": [
    "Начнем с модели решающего дерева. У нее низкое качество, но зато высокая скорость."
   ]
  },
  {
   "cell_type": "code",
   "execution_count": 191,
   "metadata": {},
   "outputs": [
    {
     "name": "stdout",
     "output_type": "stream",
     "text": [
      "Оценка по rougher 5.785202161190844\n",
      "Оценка по final 9.940453863139641\n",
      "Итоговая оценка качества 8.901640937652441\n"
     ]
    }
   ],
   "source": [
    "model_tree = DecisionTreeRegressor(random_state = 12345)\n",
    "smape_fin(model_tree)"
   ]
  },
  {
   "cell_type": "markdown",
   "metadata": {},
   "source": [
    "Посмотрим на модель линейной регрессии - ее качество должно быть немного выше древа (но не всегда)."
   ]
  },
  {
   "cell_type": "code",
   "execution_count": 192,
   "metadata": {},
   "outputs": [
    {
     "name": "stdout",
     "output_type": "stream",
     "text": [
      "Оценка по rougher 4.287322592307982\n",
      "Оценка по final 7.285590259478849\n",
      "Итоговая оценка качества 6.536023342686132\n"
     ]
    }
   ],
   "source": [
    "model_lin = LinearRegression()\n",
    "smape_fin(model_lin)"
   ]
  },
  {
   "cell_type": "markdown",
   "metadata": {},
   "source": [
    "У случайного леса высокое качество, но низкая скорость. Скорее всего, будет выбрана эта модель - в данном случае скорость нам не критична, а точность будет (должна быть...) выше."
   ]
  },
  {
   "cell_type": "code",
   "execution_count": 193,
   "metadata": {},
   "outputs": [
    {
     "name": "stdout",
     "output_type": "stream",
     "text": [
      "Оценка по rougher 4.30595196932993\n",
      "Оценка по final 6.219682825264675\n",
      "Итоговая оценка качества 5.741250111280989\n"
     ]
    }
   ],
   "source": [
    "model_forest = RandomForestRegressor(random_state = 12345)\n",
    "smape_fin(model_forest)"
   ]
  },
  {
   "cell_type": "code",
   "execution_count": 194,
   "metadata": {},
   "outputs": [
    {
     "name": "stdout",
     "output_type": "stream",
     "text": [
      "Оценка по rougher 5.109803343994475\n",
      "Оценка по final 6.862961753458907\n",
      "Итоговая оценка качества 6.424672151092799\n"
     ]
    }
   ],
   "source": [
    "model = DummyRegressor()\n",
    "smape_fin(model)"
   ]
  },
  {
   "cell_type": "markdown",
   "metadata": {},
   "source": [
    "Как и ожидалось, RF имеет наиболее подходящие оценки качества. Выбираем его. Подберем нужные параметры с помощью GridSearchCV*\n",
    "\n",
    " *вначале хотела подобрать параметры вручную через цикл, как в прошлых проектах, но запуталась в выборках и ничего не заработало, поэтому пришлось вникать в GridSearchCV, надеюсь, будет правильно"
   ]
  },
  {
   "cell_type": "markdown",
   "metadata": {},
   "source": [
    "Параметры для флотации"
   ]
  },
  {
   "cell_type": "code",
   "execution_count": 195,
   "metadata": {
    "scrolled": true
   },
   "outputs": [
    {
     "data": {
      "text/plain": [
       "{'max_depth': 4, 'n_estimators': 41}"
      ]
     },
     "execution_count": 195,
     "metadata": {},
     "output_type": "execute_result"
    }
   ],
   "source": [
    "parametrs = {'max_depth': range (2, 10, 2),\n",
    "            'n_estimators': range(1, 52, 10)}\n",
    "\n",
    "model = RandomForestRegressor(random_state = 12345)\n",
    "grid = GridSearchCV(model, parametrs, cv = 5, scoring = make_scorer(sMAPE, greater_is_better = False))\n",
    "grid.fit(train_features_rougher, train_target_rougher)\n",
    "grid.best_params_"
   ]
  },
  {
   "cell_type": "markdown",
   "metadata": {},
   "source": [
    "Таким образом, нужная нам глубина - 4, а количество деревьев - 41"
   ]
  },
  {
   "cell_type": "markdown",
   "metadata": {},
   "source": [
    "Параметры финальных характеристик"
   ]
  },
  {
   "cell_type": "code",
   "execution_count": 196,
   "metadata": {},
   "outputs": [
    {
     "data": {
      "text/plain": [
       "{'max_depth': 4, 'n_estimators': 51}"
      ]
     },
     "execution_count": 196,
     "metadata": {},
     "output_type": "execute_result"
    }
   ],
   "source": [
    "parametrs = {'max_depth': range (2, 10, 2),\n",
    "            'n_estimators': range(1, 52, 10)}\n",
    "\n",
    "model = RandomForestRegressor(random_state = 12345)\n",
    "grid = GridSearchCV(model, parametrs, cv = 5, scoring = make_scorer(sMAPE, greater_is_better = False))\n",
    "grid.fit(train_features_final, train_target_final)\n",
    "grid.best_params_"
   ]
  },
  {
   "cell_type": "markdown",
   "metadata": {},
   "source": [
    "Таким образом, нужная нам глубина - 4, а количество деревьев - 51"
   ]
  },
  {
   "cell_type": "markdown",
   "metadata": {},
   "source": [
    "### Проверка выбранной модели"
   ]
  },
  {
   "cell_type": "markdown",
   "metadata": {},
   "source": [
    "Используем выбранную модель на тестовой выборке"
   ]
  },
  {
   "cell_type": "code",
   "execution_count": 197,
   "metadata": {},
   "outputs": [],
   "source": [
    "def smape_fin_test(model):    \n",
    "    model_rougher = model\n",
    "    model_rougher.fit(train_features_rougher, train_target_rougher)\n",
    "    predictions_rougher = model_rougher.predict(test_features_rougher)\n",
    "    \n",
    "    model_final = model\n",
    "    model_rougher.fit(train_features_final, train_target_final)\n",
    "    predictions_final = model_rougher.predict(test_features_final)\n",
    "    \n",
    "    smape_rougher = sMAPE(predictions_rougher, test_target_rougher)\n",
    "    smape_final = sMAPE(predictions_final, test_target_final)\n",
    "    smape_end = 0.25 * smape_rougher + 0.75 * smape_final\n",
    "    print('Оценка на флотации', abs(smape_rougher))\n",
    "    print('Оценка качества на фин.характеристиках', abs(smape_final))\n",
    "    print('Итоговое качество', abs(smape_end))"
   ]
  },
  {
   "cell_type": "code",
   "execution_count": 202,
   "metadata": {},
   "outputs": [
    {
     "name": "stdout",
     "output_type": "stream",
     "text": [
      "Оценка на флотации 5.018769909384343\n",
      "Оценка качества на фин.характеристиках 6.204989688440554\n",
      "Итоговое качество 5.908434743676501\n"
     ]
    }
   ],
   "source": [
    "model = RandomForestRegressor(random_state = 12345, max_depth = 4, n_estimators = 41)\n",
    "smape_fin_test(model)"
   ]
  },
  {
   "cell_type": "code",
   "execution_count": 199,
   "metadata": {},
   "outputs": [
    {
     "name": "stdout",
     "output_type": "stream",
     "text": [
      "Оценка на флотации 5.024364577627548\n",
      "Оценка качества на фин.характеристиках 6.1969078428533635\n",
      "Итоговое качество 5.90377202654691\n"
     ]
    }
   ],
   "source": [
    "model = RandomForestRegressor(random_state = 12345, max_depth = 4, n_estimators = 51)\n",
    "smape_fin_test(model)"
   ]
  },
  {
   "cell_type": "markdown",
   "metadata": {},
   "source": [
    "Сравним со стандартной моделью"
   ]
  },
  {
   "cell_type": "code",
   "execution_count": 200,
   "metadata": {},
   "outputs": [
    {
     "name": "stdout",
     "output_type": "stream",
     "text": [
      "Оценка на флотации 5.374554165169053\n",
      "Оценка качества на фин.характеристиках 6.423028937180371\n",
      "Итоговое качество 6.160910244177542\n"
     ]
    }
   ],
   "source": [
    "model = DummyRegressor()\n",
    "smape_fin_test(model)"
   ]
  },
  {
   "cell_type": "markdown",
   "metadata": {},
   "source": [
    "Итоговая оценка на выбранной модели меньше, чем на стандартной, значит это хорош (хороше же?..)"
   ]
  },
  {
   "cell_type": "markdown",
   "metadata": {},
   "source": [
    "Получаем, что лучшая модель это RandomForestRegressor с параметрами для rougher: max_depth = 4, n_estimators = 41 и для final: max_depth = 4, n_estimators = 51"
   ]
  },
  {
   "cell_type": "markdown",
   "metadata": {},
   "source": [
    "## Вывод"
   ]
  },
  {
   "cell_type": "markdown",
   "metadata": {},
   "source": [
    "В первую очередь была произведена предобработка и изучение данных. Были заполнены допущенные пропуски для дальнейшей работы (заполнены соседними значениями). Также было обнаружено, что где-то присутсвуют нулевые значения, которых быть не должно (возможно, неисправность оборудования, технические ошибки или что-то подобное), поэтому они, и некоторые другие малые и редкие значения, не учитывались в исследовании.\n",
    "\n",
    "Также посчитали MAE (средняя абсолютная разница между прогнозируемыми значениями и фактическими значениями в наборе данных) между расчетами и целевыми признаками, чтобы убедиться в правильности своих действий. Показатель был равен _9.73_ - это хорошо. Кроме этого, в предоставленной тестовой выборке были не все столбцы, в том числе, отсутствовали целевые признаки, которые были туда добавлены.\n",
    "\n",
    "Далее был произведен анализ данных с помощью графиков для нагядности. При исследовании концентрации было выявлено (как и должно было быть), что наибольшая концентрация вещества достигается на вторичной очистке. Касаемо размера гранул - на тестовой выборке размер гранул на флотации несколько больше, чем на тренировочной, но не критично. Про суммарную концентрацию всех веществ на разных этапах можно сказать следующее: как и стоило предполагать, концентрация веществ в финальном концентрате гораздо выше, чем в сырье и в черновом концентрате.\n",
    "\n",
    "После этого перешли к работе с моделями. Разбили имеющиеся данные на подвыборки и, чтобы избежать разного масштаба признаков, стандартизировали их с помощью scaler. Была написана ф-ия для расчета оценки качества кросс-валидацией и sMAPE. \n",
    "\n",
    "Далее подбирали модель для дальнейшего расчета. Из трех моделей (решающее древо, линейная регрессия и случайный лес) была выбрана модель слуачйного леса (RandomForestRegressor). Для подбора оптимальных параметров использовался метод GridSearchCV. Получились следующие результаты\n",
    "\n",
    "Для rougher:\n",
    "\n",
    "    max_depth = 4, n_estimators = 41; \n",
    "    Оценка на флотации 5.018769909384343\n",
    "    Оценка качества на фин.характеристиках 6.204989688440554\n",
    "    Итоговое качество 5.908434743676501\n",
    "    \n",
    "Для final: \n",
    "\n",
    "    max_depth = 4, n_estimators = 51;\n",
    "    Оценка на флотации 5.024364577627548\n",
    "    Оценка качества на фин.характеристиках 6.1969078428533635\n",
    "    Итоговое качество 5.90377202654691\n",
    "    \n",
    "В целом, в обоих случаях, итоговое качество равно _5.9_, что подохдит нам для дальнейшей работы."
   ]
  }
 ],
 "metadata": {
  "ExecuteTimeLog": [
   {
    "duration": 346,
    "start_time": "2023-02-19T13:19:08.346Z"
   },
   {
    "duration": 3376,
    "start_time": "2023-02-19T13:22:30.050Z"
   },
   {
    "duration": 17,
    "start_time": "2023-02-19T13:22:51.259Z"
   },
   {
    "duration": 28,
    "start_time": "2023-02-19T13:23:18.803Z"
   },
   {
    "duration": 9,
    "start_time": "2023-02-19T13:24:02.816Z"
   },
   {
    "duration": 61,
    "start_time": "2023-02-19T13:30:09.499Z"
   },
   {
    "duration": 8,
    "start_time": "2023-02-19T13:30:55.570Z"
   },
   {
    "duration": 7,
    "start_time": "2023-02-19T13:32:34.847Z"
   },
   {
    "duration": 382,
    "start_time": "2023-02-19T13:35:26.315Z"
   },
   {
    "duration": 6,
    "start_time": "2023-02-19T13:36:59.249Z"
   },
   {
    "duration": 8,
    "start_time": "2023-02-19T13:38:04.991Z"
   },
   {
    "duration": 13,
    "start_time": "2023-02-19T13:39:27.810Z"
   },
   {
    "duration": 12,
    "start_time": "2023-02-19T13:40:41.941Z"
   },
   {
    "duration": 12,
    "start_time": "2023-02-19T13:40:50.100Z"
   },
   {
    "duration": 125,
    "start_time": "2023-02-19T13:41:18.601Z"
   },
   {
    "duration": 7,
    "start_time": "2023-02-19T13:41:43.844Z"
   },
   {
    "duration": 13,
    "start_time": "2023-02-19T13:41:51.522Z"
   },
   {
    "duration": 21,
    "start_time": "2023-02-19T13:41:57.268Z"
   },
   {
    "duration": 14,
    "start_time": "2023-02-19T13:43:12.028Z"
   },
   {
    "duration": 5,
    "start_time": "2023-02-19T13:43:20.494Z"
   },
   {
    "duration": 75,
    "start_time": "2023-02-19T13:43:26.142Z"
   },
   {
    "duration": 8,
    "start_time": "2023-02-19T13:43:29.133Z"
   },
   {
    "duration": 37,
    "start_time": "2023-02-19T13:43:57.021Z"
   },
   {
    "duration": 20,
    "start_time": "2023-02-19T13:44:10.764Z"
   },
   {
    "duration": 22,
    "start_time": "2023-02-19T13:44:19.004Z"
   },
   {
    "duration": 10,
    "start_time": "2023-02-19T13:44:43.342Z"
   },
   {
    "duration": 15,
    "start_time": "2023-02-19T13:44:43.968Z"
   },
   {
    "duration": 11,
    "start_time": "2023-02-19T13:44:50.628Z"
   },
   {
    "duration": 109,
    "start_time": "2023-02-19T13:45:05.469Z"
   },
   {
    "duration": 3,
    "start_time": "2023-02-19T14:02:56.435Z"
   },
   {
    "duration": 4,
    "start_time": "2023-02-19T14:03:18.516Z"
   },
   {
    "duration": 4,
    "start_time": "2023-02-19T14:03:56.646Z"
   },
   {
    "duration": 3,
    "start_time": "2023-02-19T14:04:08.831Z"
   },
   {
    "duration": 3,
    "start_time": "2023-02-19T14:12:45.299Z"
   },
   {
    "duration": 8,
    "start_time": "2023-02-19T14:15:21.796Z"
   },
   {
    "duration": 2,
    "start_time": "2023-02-19T14:17:19.521Z"
   },
   {
    "duration": 839,
    "start_time": "2023-02-19T14:17:32.743Z"
   },
   {
    "duration": 9,
    "start_time": "2023-02-19T14:18:23.032Z"
   },
   {
    "duration": 5,
    "start_time": "2023-02-19T14:18:29.002Z"
   },
   {
    "duration": 15,
    "start_time": "2023-02-19T14:29:50.326Z"
   },
   {
    "duration": 14,
    "start_time": "2023-02-19T14:29:57.383Z"
   },
   {
    "duration": 1413,
    "start_time": "2023-02-19T20:16:25.434Z"
   },
   {
    "duration": 3,
    "start_time": "2023-02-19T20:16:37.927Z"
   },
   {
    "duration": 1977,
    "start_time": "2023-02-19T20:16:37.932Z"
   },
   {
    "duration": 18,
    "start_time": "2023-02-19T20:16:39.911Z"
   },
   {
    "duration": 25,
    "start_time": "2023-02-19T20:16:39.930Z"
   },
   {
    "duration": 9,
    "start_time": "2023-02-19T20:16:39.957Z"
   },
   {
    "duration": 29,
    "start_time": "2023-02-19T20:16:39.967Z"
   },
   {
    "duration": 17,
    "start_time": "2023-02-19T20:16:39.998Z"
   },
   {
    "duration": 134,
    "start_time": "2023-02-19T20:16:40.017Z"
   },
   {
    "duration": 3,
    "start_time": "2023-02-19T20:16:40.153Z"
   },
   {
    "duration": 23,
    "start_time": "2023-02-19T20:16:40.157Z"
   },
   {
    "duration": 45,
    "start_time": "2023-02-19T20:16:40.182Z"
   },
   {
    "duration": 17,
    "start_time": "2023-02-19T20:16:40.228Z"
   },
   {
    "duration": 4,
    "start_time": "2023-02-19T20:16:40.246Z"
   },
   {
    "duration": 10,
    "start_time": "2023-02-19T20:16:40.254Z"
   },
   {
    "duration": 33,
    "start_time": "2023-02-19T20:16:40.265Z"
   },
   {
    "duration": 4,
    "start_time": "2023-02-19T20:16:40.299Z"
   },
   {
    "duration": 26,
    "start_time": "2023-02-19T20:16:40.304Z"
   },
   {
    "duration": 44,
    "start_time": "2023-02-19T20:16:40.332Z"
   },
   {
    "duration": 36,
    "start_time": "2023-02-19T20:16:40.377Z"
   },
   {
    "duration": 25,
    "start_time": "2023-02-19T20:16:40.414Z"
   },
   {
    "duration": 9,
    "start_time": "2023-02-19T20:16:40.441Z"
   },
   {
    "duration": 105,
    "start_time": "2023-02-19T20:16:40.452Z"
   },
   {
    "duration": 3,
    "start_time": "2023-02-19T20:16:40.559Z"
   },
   {
    "duration": 6,
    "start_time": "2023-02-19T20:16:40.563Z"
   },
   {
    "duration": 24,
    "start_time": "2023-02-19T20:16:40.571Z"
   },
   {
    "duration": 5,
    "start_time": "2023-02-19T20:16:40.600Z"
   },
   {
    "duration": 18,
    "start_time": "2023-02-19T20:16:40.606Z"
   },
   {
    "duration": 13,
    "start_time": "2023-02-19T20:16:40.625Z"
   },
   {
    "duration": 891,
    "start_time": "2023-02-19T20:16:40.640Z"
   },
   {
    "duration": 932,
    "start_time": "2023-02-19T20:20:46.564Z"
   },
   {
    "duration": 841,
    "start_time": "2023-02-19T20:21:21.183Z"
   },
   {
    "duration": 1035,
    "start_time": "2023-02-19T20:22:34.966Z"
   },
   {
    "duration": 824,
    "start_time": "2023-02-19T20:22:50.118Z"
   },
   {
    "duration": 941,
    "start_time": "2023-02-19T20:23:03.617Z"
   },
   {
    "duration": 982,
    "start_time": "2023-02-19T20:23:22.421Z"
   },
   {
    "duration": 815,
    "start_time": "2023-02-19T20:23:42.094Z"
   },
   {
    "duration": 984,
    "start_time": "2023-02-19T20:23:57.473Z"
   },
   {
    "duration": 890,
    "start_time": "2023-02-19T20:24:18.380Z"
   },
   {
    "duration": 979,
    "start_time": "2023-02-19T20:24:36.473Z"
   },
   {
    "duration": 887,
    "start_time": "2023-02-19T20:24:51.564Z"
   },
   {
    "duration": 953,
    "start_time": "2023-02-19T20:25:06.078Z"
   },
   {
    "duration": 878,
    "start_time": "2023-02-19T20:25:27.776Z"
   },
   {
    "duration": 912,
    "start_time": "2023-02-19T20:25:58.258Z"
   },
   {
    "duration": 944,
    "start_time": "2023-02-19T20:26:25.061Z"
   },
   {
    "duration": 922,
    "start_time": "2023-02-19T20:26:41.193Z"
   },
   {
    "duration": 957,
    "start_time": "2023-02-19T20:26:53.016Z"
   },
   {
    "duration": 697,
    "start_time": "2023-02-19T20:27:31.829Z"
   },
   {
    "duration": 941,
    "start_time": "2023-02-19T20:27:36.057Z"
   },
   {
    "duration": 720,
    "start_time": "2023-02-19T20:27:57.444Z"
   },
   {
    "duration": 689,
    "start_time": "2023-02-19T20:28:02.429Z"
   },
   {
    "duration": 636,
    "start_time": "2023-02-19T20:28:06.447Z"
   },
   {
    "duration": 868,
    "start_time": "2023-02-19T20:28:19.629Z"
   },
   {
    "duration": 806,
    "start_time": "2023-02-19T20:30:23.996Z"
   },
   {
    "duration": 1002,
    "start_time": "2023-02-19T20:30:33.128Z"
   },
   {
    "duration": 1020,
    "start_time": "2023-02-19T20:30:38.575Z"
   },
   {
    "duration": 884,
    "start_time": "2023-02-19T20:38:57.002Z"
   },
   {
    "duration": 834,
    "start_time": "2023-02-19T20:40:59.479Z"
   },
   {
    "duration": 759,
    "start_time": "2023-02-19T20:41:10.550Z"
   },
   {
    "duration": 853,
    "start_time": "2023-02-19T20:45:21.497Z"
   },
   {
    "duration": 522,
    "start_time": "2023-02-19T20:49:16.357Z"
   },
   {
    "duration": 504,
    "start_time": "2023-02-19T20:51:17.733Z"
   },
   {
    "duration": 669,
    "start_time": "2023-02-19T20:51:28.222Z"
   },
   {
    "duration": 731,
    "start_time": "2023-02-19T20:52:05.947Z"
   },
   {
    "duration": 483,
    "start_time": "2023-02-19T20:52:20.463Z"
   },
   {
    "duration": 8,
    "start_time": "2023-02-19T20:56:43.468Z"
   },
   {
    "duration": 10,
    "start_time": "2023-02-19T20:56:56.751Z"
   },
   {
    "duration": 9,
    "start_time": "2023-02-19T20:57:09.297Z"
   },
   {
    "duration": 16,
    "start_time": "2023-02-19T20:59:36.779Z"
   },
   {
    "duration": 552,
    "start_time": "2023-02-19T21:04:20.526Z"
   },
   {
    "duration": 600,
    "start_time": "2023-02-19T21:04:35.369Z"
   },
   {
    "duration": 521,
    "start_time": "2023-02-19T21:04:47.949Z"
   },
   {
    "duration": 342,
    "start_time": "2023-02-19T21:05:40.775Z"
   },
   {
    "duration": 316,
    "start_time": "2023-02-19T21:06:11.229Z"
   },
   {
    "duration": 489,
    "start_time": "2023-02-19T21:06:27.932Z"
   },
   {
    "duration": 81,
    "start_time": "2023-02-19T21:08:13.424Z"
   },
   {
    "duration": 84,
    "start_time": "2023-02-19T21:09:56.679Z"
   },
   {
    "duration": 10,
    "start_time": "2023-02-19T21:10:01.377Z"
   },
   {
    "duration": 358,
    "start_time": "2023-02-19T21:10:16.206Z"
   },
   {
    "duration": 356,
    "start_time": "2023-02-19T21:10:28.366Z"
   },
   {
    "duration": 445,
    "start_time": "2023-02-19T21:10:35.650Z"
   },
   {
    "duration": 10,
    "start_time": "2023-02-19T21:12:07.839Z"
   },
   {
    "duration": 1347,
    "start_time": "2023-02-19T21:13:13.315Z"
   },
   {
    "duration": 11,
    "start_time": "2023-02-19T21:13:45.255Z"
   },
   {
    "duration": 431,
    "start_time": "2023-02-19T21:14:00.945Z"
   },
   {
    "duration": 601,
    "start_time": "2023-02-19T21:14:15.172Z"
   },
   {
    "duration": 398,
    "start_time": "2023-02-19T21:14:21.903Z"
   },
   {
    "duration": 338,
    "start_time": "2023-02-19T21:14:28.677Z"
   },
   {
    "duration": 3,
    "start_time": "2023-02-19T21:16:07.642Z"
   },
   {
    "duration": 747,
    "start_time": "2023-02-19T21:16:07.647Z"
   },
   {
    "duration": 21,
    "start_time": "2023-02-19T21:16:08.395Z"
   },
   {
    "duration": 36,
    "start_time": "2023-02-19T21:16:08.418Z"
   },
   {
    "duration": 11,
    "start_time": "2023-02-19T21:16:08.456Z"
   },
   {
    "duration": 8,
    "start_time": "2023-02-19T21:16:08.469Z"
   },
   {
    "duration": 27,
    "start_time": "2023-02-19T21:16:08.479Z"
   },
   {
    "duration": 147,
    "start_time": "2023-02-19T21:16:08.509Z"
   },
   {
    "duration": 4,
    "start_time": "2023-02-19T21:16:08.658Z"
   },
   {
    "duration": 39,
    "start_time": "2023-02-19T21:16:08.664Z"
   },
   {
    "duration": 51,
    "start_time": "2023-02-19T21:16:08.712Z"
   },
   {
    "duration": 28,
    "start_time": "2023-02-19T21:16:08.765Z"
   },
   {
    "duration": 31,
    "start_time": "2023-02-19T21:16:08.801Z"
   },
   {
    "duration": 81,
    "start_time": "2023-02-19T21:16:08.834Z"
   },
   {
    "duration": 106,
    "start_time": "2023-02-19T21:16:08.917Z"
   },
   {
    "duration": 21,
    "start_time": "2023-02-19T21:16:09.024Z"
   },
   {
    "duration": 31,
    "start_time": "2023-02-19T21:16:09.046Z"
   },
   {
    "duration": 33,
    "start_time": "2023-02-19T21:16:09.079Z"
   },
   {
    "duration": 32,
    "start_time": "2023-02-19T21:16:09.114Z"
   },
   {
    "duration": 23,
    "start_time": "2023-02-19T21:16:09.148Z"
   },
   {
    "duration": 19,
    "start_time": "2023-02-19T21:16:09.174Z"
   },
   {
    "duration": 141,
    "start_time": "2023-02-19T21:16:09.197Z"
   },
   {
    "duration": 3,
    "start_time": "2023-02-19T21:16:09.340Z"
   },
   {
    "duration": 7,
    "start_time": "2023-02-19T21:16:09.345Z"
   },
   {
    "duration": 14,
    "start_time": "2023-02-19T21:16:09.354Z"
   },
   {
    "duration": 10,
    "start_time": "2023-02-19T21:16:09.393Z"
   },
   {
    "duration": 31,
    "start_time": "2023-02-19T21:16:09.405Z"
   },
   {
    "duration": 16,
    "start_time": "2023-02-19T21:16:09.438Z"
   },
   {
    "duration": 937,
    "start_time": "2023-02-19T21:16:09.457Z"
   },
   {
    "duration": 839,
    "start_time": "2023-02-19T21:16:10.404Z"
   },
   {
    "duration": 803,
    "start_time": "2023-02-19T21:16:11.247Z"
   },
   {
    "duration": 702,
    "start_time": "2023-02-19T21:16:12.052Z"
   },
   {
    "duration": 9,
    "start_time": "2023-02-19T21:16:12.756Z"
   },
   {
    "duration": 78,
    "start_time": "2023-02-19T21:16:12.767Z"
   },
   {
    "duration": 9,
    "start_time": "2023-02-19T21:16:12.847Z"
   },
   {
    "duration": 394,
    "start_time": "2023-02-19T21:16:12.858Z"
   },
   {
    "duration": 11,
    "start_time": "2023-02-19T21:16:13.253Z"
   },
   {
    "duration": 405,
    "start_time": "2023-02-19T21:16:13.266Z"
   },
   {
    "duration": 24,
    "start_time": "2023-02-19T21:16:13.673Z"
   },
   {
    "duration": 436,
    "start_time": "2023-02-19T21:16:13.698Z"
   },
   {
    "duration": 5,
    "start_time": "2023-02-19T21:38:53.215Z"
   },
   {
    "duration": 7,
    "start_time": "2023-02-19T21:42:36.717Z"
   },
   {
    "duration": 12,
    "start_time": "2023-02-19T21:42:44.382Z"
   },
   {
    "duration": 10,
    "start_time": "2023-02-19T21:43:01.882Z"
   },
   {
    "duration": 5,
    "start_time": "2023-02-19T21:43:14.126Z"
   },
   {
    "duration": 19,
    "start_time": "2023-02-19T21:43:14.976Z"
   },
   {
    "duration": 5,
    "start_time": "2023-02-19T21:43:37.018Z"
   },
   {
    "duration": 6,
    "start_time": "2023-02-19T21:43:37.265Z"
   },
   {
    "duration": 8,
    "start_time": "2023-02-19T21:43:50.710Z"
   },
   {
    "duration": 4,
    "start_time": "2023-02-19T21:43:52.615Z"
   },
   {
    "duration": 852,
    "start_time": "2023-02-19T21:43:52.621Z"
   },
   {
    "duration": 35,
    "start_time": "2023-02-19T21:43:53.475Z"
   },
   {
    "duration": 34,
    "start_time": "2023-02-19T21:43:53.513Z"
   },
   {
    "duration": 14,
    "start_time": "2023-02-19T21:43:53.549Z"
   },
   {
    "duration": 9,
    "start_time": "2023-02-19T21:43:53.565Z"
   },
   {
    "duration": 17,
    "start_time": "2023-02-19T21:43:53.576Z"
   },
   {
    "duration": 166,
    "start_time": "2023-02-19T21:43:53.594Z"
   },
   {
    "duration": 3,
    "start_time": "2023-02-19T21:43:53.762Z"
   },
   {
    "duration": 23,
    "start_time": "2023-02-19T21:43:53.767Z"
   },
   {
    "duration": 53,
    "start_time": "2023-02-19T21:43:53.792Z"
   },
   {
    "duration": 31,
    "start_time": "2023-02-19T21:43:53.847Z"
   },
   {
    "duration": 43,
    "start_time": "2023-02-19T21:43:53.880Z"
   },
   {
    "duration": 12,
    "start_time": "2023-02-19T21:43:53.925Z"
   },
   {
    "duration": 27,
    "start_time": "2023-02-19T21:43:53.939Z"
   },
   {
    "duration": 4,
    "start_time": "2023-02-19T21:43:53.968Z"
   },
   {
    "duration": 35,
    "start_time": "2023-02-19T21:43:53.974Z"
   },
   {
    "duration": 47,
    "start_time": "2023-02-19T21:43:54.010Z"
   },
   {
    "duration": 18,
    "start_time": "2023-02-19T21:43:54.059Z"
   },
   {
    "duration": 15,
    "start_time": "2023-02-19T21:43:54.080Z"
   },
   {
    "duration": 38,
    "start_time": "2023-02-19T21:43:54.097Z"
   },
   {
    "duration": 120,
    "start_time": "2023-02-19T21:43:54.138Z"
   },
   {
    "duration": 4,
    "start_time": "2023-02-19T21:43:54.259Z"
   },
   {
    "duration": 4,
    "start_time": "2023-02-19T21:43:54.267Z"
   },
   {
    "duration": 18,
    "start_time": "2023-02-19T21:43:54.272Z"
   },
   {
    "duration": 29,
    "start_time": "2023-02-19T21:43:54.292Z"
   },
   {
    "duration": 16,
    "start_time": "2023-02-19T21:43:54.322Z"
   },
   {
    "duration": 14,
    "start_time": "2023-02-19T21:43:54.340Z"
   },
   {
    "duration": 1001,
    "start_time": "2023-02-19T21:43:54.356Z"
   },
   {
    "duration": 918,
    "start_time": "2023-02-19T21:43:55.359Z"
   },
   {
    "duration": 983,
    "start_time": "2023-02-19T21:43:56.280Z"
   },
   {
    "duration": 521,
    "start_time": "2023-02-19T21:43:57.265Z"
   },
   {
    "duration": 10,
    "start_time": "2023-02-19T21:43:57.787Z"
   },
   {
    "duration": 42,
    "start_time": "2023-02-19T21:43:57.799Z"
   },
   {
    "duration": 8,
    "start_time": "2023-02-19T21:43:57.842Z"
   },
   {
    "duration": 369,
    "start_time": "2023-02-19T21:43:57.851Z"
   },
   {
    "duration": 9,
    "start_time": "2023-02-19T21:43:58.222Z"
   },
   {
    "duration": 441,
    "start_time": "2023-02-19T21:43:58.233Z"
   },
   {
    "duration": 13,
    "start_time": "2023-02-19T21:43:58.676Z"
   },
   {
    "duration": 555,
    "start_time": "2023-02-19T21:43:58.691Z"
   },
   {
    "duration": 3,
    "start_time": "2023-02-19T21:43:59.248Z"
   },
   {
    "duration": 13,
    "start_time": "2023-02-19T21:43:59.253Z"
   },
   {
    "duration": 11,
    "start_time": "2023-02-19T21:43:59.268Z"
   },
   {
    "duration": 10,
    "start_time": "2023-02-19T21:44:57.212Z"
   },
   {
    "duration": 5,
    "start_time": "2023-02-19T21:46:06.415Z"
   },
   {
    "duration": 15,
    "start_time": "2023-02-19T21:47:13.323Z"
   },
   {
    "duration": 11,
    "start_time": "2023-02-19T21:49:32.318Z"
   },
   {
    "duration": 3,
    "start_time": "2023-02-19T21:49:59.871Z"
   },
   {
    "duration": 326,
    "start_time": "2023-02-19T21:50:05.979Z"
   },
   {
    "duration": 2,
    "start_time": "2023-02-19T21:50:08.435Z"
   },
   {
    "duration": 7,
    "start_time": "2023-02-19T21:50:08.440Z"
   },
   {
    "duration": 793,
    "start_time": "2023-02-19T21:50:08.450Z"
   },
   {
    "duration": 17,
    "start_time": "2023-02-19T21:50:09.245Z"
   },
   {
    "duration": 53,
    "start_time": "2023-02-19T21:50:09.264Z"
   },
   {
    "duration": 17,
    "start_time": "2023-02-19T21:50:09.319Z"
   },
   {
    "duration": 21,
    "start_time": "2023-02-19T21:50:09.338Z"
   },
   {
    "duration": 44,
    "start_time": "2023-02-19T21:50:09.360Z"
   },
   {
    "duration": 146,
    "start_time": "2023-02-19T21:50:09.413Z"
   },
   {
    "duration": 3,
    "start_time": "2023-02-19T21:50:09.560Z"
   },
   {
    "duration": 32,
    "start_time": "2023-02-19T21:50:09.566Z"
   },
   {
    "duration": 29,
    "start_time": "2023-02-19T21:50:09.599Z"
   },
   {
    "duration": 7,
    "start_time": "2023-02-19T21:50:09.630Z"
   },
   {
    "duration": 6,
    "start_time": "2023-02-19T21:50:09.639Z"
   },
   {
    "duration": 11,
    "start_time": "2023-02-19T21:50:09.647Z"
   },
   {
    "duration": 52,
    "start_time": "2023-02-19T21:50:09.660Z"
   },
   {
    "duration": 4,
    "start_time": "2023-02-19T21:50:09.716Z"
   },
   {
    "duration": 26,
    "start_time": "2023-02-19T21:50:09.723Z"
   },
   {
    "duration": 58,
    "start_time": "2023-02-19T21:50:09.751Z"
   },
   {
    "duration": 22,
    "start_time": "2023-02-19T21:50:09.811Z"
   },
   {
    "duration": 13,
    "start_time": "2023-02-19T21:50:09.835Z"
   },
   {
    "duration": 10,
    "start_time": "2023-02-19T21:50:09.850Z"
   },
   {
    "duration": 107,
    "start_time": "2023-02-19T21:50:09.862Z"
   },
   {
    "duration": 4,
    "start_time": "2023-02-19T21:50:09.970Z"
   },
   {
    "duration": 54,
    "start_time": "2023-02-19T21:50:09.975Z"
   },
   {
    "duration": 27,
    "start_time": "2023-02-19T21:50:10.030Z"
   },
   {
    "duration": 5,
    "start_time": "2023-02-19T21:50:10.059Z"
   },
   {
    "duration": 26,
    "start_time": "2023-02-19T21:50:10.065Z"
   },
   {
    "duration": 44,
    "start_time": "2023-02-19T21:50:10.096Z"
   },
   {
    "duration": 918,
    "start_time": "2023-02-19T21:50:10.143Z"
   },
   {
    "duration": 849,
    "start_time": "2023-02-19T21:50:11.062Z"
   },
   {
    "duration": 841,
    "start_time": "2023-02-19T21:50:11.912Z"
   },
   {
    "duration": 714,
    "start_time": "2023-02-19T21:50:12.754Z"
   },
   {
    "duration": 17,
    "start_time": "2023-02-19T21:50:13.469Z"
   },
   {
    "duration": 16,
    "start_time": "2023-02-19T21:50:13.488Z"
   },
   {
    "duration": 32,
    "start_time": "2023-02-19T21:50:13.507Z"
   },
   {
    "duration": 385,
    "start_time": "2023-02-19T21:50:13.541Z"
   },
   {
    "duration": 8,
    "start_time": "2023-02-19T21:50:13.928Z"
   },
   {
    "duration": 398,
    "start_time": "2023-02-19T21:50:13.937Z"
   },
   {
    "duration": 9,
    "start_time": "2023-02-19T21:50:14.337Z"
   },
   {
    "duration": 387,
    "start_time": "2023-02-19T21:50:14.348Z"
   },
   {
    "duration": 3,
    "start_time": "2023-02-19T21:50:14.737Z"
   },
   {
    "duration": 74,
    "start_time": "2023-02-19T21:50:14.742Z"
   },
   {
    "duration": 14,
    "start_time": "2023-02-19T21:50:14.818Z"
   },
   {
    "duration": 32,
    "start_time": "2023-02-19T21:50:14.833Z"
   },
   {
    "duration": 24,
    "start_time": "2023-02-19T21:50:14.867Z"
   },
   {
    "duration": 46,
    "start_time": "2023-02-19T21:50:14.894Z"
   },
   {
    "duration": 28,
    "start_time": "2023-02-19T21:50:14.943Z"
   },
   {
    "duration": 4,
    "start_time": "2023-02-19T21:51:54.420Z"
   },
   {
    "duration": 124,
    "start_time": "2023-02-19T21:52:04.723Z"
   },
   {
    "duration": 4,
    "start_time": "2023-02-19T21:52:15.162Z"
   },
   {
    "duration": 4,
    "start_time": "2023-02-19T21:52:37.069Z"
   },
   {
    "duration": 12,
    "start_time": "2023-02-19T21:56:20.998Z"
   },
   {
    "duration": 4,
    "start_time": "2023-02-19T21:56:21.529Z"
   },
   {
    "duration": 6271,
    "start_time": "2023-02-19T22:00:32.893Z"
   },
   {
    "duration": 3297,
    "start_time": "2023-02-19T22:01:05.320Z"
   },
   {
    "duration": 6183,
    "start_time": "2023-02-19T22:02:11.318Z"
   },
   {
    "duration": 362839,
    "start_time": "2023-02-19T22:02:25.233Z"
   },
   {
    "duration": 3,
    "start_time": "2023-02-19T22:09:17.963Z"
   },
   {
    "duration": 77,
    "start_time": "2023-02-19T22:13:25.905Z"
   },
   {
    "duration": 481,
    "start_time": "2023-02-19T22:22:59.576Z"
   },
   {
    "duration": 4,
    "start_time": "2023-02-19T22:24:03.240Z"
   },
   {
    "duration": 3,
    "start_time": "2023-02-19T22:24:09.138Z"
   },
   {
    "duration": 514,
    "start_time": "2023-02-19T22:24:15.541Z"
   },
   {
    "duration": 830,
    "start_time": "2023-02-20T09:56:13.061Z"
   },
   {
    "duration": 806,
    "start_time": "2023-02-20T09:56:13.893Z"
   },
   {
    "duration": 1970,
    "start_time": "2023-02-20T09:56:14.701Z"
   },
   {
    "duration": 18,
    "start_time": "2023-02-20T09:56:16.672Z"
   },
   {
    "duration": 23,
    "start_time": "2023-02-20T09:56:16.692Z"
   },
   {
    "duration": 20,
    "start_time": "2023-02-20T09:56:16.717Z"
   },
   {
    "duration": 10,
    "start_time": "2023-02-20T09:56:16.738Z"
   },
   {
    "duration": 8,
    "start_time": "2023-02-20T09:56:16.749Z"
   },
   {
    "duration": 160,
    "start_time": "2023-02-20T09:56:16.759Z"
   },
   {
    "duration": 3,
    "start_time": "2023-02-20T09:56:16.921Z"
   },
   {
    "duration": 29,
    "start_time": "2023-02-20T09:56:16.925Z"
   },
   {
    "duration": 20,
    "start_time": "2023-02-20T09:56:16.956Z"
   },
   {
    "duration": 19,
    "start_time": "2023-02-20T09:56:16.978Z"
   },
   {
    "duration": 16,
    "start_time": "2023-02-20T09:56:17.000Z"
   },
   {
    "duration": 17,
    "start_time": "2023-02-20T09:56:17.017Z"
   },
   {
    "duration": 28,
    "start_time": "2023-02-20T09:56:17.036Z"
   },
   {
    "duration": 3,
    "start_time": "2023-02-20T09:56:17.066Z"
   },
   {
    "duration": 34,
    "start_time": "2023-02-20T09:56:17.071Z"
   },
   {
    "duration": 35,
    "start_time": "2023-02-20T09:56:17.107Z"
   },
   {
    "duration": 24,
    "start_time": "2023-02-20T09:56:17.143Z"
   },
   {
    "duration": 36,
    "start_time": "2023-02-20T09:56:17.168Z"
   },
   {
    "duration": 9,
    "start_time": "2023-02-20T09:56:17.206Z"
   },
   {
    "duration": 92,
    "start_time": "2023-02-20T09:56:17.217Z"
   },
   {
    "duration": 3,
    "start_time": "2023-02-20T09:56:17.311Z"
   },
   {
    "duration": 9,
    "start_time": "2023-02-20T09:56:17.315Z"
   },
   {
    "duration": 17,
    "start_time": "2023-02-20T09:56:17.326Z"
   },
   {
    "duration": 6,
    "start_time": "2023-02-20T09:56:17.345Z"
   },
   {
    "duration": 17,
    "start_time": "2023-02-20T09:56:17.352Z"
   },
   {
    "duration": 13,
    "start_time": "2023-02-20T09:56:17.371Z"
   },
   {
    "duration": 840,
    "start_time": "2023-02-20T09:56:17.386Z"
   },
   {
    "duration": 716,
    "start_time": "2023-02-20T09:56:18.228Z"
   },
   {
    "duration": 710,
    "start_time": "2023-02-20T09:56:18.947Z"
   },
   {
    "duration": 534,
    "start_time": "2023-02-20T09:56:19.658Z"
   },
   {
    "duration": 9,
    "start_time": "2023-02-20T09:56:20.193Z"
   },
   {
    "duration": 11,
    "start_time": "2023-02-20T09:56:20.203Z"
   },
   {
    "duration": 22,
    "start_time": "2023-02-20T09:56:20.216Z"
   },
   {
    "duration": 310,
    "start_time": "2023-02-20T09:56:20.240Z"
   },
   {
    "duration": 7,
    "start_time": "2023-02-20T09:56:20.551Z"
   },
   {
    "duration": 316,
    "start_time": "2023-02-20T09:56:20.560Z"
   },
   {
    "duration": 6,
    "start_time": "2023-02-20T09:56:20.878Z"
   },
   {
    "duration": 317,
    "start_time": "2023-02-20T09:56:20.887Z"
   },
   {
    "duration": 3,
    "start_time": "2023-02-20T09:56:21.205Z"
   },
   {
    "duration": 8,
    "start_time": "2023-02-20T09:56:21.210Z"
   },
   {
    "duration": 20,
    "start_time": "2023-02-20T09:56:21.219Z"
   },
   {
    "duration": 2,
    "start_time": "2023-02-20T09:56:21.241Z"
   },
   {
    "duration": 15,
    "start_time": "2023-02-20T09:56:21.245Z"
   },
   {
    "duration": 14,
    "start_time": "2023-02-20T09:56:21.261Z"
   },
   {
    "duration": 25,
    "start_time": "2023-02-20T09:56:21.277Z"
   },
   {
    "duration": 3,
    "start_time": "2023-02-20T09:56:21.303Z"
   },
   {
    "duration": 5,
    "start_time": "2023-02-20T09:56:21.308Z"
   },
   {
    "duration": 5172,
    "start_time": "2023-02-20T09:56:21.314Z"
   },
   {
    "duration": 0,
    "start_time": "2023-02-20T09:56:26.489Z"
   },
   {
    "duration": 0,
    "start_time": "2023-02-20T09:56:26.491Z"
   },
   {
    "duration": 0,
    "start_time": "2023-02-20T09:56:26.492Z"
   },
   {
    "duration": 3,
    "start_time": "2023-02-20T09:56:54.978Z"
   },
   {
    "duration": 5,
    "start_time": "2023-02-20T09:56:54.984Z"
   },
   {
    "duration": 749,
    "start_time": "2023-02-20T09:56:54.991Z"
   },
   {
    "duration": 17,
    "start_time": "2023-02-20T09:56:55.741Z"
   },
   {
    "duration": 20,
    "start_time": "2023-02-20T09:56:55.760Z"
   },
   {
    "duration": 10,
    "start_time": "2023-02-20T09:56:55.782Z"
   },
   {
    "duration": 9,
    "start_time": "2023-02-20T09:56:55.794Z"
   },
   {
    "duration": 36,
    "start_time": "2023-02-20T09:56:55.805Z"
   },
   {
    "duration": 140,
    "start_time": "2023-02-20T09:56:55.842Z"
   },
   {
    "duration": 4,
    "start_time": "2023-02-20T09:56:55.983Z"
   },
   {
    "duration": 19,
    "start_time": "2023-02-20T09:56:55.989Z"
   },
   {
    "duration": 42,
    "start_time": "2023-02-20T09:56:56.010Z"
   },
   {
    "duration": 6,
    "start_time": "2023-02-20T09:56:56.054Z"
   },
   {
    "duration": 4,
    "start_time": "2023-02-20T09:56:56.062Z"
   },
   {
    "duration": 8,
    "start_time": "2023-02-20T09:56:56.068Z"
   },
   {
    "duration": 26,
    "start_time": "2023-02-20T09:56:56.077Z"
   },
   {
    "duration": 4,
    "start_time": "2023-02-20T09:56:56.104Z"
   },
   {
    "duration": 46,
    "start_time": "2023-02-20T09:56:56.110Z"
   },
   {
    "duration": 20,
    "start_time": "2023-02-20T09:56:56.157Z"
   },
   {
    "duration": 11,
    "start_time": "2023-02-20T09:56:56.178Z"
   },
   {
    "duration": 15,
    "start_time": "2023-02-20T09:56:56.190Z"
   },
   {
    "duration": 36,
    "start_time": "2023-02-20T09:56:56.206Z"
   },
   {
    "duration": 113,
    "start_time": "2023-02-20T09:56:56.243Z"
   },
   {
    "duration": 4,
    "start_time": "2023-02-20T09:56:56.358Z"
   },
   {
    "duration": 9,
    "start_time": "2023-02-20T09:56:56.364Z"
   },
   {
    "duration": 10,
    "start_time": "2023-02-20T09:56:56.375Z"
   },
   {
    "duration": 5,
    "start_time": "2023-02-20T09:56:56.387Z"
   },
   {
    "duration": 18,
    "start_time": "2023-02-20T09:56:56.393Z"
   },
   {
    "duration": 13,
    "start_time": "2023-02-20T09:56:56.436Z"
   },
   {
    "duration": 790,
    "start_time": "2023-02-20T09:56:56.451Z"
   },
   {
    "duration": 677,
    "start_time": "2023-02-20T09:56:57.243Z"
   },
   {
    "duration": 819,
    "start_time": "2023-02-20T09:56:57.922Z"
   },
   {
    "duration": 427,
    "start_time": "2023-02-20T09:56:58.743Z"
   },
   {
    "duration": 9,
    "start_time": "2023-02-20T09:56:59.172Z"
   },
   {
    "duration": 8,
    "start_time": "2023-02-20T09:56:59.183Z"
   },
   {
    "duration": 7,
    "start_time": "2023-02-20T09:56:59.193Z"
   },
   {
    "duration": 307,
    "start_time": "2023-02-20T09:56:59.202Z"
   },
   {
    "duration": 8,
    "start_time": "2023-02-20T09:56:59.510Z"
   },
   {
    "duration": 326,
    "start_time": "2023-02-20T09:56:59.519Z"
   },
   {
    "duration": 8,
    "start_time": "2023-02-20T09:56:59.847Z"
   },
   {
    "duration": 429,
    "start_time": "2023-02-20T09:56:59.857Z"
   },
   {
    "duration": 3,
    "start_time": "2023-02-20T09:57:00.288Z"
   },
   {
    "duration": 37,
    "start_time": "2023-02-20T09:57:00.293Z"
   },
   {
    "duration": 34,
    "start_time": "2023-02-20T09:57:00.332Z"
   },
   {
    "duration": 31,
    "start_time": "2023-02-20T09:57:00.368Z"
   },
   {
    "duration": 79,
    "start_time": "2023-02-20T09:57:00.401Z"
   },
   {
    "duration": 40,
    "start_time": "2023-02-20T09:57:00.482Z"
   },
   {
    "duration": 64,
    "start_time": "2023-02-20T09:57:00.523Z"
   },
   {
    "duration": 24,
    "start_time": "2023-02-20T09:57:11.313Z"
   },
   {
    "duration": 4,
    "start_time": "2023-02-20T09:57:11.339Z"
   },
   {
    "duration": 18,
    "start_time": "2023-02-20T09:57:11.345Z"
   },
   {
    "duration": 5905,
    "start_time": "2023-02-20T09:57:11.366Z"
   },
   {
    "duration": 10,
    "start_time": "2023-02-20T09:57:17.273Z"
   },
   {
    "duration": 0,
    "start_time": "2023-02-20T09:57:17.285Z"
   },
   {
    "duration": 0,
    "start_time": "2023-02-20T09:57:17.287Z"
   },
   {
    "duration": 5182,
    "start_time": "2023-02-20T09:57:39.927Z"
   },
   {
    "duration": 2528,
    "start_time": "2023-02-20T09:57:45.111Z"
   },
   {
    "duration": 307132,
    "start_time": "2023-02-20T09:57:47.641Z"
   },
   {
    "duration": 5086,
    "start_time": "2023-02-20T10:03:46.434Z"
   },
   {
    "duration": 2416,
    "start_time": "2023-02-20T10:03:51.522Z"
   },
   {
    "duration": 161072,
    "start_time": "2023-02-20T10:05:43.997Z"
   },
   {
    "duration": 5062656,
    "start_time": "2023-02-20T10:08:42.666Z"
   },
   {
    "duration": 148455,
    "start_time": "2023-02-20T11:33:27.058Z"
   },
   {
    "duration": 136852,
    "start_time": "2023-02-20T11:43:25.665Z"
   },
   {
    "duration": 11,
    "start_time": "2023-02-20T11:48:14.897Z"
   },
   {
    "duration": 10,
    "start_time": "2023-02-20T11:48:35.118Z"
   },
   {
    "duration": 5,
    "start_time": "2023-02-20T11:48:52.306Z"
   },
   {
    "duration": 10,
    "start_time": "2023-02-20T11:48:55.972Z"
   },
   {
    "duration": 5,
    "start_time": "2023-02-20T11:48:59.883Z"
   },
   {
    "duration": 197989,
    "start_time": "2023-02-20T11:51:45.180Z"
   },
   {
    "duration": 453949,
    "start_time": "2023-02-20T12:03:59.318Z"
   },
   {
    "duration": 4,
    "start_time": "2023-02-20T12:12:13.355Z"
   },
   {
    "duration": 9143,
    "start_time": "2023-02-20T12:12:14.130Z"
   },
   {
    "duration": 0,
    "start_time": "2023-02-20T12:12:23.275Z"
   },
   {
    "duration": 4,
    "start_time": "2023-02-20T12:16:16.457Z"
   },
   {
    "duration": 9123,
    "start_time": "2023-02-20T12:16:17.526Z"
   },
   {
    "duration": 11170,
    "start_time": "2023-02-20T12:16:26.652Z"
   },
   {
    "duration": 3,
    "start_time": "2023-02-20T12:42:18.592Z"
   },
   {
    "duration": 11,
    "start_time": "2023-02-20T12:42:18.597Z"
   },
   {
    "duration": 642,
    "start_time": "2023-02-20T12:42:18.610Z"
   },
   {
    "duration": 16,
    "start_time": "2023-02-20T12:42:19.254Z"
   },
   {
    "duration": 21,
    "start_time": "2023-02-20T12:42:19.272Z"
   },
   {
    "duration": 9,
    "start_time": "2023-02-20T12:42:19.295Z"
   },
   {
    "duration": 36,
    "start_time": "2023-02-20T12:42:19.305Z"
   },
   {
    "duration": 10,
    "start_time": "2023-02-20T12:42:19.342Z"
   },
   {
    "duration": 128,
    "start_time": "2023-02-20T12:42:19.353Z"
   },
   {
    "duration": 3,
    "start_time": "2023-02-20T12:42:19.483Z"
   },
   {
    "duration": 19,
    "start_time": "2023-02-20T12:42:19.488Z"
   },
   {
    "duration": 36,
    "start_time": "2023-02-20T12:42:19.508Z"
   },
   {
    "duration": 13,
    "start_time": "2023-02-20T12:42:19.545Z"
   },
   {
    "duration": 4,
    "start_time": "2023-02-20T12:42:19.560Z"
   },
   {
    "duration": 9,
    "start_time": "2023-02-20T12:42:19.566Z"
   },
   {
    "duration": 29,
    "start_time": "2023-02-20T12:42:19.577Z"
   },
   {
    "duration": 3,
    "start_time": "2023-02-20T12:42:19.608Z"
   },
   {
    "duration": 39,
    "start_time": "2023-02-20T12:42:19.613Z"
   },
   {
    "duration": 22,
    "start_time": "2023-02-20T12:42:19.654Z"
   },
   {
    "duration": 12,
    "start_time": "2023-02-20T12:42:19.678Z"
   },
   {
    "duration": 12,
    "start_time": "2023-02-20T12:42:19.692Z"
   },
   {
    "duration": 12,
    "start_time": "2023-02-20T12:42:19.737Z"
   },
   {
    "duration": 102,
    "start_time": "2023-02-20T12:42:19.751Z"
   },
   {
    "duration": 3,
    "start_time": "2023-02-20T12:42:19.855Z"
   },
   {
    "duration": 7,
    "start_time": "2023-02-20T12:42:19.860Z"
   },
   {
    "duration": 10,
    "start_time": "2023-02-20T12:42:19.868Z"
   },
   {
    "duration": 13,
    "start_time": "2023-02-20T12:42:19.880Z"
   },
   {
    "duration": 16,
    "start_time": "2023-02-20T12:42:19.895Z"
   },
   {
    "duration": 28,
    "start_time": "2023-02-20T12:42:19.916Z"
   },
   {
    "duration": 786,
    "start_time": "2023-02-20T12:42:19.946Z"
   },
   {
    "duration": 677,
    "start_time": "2023-02-20T12:42:20.737Z"
   },
   {
    "duration": 725,
    "start_time": "2023-02-20T12:42:21.416Z"
   },
   {
    "duration": 708,
    "start_time": "2023-02-20T12:42:22.143Z"
   },
   {
    "duration": 9,
    "start_time": "2023-02-20T12:42:22.853Z"
   },
   {
    "duration": 12,
    "start_time": "2023-02-20T12:42:22.863Z"
   },
   {
    "duration": 12,
    "start_time": "2023-02-20T12:42:22.877Z"
   },
   {
    "duration": 349,
    "start_time": "2023-02-20T12:42:22.891Z"
   },
   {
    "duration": 8,
    "start_time": "2023-02-20T12:42:23.242Z"
   },
   {
    "duration": 360,
    "start_time": "2023-02-20T12:42:23.252Z"
   },
   {
    "duration": 8,
    "start_time": "2023-02-20T12:42:23.614Z"
   },
   {
    "duration": 338,
    "start_time": "2023-02-20T12:42:23.623Z"
   },
   {
    "duration": 4,
    "start_time": "2023-02-20T12:42:23.963Z"
   },
   {
    "duration": 9,
    "start_time": "2023-02-20T12:42:23.969Z"
   },
   {
    "duration": 12,
    "start_time": "2023-02-20T12:42:23.979Z"
   },
   {
    "duration": 5,
    "start_time": "2023-02-20T12:42:23.992Z"
   },
   {
    "duration": 16,
    "start_time": "2023-02-20T12:42:23.999Z"
   },
   {
    "duration": 30,
    "start_time": "2023-02-20T12:42:24.017Z"
   },
   {
    "duration": 19,
    "start_time": "2023-02-20T12:42:24.049Z"
   },
   {
    "duration": 3,
    "start_time": "2023-02-20T12:42:24.070Z"
   },
   {
    "duration": 6,
    "start_time": "2023-02-20T12:42:24.074Z"
   },
   {
    "duration": 5383,
    "start_time": "2023-02-20T12:42:24.081Z"
   },
   {
    "duration": 2794,
    "start_time": "2023-02-20T12:42:29.465Z"
   },
   {
    "duration": 305096,
    "start_time": "2023-02-20T12:42:32.341Z"
   },
   {
    "duration": 188068,
    "start_time": "2023-02-20T12:47:37.439Z"
   },
   {
    "duration": 444038,
    "start_time": "2023-02-20T12:50:45.509Z"
   },
   {
    "duration": 4,
    "start_time": "2023-02-20T12:58:09.548Z"
   },
   {
    "duration": 8965,
    "start_time": "2023-02-20T12:58:09.553Z"
   },
   {
    "duration": 11033,
    "start_time": "2023-02-20T12:58:18.520Z"
   },
   {
    "duration": 840,
    "start_time": "2023-02-21T08:34:16.512Z"
   },
   {
    "duration": 849,
    "start_time": "2023-02-21T08:34:17.354Z"
   },
   {
    "duration": 1850,
    "start_time": "2023-02-21T08:34:18.205Z"
   },
   {
    "duration": 19,
    "start_time": "2023-02-21T08:34:20.058Z"
   },
   {
    "duration": 29,
    "start_time": "2023-02-21T08:34:20.079Z"
   },
   {
    "duration": 8,
    "start_time": "2023-02-21T08:34:20.110Z"
   },
   {
    "duration": 15,
    "start_time": "2023-02-21T08:34:20.120Z"
   },
   {
    "duration": 9,
    "start_time": "2023-02-21T08:34:20.138Z"
   },
   {
    "duration": 134,
    "start_time": "2023-02-21T08:34:20.149Z"
   },
   {
    "duration": 3,
    "start_time": "2023-02-21T08:34:20.286Z"
   },
   {
    "duration": 20,
    "start_time": "2023-02-21T08:34:20.290Z"
   },
   {
    "duration": 21,
    "start_time": "2023-02-21T08:34:20.312Z"
   },
   {
    "duration": 16,
    "start_time": "2023-02-21T08:34:20.335Z"
   },
   {
    "duration": 27,
    "start_time": "2023-02-21T08:34:20.353Z"
   },
   {
    "duration": 29,
    "start_time": "2023-02-21T08:34:20.381Z"
   },
   {
    "duration": 25,
    "start_time": "2023-02-21T08:34:20.411Z"
   },
   {
    "duration": 3,
    "start_time": "2023-02-21T08:34:20.438Z"
   },
   {
    "duration": 21,
    "start_time": "2023-02-21T08:34:20.443Z"
   },
   {
    "duration": 36,
    "start_time": "2023-02-21T08:34:20.466Z"
   },
   {
    "duration": 10,
    "start_time": "2023-02-21T08:34:20.504Z"
   },
   {
    "duration": 35,
    "start_time": "2023-02-21T08:34:20.516Z"
   },
   {
    "duration": 12,
    "start_time": "2023-02-21T08:34:20.553Z"
   },
   {
    "duration": 100,
    "start_time": "2023-02-21T08:34:20.567Z"
   },
   {
    "duration": 3,
    "start_time": "2023-02-21T08:34:20.669Z"
   },
   {
    "duration": 19,
    "start_time": "2023-02-21T08:34:20.674Z"
   },
   {
    "duration": 20,
    "start_time": "2023-02-21T08:34:20.694Z"
   },
   {
    "duration": 5,
    "start_time": "2023-02-21T08:34:20.715Z"
   },
   {
    "duration": 4,
    "start_time": "2023-02-21T08:34:24.996Z"
   },
   {
    "duration": 2,
    "start_time": "2023-02-21T08:38:50.375Z"
   },
   {
    "duration": 7,
    "start_time": "2023-02-21T08:38:50.379Z"
   },
   {
    "duration": 697,
    "start_time": "2023-02-21T08:38:50.388Z"
   },
   {
    "duration": 24,
    "start_time": "2023-02-21T08:38:51.087Z"
   },
   {
    "duration": 23,
    "start_time": "2023-02-21T08:38:51.113Z"
   },
   {
    "duration": 24,
    "start_time": "2023-02-21T08:38:51.138Z"
   },
   {
    "duration": 12,
    "start_time": "2023-02-21T08:38:51.164Z"
   },
   {
    "duration": 23,
    "start_time": "2023-02-21T08:38:51.178Z"
   },
   {
    "duration": 134,
    "start_time": "2023-02-21T08:38:51.202Z"
   },
   {
    "duration": 3,
    "start_time": "2023-02-21T08:38:51.338Z"
   },
   {
    "duration": 30,
    "start_time": "2023-02-21T08:38:51.343Z"
   },
   {
    "duration": 28,
    "start_time": "2023-02-21T08:38:51.374Z"
   },
   {
    "duration": 7,
    "start_time": "2023-02-21T08:38:51.404Z"
   },
   {
    "duration": 8,
    "start_time": "2023-02-21T08:38:51.413Z"
   },
   {
    "duration": 11,
    "start_time": "2023-02-21T08:38:51.422Z"
   },
   {
    "duration": 47,
    "start_time": "2023-02-21T08:38:51.434Z"
   },
   {
    "duration": 4,
    "start_time": "2023-02-21T08:38:51.483Z"
   },
   {
    "duration": 45,
    "start_time": "2023-02-21T08:38:51.489Z"
   },
   {
    "duration": 26,
    "start_time": "2023-02-21T08:38:51.537Z"
   },
   {
    "duration": 16,
    "start_time": "2023-02-21T08:38:51.565Z"
   },
   {
    "duration": 25,
    "start_time": "2023-02-21T08:38:51.583Z"
   },
   {
    "duration": 11,
    "start_time": "2023-02-21T08:38:51.610Z"
   },
   {
    "duration": 138,
    "start_time": "2023-02-21T08:38:51.622Z"
   },
   {
    "duration": 4,
    "start_time": "2023-02-21T08:38:51.761Z"
   },
   {
    "duration": 12,
    "start_time": "2023-02-21T08:38:51.767Z"
   },
   {
    "duration": 24,
    "start_time": "2023-02-21T08:38:51.781Z"
   },
   {
    "duration": 10,
    "start_time": "2023-02-21T08:38:51.807Z"
   },
   {
    "duration": 7,
    "start_time": "2023-02-21T08:38:51.819Z"
   },
   {
    "duration": 15,
    "start_time": "2023-02-21T08:38:51.830Z"
   },
   {
    "duration": 13,
    "start_time": "2023-02-21T08:38:51.847Z"
   },
   {
    "duration": 885,
    "start_time": "2023-02-21T08:38:51.862Z"
   },
   {
    "duration": 760,
    "start_time": "2023-02-21T08:38:52.749Z"
   },
   {
    "duration": 996,
    "start_time": "2023-02-21T08:38:53.511Z"
   },
   {
    "duration": 422,
    "start_time": "2023-02-21T08:38:54.509Z"
   },
   {
    "duration": 9,
    "start_time": "2023-02-21T08:38:54.933Z"
   },
   {
    "duration": 9,
    "start_time": "2023-02-21T08:38:54.944Z"
   },
   {
    "duration": 7,
    "start_time": "2023-02-21T08:38:54.954Z"
   },
   {
    "duration": 323,
    "start_time": "2023-02-21T08:38:54.962Z"
   },
   {
    "duration": 13,
    "start_time": "2023-02-21T08:38:55.286Z"
   },
   {
    "duration": 305,
    "start_time": "2023-02-21T08:38:55.301Z"
   },
   {
    "duration": 7,
    "start_time": "2023-02-21T08:38:55.608Z"
   },
   {
    "duration": 314,
    "start_time": "2023-02-21T08:38:55.617Z"
   },
   {
    "duration": 4,
    "start_time": "2023-02-21T08:38:55.932Z"
   },
   {
    "duration": 8,
    "start_time": "2023-02-21T08:38:55.937Z"
   },
   {
    "duration": 10,
    "start_time": "2023-02-21T08:38:55.947Z"
   },
   {
    "duration": 5,
    "start_time": "2023-02-21T08:38:55.958Z"
   },
   {
    "duration": 34,
    "start_time": "2023-02-21T08:38:55.965Z"
   },
   {
    "duration": 13,
    "start_time": "2023-02-21T08:38:56.000Z"
   },
   {
    "duration": 20,
    "start_time": "2023-02-21T08:38:56.014Z"
   },
   {
    "duration": 3,
    "start_time": "2023-02-21T08:41:42.902Z"
   },
   {
    "duration": 9,
    "start_time": "2023-02-21T08:41:42.907Z"
   },
   {
    "duration": 668,
    "start_time": "2023-02-21T08:41:42.918Z"
   },
   {
    "duration": 23,
    "start_time": "2023-02-21T08:41:43.588Z"
   },
   {
    "duration": 21,
    "start_time": "2023-02-21T08:41:43.613Z"
   },
   {
    "duration": 12,
    "start_time": "2023-02-21T08:41:43.636Z"
   },
   {
    "duration": 13,
    "start_time": "2023-02-21T08:41:43.650Z"
   },
   {
    "duration": 8,
    "start_time": "2023-02-21T08:41:43.665Z"
   },
   {
    "duration": 133,
    "start_time": "2023-02-21T08:41:43.675Z"
   },
   {
    "duration": 3,
    "start_time": "2023-02-21T08:41:43.809Z"
   },
   {
    "duration": 17,
    "start_time": "2023-02-21T08:41:43.814Z"
   },
   {
    "duration": 22,
    "start_time": "2023-02-21T08:41:43.833Z"
   },
   {
    "duration": 16,
    "start_time": "2023-02-21T08:41:43.857Z"
   },
   {
    "duration": 26,
    "start_time": "2023-02-21T08:41:43.875Z"
   },
   {
    "duration": 17,
    "start_time": "2023-02-21T08:41:43.902Z"
   },
   {
    "duration": 31,
    "start_time": "2023-02-21T08:41:43.921Z"
   },
   {
    "duration": 3,
    "start_time": "2023-02-21T08:41:43.954Z"
   },
   {
    "duration": 23,
    "start_time": "2023-02-21T08:41:43.959Z"
   },
   {
    "duration": 44,
    "start_time": "2023-02-21T08:41:43.984Z"
   },
   {
    "duration": 18,
    "start_time": "2023-02-21T08:41:44.029Z"
   },
   {
    "duration": 15,
    "start_time": "2023-02-21T08:41:44.048Z"
   },
   {
    "duration": 34,
    "start_time": "2023-02-21T08:41:44.066Z"
   },
   {
    "duration": 113,
    "start_time": "2023-02-21T08:41:44.102Z"
   },
   {
    "duration": 3,
    "start_time": "2023-02-21T08:41:44.218Z"
   },
   {
    "duration": 8,
    "start_time": "2023-02-21T08:41:44.222Z"
   },
   {
    "duration": 12,
    "start_time": "2023-02-21T08:41:44.231Z"
   },
   {
    "duration": 4,
    "start_time": "2023-02-21T08:41:44.244Z"
   },
   {
    "duration": 7,
    "start_time": "2023-02-21T08:41:44.249Z"
   },
   {
    "duration": 19,
    "start_time": "2023-02-21T08:41:44.257Z"
   },
   {
    "duration": 29,
    "start_time": "2023-02-21T08:41:44.279Z"
   },
   {
    "duration": 884,
    "start_time": "2023-02-21T08:41:44.310Z"
   },
   {
    "duration": 716,
    "start_time": "2023-02-21T08:41:45.199Z"
   },
   {
    "duration": 828,
    "start_time": "2023-02-21T08:41:45.916Z"
   },
   {
    "duration": 462,
    "start_time": "2023-02-21T08:41:46.746Z"
   },
   {
    "duration": 8,
    "start_time": "2023-02-21T08:41:47.210Z"
   },
   {
    "duration": 14,
    "start_time": "2023-02-21T08:41:47.220Z"
   },
   {
    "duration": 11,
    "start_time": "2023-02-21T08:41:47.236Z"
   },
   {
    "duration": 335,
    "start_time": "2023-02-21T08:41:47.249Z"
   },
   {
    "duration": 14,
    "start_time": "2023-02-21T08:41:47.586Z"
   },
   {
    "duration": 341,
    "start_time": "2023-02-21T08:41:47.601Z"
   },
   {
    "duration": 7,
    "start_time": "2023-02-21T08:41:47.944Z"
   },
   {
    "duration": 440,
    "start_time": "2023-02-21T08:41:47.952Z"
   },
   {
    "duration": 2,
    "start_time": "2023-02-21T08:41:48.399Z"
   },
   {
    "duration": 19,
    "start_time": "2023-02-21T08:41:48.403Z"
   },
   {
    "duration": 14,
    "start_time": "2023-02-21T08:41:48.424Z"
   },
   {
    "duration": 13,
    "start_time": "2023-02-21T08:41:48.439Z"
   },
   {
    "duration": 32,
    "start_time": "2023-02-21T08:41:48.454Z"
   },
   {
    "duration": 24,
    "start_time": "2023-02-21T08:41:48.487Z"
   },
   {
    "duration": 36,
    "start_time": "2023-02-21T08:41:48.513Z"
   },
   {
    "duration": 6,
    "start_time": "2023-02-21T08:41:48.551Z"
   },
   {
    "duration": 9,
    "start_time": "2023-02-21T08:41:48.558Z"
   },
   {
    "duration": 6646,
    "start_time": "2023-02-21T08:41:48.569Z"
   },
   {
    "duration": 2483,
    "start_time": "2023-02-21T08:41:55.216Z"
   },
   {
    "duration": 315151,
    "start_time": "2023-02-21T08:41:57.700Z"
   },
   {
    "duration": 197775,
    "start_time": "2023-02-21T08:59:51.016Z"
   },
   {
    "duration": 466934,
    "start_time": "2023-02-21T09:03:08.793Z"
   },
   {
    "duration": 3,
    "start_time": "2023-02-21T09:13:10.170Z"
   },
   {
    "duration": 126,
    "start_time": "2023-02-21T09:13:39.948Z"
   },
   {
    "duration": 9,
    "start_time": "2023-02-21T09:13:45.559Z"
   },
   {
    "duration": 5,
    "start_time": "2023-02-21T09:14:18.813Z"
   },
   {
    "duration": 9,
    "start_time": "2023-02-21T09:14:20.858Z"
   },
   {
    "duration": 40,
    "start_time": "2023-02-21T09:14:55.642Z"
   },
   {
    "duration": 3,
    "start_time": "2023-02-21T09:19:30.538Z"
   },
   {
    "duration": 28,
    "start_time": "2023-02-21T09:19:30.543Z"
   },
   {
    "duration": 632,
    "start_time": "2023-02-21T09:19:30.573Z"
   },
   {
    "duration": 18,
    "start_time": "2023-02-21T09:19:31.207Z"
   },
   {
    "duration": 53,
    "start_time": "2023-02-21T09:19:31.227Z"
   },
   {
    "duration": 42,
    "start_time": "2023-02-21T09:19:31.282Z"
   },
   {
    "duration": 14,
    "start_time": "2023-02-21T09:19:31.326Z"
   },
   {
    "duration": 39,
    "start_time": "2023-02-21T09:19:31.342Z"
   },
   {
    "duration": 142,
    "start_time": "2023-02-21T09:19:31.383Z"
   },
   {
    "duration": 3,
    "start_time": "2023-02-21T09:19:31.526Z"
   },
   {
    "duration": 34,
    "start_time": "2023-02-21T09:19:31.532Z"
   },
   {
    "duration": 42,
    "start_time": "2023-02-21T09:19:31.568Z"
   },
   {
    "duration": 27,
    "start_time": "2023-02-21T09:19:31.612Z"
   },
   {
    "duration": 25,
    "start_time": "2023-02-21T09:19:31.641Z"
   },
   {
    "duration": 19,
    "start_time": "2023-02-21T09:19:31.668Z"
   },
   {
    "duration": 44,
    "start_time": "2023-02-21T09:19:31.689Z"
   },
   {
    "duration": 5,
    "start_time": "2023-02-21T09:19:31.736Z"
   },
   {
    "duration": 41,
    "start_time": "2023-02-21T09:19:31.743Z"
   },
   {
    "duration": 25,
    "start_time": "2023-02-21T09:19:31.786Z"
   },
   {
    "duration": 24,
    "start_time": "2023-02-21T09:19:31.813Z"
   },
   {
    "duration": 11,
    "start_time": "2023-02-21T09:19:31.839Z"
   },
   {
    "duration": 10,
    "start_time": "2023-02-21T09:19:31.853Z"
   },
   {
    "duration": 119,
    "start_time": "2023-02-21T09:19:31.865Z"
   },
   {
    "duration": 14,
    "start_time": "2023-02-21T09:19:31.986Z"
   },
   {
    "duration": 11,
    "start_time": "2023-02-21T09:19:32.002Z"
   },
   {
    "duration": 18,
    "start_time": "2023-02-21T09:19:32.015Z"
   },
   {
    "duration": 6,
    "start_time": "2023-02-21T09:19:32.035Z"
   },
   {
    "duration": 11,
    "start_time": "2023-02-21T09:19:32.042Z"
   },
   {
    "duration": 70,
    "start_time": "2023-02-21T09:19:32.058Z"
   },
   {
    "duration": 27,
    "start_time": "2023-02-21T09:19:32.130Z"
   },
   {
    "duration": 802,
    "start_time": "2023-02-21T09:19:32.159Z"
   },
   {
    "duration": 1185,
    "start_time": "2023-02-21T09:19:32.963Z"
   },
   {
    "duration": 1662,
    "start_time": "2023-02-21T09:19:34.200Z"
   },
   {
    "duration": 630,
    "start_time": "2023-02-21T09:19:35.864Z"
   },
   {
    "duration": 11,
    "start_time": "2023-02-21T09:19:36.496Z"
   },
   {
    "duration": 10,
    "start_time": "2023-02-21T09:19:36.509Z"
   },
   {
    "duration": 9,
    "start_time": "2023-02-21T09:19:36.521Z"
   },
   {
    "duration": 362,
    "start_time": "2023-02-21T09:19:36.532Z"
   },
   {
    "duration": 8,
    "start_time": "2023-02-21T09:19:36.896Z"
   },
   {
    "duration": 356,
    "start_time": "2023-02-21T09:19:36.906Z"
   },
   {
    "duration": 6,
    "start_time": "2023-02-21T09:19:37.264Z"
   },
   {
    "duration": 336,
    "start_time": "2023-02-21T09:19:37.272Z"
   },
   {
    "duration": 4,
    "start_time": "2023-02-21T09:19:37.609Z"
   },
   {
    "duration": 14,
    "start_time": "2023-02-21T09:19:37.614Z"
   },
   {
    "duration": 14,
    "start_time": "2023-02-21T09:19:37.630Z"
   },
   {
    "duration": 4,
    "start_time": "2023-02-21T09:19:37.646Z"
   },
   {
    "duration": 17,
    "start_time": "2023-02-21T09:19:37.652Z"
   },
   {
    "duration": 39,
    "start_time": "2023-02-21T09:19:37.671Z"
   },
   {
    "duration": 21,
    "start_time": "2023-02-21T09:19:37.712Z"
   },
   {
    "duration": 3,
    "start_time": "2023-02-21T09:19:37.735Z"
   },
   {
    "duration": 7,
    "start_time": "2023-02-21T09:19:37.740Z"
   },
   {
    "duration": 6552,
    "start_time": "2023-02-21T09:19:37.749Z"
   },
   {
    "duration": 2498,
    "start_time": "2023-02-21T09:19:44.303Z"
   },
   {
    "duration": 324707,
    "start_time": "2023-02-21T09:19:46.804Z"
   },
   {
    "duration": 42,
    "start_time": "2023-02-21T09:25:11.513Z"
   },
   {
    "duration": 199356,
    "start_time": "2023-02-21T09:25:11.557Z"
   },
   {
    "duration": 473374,
    "start_time": "2023-02-21T09:28:30.915Z"
   },
   {
    "duration": 9,
    "start_time": "2023-02-21T09:36:24.290Z"
   },
   {
    "duration": 8756,
    "start_time": "2023-02-21T09:36:24.300Z"
   },
   {
    "duration": 11188,
    "start_time": "2023-02-21T09:36:33.058Z"
   },
   {
    "duration": 10,
    "start_time": "2023-02-21T09:36:44.248Z"
   },
   {
    "duration": 4557,
    "start_time": "2023-02-21T09:56:27.162Z"
   },
   {
    "duration": 8843,
    "start_time": "2023-02-21T09:56:58.316Z"
   }
  ],
  "kernelspec": {
   "display_name": "Python 3 (ipykernel)",
   "language": "python",
   "name": "python3"
  },
  "language_info": {
   "codemirror_mode": {
    "name": "ipython",
    "version": 3
   },
   "file_extension": ".py",
   "mimetype": "text/x-python",
   "name": "python",
   "nbconvert_exporter": "python",
   "pygments_lexer": "ipython3",
   "version": "3.10.9"
  },
  "toc": {
   "base_numbering": 1,
   "nav_menu": {},
   "number_sections": true,
   "sideBar": true,
   "skip_h1_title": true,
   "title_cell": "Содержание",
   "title_sidebar": "Contents",
   "toc_cell": true,
   "toc_position": {
    "height": "calc(100% - 180px)",
    "left": "10px",
    "top": "150px",
    "width": "165px"
   },
   "toc_section_display": true,
   "toc_window_display": true
  }
 },
 "nbformat": 4,
 "nbformat_minor": 2
}
